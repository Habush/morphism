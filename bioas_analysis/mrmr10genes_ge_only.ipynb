{
 "cells": [
  {
   "cell_type": "code",
   "execution_count": 1,
   "id": "painted-experience",
   "metadata": {},
   "outputs": [],
   "source": [
    "%load_ext autoreload"
   ]
  },
  {
   "cell_type": "code",
   "execution_count": 2,
   "id": "august-livestock",
   "metadata": {},
   "outputs": [],
   "source": [
    "%autoreload 2"
   ]
  },
  {
   "cell_type": "code",
   "execution_count": 17,
   "id": "understood-rebecca",
   "metadata": {},
   "outputs": [],
   "source": [
    "from notebook_utils import *\n",
    "from generate_embedding import *\n",
    "from sklearn.manifold import TSNE"
   ]
  },
  {
   "cell_type": "code",
   "execution_count": 4,
   "id": "double-daisy",
   "metadata": {},
   "outputs": [],
   "source": [
    "ppty_vector_train = pd.read_csv(\"ten_genes/train/property_vector_beforekpca_p=1,T=2_notnormalized_2021-03-17.csv\", sep=\"\\t\")"
   ]
  },
  {
   "cell_type": "code",
   "execution_count": 5,
   "id": "distinguished-protocol",
   "metadata": {
    "scrolled": true
   },
   "outputs": [
    {
     "data": {
      "text/html": [
       "<div>\n",
       "<style scoped>\n",
       "    .dataframe tbody tr th:only-of-type {\n",
       "        vertical-align: middle;\n",
       "    }\n",
       "\n",
       "    .dataframe tbody tr th {\n",
       "        vertical-align: top;\n",
       "    }\n",
       "\n",
       "    .dataframe thead th {\n",
       "        text-align: right;\n",
       "    }\n",
       "</style>\n",
       "<table border=\"1\" class=\"dataframe\">\n",
       "  <thead>\n",
       "    <tr style=\"text-align: right;\">\n",
       "      <th></th>\n",
       "      <th>patient_ID</th>\n",
       "      <th>0</th>\n",
       "      <th>1</th>\n",
       "      <th>2</th>\n",
       "      <th>3</th>\n",
       "      <th>4</th>\n",
       "      <th>5</th>\n",
       "      <th>6</th>\n",
       "      <th>7</th>\n",
       "      <th>8</th>\n",
       "      <th>9</th>\n",
       "    </tr>\n",
       "  </thead>\n",
       "  <tbody>\n",
       "    <tr>\n",
       "      <th>0</th>\n",
       "      <td>249600</td>\n",
       "      <td>0.488144</td>\n",
       "      <td>0.000000</td>\n",
       "      <td>0.555470</td>\n",
       "      <td>0.000000</td>\n",
       "      <td>0.705700</td>\n",
       "      <td>0.606109</td>\n",
       "      <td>0.000000</td>\n",
       "      <td>0.542344</td>\n",
       "      <td>0.309716</td>\n",
       "      <td>0.714946</td>\n",
       "    </tr>\n",
       "    <tr>\n",
       "      <th>1</th>\n",
       "      <td>441891</td>\n",
       "      <td>0.000000</td>\n",
       "      <td>0.329614</td>\n",
       "      <td>0.534778</td>\n",
       "      <td>0.000000</td>\n",
       "      <td>0.000000</td>\n",
       "      <td>0.000000</td>\n",
       "      <td>0.000000</td>\n",
       "      <td>0.000000</td>\n",
       "      <td>0.297803</td>\n",
       "      <td>0.000000</td>\n",
       "    </tr>\n",
       "    <tr>\n",
       "      <th>2</th>\n",
       "      <td>22476</td>\n",
       "      <td>0.363545</td>\n",
       "      <td>0.421707</td>\n",
       "      <td>0.000000</td>\n",
       "      <td>0.528316</td>\n",
       "      <td>0.680688</td>\n",
       "      <td>0.000000</td>\n",
       "      <td>0.000000</td>\n",
       "      <td>0.487622</td>\n",
       "      <td>0.252455</td>\n",
       "      <td>0.669593</td>\n",
       "    </tr>\n",
       "    <tr>\n",
       "      <th>3</th>\n",
       "      <td>249532</td>\n",
       "      <td>0.000000</td>\n",
       "      <td>0.436158</td>\n",
       "      <td>0.000000</td>\n",
       "      <td>0.617129</td>\n",
       "      <td>0.726364</td>\n",
       "      <td>0.000000</td>\n",
       "      <td>0.333512</td>\n",
       "      <td>0.000000</td>\n",
       "      <td>0.450651</td>\n",
       "      <td>0.701314</td>\n",
       "    </tr>\n",
       "    <tr>\n",
       "      <th>4</th>\n",
       "      <td>305173</td>\n",
       "      <td>0.544102</td>\n",
       "      <td>0.419760</td>\n",
       "      <td>0.000000</td>\n",
       "      <td>0.561252</td>\n",
       "      <td>0.595294</td>\n",
       "      <td>0.584895</td>\n",
       "      <td>0.000000</td>\n",
       "      <td>0.472579</td>\n",
       "      <td>0.000000</td>\n",
       "      <td>0.000000</td>\n",
       "    </tr>\n",
       "  </tbody>\n",
       "</table>\n",
       "</div>"
      ],
      "text/plain": [
       "   patient_ID         0         1         2         3         4         5  \\\n",
       "0      249600  0.488144  0.000000  0.555470  0.000000  0.705700  0.606109   \n",
       "1      441891  0.000000  0.329614  0.534778  0.000000  0.000000  0.000000   \n",
       "2       22476  0.363545  0.421707  0.000000  0.528316  0.680688  0.000000   \n",
       "3      249532  0.000000  0.436158  0.000000  0.617129  0.726364  0.000000   \n",
       "4      305173  0.544102  0.419760  0.000000  0.561252  0.595294  0.584895   \n",
       "\n",
       "          6         7         8         9  \n",
       "0  0.000000  0.542344  0.309716  0.714946  \n",
       "1  0.000000  0.000000  0.297803  0.000000  \n",
       "2  0.000000  0.487622  0.252455  0.669593  \n",
       "3  0.333512  0.000000  0.450651  0.701314  \n",
       "4  0.000000  0.472579  0.000000  0.000000  "
      ]
     },
     "execution_count": 5,
     "metadata": {},
     "output_type": "execute_result"
    }
   ],
   "source": [
    "ppty_vector_train.head()"
   ]
  },
  {
   "cell_type": "code",
   "execution_count": 6,
   "id": "municipal-turtle",
   "metadata": {},
   "outputs": [],
   "source": [
    "ppty_vector_test = pd.read_csv(\"ten_genes/test/property_vector_beforekpca_p=1,T=2_notnormalized_2021-03-17.csv\", sep=\"\\t\")"
   ]
  },
  {
   "cell_type": "code",
   "execution_count": 7,
   "id": "exotic-feedback",
   "metadata": {},
   "outputs": [
    {
     "data": {
      "text/html": [
       "<div>\n",
       "<style scoped>\n",
       "    .dataframe tbody tr th:only-of-type {\n",
       "        vertical-align: middle;\n",
       "    }\n",
       "\n",
       "    .dataframe tbody tr th {\n",
       "        vertical-align: top;\n",
       "    }\n",
       "\n",
       "    .dataframe thead th {\n",
       "        text-align: right;\n",
       "    }\n",
       "</style>\n",
       "<table border=\"1\" class=\"dataframe\">\n",
       "  <thead>\n",
       "    <tr style=\"text-align: right;\">\n",
       "      <th></th>\n",
       "      <th>patient_ID</th>\n",
       "      <th>0</th>\n",
       "      <th>1</th>\n",
       "      <th>2</th>\n",
       "      <th>3</th>\n",
       "      <th>4</th>\n",
       "      <th>5</th>\n",
       "      <th>6</th>\n",
       "      <th>7</th>\n",
       "      <th>8</th>\n",
       "      <th>9</th>\n",
       "    </tr>\n",
       "  </thead>\n",
       "  <tbody>\n",
       "    <tr>\n",
       "      <th>0</th>\n",
       "      <td>441736</td>\n",
       "      <td>0.000000</td>\n",
       "      <td>0.000000</td>\n",
       "      <td>0.000000</td>\n",
       "      <td>0.212291</td>\n",
       "      <td>0.000000</td>\n",
       "      <td>0.000000</td>\n",
       "      <td>0.000000</td>\n",
       "      <td>0.000000</td>\n",
       "      <td>0.461443</td>\n",
       "      <td>0.0</td>\n",
       "    </tr>\n",
       "    <tr>\n",
       "      <th>1</th>\n",
       "      <td>249665</td>\n",
       "      <td>0.000000</td>\n",
       "      <td>0.169814</td>\n",
       "      <td>0.553588</td>\n",
       "      <td>0.225170</td>\n",
       "      <td>0.000000</td>\n",
       "      <td>0.000000</td>\n",
       "      <td>0.712405</td>\n",
       "      <td>0.290997</td>\n",
       "      <td>0.466958</td>\n",
       "      <td>0.0</td>\n",
       "    </tr>\n",
       "    <tr>\n",
       "      <th>2</th>\n",
       "      <td>305252</td>\n",
       "      <td>0.559273</td>\n",
       "      <td>0.398441</td>\n",
       "      <td>0.557303</td>\n",
       "      <td>0.377897</td>\n",
       "      <td>0.000000</td>\n",
       "      <td>0.621935</td>\n",
       "      <td>0.632236</td>\n",
       "      <td>0.407456</td>\n",
       "      <td>0.000000</td>\n",
       "      <td>0.0</td>\n",
       "    </tr>\n",
       "    <tr>\n",
       "      <th>3</th>\n",
       "      <td>305153</td>\n",
       "      <td>0.519831</td>\n",
       "      <td>0.429194</td>\n",
       "      <td>0.000000</td>\n",
       "      <td>0.535496</td>\n",
       "      <td>0.298370</td>\n",
       "      <td>0.621935</td>\n",
       "      <td>0.632236</td>\n",
       "      <td>0.000000</td>\n",
       "      <td>0.000000</td>\n",
       "      <td>0.0</td>\n",
       "    </tr>\n",
       "    <tr>\n",
       "      <th>4</th>\n",
       "      <td>305171</td>\n",
       "      <td>0.000000</td>\n",
       "      <td>0.160203</td>\n",
       "      <td>0.000000</td>\n",
       "      <td>0.454034</td>\n",
       "      <td>0.421738</td>\n",
       "      <td>0.621935</td>\n",
       "      <td>0.632236</td>\n",
       "      <td>0.000000</td>\n",
       "      <td>0.510684</td>\n",
       "      <td>0.0</td>\n",
       "    </tr>\n",
       "  </tbody>\n",
       "</table>\n",
       "</div>"
      ],
      "text/plain": [
       "   patient_ID         0         1         2         3         4         5  \\\n",
       "0      441736  0.000000  0.000000  0.000000  0.212291  0.000000  0.000000   \n",
       "1      249665  0.000000  0.169814  0.553588  0.225170  0.000000  0.000000   \n",
       "2      305252  0.559273  0.398441  0.557303  0.377897  0.000000  0.621935   \n",
       "3      305153  0.519831  0.429194  0.000000  0.535496  0.298370  0.621935   \n",
       "4      305171  0.000000  0.160203  0.000000  0.454034  0.421738  0.621935   \n",
       "\n",
       "          6         7         8    9  \n",
       "0  0.000000  0.000000  0.461443  0.0  \n",
       "1  0.712405  0.290997  0.466958  0.0  \n",
       "2  0.632236  0.407456  0.000000  0.0  \n",
       "3  0.632236  0.000000  0.000000  0.0  \n",
       "4  0.632236  0.000000  0.510684  0.0  "
      ]
     },
     "execution_count": 7,
     "metadata": {},
     "output_type": "execute_result"
    }
   ],
   "source": [
    "ppty_vector_test.head()"
   ]
  },
  {
   "cell_type": "code",
   "execution_count": 9,
   "id": "fantastic-impression",
   "metadata": {},
   "outputs": [],
   "source": [
    "train_set = ppty_vector_train[\"patient_ID\"].tolist() \n",
    "test_set = ppty_vector_test[\"patient_ID\"].tolist()"
   ]
  },
  {
   "cell_type": "code",
   "execution_count": null,
   "id": "international-vegetation",
   "metadata": {},
   "outputs": [],
   "source": [
    "# embedding  "
   ]
  },
  {
   "cell_type": "code",
   "execution_count": 10,
   "id": "ruled-indiana",
   "metadata": {},
   "outputs": [
    {
     "name": "stdout",
     "output_type": "stream",
     "text": [
      "--- Doing KPCA\n",
      "--- Doing KPCA\n",
      "Train data:(448, 11), Test data:(193, 11)\n",
      "--- Test data : (193, 448)\n"
     ]
    }
   ],
   "source": [
    "emb_train = do_kpca(ppty_vector_train)\n",
    "emb_test = do_kpca(ppty_vector_test, test_data=True, vector_space=ppty_vector_train)"
   ]
  },
  {
   "cell_type": "code",
   "execution_count": 12,
   "id": "ethical-pitch",
   "metadata": {},
   "outputs": [],
   "source": [
    "outcome = pd.read_csv(\"/var/www/datasets/state_and_outcome.csv\")\n",
    "outcome = outcome[[\"posOutcome\",\"patient_ID\"]]"
   ]
  },
  {
   "cell_type": "code",
   "execution_count": 22,
   "id": "practical-trainer",
   "metadata": {},
   "outputs": [
    {
     "data": {
      "text/plain": [
       "Text(0.5, 1.0, 'Test embedding using training data as vector space (Tanimoto similarity)')"
      ]
     },
     "execution_count": 22,
     "metadata": {},
     "output_type": "execute_result"
    },
    {
     "data": {
      "image/png": "[encoded data removed]",
      "text/plain": [
       "<Figure size 1296x720 with 2 Axes>"
      ]
     },
     "metadata": {
      "needs_background": "light"
     },
     "output_type": "display_data"
    }
   ],
   "source": [
    "train_emb_plot = pd.merge(emb_train, outcome[outcome[\"patient_ID\"].isin(emb_train[\"patient_ID\"])], on=\"patient_ID\")\n",
    "test_emb_plot = pd.merge(emb_test, outcome[outcome[\"patient_ID\"].isin(emb_test[\"patient_ID\"])], on=\"patient_ID\")\n",
    "\n",
    "fig, axs = plt.subplots(1, 2, figsize=(18,10), sharex='all', sharey='all')\n",
    "ax1, ax2 = axs[0], axs[1]\n",
    "\n",
    "ax1.scatter(train_emb_plot[0], train_emb_plot[1], c = train_emb_plot[\"posOutcome\"])\n",
    "ax2.scatter(test_emb_plot[0], test_emb_plot[1],c = test_emb_plot[\"posOutcome\"])\n",
    "ax1.set_title('Train embedding (Tanimoto similarity)')\n",
    "ax2.set_title('Test embedding using training data as vector space (Tanimoto similarity)')"
   ]
  },
  {
   "cell_type": "code",
   "execution_count": null,
   "id": "blocked-paper",
   "metadata": {},
   "outputs": [],
   "source": [
    "# do Prediction "
   ]
  },
  {
   "cell_type": "code",
   "execution_count": 18,
   "id": "powered-ending",
   "metadata": {},
   "outputs": [
    {
     "name": "stdout",
     "output_type": "stream",
     "text": [
      "------------ Dimention 2\n",
      "---- Do parameter tuning\n",
      "Scoring parameter balanced_accuracy\n",
      "Fitting 5 folds for each of 25 candidates, totalling 125 fits\n"
     ]
    },
    {
     "name": "stderr",
     "output_type": "stream",
     "text": [
      "[Parallel(n_jobs=12)]: Using backend LokyBackend with 12 concurrent workers.\n",
      "[Parallel(n_jobs=12)]: Done   8 tasks      | elapsed:    0.8s\n"
     ]
    },
    {
     "name": "stdout",
     "output_type": "stream",
     "text": [
      "\n",
      " Time taken: 0 hours 0 minutes and 1.62 seconds.\n",
      "Best Score: 65.695%\n",
      "{'learning_rate': 0.01, 'max_delta_step': 5, 'n_estimators': 400, 'max_depth': 6, 'scale_pos_weight': 0.36, 'subsample': 0.6, 'min_child_weight': 3, 'colsample_bytree': 1.0, 'gamma': 1.5}\n"
     ]
    },
    {
     "name": "stderr",
     "output_type": "stream",
     "text": [
      "[Parallel(n_jobs=12)]: Done 102 out of 125 | elapsed:    1.4s remaining:    0.3s\n",
      "[Parallel(n_jobs=12)]: Done 125 out of 125 | elapsed:    1.5s finished\n",
      "[Parallel(n_jobs=-1)]: Using backend LokyBackend with 16 concurrent workers.\n",
      "[Parallel(n_jobs=-1)]: Done   5 out of   5 | elapsed:    0.6s finished\n"
     ]
    },
    {
     "name": "stdout",
     "output_type": "stream",
     "text": [
      "--- Validation score\n",
      "balanced_accuracy    0.656952\n",
      "recall_0             0.591667\n",
      "precision_0          0.439959\n",
      "recall_1             0.722238\n",
      "precision_1          0.827871\n",
      "auc                  0.683130\n",
      "dtype: float64\n",
      "tn: 26, fp:25, fn:59, tp:83\n",
      "[[26 25]\n",
      " [59 83]]\n",
      "--- Test score\n",
      "balanced_accuracy      0.547155\n",
      "recall_0               0.509804\n",
      "precision_0            0.305882\n",
      "recall_1               0.584507\n",
      "precision_1            0.768519\n",
      "auc                    0.530931\n",
      "False_positive_rate    0.490196\n",
      "False_negative_rate    0.415493\n",
      "dtype: float64\n",
      "------------ Dimention 3\n",
      "---- Do parameter tuning\n",
      "Scoring parameter balanced_accuracy\n",
      "Fitting 5 folds for each of 25 candidates, totalling 125 fits\n"
     ]
    },
    {
     "name": "stderr",
     "output_type": "stream",
     "text": [
      "[Parallel(n_jobs=12)]: Using backend LokyBackend with 12 concurrent workers.\n",
      "[Parallel(n_jobs=12)]: Done   8 tasks      | elapsed:    0.2s\n"
     ]
    },
    {
     "name": "stdout",
     "output_type": "stream",
     "text": [
      "\n",
      " Time taken: 0 hours 0 minutes and 1.48 seconds.\n",
      "Best Score: 64.036%\n",
      "{'learning_rate': 0.02, 'max_delta_step': 5, 'n_estimators': 700, 'max_depth': 4, 'scale_pos_weight': 0.36, 'subsample': 0.8, 'min_child_weight': 4, 'colsample_bytree': 0.8, 'gamma': 1}\n"
     ]
    },
    {
     "name": "stderr",
     "output_type": "stream",
     "text": [
      "[Parallel(n_jobs=12)]: Done 102 out of 125 | elapsed:    1.0s remaining:    0.2s\n",
      "[Parallel(n_jobs=12)]: Done 125 out of 125 | elapsed:    1.1s finished\n",
      "[Parallel(n_jobs=-1)]: Using backend LokyBackend with 16 concurrent workers.\n",
      "[Parallel(n_jobs=-1)]: Done   5 out of   5 | elapsed:    0.5s finished\n"
     ]
    },
    {
     "name": "stdout",
     "output_type": "stream",
     "text": [
      "--- Validation score\n",
      "balanced_accuracy    0.640355\n",
      "recall_0             0.558333\n",
      "precision_0          0.423503\n",
      "recall_1             0.722378\n",
      "precision_1          0.818356\n",
      "auc                  0.666702\n",
      "dtype: float64\n",
      "tn: 20, fp:31, fn:53, tp:89\n",
      "[[20 31]\n",
      " [53 89]]\n",
      "--- Test score\n",
      "balanced_accuracy      0.509459\n",
      "recall_0               0.392157\n",
      "precision_0            0.273973\n",
      "recall_1               0.626761\n",
      "precision_1            0.741667\n",
      "auc                    0.494200\n",
      "False_positive_rate    0.607843\n",
      "False_negative_rate    0.373239\n",
      "dtype: float64\n",
      "------------ Dimention 4\n",
      "---- Do parameter tuning\n",
      "Scoring parameter balanced_accuracy\n",
      "Fitting 5 folds for each of 25 candidates, totalling 125 fits\n"
     ]
    },
    {
     "name": "stderr",
     "output_type": "stream",
     "text": [
      "[Parallel(n_jobs=12)]: Using backend LokyBackend with 12 concurrent workers.\n",
      "[Parallel(n_jobs=12)]: Done   8 tasks      | elapsed:    0.3s\n",
      "[Parallel(n_jobs=12)]: Done 102 out of 125 | elapsed:    1.1s remaining:    0.3s\n",
      "[Parallel(n_jobs=12)]: Done 125 out of 125 | elapsed:    1.3s finished\n"
     ]
    },
    {
     "name": "stdout",
     "output_type": "stream",
     "text": [
      "\n",
      " Time taken: 0 hours 0 minutes and 1.76 seconds.\n",
      "Best Score: 73.069%\n",
      "{'learning_rate': 0.02, 'max_delta_step': 5, 'n_estimators': 700, 'max_depth': 4, 'scale_pos_weight': 0.36, 'subsample': 0.8, 'min_child_weight': 4, 'colsample_bytree': 0.8, 'gamma': 1}\n"
     ]
    },
    {
     "name": "stderr",
     "output_type": "stream",
     "text": [
      "[Parallel(n_jobs=-1)]: Using backend LokyBackend with 16 concurrent workers.\n",
      "[Parallel(n_jobs=-1)]: Done   5 out of   5 | elapsed:    0.5s finished\n"
     ]
    },
    {
     "name": "stdout",
     "output_type": "stream",
     "text": [
      "--- Validation score\n",
      "balanced_accuracy    0.730693\n",
      "recall_0             0.675000\n",
      "precision_0          0.537548\n",
      "recall_1             0.786387\n",
      "precision_1          0.870288\n",
      "auc                  0.772354\n",
      "dtype: float64\n",
      "tn: 22, fp:29, fn:57, tp:85\n",
      "[[22 29]\n",
      " [57 85]]\n",
      "--- Test score\n",
      "balanced_accuracy      0.514982\n",
      "recall_0               0.431373\n",
      "precision_0            0.278481\n",
      "recall_1               0.598592\n",
      "precision_1            0.745614\n",
      "auc                    0.511461\n",
      "False_positive_rate    0.568627\n",
      "False_negative_rate    0.401408\n",
      "dtype: float64\n",
      "------------ Dimention 5\n",
      "---- Do parameter tuning\n",
      "Scoring parameter balanced_accuracy\n",
      "Fitting 5 folds for each of 25 candidates, totalling 125 fits\n"
     ]
    },
    {
     "name": "stderr",
     "output_type": "stream",
     "text": [
      "[Parallel(n_jobs=12)]: Using backend LokyBackend with 12 concurrent workers.\n",
      "[Parallel(n_jobs=12)]: Done   8 tasks      | elapsed:    0.3s\n",
      "[Parallel(n_jobs=12)]: Done 102 out of 125 | elapsed:    1.2s remaining:    0.3s\n",
      "[Parallel(n_jobs=12)]: Done 125 out of 125 | elapsed:    1.3s finished\n"
     ]
    },
    {
     "name": "stdout",
     "output_type": "stream",
     "text": [
      "\n",
      " Time taken: 0 hours 0 minutes and 1.84 seconds.\n",
      "Best Score: 71.928%\n",
      "{'learning_rate': 0.02, 'max_delta_step': 5, 'n_estimators': 700, 'max_depth': 4, 'scale_pos_weight': 0.36, 'subsample': 0.8, 'min_child_weight': 4, 'colsample_bytree': 0.8, 'gamma': 1}\n"
     ]
    },
    {
     "name": "stderr",
     "output_type": "stream",
     "text": [
      "[Parallel(n_jobs=-1)]: Using backend LokyBackend with 16 concurrent workers.\n",
      "[Parallel(n_jobs=-1)]: Done   5 out of   5 | elapsed:    0.6s finished\n"
     ]
    },
    {
     "name": "stdout",
     "output_type": "stream",
     "text": [
      "--- Validation score\n",
      "balanced_accuracy    0.719283\n",
      "recall_0             0.658333\n",
      "precision_0          0.516946\n",
      "recall_1             0.780233\n",
      "precision_1          0.864106\n",
      "auc                  0.771989\n",
      "dtype: float64\n",
      "tn: 24, fp:27, fn:46, tp:96\n",
      "[[24 27]\n",
      " [46 96]]\n",
      "--- Test score\n",
      "balanced_accuracy      0.573322\n",
      "recall_0               0.470588\n",
      "precision_0            0.342857\n",
      "recall_1               0.676056\n",
      "precision_1            0.780488\n",
      "auc                    0.524579\n",
      "False_positive_rate    0.529412\n",
      "False_negative_rate    0.323944\n",
      "dtype: float64\n",
      "------------ Dimention 6\n",
      "---- Do parameter tuning\n",
      "Scoring parameter balanced_accuracy\n",
      "Fitting 5 folds for each of 25 candidates, totalling 125 fits\n"
     ]
    },
    {
     "name": "stderr",
     "output_type": "stream",
     "text": [
      "[Parallel(n_jobs=12)]: Using backend LokyBackend with 12 concurrent workers.\n",
      "[Parallel(n_jobs=12)]: Done   8 tasks      | elapsed:    0.2s\n",
      "[Parallel(n_jobs=12)]: Done 102 out of 125 | elapsed:    1.2s remaining:    0.3s\n",
      "[Parallel(n_jobs=12)]: Done 125 out of 125 | elapsed:    1.3s finished\n"
     ]
    },
    {
     "name": "stdout",
     "output_type": "stream",
     "text": [
      "\n",
      " Time taken: 0 hours 0 minutes and 1.77 seconds.\n",
      "Best Score: 69.672%\n",
      "{'learning_rate': 0.02, 'max_delta_step': 2, 'n_estimators': 300, 'max_depth': 6, 'scale_pos_weight': 0.36, 'subsample': 0.8, 'min_child_weight': 2, 'colsample_bytree': 0.8, 'gamma': 5}\n"
     ]
    },
    {
     "name": "stderr",
     "output_type": "stream",
     "text": [
      "[Parallel(n_jobs=-1)]: Using backend LokyBackend with 16 concurrent workers.\n",
      "[Parallel(n_jobs=-1)]: Done   5 out of   5 | elapsed:    0.5s finished\n"
     ]
    },
    {
     "name": "stdout",
     "output_type": "stream",
     "text": [
      "--- Validation score\n",
      "balanced_accuracy    0.696725\n",
      "recall_0             0.716667\n",
      "precision_0          0.445664\n",
      "recall_1             0.676783\n",
      "precision_1          0.872551\n",
      "auc                  0.763202\n",
      "dtype: float64\n",
      "tn: 23, fp:28, fn:60, tp:82\n",
      "[[23 28]\n",
      " [60 82]]\n",
      "--- Test score\n",
      "balanced_accuracy      0.514223\n",
      "recall_0               0.450980\n",
      "precision_0            0.277108\n",
      "recall_1               0.577465\n",
      "precision_1            0.745455\n",
      "auc                    0.555095\n",
      "False_positive_rate    0.549020\n",
      "False_negative_rate    0.422535\n",
      "dtype: float64\n",
      "------------ Dimention 7\n",
      "---- Do parameter tuning\n",
      "Scoring parameter balanced_accuracy\n",
      "Fitting 5 folds for each of 25 candidates, totalling 125 fits\n"
     ]
    },
    {
     "name": "stderr",
     "output_type": "stream",
     "text": [
      "[Parallel(n_jobs=12)]: Using backend LokyBackend with 12 concurrent workers.\n",
      "[Parallel(n_jobs=12)]: Done   8 tasks      | elapsed:    0.3s\n",
      "[Parallel(n_jobs=12)]: Done 102 out of 125 | elapsed:    1.2s remaining:    0.3s\n",
      "[Parallel(n_jobs=12)]: Done 125 out of 125 | elapsed:    1.4s finished\n"
     ]
    },
    {
     "name": "stdout",
     "output_type": "stream",
     "text": [
      "\n",
      " Time taken: 0 hours 0 minutes and 1.95 seconds.\n",
      "Best Score: 69.592%\n",
      "{'learning_rate': 0.02, 'max_delta_step': 2, 'n_estimators': 300, 'max_depth': 6, 'scale_pos_weight': 0.36, 'subsample': 0.8, 'min_child_weight': 2, 'colsample_bytree': 0.8, 'gamma': 5}\n"
     ]
    },
    {
     "name": "stderr",
     "output_type": "stream",
     "text": [
      "[Parallel(n_jobs=-1)]: Using backend LokyBackend with 16 concurrent workers.\n",
      "[Parallel(n_jobs=-1)]: Done   5 out of   5 | elapsed:    0.6s finished\n"
     ]
    },
    {
     "name": "stdout",
     "output_type": "stream",
     "text": [
      "--- Validation score\n",
      "balanced_accuracy    0.695921\n",
      "recall_0             0.700000\n",
      "precision_0          0.452407\n",
      "recall_1             0.691841\n",
      "precision_1          0.865426\n",
      "auc                  0.766009\n",
      "dtype: float64\n",
      "tn: 24, fp:27, fn:60, tp:82\n",
      "[[24 27]\n",
      " [60 82]]\n",
      "--- Test score\n",
      "balanced_accuracy      0.524027\n",
      "recall_0               0.470588\n",
      "precision_0            0.285714\n",
      "recall_1               0.577465\n",
      "precision_1            0.752294\n",
      "auc                    0.553714\n",
      "False_positive_rate    0.529412\n",
      "False_negative_rate    0.422535\n",
      "dtype: float64\n",
      "------------ Dimention 8\n",
      "---- Do parameter tuning\n",
      "Scoring parameter balanced_accuracy\n",
      "Fitting 5 folds for each of 25 candidates, totalling 125 fits\n"
     ]
    },
    {
     "name": "stderr",
     "output_type": "stream",
     "text": [
      "[Parallel(n_jobs=12)]: Using backend LokyBackend with 12 concurrent workers.\n",
      "[Parallel(n_jobs=12)]: Done   8 tasks      | elapsed:    0.3s\n",
      "[Parallel(n_jobs=12)]: Done 102 out of 125 | elapsed:    1.4s remaining:    0.3s\n",
      "[Parallel(n_jobs=12)]: Done 125 out of 125 | elapsed:    1.6s finished\n"
     ]
    },
    {
     "name": "stdout",
     "output_type": "stream",
     "text": [
      "\n",
      " Time taken: 0 hours 0 minutes and 2.15 seconds.\n",
      "Best Score: 70.080%\n",
      "{'learning_rate': 0.02, 'max_delta_step': 2, 'n_estimators': 300, 'max_depth': 6, 'scale_pos_weight': 0.36, 'subsample': 0.8, 'min_child_weight': 2, 'colsample_bytree': 0.8, 'gamma': 5}\n"
     ]
    },
    {
     "name": "stderr",
     "output_type": "stream",
     "text": [
      "[Parallel(n_jobs=-1)]: Using backend LokyBackend with 16 concurrent workers.\n",
      "[Parallel(n_jobs=-1)]: Done   5 out of   5 | elapsed:    0.5s finished\n"
     ]
    },
    {
     "name": "stdout",
     "output_type": "stream",
     "text": [
      "--- Validation score\n",
      "balanced_accuracy    0.700798\n",
      "recall_0             0.725000\n",
      "precision_0          0.450674\n",
      "recall_1             0.676597\n",
      "precision_1          0.872500\n",
      "auc                  0.767215\n",
      "dtype: float64\n",
      "tn: 23, fp:28, fn:61, tp:81\n",
      "[[23 28]\n",
      " [61 81]]\n",
      "--- Test score\n",
      "balanced_accuracy      0.510701\n",
      "recall_0               0.450980\n",
      "precision_0            0.273810\n",
      "recall_1               0.570423\n",
      "precision_1            0.743119\n",
      "auc                    0.542530\n",
      "False_positive_rate    0.549020\n",
      "False_negative_rate    0.429577\n",
      "dtype: float64\n",
      "------------ Dimention 9\n",
      "---- Do parameter tuning\n",
      "Scoring parameter balanced_accuracy\n",
      "Fitting 5 folds for each of 25 candidates, totalling 125 fits\n"
     ]
    },
    {
     "name": "stderr",
     "output_type": "stream",
     "text": [
      "[Parallel(n_jobs=12)]: Using backend LokyBackend with 12 concurrent workers.\n",
      "[Parallel(n_jobs=12)]: Done   8 tasks      | elapsed:    0.3s\n"
     ]
    },
    {
     "name": "stdout",
     "output_type": "stream",
     "text": [
      "\n",
      " Time taken: 0 hours 0 minutes and 2.15 seconds.\n",
      "Best Score: 70.593%\n",
      "{'learning_rate': 0.02, 'max_delta_step': 2, 'n_estimators': 300, 'max_depth': 6, 'scale_pos_weight': 0.36, 'subsample': 0.8, 'min_child_weight': 2, 'colsample_bytree': 0.8, 'gamma': 5}\n"
     ]
    },
    {
     "name": "stderr",
     "output_type": "stream",
     "text": [
      "[Parallel(n_jobs=12)]: Done 125 out of 125 | elapsed:    1.7s finished\n",
      "[Parallel(n_jobs=-1)]: Using backend LokyBackend with 16 concurrent workers.\n",
      "[Parallel(n_jobs=-1)]: Done   5 out of   5 | elapsed:    0.5s finished\n"
     ]
    },
    {
     "name": "stdout",
     "output_type": "stream",
     "text": [
      "--- Validation score\n",
      "balanced_accuracy    0.705932\n",
      "recall_0             0.716667\n",
      "precision_0          0.461654\n",
      "recall_1             0.695198\n",
      "precision_1          0.874960\n",
      "auc                  0.767377\n",
      "dtype: float64\n",
      "tn: 24, fp:27, fn:61, tp:81\n",
      "[[24 27]\n",
      " [61 81]]\n",
      "--- Test score\n",
      "balanced_accuracy      0.520505\n",
      "recall_0               0.470588\n",
      "precision_0            0.282353\n",
      "recall_1               0.570423\n",
      "precision_1            0.750000\n",
      "auc                    0.542323\n",
      "False_positive_rate    0.529412\n",
      "False_negative_rate    0.429577\n",
      "dtype: float64\n",
      "------------ Dimention 10\n",
      "---- Do parameter tuning\n",
      "Scoring parameter balanced_accuracy\n",
      "Fitting 5 folds for each of 25 candidates, totalling 125 fits\n"
     ]
    },
    {
     "name": "stderr",
     "output_type": "stream",
     "text": [
      "[Parallel(n_jobs=12)]: Using backend LokyBackend with 12 concurrent workers.\n",
      "[Parallel(n_jobs=12)]: Done   8 tasks      | elapsed:    0.4s\n"
     ]
    },
    {
     "name": "stdout",
     "output_type": "stream",
     "text": [
      "\n",
      " Time taken: 0 hours 0 minutes and 2.25 seconds.\n",
      "Best Score: 69.138%\n",
      "{'learning_rate': 0.02, 'max_delta_step': 2, 'n_estimators': 300, 'max_depth': 6, 'scale_pos_weight': 0.36, 'subsample': 0.8, 'min_child_weight': 2, 'colsample_bytree': 0.8, 'gamma': 5}\n"
     ]
    },
    {
     "name": "stderr",
     "output_type": "stream",
     "text": [
      "[Parallel(n_jobs=12)]: Done 125 out of 125 | elapsed:    1.8s finished\n",
      "[Parallel(n_jobs=-1)]: Using backend LokyBackend with 16 concurrent workers.\n",
      "[Parallel(n_jobs=-1)]: Done   5 out of   5 | elapsed:    0.5s finished\n"
     ]
    },
    {
     "name": "stdout",
     "output_type": "stream",
     "text": [
      "--- Validation score\n",
      "balanced_accuracy    0.691375\n",
      "recall_0             0.700000\n",
      "precision_0          0.445921\n",
      "recall_1             0.682751\n",
      "precision_1          0.863166\n",
      "auc                  0.760748\n",
      "dtype: float64\n",
      "tn: 24, fp:27, fn:59, tp:83\n",
      "[[24 27]\n",
      " [59 83]]\n",
      "--- Test score\n",
      "balanced_accuracy      0.527548\n",
      "recall_0               0.470588\n",
      "precision_0            0.289157\n",
      "recall_1               0.584507\n",
      "precision_1            0.754545\n",
      "auc                    0.551160\n",
      "False_positive_rate    0.529412\n",
      "False_negative_rate    0.415493\n",
      "dtype: float64\n",
      "------------ Dimention 11\n",
      "---- Do parameter tuning\n",
      "Scoring parameter balanced_accuracy\n",
      "Fitting 5 folds for each of 25 candidates, totalling 125 fits\n"
     ]
    },
    {
     "name": "stderr",
     "output_type": "stream",
     "text": [
      "[Parallel(n_jobs=12)]: Using backend LokyBackend with 12 concurrent workers.\n",
      "[Parallel(n_jobs=12)]: Done   8 tasks      | elapsed:    0.4s\n"
     ]
    },
    {
     "name": "stdout",
     "output_type": "stream",
     "text": [
      "\n",
      " Time taken: 0 hours 0 minutes and 2.37 seconds.\n",
      "Best Score: 69.969%\n",
      "{'learning_rate': 0.02, 'max_delta_step': 4, 'n_estimators': 500, 'max_depth': 5, 'scale_pos_weight': 0.36, 'subsample': 0.6, 'min_child_weight': 4, 'colsample_bytree': 1.0, 'gamma': 5}\n"
     ]
    },
    {
     "name": "stderr",
     "output_type": "stream",
     "text": [
      "[Parallel(n_jobs=12)]: Done 125 out of 125 | elapsed:    1.8s finished\n",
      "[Parallel(n_jobs=-1)]: Using backend LokyBackend with 16 concurrent workers.\n",
      "[Parallel(n_jobs=-1)]: Done   5 out of   5 | elapsed:    0.5s finished\n"
     ]
    },
    {
     "name": "stdout",
     "output_type": "stream",
     "text": [
      "--- Validation score\n",
      "balanced_accuracy    0.699685\n",
      "recall_0             0.716667\n",
      "precision_0          0.449913\n",
      "recall_1             0.682704\n",
      "precision_1          0.870635\n",
      "auc                  0.752642\n",
      "dtype: float64\n",
      "tn: 22, fp:29, fn:51, tp:91\n",
      "[[22 29]\n",
      " [51 91]]\n",
      "--- Test score\n",
      "balanced_accuracy      0.536109\n",
      "recall_0               0.431373\n",
      "precision_0            0.301370\n",
      "recall_1               0.640845\n",
      "precision_1            0.758333\n",
      "auc                    0.574151\n",
      "False_positive_rate    0.568627\n",
      "False_negative_rate    0.359155\n",
      "dtype: float64\n",
      "------------ Dimention 12\n",
      "---- Do parameter tuning\n",
      "Scoring parameter balanced_accuracy\n",
      "Fitting 5 folds for each of 25 candidates, totalling 125 fits\n"
     ]
    },
    {
     "name": "stderr",
     "output_type": "stream",
     "text": [
      "[Parallel(n_jobs=12)]: Using backend LokyBackend with 12 concurrent workers.\n",
      "[Parallel(n_jobs=12)]: Done   8 tasks      | elapsed:    0.4s\n"
     ]
    },
    {
     "name": "stdout",
     "output_type": "stream",
     "text": [
      "\n",
      " Time taken: 0 hours 0 minutes and 2.33 seconds.\n",
      "Best Score: 70.037%\n",
      "{'learning_rate': 0.02, 'max_delta_step': 4, 'n_estimators': 500, 'max_depth': 5, 'scale_pos_weight': 0.36, 'subsample': 0.6, 'min_child_weight': 4, 'colsample_bytree': 1.0, 'gamma': 5}\n"
     ]
    },
    {
     "name": "stderr",
     "output_type": "stream",
     "text": [
      "[Parallel(n_jobs=12)]: Done 125 out of 125 | elapsed:    1.9s finished\n",
      "[Parallel(n_jobs=-1)]: Using backend LokyBackend with 16 concurrent workers.\n",
      "[Parallel(n_jobs=-1)]: Done   5 out of   5 | elapsed:    0.6s finished\n"
     ]
    },
    {
     "name": "stdout",
     "output_type": "stream",
     "text": [
      "--- Validation score\n",
      "balanced_accuracy    0.700373\n",
      "recall_0             0.733333\n",
      "precision_0          0.445558\n",
      "recall_1             0.667413\n",
      "precision_1          0.873600\n",
      "auc                  0.747815\n",
      "dtype: float64\n",
      "tn: 22, fp:29, fn:53, tp:89\n",
      "[[22 29]\n",
      " [53 89]]\n",
      "--- Test score\n",
      "balanced_accuracy      0.529067\n",
      "recall_0               0.431373\n",
      "precision_0            0.293333\n",
      "recall_1               0.626761\n",
      "precision_1            0.754237\n",
      "auc                    0.567799\n",
      "False_positive_rate    0.568627\n",
      "False_negative_rate    0.373239\n",
      "dtype: float64\n",
      "------------ Dimention 13\n",
      "---- Do parameter tuning\n",
      "Scoring parameter balanced_accuracy\n",
      "Fitting 5 folds for each of 25 candidates, totalling 125 fits\n"
     ]
    },
    {
     "name": "stderr",
     "output_type": "stream",
     "text": [
      "[Parallel(n_jobs=12)]: Using backend LokyBackend with 12 concurrent workers.\n",
      "[Parallel(n_jobs=12)]: Done   8 tasks      | elapsed:    0.3s\n"
     ]
    },
    {
     "name": "stdout",
     "output_type": "stream",
     "text": [
      "\n",
      " Time taken: 0 hours 0 minutes and 2.45 seconds.\n",
      "Best Score: 71.410%\n",
      "{'learning_rate': 0.02, 'max_delta_step': 2, 'n_estimators': 300, 'max_depth': 6, 'scale_pos_weight': 0.36, 'subsample': 0.8, 'min_child_weight': 2, 'colsample_bytree': 0.8, 'gamma': 5}\n"
     ]
    },
    {
     "name": "stderr",
     "output_type": "stream",
     "text": [
      "[Parallel(n_jobs=12)]: Done 125 out of 125 | elapsed:    1.9s finished\n",
      "[Parallel(n_jobs=-1)]: Using backend LokyBackend with 16 concurrent workers.\n",
      "[Parallel(n_jobs=-1)]: Done   5 out of   5 | elapsed:    0.6s finished\n"
     ]
    },
    {
     "name": "stdout",
     "output_type": "stream",
     "text": [
      "--- Validation score\n",
      "balanced_accuracy    0.714103\n",
      "recall_0             0.733333\n",
      "precision_0          0.466988\n",
      "recall_1             0.694872\n",
      "precision_1          0.878730\n",
      "auc                  0.759742\n",
      "dtype: float64\n",
      "tn: 23, fp:28, fn:55, tp:87\n",
      "[[23 28]\n",
      " [55 87]]\n",
      "--- Test score\n",
      "balanced_accuracy      0.531828\n",
      "recall_0               0.450980\n",
      "precision_0            0.294872\n",
      "recall_1               0.612676\n",
      "precision_1            0.756522\n",
      "auc                    0.553922\n",
      "False_positive_rate    0.549020\n",
      "False_negative_rate    0.387324\n",
      "dtype: float64\n",
      "------------ Dimention 14\n",
      "---- Do parameter tuning\n",
      "Scoring parameter balanced_accuracy\n",
      "Fitting 5 folds for each of 25 candidates, totalling 125 fits\n"
     ]
    },
    {
     "name": "stderr",
     "output_type": "stream",
     "text": [
      "[Parallel(n_jobs=12)]: Using backend LokyBackend with 12 concurrent workers.\n",
      "[Parallel(n_jobs=12)]: Done   8 tasks      | elapsed:    0.4s\n"
     ]
    },
    {
     "name": "stdout",
     "output_type": "stream",
     "text": [
      "\n",
      " Time taken: 0 hours 0 minutes and 2.69 seconds.\n",
      "Best Score: 69.886%\n",
      "{'learning_rate': 0.07, 'max_delta_step': 4, 'n_estimators': 500, 'max_depth': 5, 'scale_pos_weight': 0.2, 'subsample': 0.8, 'min_child_weight': 5, 'colsample_bytree': 1.0, 'gamma': 1.5}\n"
     ]
    },
    {
     "name": "stderr",
     "output_type": "stream",
     "text": [
      "[Parallel(n_jobs=12)]: Done 125 out of 125 | elapsed:    2.0s finished\n",
      "[Parallel(n_jobs=-1)]: Using backend LokyBackend with 16 concurrent workers.\n",
      "[Parallel(n_jobs=-1)]: Done   5 out of   5 | elapsed:    0.5s finished\n"
     ]
    },
    {
     "name": "stdout",
     "output_type": "stream",
     "text": [
      "--- Validation score\n",
      "balanced_accuracy    0.698858\n",
      "recall_0             0.766667\n",
      "precision_0          0.431125\n",
      "recall_1             0.631049\n",
      "precision_1          0.882678\n",
      "auc                  0.737531\n",
      "dtype: float64\n",
      "tn: 24, fp:27, fn:63, tp:79\n",
      "[[24 27]\n",
      " [63 79]]\n",
      "--- Test score\n",
      "balanced_accuracy      0.513463\n",
      "recall_0               0.470588\n",
      "precision_0            0.275862\n",
      "recall_1               0.556338\n",
      "precision_1            0.745283\n",
      "auc                    0.509666\n",
      "False_positive_rate    0.529412\n",
      "False_negative_rate    0.443662\n",
      "dtype: float64\n",
      "------------ Dimention 15\n",
      "---- Do parameter tuning\n",
      "Scoring parameter balanced_accuracy\n",
      "Fitting 5 folds for each of 25 candidates, totalling 125 fits\n"
     ]
    },
    {
     "name": "stderr",
     "output_type": "stream",
     "text": [
      "[Parallel(n_jobs=12)]: Using backend LokyBackend with 12 concurrent workers.\n",
      "[Parallel(n_jobs=12)]: Done   8 tasks      | elapsed:    0.4s\n"
     ]
    },
    {
     "name": "stdout",
     "output_type": "stream",
     "text": [
      "\n",
      " Time taken: 0 hours 0 minutes and 2.75 seconds.\n",
      "Best Score: 69.715%\n",
      "{'learning_rate': 0.02, 'max_delta_step': 2, 'n_estimators': 300, 'max_depth': 6, 'scale_pos_weight': 0.36, 'subsample': 0.8, 'min_child_weight': 2, 'colsample_bytree': 0.8, 'gamma': 5}\n"
     ]
    },
    {
     "name": "stderr",
     "output_type": "stream",
     "text": [
      "[Parallel(n_jobs=12)]: Done 125 out of 125 | elapsed:    2.2s finished\n",
      "[Parallel(n_jobs=-1)]: Using backend LokyBackend with 16 concurrent workers.\n",
      "[Parallel(n_jobs=-1)]: Done   5 out of   5 | elapsed:    0.6s finished\n"
     ]
    },
    {
     "name": "stdout",
     "output_type": "stream",
     "text": [
      "--- Validation score\n",
      "balanced_accuracy    0.697150\n",
      "recall_0             0.675000\n",
      "precision_0          0.465823\n",
      "recall_1             0.719301\n",
      "precision_1          0.859603\n",
      "auc                  0.763246\n",
      "dtype: float64\n",
      "tn: 24, fp:27, fn:54, tp:88\n",
      "[[24 27]\n",
      " [54 88]]\n",
      "--- Test score\n",
      "balanced_accuracy      0.545153\n",
      "recall_0               0.470588\n",
      "precision_0            0.307692\n",
      "recall_1               0.619718\n",
      "precision_1            0.765217\n",
      "auc                    0.565797\n",
      "False_positive_rate    0.529412\n",
      "False_negative_rate    0.380282\n",
      "dtype: float64\n",
      "------------ Dimention 16\n",
      "---- Do parameter tuning\n",
      "Scoring parameter balanced_accuracy\n",
      "Fitting 5 folds for each of 25 candidates, totalling 125 fits\n"
     ]
    },
    {
     "name": "stderr",
     "output_type": "stream",
     "text": [
      "[Parallel(n_jobs=12)]: Using backend LokyBackend with 12 concurrent workers.\n",
      "[Parallel(n_jobs=12)]: Done   8 tasks      | elapsed:    0.4s\n"
     ]
    },
    {
     "name": "stdout",
     "output_type": "stream",
     "text": [
      "\n",
      " Time taken: 0 hours 0 minutes and 2.7 seconds.\n",
      "Best Score: 70.551%\n",
      "{'learning_rate': 0.02, 'max_delta_step': 2, 'n_estimators': 300, 'max_depth': 6, 'scale_pos_weight': 0.36, 'subsample': 0.8, 'min_child_weight': 2, 'colsample_bytree': 0.8, 'gamma': 5}\n"
     ]
    },
    {
     "name": "stderr",
     "output_type": "stream",
     "text": [
      "[Parallel(n_jobs=12)]: Done 125 out of 125 | elapsed:    2.1s finished\n",
      "[Parallel(n_jobs=-1)]: Using backend LokyBackend with 16 concurrent workers.\n",
      "[Parallel(n_jobs=-1)]: Done   5 out of   5 | elapsed:    0.6s finished\n"
     ]
    },
    {
     "name": "stdout",
     "output_type": "stream",
     "text": [
      "--- Validation score\n",
      "balanced_accuracy    0.705507\n",
      "recall_0             0.691667\n",
      "precision_0          0.469118\n",
      "recall_1             0.719347\n",
      "precision_1          0.867397\n",
      "auc                  0.763395\n",
      "dtype: float64\n",
      "tn: 24, fp:27, fn:53, tp:89\n",
      "[[24 27]\n",
      " [53 89]]\n",
      "--- Test score\n",
      "balanced_accuracy      0.548674\n",
      "recall_0               0.470588\n",
      "precision_0            0.311688\n",
      "recall_1               0.626761\n",
      "precision_1            0.767241\n",
      "auc                    0.547225\n",
      "False_positive_rate    0.529412\n",
      "False_negative_rate    0.373239\n",
      "dtype: float64\n",
      "------------ Dimention 17\n",
      "---- Do parameter tuning\n",
      "Scoring parameter balanced_accuracy\n",
      "Fitting 5 folds for each of 25 candidates, totalling 125 fits\n"
     ]
    },
    {
     "name": "stderr",
     "output_type": "stream",
     "text": [
      "[Parallel(n_jobs=12)]: Using backend LokyBackend with 12 concurrent workers.\n",
      "[Parallel(n_jobs=12)]: Done   8 tasks      | elapsed:    0.5s\n",
      "[Parallel(n_jobs=12)]: Done 125 out of 125 | elapsed:    2.3s finished\n"
     ]
    },
    {
     "name": "stdout",
     "output_type": "stream",
     "text": [
      "\n",
      " Time taken: 0 hours 0 minutes and 2.85 seconds.\n",
      "Best Score: 69.793%\n",
      "{'learning_rate': 0.02, 'max_delta_step': 4, 'n_estimators': 500, 'max_depth': 5, 'scale_pos_weight': 0.36, 'subsample': 0.6, 'min_child_weight': 4, 'colsample_bytree': 1.0, 'gamma': 5}\n"
     ]
    },
    {
     "name": "stderr",
     "output_type": "stream",
     "text": [
      "[Parallel(n_jobs=-1)]: Using backend LokyBackend with 16 concurrent workers.\n",
      "[Parallel(n_jobs=-1)]: Done   5 out of   5 | elapsed:    0.6s finished\n"
     ]
    },
    {
     "name": "stdout",
     "output_type": "stream",
     "text": [
      "--- Validation score\n",
      "balanced_accuracy    0.697931\n",
      "recall_0             0.691667\n",
      "precision_0          0.454142\n",
      "recall_1             0.704196\n",
      "precision_1          0.866396\n",
      "auc                  0.749984\n",
      "dtype: float64\n",
      "tn: 23, fp:28, fn:56, tp:86\n",
      "[[23 28]\n",
      " [56 86]]\n",
      "--- Test score\n",
      "balanced_accuracy      0.528307\n",
      "recall_0               0.450980\n",
      "precision_0            0.291139\n",
      "recall_1               0.605634\n",
      "precision_1            0.754386\n",
      "auc                    0.553438\n",
      "False_positive_rate    0.549020\n",
      "False_negative_rate    0.394366\n",
      "dtype: float64\n",
      "------------ Dimention 18\n",
      "---- Do parameter tuning\n",
      "Scoring parameter balanced_accuracy\n",
      "Fitting 5 folds for each of 25 candidates, totalling 125 fits\n"
     ]
    },
    {
     "name": "stderr",
     "output_type": "stream",
     "text": [
      "[Parallel(n_jobs=12)]: Using backend LokyBackend with 12 concurrent workers.\n",
      "[Parallel(n_jobs=12)]: Done   8 tasks      | elapsed:    0.4s\n"
     ]
    },
    {
     "name": "stdout",
     "output_type": "stream",
     "text": [
      "\n",
      " Time taken: 0 hours 0 minutes and 2.92 seconds.\n",
      "Best Score: 70.397%\n",
      "{'learning_rate': 0.02, 'max_delta_step': 2, 'n_estimators': 300, 'max_depth': 6, 'scale_pos_weight': 0.36, 'subsample': 0.8, 'min_child_weight': 2, 'colsample_bytree': 0.8, 'gamma': 5}\n"
     ]
    },
    {
     "name": "stderr",
     "output_type": "stream",
     "text": [
      "[Parallel(n_jobs=12)]: Done 125 out of 125 | elapsed:    2.2s finished\n",
      "[Parallel(n_jobs=-1)]: Using backend LokyBackend with 16 concurrent workers.\n",
      "[Parallel(n_jobs=-1)]: Done   5 out of   5 | elapsed:    0.6s finished\n"
     ]
    },
    {
     "name": "stdout",
     "output_type": "stream",
     "text": [
      "--- Validation score\n",
      "balanced_accuracy    0.703969\n",
      "recall_0             0.691667\n",
      "precision_0          0.469286\n",
      "recall_1             0.716270\n",
      "precision_1          0.865231\n",
      "auc                  0.761448\n",
      "dtype: float64\n",
      "tn: 25, fp:26, fn:52, tp:90\n",
      "[[25 26]\n",
      " [52 90]]\n",
      "--- Test score\n",
      "balanced_accuracy      0.561999\n",
      "recall_0               0.490196\n",
      "precision_0            0.324675\n",
      "recall_1               0.633803\n",
      "precision_1            0.775862\n",
      "auc                    0.575739\n",
      "False_positive_rate    0.509804\n",
      "False_negative_rate    0.366197\n",
      "dtype: float64\n",
      "------------ Dimention 19\n",
      "---- Do parameter tuning\n",
      "Scoring parameter balanced_accuracy\n",
      "Fitting 5 folds for each of 25 candidates, totalling 125 fits\n"
     ]
    },
    {
     "name": "stderr",
     "output_type": "stream",
     "text": [
      "[Parallel(n_jobs=12)]: Using backend LokyBackend with 12 concurrent workers.\n",
      "[Parallel(n_jobs=12)]: Done   8 tasks      | elapsed:    0.5s\n"
     ]
    },
    {
     "name": "stdout",
     "output_type": "stream",
     "text": [
      "\n",
      " Time taken: 0 hours 0 minutes and 2.83 seconds.\n",
      "Best Score: 68.406%\n",
      "{'learning_rate': 0.07, 'max_delta_step': 2, 'n_estimators': 300, 'max_depth': 3, 'scale_pos_weight': 0.2, 'subsample': 0.6, 'min_child_weight': 1, 'colsample_bytree': 0.8, 'gamma': 0.5}\n"
     ]
    },
    {
     "name": "stderr",
     "output_type": "stream",
     "text": [
      "[Parallel(n_jobs=12)]: Done 125 out of 125 | elapsed:    2.3s finished\n",
      "[Parallel(n_jobs=-1)]: Using backend LokyBackend with 16 concurrent workers.\n",
      "[Parallel(n_jobs=-1)]: Done   5 out of   5 | elapsed:    0.5s finished\n"
     ]
    },
    {
     "name": "stdout",
     "output_type": "stream",
     "text": [
      "--- Validation score\n",
      "balanced_accuracy    0.684056\n",
      "recall_0             0.600000\n",
      "precision_0          0.481802\n",
      "recall_1             0.768112\n",
      "precision_1          0.841470\n",
      "auc                  0.726682\n",
      "dtype: float64\n",
      "tn: 23, fp:28, fn:50, tp:92\n",
      "[[23 28]\n",
      " [50 92]]\n",
      "--- Test score\n",
      "balanced_accuracy      0.549434\n",
      "recall_0               0.450980\n",
      "precision_0            0.315068\n",
      "recall_1               0.647887\n",
      "precision_1            0.766667\n",
      "auc                    0.549986\n",
      "False_positive_rate    0.549020\n",
      "False_negative_rate    0.352113\n",
      "dtype: float64\n",
      "------------ Dimention 20\n",
      "---- Do parameter tuning\n",
      "Scoring parameter balanced_accuracy\n",
      "Fitting 5 folds for each of 25 candidates, totalling 125 fits\n"
     ]
    },
    {
     "name": "stderr",
     "output_type": "stream",
     "text": [
      "[Parallel(n_jobs=12)]: Using backend LokyBackend with 12 concurrent workers.\n",
      "[Parallel(n_jobs=12)]: Done   8 tasks      | elapsed:    0.4s\n",
      "[Parallel(n_jobs=12)]: Done 125 out of 125 | elapsed:    2.4s finished\n"
     ]
    },
    {
     "name": "stdout",
     "output_type": "stream",
     "text": [
      "\n",
      " Time taken: 0 hours 0 minutes and 3.15 seconds.\n",
      "Best Score: 68.044%\n",
      "{'learning_rate': 0.02, 'max_delta_step': 4, 'n_estimators': 500, 'max_depth': 5, 'scale_pos_weight': 0.36, 'subsample': 0.6, 'min_child_weight': 4, 'colsample_bytree': 1.0, 'gamma': 5}\n"
     ]
    },
    {
     "name": "stderr",
     "output_type": "stream",
     "text": [
      "[Parallel(n_jobs=-1)]: Using backend LokyBackend with 16 concurrent workers.\n",
      "[Parallel(n_jobs=-1)]: Done   5 out of   5 | elapsed:    0.6s finished\n"
     ]
    },
    {
     "name": "stdout",
     "output_type": "stream",
     "text": [
      "--- Validation score\n",
      "balanced_accuracy    0.680437\n",
      "recall_0             0.675000\n",
      "precision_0          0.435959\n",
      "recall_1             0.685874\n",
      "precision_1          0.855176\n",
      "auc                  0.750721\n",
      "dtype: float64\n",
      "tn: 21, fp:30, fn:51, tp:91\n",
      "[[21 30]\n",
      " [51 91]]\n",
      "--- Test score\n",
      "balanced_accuracy      0.526305\n",
      "recall_0               0.411765\n",
      "precision_0            0.291667\n",
      "recall_1               0.640845\n",
      "precision_1            0.752066\n",
      "auc                    0.563933\n",
      "False_positive_rate    0.588235\n",
      "False_negative_rate    0.359155\n",
      "dtype: float64\n",
      "------------ Dimention 21\n",
      "---- Do parameter tuning\n",
      "Scoring parameter balanced_accuracy\n",
      "Fitting 5 folds for each of 25 candidates, totalling 125 fits\n"
     ]
    },
    {
     "name": "stderr",
     "output_type": "stream",
     "text": [
      "[Parallel(n_jobs=12)]: Using backend LokyBackend with 12 concurrent workers.\n",
      "[Parallel(n_jobs=12)]: Done   8 tasks      | elapsed:    0.4s\n",
      "[Parallel(n_jobs=12)]: Done 125 out of 125 | elapsed:    2.4s finished\n"
     ]
    },
    {
     "name": "stdout",
     "output_type": "stream",
     "text": [
      "\n",
      " Time taken: 0 hours 0 minutes and 3.09 seconds.\n",
      "Best Score: 68.526%\n",
      "{'learning_rate': 0.03, 'max_delta_step': 2, 'n_estimators': 600, 'max_depth': 5, 'scale_pos_weight': 1, 'subsample': 1.0, 'min_child_weight': 4, 'colsample_bytree': 0.8, 'gamma': 1}\n"
     ]
    },
    {
     "name": "stderr",
     "output_type": "stream",
     "text": [
      "[Parallel(n_jobs=-1)]: Using backend LokyBackend with 16 concurrent workers.\n",
      "[Parallel(n_jobs=-1)]: Done   5 out of   5 | elapsed:    0.7s finished\n"
     ]
    },
    {
     "name": "stdout",
     "output_type": "stream",
     "text": [
      "--- Validation score\n",
      "balanced_accuracy    0.685256\n",
      "recall_0             0.450000\n",
      "precision_0          0.679372\n",
      "recall_1             0.920513\n",
      "precision_1          0.820813\n",
      "auc                  0.736772\n",
      "dtype: float64\n",
      "tn: 12, fp:39, fn:25, tp:117\n",
      "[[ 12  39]\n",
      " [ 25 117]]\n",
      "--- Test score\n",
      "balanced_accuracy      0.529619\n",
      "recall_0               0.235294\n",
      "precision_0            0.324324\n",
      "recall_1               0.823944\n",
      "precision_1            0.750000\n",
      "auc                    0.518779\n",
      "False_positive_rate    0.764706\n",
      "False_negative_rate    0.176056\n",
      "dtype: float64\n",
      "------------ Dimention 22\n",
      "---- Do parameter tuning\n",
      "Scoring parameter balanced_accuracy\n",
      "Fitting 5 folds for each of 25 candidates, totalling 125 fits\n"
     ]
    },
    {
     "name": "stderr",
     "output_type": "stream",
     "text": [
      "[Parallel(n_jobs=12)]: Using backend LokyBackend with 12 concurrent workers.\n",
      "[Parallel(n_jobs=12)]: Done   8 tasks      | elapsed:    0.5s\n"
     ]
    },
    {
     "name": "stdout",
     "output_type": "stream",
     "text": [
      "\n",
      " Time taken: 0 hours 0 minutes and 3.3 seconds.\n",
      "Best Score: 70.569%\n",
      "{'learning_rate': 0.07, 'max_delta_step': 1, 'n_estimators': 600, 'max_depth': 5, 'scale_pos_weight': 1, 'subsample': 0.8, 'min_child_weight': 5, 'colsample_bytree': 0.6, 'gamma': 1}\n"
     ]
    },
    {
     "name": "stderr",
     "output_type": "stream",
     "text": [
      "[Parallel(n_jobs=12)]: Done 125 out of 125 | elapsed:    2.6s finished\n",
      "[Parallel(n_jobs=-1)]: Using backend LokyBackend with 16 concurrent workers.\n",
      "[Parallel(n_jobs=-1)]: Done   5 out of   5 | elapsed:    0.6s finished\n"
     ]
    },
    {
     "name": "stdout",
     "output_type": "stream",
     "text": [
      "--- Validation score\n",
      "balanced_accuracy    0.705688\n",
      "recall_0             0.500000\n",
      "precision_0          0.665966\n",
      "recall_1             0.911375\n",
      "precision_1          0.833237\n",
      "auc                  0.742119\n",
      "dtype: float64\n",
      "tn: 17, fp:34, fn:28, tp:114\n",
      "[[ 17  34]\n",
      " [ 28 114]]\n",
      "--- Test score\n",
      "balanced_accuracy      0.568075\n",
      "recall_0               0.333333\n",
      "precision_0            0.377778\n",
      "recall_1               0.802817\n",
      "precision_1            0.770270\n",
      "auc                    0.553438\n",
      "False_positive_rate    0.666667\n",
      "False_negative_rate    0.197183\n",
      "dtype: float64\n",
      "------------ Dimention 23\n",
      "---- Do parameter tuning\n",
      "Scoring parameter balanced_accuracy\n",
      "Fitting 5 folds for each of 25 candidates, totalling 125 fits\n"
     ]
    },
    {
     "name": "stderr",
     "output_type": "stream",
     "text": [
      "[Parallel(n_jobs=12)]: Using backend LokyBackend with 12 concurrent workers.\n",
      "[Parallel(n_jobs=12)]: Done   8 tasks      | elapsed:    0.5s\n",
      "[Parallel(n_jobs=12)]: Done 125 out of 125 | elapsed:    2.7s finished\n"
     ]
    },
    {
     "name": "stdout",
     "output_type": "stream",
     "text": [
      "\n",
      " Time taken: 0 hours 0 minutes and 3.25 seconds.\n",
      "Best Score: 69.997%\n",
      "{'learning_rate': 0.01, 'max_delta_step': 5, 'n_estimators': 400, 'max_depth': 6, 'scale_pos_weight': 0.36, 'subsample': 0.6, 'min_child_weight': 3, 'colsample_bytree': 1.0, 'gamma': 1.5}\n"
     ]
    },
    {
     "name": "stderr",
     "output_type": "stream",
     "text": [
      "[Parallel(n_jobs=-1)]: Using backend LokyBackend with 16 concurrent workers.\n",
      "[Parallel(n_jobs=-1)]: Done   5 out of   5 | elapsed:    0.6s finished\n"
     ]
    },
    {
     "name": "stdout",
     "output_type": "stream",
     "text": [
      "--- Validation score\n",
      "balanced_accuracy    0.699965\n",
      "recall_0             0.616667\n",
      "precision_0          0.507887\n",
      "recall_1             0.783263\n",
      "precision_1          0.848624\n",
      "auc                  0.768728\n",
      "dtype: float64\n",
      "tn: 22, fp:29, fn:39, tp:103\n",
      "[[ 22  29]\n",
      " [ 39 103]]\n",
      "--- Test score\n",
      "balanced_accuracy      0.578362\n",
      "recall_0               0.431373\n",
      "precision_0            0.360656\n",
      "recall_1               0.725352\n",
      "precision_1            0.780303\n",
      "auc                    0.528998\n",
      "False_positive_rate    0.568627\n",
      "False_negative_rate    0.274648\n",
      "dtype: float64\n",
      "------------ Dimention 24\n",
      "---- Do parameter tuning\n",
      "Scoring parameter balanced_accuracy\n",
      "Fitting 5 folds for each of 25 candidates, totalling 125 fits\n"
     ]
    },
    {
     "name": "stderr",
     "output_type": "stream",
     "text": [
      "[Parallel(n_jobs=12)]: Using backend LokyBackend with 12 concurrent workers.\n",
      "[Parallel(n_jobs=12)]: Done   8 tasks      | elapsed:    0.5s\n",
      "[Parallel(n_jobs=12)]: Done 125 out of 125 | elapsed:    2.7s finished\n"
     ]
    },
    {
     "name": "stdout",
     "output_type": "stream",
     "text": [
      "\n",
      " Time taken: 0 hours 0 minutes and 3.33 seconds.\n",
      "Best Score: 68.766%\n",
      "{'learning_rate': 0.02, 'max_delta_step': 2, 'n_estimators': 300, 'max_depth': 6, 'scale_pos_weight': 0.36, 'subsample': 0.8, 'min_child_weight': 2, 'colsample_bytree': 0.8, 'gamma': 5}\n"
     ]
    },
    {
     "name": "stderr",
     "output_type": "stream",
     "text": [
      "[Parallel(n_jobs=-1)]: Using backend LokyBackend with 16 concurrent workers.\n",
      "[Parallel(n_jobs=-1)]: Done   5 out of   5 | elapsed:    0.6s finished\n"
     ]
    },
    {
     "name": "stdout",
     "output_type": "stream",
     "text": [
      "--- Validation score\n",
      "balanced_accuracy    0.687657\n",
      "recall_0             0.650000\n",
      "precision_0          0.461701\n",
      "recall_1             0.725315\n",
      "precision_1          0.851425\n",
      "auc                  0.762846\n",
      "dtype: float64\n",
      "tn: 24, fp:27, fn:57, tp:85\n",
      "[[24 27]\n",
      " [57 85]]\n",
      "--- Test score\n",
      "balanced_accuracy      0.534590\n",
      "recall_0               0.470588\n",
      "precision_0            0.296296\n",
      "recall_1               0.598592\n",
      "precision_1            0.758929\n",
      "auc                    0.557305\n",
      "False_positive_rate    0.529412\n",
      "False_negative_rate    0.401408\n",
      "dtype: float64\n",
      "------------ Dimention 25\n",
      "---- Do parameter tuning\n",
      "Scoring parameter balanced_accuracy\n",
      "Fitting 5 folds for each of 25 candidates, totalling 125 fits\n"
     ]
    },
    {
     "name": "stderr",
     "output_type": "stream",
     "text": [
      "[Parallel(n_jobs=12)]: Using backend LokyBackend with 12 concurrent workers.\n",
      "[Parallel(n_jobs=12)]: Done   8 tasks      | elapsed:    0.5s\n",
      "[Parallel(n_jobs=12)]: Done 125 out of 125 | elapsed:    2.8s finished\n"
     ]
    },
    {
     "name": "stdout",
     "output_type": "stream",
     "text": [
      "\n",
      " Time taken: 0 hours 0 minutes and 3.51 seconds.\n",
      "Best Score: 69.038%\n",
      "{'learning_rate': 0.02, 'max_delta_step': 2, 'n_estimators': 300, 'max_depth': 6, 'scale_pos_weight': 0.36, 'subsample': 0.8, 'min_child_weight': 2, 'colsample_bytree': 0.8, 'gamma': 5}\n"
     ]
    },
    {
     "name": "stderr",
     "output_type": "stream",
     "text": [
      "[Parallel(n_jobs=-1)]: Using backend LokyBackend with 16 concurrent workers.\n",
      "[Parallel(n_jobs=-1)]: Done   5 out of   5 | elapsed:    0.6s finished\n"
     ]
    },
    {
     "name": "stdout",
     "output_type": "stream",
     "text": [
      "--- Validation score\n",
      "balanced_accuracy    0.690379\n",
      "recall_0             0.658333\n",
      "precision_0          0.460675\n",
      "recall_1             0.722424\n",
      "precision_1          0.854681\n",
      "auc                  0.764627\n",
      "dtype: float64\n",
      "tn: 23, fp:28, fn:48, tp:94\n",
      "[[23 28]\n",
      " [48 94]]\n",
      "--- Test score\n",
      "balanced_accuracy      0.556476\n",
      "recall_0               0.450980\n",
      "precision_0            0.323944\n",
      "recall_1               0.661972\n",
      "precision_1            0.770492\n",
      "auc                    0.563311\n",
      "False_positive_rate    0.549020\n",
      "False_negative_rate    0.338028\n",
      "dtype: float64\n",
      "------------ Dimention 26\n",
      "---- Do parameter tuning\n",
      "Scoring parameter balanced_accuracy\n",
      "Fitting 5 folds for each of 25 candidates, totalling 125 fits\n"
     ]
    },
    {
     "name": "stderr",
     "output_type": "stream",
     "text": [
      "[Parallel(n_jobs=12)]: Using backend LokyBackend with 12 concurrent workers.\n",
      "[Parallel(n_jobs=12)]: Done   8 tasks      | elapsed:    0.5s\n",
      "[Parallel(n_jobs=12)]: Done 125 out of 125 | elapsed:    2.8s finished\n"
     ]
    },
    {
     "name": "stdout",
     "output_type": "stream",
     "text": [
      "\n",
      " Time taken: 0 hours 0 minutes and 3.61 seconds.\n",
      "Best Score: 69.291%\n",
      "{'learning_rate': 0.02, 'max_delta_step': 5, 'n_estimators': 700, 'max_depth': 4, 'scale_pos_weight': 0.36, 'subsample': 0.8, 'min_child_weight': 4, 'colsample_bytree': 0.8, 'gamma': 1}\n"
     ]
    },
    {
     "name": "stderr",
     "output_type": "stream",
     "text": [
      "[Parallel(n_jobs=-1)]: Using backend LokyBackend with 16 concurrent workers.\n",
      "[Parallel(n_jobs=-1)]: Done   5 out of   5 | elapsed:    0.7s finished\n"
     ]
    },
    {
     "name": "stdout",
     "output_type": "stream",
     "text": [
      "--- Validation score\n",
      "balanced_accuracy    0.692908\n",
      "recall_0             0.575000\n",
      "precision_0          0.519956\n",
      "recall_1             0.810816\n",
      "precision_1          0.840823\n",
      "auc                  0.758712\n",
      "dtype: float64\n",
      "tn: 22, fp:29, fn:44, tp:98\n",
      "[[22 29]\n",
      " [44 98]]\n",
      "--- Test score\n",
      "balanced_accuracy      0.560757\n",
      "recall_0               0.431373\n",
      "precision_0            0.333333\n",
      "recall_1               0.690141\n",
      "precision_1            0.771654\n",
      "auc                    0.533830\n",
      "False_positive_rate    0.568627\n",
      "False_negative_rate    0.309859\n",
      "dtype: float64\n",
      "------------ Dimention 27\n",
      "---- Do parameter tuning\n",
      "Scoring parameter balanced_accuracy\n",
      "Fitting 5 folds for each of 25 candidates, totalling 125 fits\n"
     ]
    },
    {
     "name": "stderr",
     "output_type": "stream",
     "text": [
      "[Parallel(n_jobs=12)]: Using backend LokyBackend with 12 concurrent workers.\n",
      "[Parallel(n_jobs=12)]: Done   8 tasks      | elapsed:    0.5s\n",
      "[Parallel(n_jobs=12)]: Done 125 out of 125 | elapsed:    2.9s finished\n"
     ]
    },
    {
     "name": "stdout",
     "output_type": "stream",
     "text": [
      "\n",
      " Time taken: 0 hours 0 minutes and 3.62 seconds.\n",
      "Best Score: 70.346%\n",
      "{'learning_rate': 0.03, 'max_delta_step': 2, 'n_estimators': 600, 'max_depth': 5, 'scale_pos_weight': 1, 'subsample': 1.0, 'min_child_weight': 4, 'colsample_bytree': 0.8, 'gamma': 1}\n"
     ]
    },
    {
     "name": "stderr",
     "output_type": "stream",
     "text": [
      "[Parallel(n_jobs=-1)]: Using backend LokyBackend with 16 concurrent workers.\n",
      "[Parallel(n_jobs=-1)]: Done   5 out of   5 | elapsed:    0.7s finished\n"
     ]
    },
    {
     "name": "stdout",
     "output_type": "stream",
     "text": [
      "--- Validation score\n",
      "balanced_accuracy    0.703462\n",
      "recall_0             0.483333\n",
      "precision_0          0.688777\n",
      "recall_1             0.923590\n",
      "precision_1          0.830670\n",
      "auc                  0.762459\n",
      "dtype: float64\n",
      "tn: 11, fp:40, fn:21, tp:121\n",
      "[[ 11  40]\n",
      " [ 21 121]]\n",
      "--- Test score\n",
      "balanced_accuracy      0.533899\n",
      "recall_0               0.215686\n",
      "precision_0            0.343750\n",
      "recall_1               0.852113\n",
      "precision_1            0.751553\n",
      "auc                    0.499448\n",
      "False_positive_rate    0.784314\n",
      "False_negative_rate    0.147887\n",
      "dtype: float64\n",
      "------------ Dimention 28\n",
      "---- Do parameter tuning\n",
      "Scoring parameter balanced_accuracy\n",
      "Fitting 5 folds for each of 25 candidates, totalling 125 fits\n"
     ]
    },
    {
     "name": "stderr",
     "output_type": "stream",
     "text": [
      "[Parallel(n_jobs=12)]: Using backend LokyBackend with 12 concurrent workers.\n",
      "[Parallel(n_jobs=12)]: Done   8 tasks      | elapsed:    0.5s\n"
     ]
    },
    {
     "name": "stdout",
     "output_type": "stream",
     "text": [
      "\n",
      " Time taken: 0 hours 0 minutes and 3.51 seconds.\n",
      "Best Score: 70.413%\n",
      "{'learning_rate': 0.07, 'max_delta_step': 2, 'n_estimators': 300, 'max_depth': 3, 'scale_pos_weight': 0.2, 'subsample': 0.6, 'min_child_weight': 1, 'colsample_bytree': 0.8, 'gamma': 0.5}\n"
     ]
    },
    {
     "name": "stderr",
     "output_type": "stream",
     "text": [
      "[Parallel(n_jobs=12)]: Done 125 out of 125 | elapsed:    2.9s finished\n",
      "[Parallel(n_jobs=-1)]: Using backend LokyBackend with 16 concurrent workers.\n",
      "[Parallel(n_jobs=-1)]: Done   5 out of   5 | elapsed:    0.6s finished\n"
     ]
    },
    {
     "name": "stdout",
     "output_type": "stream",
     "text": [
      "--- Validation score\n",
      "balanced_accuracy    0.704132\n",
      "recall_0             0.625000\n",
      "precision_0          0.510787\n",
      "recall_1             0.783263\n",
      "precision_1          0.851748\n",
      "auc                  0.758654\n",
      "dtype: float64\n",
      "tn: 21, fp:30, fn:49, tp:93\n",
      "[[21 30]\n",
      " [49 93]]\n",
      "--- Test score\n",
      "balanced_accuracy      0.533347\n",
      "recall_0               0.411765\n",
      "precision_0            0.300000\n",
      "recall_1               0.654930\n",
      "precision_1            0.756098\n",
      "auc                    0.548191\n",
      "False_positive_rate    0.588235\n",
      "False_negative_rate    0.345070\n",
      "dtype: float64\n",
      "------------ Dimention 29\n",
      "---- Do parameter tuning\n",
      "Scoring parameter balanced_accuracy\n",
      "Fitting 5 folds for each of 25 candidates, totalling 125 fits\n"
     ]
    },
    {
     "name": "stderr",
     "output_type": "stream",
     "text": [
      "[Parallel(n_jobs=12)]: Using backend LokyBackend with 12 concurrent workers.\n",
      "[Parallel(n_jobs=12)]: Done   8 tasks      | elapsed:    0.5s\n",
      "[Parallel(n_jobs=12)]: Done 125 out of 125 | elapsed:    3.0s finished\n"
     ]
    },
    {
     "name": "stdout",
     "output_type": "stream",
     "text": [
      "\n",
      " Time taken: 0 hours 0 minutes and 3.7 seconds.\n",
      "Best Score: 69.758%\n",
      "{'learning_rate': 0.05, 'max_delta_step': 5, 'n_estimators': 700, 'max_depth': 3, 'scale_pos_weight': 0.2, 'subsample': 1.0, 'min_child_weight': 2, 'colsample_bytree': 0.8, 'gamma': 2}\n"
     ]
    },
    {
     "name": "stderr",
     "output_type": "stream",
     "text": [
      "[Parallel(n_jobs=-1)]: Using backend LokyBackend with 16 concurrent workers.\n",
      "[Parallel(n_jobs=-1)]: Done   5 out of   5 | elapsed:    0.7s finished\n"
     ]
    },
    {
     "name": "stdout",
     "output_type": "stream",
     "text": [
      "--- Validation score\n",
      "balanced_accuracy    0.697582\n",
      "recall_0             0.791667\n",
      "precision_0          0.423963\n",
      "recall_1             0.603497\n",
      "precision_1          0.890879\n",
      "auc                  0.759154\n",
      "dtype: float64\n",
      "tn: 28, fp:23, fn:74, tp:68\n",
      "[[28 23]\n",
      " [74 68]]\n",
      "--- Test score\n",
      "balanced_accuracy      0.513946\n",
      "recall_0               0.549020\n",
      "precision_0            0.274510\n",
      "recall_1               0.478873\n",
      "precision_1            0.747253\n",
      "auc                    0.528998\n",
      "False_positive_rate    0.450980\n",
      "False_negative_rate    0.521127\n",
      "dtype: float64\n",
      "------------ Dimention 30\n",
      "---- Do parameter tuning\n",
      "Scoring parameter balanced_accuracy\n",
      "Fitting 5 folds for each of 25 candidates, totalling 125 fits\n"
     ]
    },
    {
     "name": "stderr",
     "output_type": "stream",
     "text": [
      "[Parallel(n_jobs=12)]: Using backend LokyBackend with 12 concurrent workers.\n",
      "[Parallel(n_jobs=12)]: Done   8 tasks      | elapsed:    0.6s\n",
      "[Parallel(n_jobs=12)]: Done 125 out of 125 | elapsed:    3.2s finished\n"
     ]
    },
    {
     "name": "stdout",
     "output_type": "stream",
     "text": [
      "\n",
      " Time taken: 0 hours 0 minutes and 3.87 seconds.\n",
      "Best Score: 71.273%\n",
      "{'learning_rate': 0.02, 'max_delta_step': 2, 'n_estimators': 300, 'max_depth': 6, 'scale_pos_weight': 0.36, 'subsample': 0.8, 'min_child_weight': 2, 'colsample_bytree': 0.8, 'gamma': 5}\n"
     ]
    },
    {
     "name": "stderr",
     "output_type": "stream",
     "text": [
      "[Parallel(n_jobs=-1)]: Using backend LokyBackend with 16 concurrent workers.\n",
      "[Parallel(n_jobs=-1)]: Done   5 out of   5 | elapsed:    0.6s finished\n"
     ]
    },
    {
     "name": "stdout",
     "output_type": "stream",
     "text": [
      "--- Validation score\n",
      "balanced_accuracy    0.712727\n",
      "recall_0             0.700000\n",
      "precision_0          0.479692\n",
      "recall_1             0.725455\n",
      "precision_1          0.870175\n",
      "auc                  0.765453\n",
      "dtype: float64\n",
      "tn: 20, fp:31, fn:47, tp:95\n",
      "[[20 31]\n",
      " [47 95]]\n",
      "--- Test score\n",
      "balanced_accuracy      0.530585\n",
      "recall_0               0.392157\n",
      "precision_0            0.298507\n",
      "recall_1               0.669014\n",
      "precision_1            0.753968\n",
      "auc                    0.547501\n",
      "False_positive_rate    0.607843\n",
      "False_negative_rate    0.330986\n",
      "dtype: float64\n",
      "------------ Dimention 31\n",
      "---- Do parameter tuning\n",
      "Scoring parameter balanced_accuracy\n",
      "Fitting 5 folds for each of 25 candidates, totalling 125 fits\n"
     ]
    },
    {
     "name": "stderr",
     "output_type": "stream",
     "text": [
      "[Parallel(n_jobs=12)]: Using backend LokyBackend with 12 concurrent workers.\n",
      "[Parallel(n_jobs=12)]: Done   8 tasks      | elapsed:    0.5s\n",
      "[Parallel(n_jobs=12)]: Done 125 out of 125 | elapsed:    3.2s finished\n"
     ]
    },
    {
     "name": "stdout",
     "output_type": "stream",
     "text": [
      "\n",
      " Time taken: 0 hours 0 minutes and 3.88 seconds.\n",
      "Best Score: 70.752%\n",
      "{'learning_rate': 0.02, 'max_delta_step': 2, 'n_estimators': 300, 'max_depth': 6, 'scale_pos_weight': 0.36, 'subsample': 0.8, 'min_child_weight': 2, 'colsample_bytree': 0.8, 'gamma': 5}\n"
     ]
    },
    {
     "name": "stderr",
     "output_type": "stream",
     "text": [
      "[Parallel(n_jobs=-1)]: Using backend LokyBackend with 16 concurrent workers.\n",
      "[Parallel(n_jobs=-1)]: Done   5 out of   5 | elapsed:    0.7s finished\n"
     ]
    },
    {
     "name": "stdout",
     "output_type": "stream",
     "text": [
      "--- Validation score\n",
      "balanced_accuracy    0.707517\n",
      "recall_0             0.683333\n",
      "precision_0          0.476957\n",
      "recall_1             0.731702\n",
      "precision_1          0.866451\n",
      "auc                  0.765493\n",
      "dtype: float64\n",
      "tn: 22, fp:29, fn:50, tp:92\n",
      "[[22 29]\n",
      " [50 92]]\n",
      "--- Test score\n",
      "balanced_accuracy      0.539630\n",
      "recall_0               0.431373\n",
      "precision_0            0.305556\n",
      "recall_1               0.647887\n",
      "precision_1            0.760331\n",
      "auc                    0.543496\n",
      "False_positive_rate    0.568627\n",
      "False_negative_rate    0.352113\n",
      "dtype: float64\n",
      "------------ Dimention 32\n",
      "---- Do parameter tuning\n",
      "Scoring parameter balanced_accuracy\n",
      "Fitting 5 folds for each of 25 candidates, totalling 125 fits\n"
     ]
    },
    {
     "name": "stderr",
     "output_type": "stream",
     "text": [
      "[Parallel(n_jobs=12)]: Using backend LokyBackend with 12 concurrent workers.\n",
      "[Parallel(n_jobs=12)]: Done   8 tasks      | elapsed:    0.6s\n"
     ]
    },
    {
     "name": "stdout",
     "output_type": "stream",
     "text": [
      "\n",
      " Time taken: 0 hours 0 minutes and 3.82 seconds.\n",
      "Best Score: 69.578%\n",
      "{'learning_rate': 0.07, 'max_delta_step': 2, 'n_estimators': 300, 'max_depth': 3, 'scale_pos_weight': 0.2, 'subsample': 0.6, 'min_child_weight': 1, 'colsample_bytree': 0.8, 'gamma': 0.5}\n"
     ]
    },
    {
     "name": "stderr",
     "output_type": "stream",
     "text": [
      "[Parallel(n_jobs=12)]: Done 125 out of 125 | elapsed:    3.3s finished\n",
      "[Parallel(n_jobs=-1)]: Using backend LokyBackend with 16 concurrent workers.\n",
      "[Parallel(n_jobs=-1)]: Done   5 out of   5 | elapsed:    0.2s finished\n"
     ]
    },
    {
     "name": "stdout",
     "output_type": "stream",
     "text": [
      "--- Validation score\n",
      "balanced_accuracy    0.695775\n",
      "recall_0             0.608333\n",
      "precision_0          0.503914\n",
      "recall_1             0.783217\n",
      "precision_1          0.847274\n",
      "auc                  0.744986\n",
      "dtype: float64\n",
      "tn: 20, fp:31, fn:45, tp:97\n",
      "[[20 31]\n",
      " [45 97]]\n",
      "--- Test score\n",
      "balanced_accuracy      0.537628\n",
      "recall_0               0.392157\n",
      "precision_0            0.307692\n",
      "recall_1               0.683099\n",
      "precision_1            0.757812\n",
      "auc                    0.527202\n",
      "False_positive_rate    0.607843\n",
      "False_negative_rate    0.316901\n",
      "dtype: float64\n",
      "------------ Dimention 33\n",
      "---- Do parameter tuning\n",
      "Scoring parameter balanced_accuracy\n",
      "Fitting 5 folds for each of 25 candidates, totalling 125 fits\n"
     ]
    },
    {
     "name": "stderr",
     "output_type": "stream",
     "text": [
      "[Parallel(n_jobs=12)]: Using backend LokyBackend with 12 concurrent workers.\n",
      "[Parallel(n_jobs=12)]: Done   8 tasks      | elapsed:    0.5s\n",
      "[Parallel(n_jobs=12)]: Done 125 out of 125 | elapsed:    3.3s finished\n"
     ]
    },
    {
     "name": "stdout",
     "output_type": "stream",
     "text": [
      "\n",
      " Time taken: 0 hours 0 minutes and 4.05 seconds.\n",
      "Best Score: 70.647%\n",
      "{'learning_rate': 0.02, 'max_delta_step': 5, 'n_estimators': 700, 'max_depth': 4, 'scale_pos_weight': 0.36, 'subsample': 0.8, 'min_child_weight': 4, 'colsample_bytree': 0.8, 'gamma': 1}\n"
     ]
    },
    {
     "name": "stderr",
     "output_type": "stream",
     "text": [
      "[Parallel(n_jobs=-1)]: Using backend LokyBackend with 16 concurrent workers.\n",
      "[Parallel(n_jobs=-1)]: Done   5 out of   5 | elapsed:    0.8s finished\n"
     ]
    },
    {
     "name": "stdout",
     "output_type": "stream",
     "text": [
      "--- Validation score\n",
      "balanced_accuracy    0.706474\n",
      "recall_0             0.608333\n",
      "precision_0          0.529517\n",
      "recall_1             0.804615\n",
      "precision_1          0.849949\n",
      "auc                  0.756402\n",
      "dtype: float64\n",
      "tn: 23, fp:28, fn:35, tp:107\n",
      "[[ 23  28]\n",
      " [ 35 107]]\n",
      "--- Test score\n",
      "balanced_accuracy      0.602251\n",
      "recall_0               0.450980\n",
      "precision_0            0.396552\n",
      "recall_1               0.753521\n",
      "precision_1            0.792593\n",
      "auc                    0.543772\n",
      "False_positive_rate    0.549020\n",
      "False_negative_rate    0.246479\n",
      "dtype: float64\n",
      "------------ Dimention 34\n",
      "---- Do parameter tuning\n",
      "Scoring parameter balanced_accuracy\n",
      "Fitting 5 folds for each of 25 candidates, totalling 125 fits\n"
     ]
    },
    {
     "name": "stderr",
     "output_type": "stream",
     "text": [
      "[Parallel(n_jobs=12)]: Using backend LokyBackend with 12 concurrent workers.\n",
      "[Parallel(n_jobs=12)]: Done   8 tasks      | elapsed:    0.5s\n",
      "[Parallel(n_jobs=12)]: Done 125 out of 125 | elapsed:    3.4s finished\n"
     ]
    },
    {
     "name": "stdout",
     "output_type": "stream",
     "text": [
      "\n",
      " Time taken: 0 hours 0 minutes and 4.15 seconds.\n",
      "Best Score: 71.048%\n",
      "{'learning_rate': 0.01, 'max_delta_step': 5, 'n_estimators': 400, 'max_depth': 6, 'scale_pos_weight': 0.36, 'subsample': 0.6, 'min_child_weight': 3, 'colsample_bytree': 1.0, 'gamma': 1.5}\n"
     ]
    },
    {
     "name": "stderr",
     "output_type": "stream",
     "text": [
      "[Parallel(n_jobs=-1)]: Using backend LokyBackend with 16 concurrent workers.\n",
      "[Parallel(n_jobs=-1)]: Done   5 out of   5 | elapsed:    0.7s finished\n"
     ]
    },
    {
     "name": "stdout",
     "output_type": "stream",
     "text": [
      "--- Validation score\n",
      "balanced_accuracy    0.710478\n",
      "recall_0             0.650000\n",
      "precision_0          0.522363\n",
      "recall_1             0.770956\n",
      "precision_1          0.856709\n",
      "auc                  0.772498\n",
      "dtype: float64\n",
      "tn: 23, fp:28, fn:37, tp:105\n",
      "[[ 23  28]\n",
      " [ 37 105]]\n",
      "--- Test score\n",
      "balanced_accuracy      0.595209\n",
      "recall_0               0.450980\n",
      "precision_0            0.383333\n",
      "recall_1               0.739437\n",
      "precision_1            0.789474\n",
      "auc                    0.548743\n",
      "False_positive_rate    0.549020\n",
      "False_negative_rate    0.260563\n",
      "dtype: float64\n",
      "------------ Dimention 35\n",
      "---- Do parameter tuning\n",
      "Scoring parameter balanced_accuracy\n",
      "Fitting 5 folds for each of 25 candidates, totalling 125 fits\n"
     ]
    },
    {
     "name": "stderr",
     "output_type": "stream",
     "text": [
      "[Parallel(n_jobs=12)]: Using backend LokyBackend with 12 concurrent workers.\n",
      "[Parallel(n_jobs=12)]: Done   8 tasks      | elapsed:    0.6s\n",
      "[Parallel(n_jobs=12)]: Done 125 out of 125 | elapsed:    3.4s finished\n"
     ]
    },
    {
     "name": "stdout",
     "output_type": "stream",
     "text": [
      "\n",
      " Time taken: 0 hours 0 minutes and 4.23 seconds.\n",
      "Best Score: 69.492%\n",
      "{'learning_rate': 0.01, 'max_delta_step': 5, 'n_estimators': 400, 'max_depth': 6, 'scale_pos_weight': 0.36, 'subsample': 0.6, 'min_child_weight': 3, 'colsample_bytree': 1.0, 'gamma': 1.5}\n"
     ]
    },
    {
     "name": "stderr",
     "output_type": "stream",
     "text": [
      "[Parallel(n_jobs=-1)]: Using backend LokyBackend with 16 concurrent workers.\n",
      "[Parallel(n_jobs=-1)]: Done   5 out of   5 | elapsed:    0.7s finished\n"
     ]
    },
    {
     "name": "stdout",
     "output_type": "stream",
     "text": [
      "--- Validation score\n",
      "balanced_accuracy    0.694924\n",
      "recall_0             0.625000\n",
      "precision_0          0.504306\n",
      "recall_1             0.764848\n",
      "precision_1          0.846652\n",
      "auc                  0.766360\n",
      "dtype: float64\n",
      "tn: 23, fp:28, fn:37, tp:105\n",
      "[[ 23  28]\n",
      " [ 37 105]]\n",
      "--- Test score\n",
      "balanced_accuracy      0.595209\n",
      "recall_0               0.450980\n",
      "precision_0            0.383333\n",
      "recall_1               0.739437\n",
      "precision_1            0.789474\n",
      "auc                    0.561309\n",
      "False_positive_rate    0.549020\n",
      "False_negative_rate    0.260563\n",
      "dtype: float64\n",
      "------------ Dimention 36\n",
      "---- Do parameter tuning\n",
      "Scoring parameter balanced_accuracy\n",
      "Fitting 5 folds for each of 25 candidates, totalling 125 fits\n"
     ]
    },
    {
     "name": "stderr",
     "output_type": "stream",
     "text": [
      "[Parallel(n_jobs=12)]: Using backend LokyBackend with 12 concurrent workers.\n",
      "[Parallel(n_jobs=12)]: Done   8 tasks      | elapsed:    0.6s\n",
      "[Parallel(n_jobs=12)]: Done 125 out of 125 | elapsed:    3.5s finished\n"
     ]
    },
    {
     "name": "stdout",
     "output_type": "stream",
     "text": [
      "\n",
      " Time taken: 0 hours 0 minutes and 4.21 seconds.\n",
      "Best Score: 70.257%\n",
      "{'learning_rate': 0.01, 'max_delta_step': 5, 'n_estimators': 400, 'max_depth': 6, 'scale_pos_weight': 0.36, 'subsample': 0.6, 'min_child_weight': 3, 'colsample_bytree': 1.0, 'gamma': 1.5}\n"
     ]
    },
    {
     "name": "stderr",
     "output_type": "stream",
     "text": [
      "[Parallel(n_jobs=-1)]: Using backend LokyBackend with 16 concurrent workers.\n",
      "[Parallel(n_jobs=-1)]: Done   5 out of   5 | elapsed:    0.7s finished\n"
     ]
    },
    {
     "name": "stdout",
     "output_type": "stream",
     "text": [
      "--- Validation score\n",
      "balanced_accuracy    0.702570\n",
      "recall_0             0.625000\n",
      "precision_0          0.515484\n",
      "recall_1             0.780140\n",
      "precision_1          0.850252\n",
      "auc                  0.771840\n",
      "dtype: float64\n",
      "tn: 23, fp:28, fn:36, tp:106\n",
      "[[ 23  28]\n",
      " [ 36 106]]\n",
      "--- Test score\n",
      "balanced_accuracy      0.598730\n",
      "recall_0               0.450980\n",
      "precision_0            0.389831\n",
      "recall_1               0.746479\n",
      "precision_1            0.791045\n",
      "auc                    0.539216\n",
      "False_positive_rate    0.549020\n",
      "False_negative_rate    0.253521\n",
      "dtype: float64\n",
      "------------ Dimention 37\n",
      "---- Do parameter tuning\n",
      "Scoring parameter balanced_accuracy\n",
      "Fitting 5 folds for each of 25 candidates, totalling 125 fits\n"
     ]
    },
    {
     "name": "stderr",
     "output_type": "stream",
     "text": [
      "[Parallel(n_jobs=12)]: Using backend LokyBackend with 12 concurrent workers.\n",
      "[Parallel(n_jobs=12)]: Done   8 tasks      | elapsed:    0.6s\n",
      "[Parallel(n_jobs=12)]: Done 125 out of 125 | elapsed:    3.5s finished\n"
     ]
    },
    {
     "name": "stdout",
     "output_type": "stream",
     "text": [
      "\n",
      " Time taken: 0 hours 0 minutes and 4.33 seconds.\n",
      "Best Score: 71.024%\n",
      "{'learning_rate': 0.01, 'max_delta_step': 5, 'n_estimators': 400, 'max_depth': 6, 'scale_pos_weight': 0.36, 'subsample': 0.6, 'min_child_weight': 3, 'colsample_bytree': 1.0, 'gamma': 1.5}\n"
     ]
    },
    {
     "name": "stderr",
     "output_type": "stream",
     "text": [
      "[Parallel(n_jobs=-1)]: Using backend LokyBackend with 16 concurrent workers.\n",
      "[Parallel(n_jobs=-1)]: Done   5 out of   5 | elapsed:    0.4s finished\n"
     ]
    },
    {
     "name": "stdout",
     "output_type": "stream",
     "text": [
      "--- Validation score\n",
      "balanced_accuracy    0.710239\n",
      "recall_0             0.625000\n",
      "precision_0          0.530003\n",
      "recall_1             0.795478\n",
      "precision_1          0.853573\n",
      "auc                  0.771496\n",
      "dtype: float64\n",
      "tn: 21, fp:30, fn:35, tp:107\n",
      "[[ 21  30]\n",
      " [ 35 107]]\n",
      "--- Test score\n",
      "balanced_accuracy      0.582643\n",
      "recall_0               0.411765\n",
      "precision_0            0.375000\n",
      "recall_1               0.753521\n",
      "precision_1            0.781022\n",
      "auc                    0.545568\n",
      "False_positive_rate    0.588235\n",
      "False_negative_rate    0.246479\n",
      "dtype: float64\n",
      "------------ Dimention 38\n",
      "---- Do parameter tuning\n",
      "Scoring parameter balanced_accuracy\n",
      "Fitting 5 folds for each of 25 candidates, totalling 125 fits\n"
     ]
    },
    {
     "name": "stderr",
     "output_type": "stream",
     "text": [
      "[Parallel(n_jobs=12)]: Using backend LokyBackend with 12 concurrent workers.\n",
      "[Parallel(n_jobs=12)]: Done   8 tasks      | elapsed:    0.6s\n",
      "[Parallel(n_jobs=12)]: Done 125 out of 125 | elapsed:    3.7s finished\n"
     ]
    },
    {
     "name": "stdout",
     "output_type": "stream",
     "text": [
      "\n",
      " Time taken: 0 hours 0 minutes and 4.3 seconds.\n",
      "Best Score: 70.032%\n",
      "{'learning_rate': 0.01, 'max_delta_step': 5, 'n_estimators': 400, 'max_depth': 3, 'scale_pos_weight': 0.36, 'subsample': 1.0, 'min_child_weight': 1, 'colsample_bytree': 0.6, 'gamma': 1.5}\n"
     ]
    },
    {
     "name": "stderr",
     "output_type": "stream",
     "text": [
      "[Parallel(n_jobs=-1)]: Using backend LokyBackend with 16 concurrent workers.\n",
      "[Parallel(n_jobs=-1)]: Done   5 out of   5 | elapsed:    0.7s finished\n"
     ]
    },
    {
     "name": "stdout",
     "output_type": "stream",
     "text": [
      "--- Validation score\n",
      "balanced_accuracy    0.700321\n",
      "recall_0             0.608333\n",
      "precision_0          0.524856\n",
      "recall_1             0.792308\n",
      "precision_1          0.847841\n",
      "auc                  0.759384\n",
      "dtype: float64\n",
      "tn: 20, fp:31, fn:44, tp:98\n",
      "[[20 31]\n",
      " [44 98]]\n",
      "--- Test score\n",
      "balanced_accuracy      0.541149\n",
      "recall_0               0.392157\n",
      "precision_0            0.312500\n",
      "recall_1               0.690141\n",
      "precision_1            0.759690\n",
      "auc                    0.554819\n",
      "False_positive_rate    0.607843\n",
      "False_negative_rate    0.309859\n",
      "dtype: float64\n",
      "------------ Dimention 39\n",
      "---- Do parameter tuning\n",
      "Scoring parameter balanced_accuracy\n",
      "Fitting 5 folds for each of 25 candidates, totalling 125 fits\n"
     ]
    },
    {
     "name": "stderr",
     "output_type": "stream",
     "text": [
      "[Parallel(n_jobs=12)]: Using backend LokyBackend with 12 concurrent workers.\n",
      "[Parallel(n_jobs=12)]: Done   8 tasks      | elapsed:    0.6s\n",
      "[Parallel(n_jobs=12)]: Done 125 out of 125 | elapsed:    3.8s finished\n"
     ]
    },
    {
     "name": "stdout",
     "output_type": "stream",
     "text": [
      "\n",
      " Time taken: 0 hours 0 minutes and 4.53 seconds.\n",
      "Best Score: 70.302%\n",
      "{'learning_rate': 0.01, 'max_delta_step': 5, 'n_estimators': 400, 'max_depth': 6, 'scale_pos_weight': 0.36, 'subsample': 0.6, 'min_child_weight': 3, 'colsample_bytree': 1.0, 'gamma': 1.5}\n"
     ]
    },
    {
     "name": "stderr",
     "output_type": "stream",
     "text": [
      "[Parallel(n_jobs=-1)]: Using backend LokyBackend with 16 concurrent workers.\n",
      "[Parallel(n_jobs=-1)]: Done   5 out of   5 | elapsed:    0.7s finished\n"
     ]
    },
    {
     "name": "stdout",
     "output_type": "stream",
     "text": [
      "--- Validation score\n",
      "balanced_accuracy    0.703019\n",
      "recall_0             0.616667\n",
      "precision_0          0.518450\n",
      "recall_1             0.789371\n",
      "precision_1          0.849217\n",
      "auc                  0.769126\n",
      "dtype: float64\n",
      "tn: 23, fp:28, fn:36, tp:106\n",
      "[[ 23  28]\n",
      " [ 36 106]]\n",
      "--- Test score\n",
      "balanced_accuracy      0.598730\n",
      "recall_0               0.450980\n",
      "precision_0            0.389831\n",
      "recall_1               0.746479\n",
      "precision_1            0.791045\n",
      "auc                    0.551643\n",
      "False_positive_rate    0.549020\n",
      "False_negative_rate    0.253521\n",
      "dtype: float64\n",
      "------------ Dimention 40\n",
      "---- Do parameter tuning\n",
      "Scoring parameter balanced_accuracy\n",
      "Fitting 5 folds for each of 25 candidates, totalling 125 fits\n"
     ]
    },
    {
     "name": "stderr",
     "output_type": "stream",
     "text": [
      "[Parallel(n_jobs=12)]: Using backend LokyBackend with 12 concurrent workers.\n",
      "[Parallel(n_jobs=12)]: Done   8 tasks      | elapsed:    0.7s\n",
      "[Parallel(n_jobs=12)]: Done 125 out of 125 | elapsed:    3.9s finished\n"
     ]
    },
    {
     "name": "stdout",
     "output_type": "stream",
     "text": [
      "\n",
      " Time taken: 0 hours 0 minutes and 4.63 seconds.\n",
      "Best Score: 69.847%\n",
      "{'learning_rate': 0.01, 'max_delta_step': 5, 'n_estimators': 400, 'max_depth': 6, 'scale_pos_weight': 0.36, 'subsample': 0.6, 'min_child_weight': 3, 'colsample_bytree': 1.0, 'gamma': 1.5}\n"
     ]
    },
    {
     "name": "stderr",
     "output_type": "stream",
     "text": [
      "[Parallel(n_jobs=-1)]: Using backend LokyBackend with 16 concurrent workers.\n",
      "[Parallel(n_jobs=-1)]: Done   5 out of   5 | elapsed:    0.7s finished\n"
     ]
    },
    {
     "name": "stdout",
     "output_type": "stream",
     "text": [
      "--- Validation score\n",
      "balanced_accuracy    0.698473\n",
      "recall_0             0.616667\n",
      "precision_0          0.507372\n",
      "recall_1             0.780280\n",
      "precision_1          0.848762\n",
      "auc                  0.766911\n",
      "dtype: float64\n",
      "tn: 23, fp:28, fn:36, tp:106\n",
      "[[ 23  28]\n",
      " [ 36 106]]\n",
      "--- Test score\n",
      "balanced_accuracy      0.598730\n",
      "recall_0               0.450980\n",
      "precision_0            0.389831\n",
      "recall_1               0.746479\n",
      "precision_1            0.791045\n",
      "auc                    0.558962\n",
      "False_positive_rate    0.549020\n",
      "False_negative_rate    0.253521\n",
      "dtype: float64\n",
      "------------ Dimention 41\n",
      "---- Do parameter tuning\n",
      "Scoring parameter balanced_accuracy\n",
      "Fitting 5 folds for each of 25 candidates, totalling 125 fits\n"
     ]
    },
    {
     "name": "stderr",
     "output_type": "stream",
     "text": [
      "[Parallel(n_jobs=12)]: Using backend LokyBackend with 12 concurrent workers.\n",
      "[Parallel(n_jobs=12)]: Done   8 tasks      | elapsed:    0.6s\n",
      "[Parallel(n_jobs=12)]: Done 125 out of 125 | elapsed:    3.8s finished\n"
     ]
    },
    {
     "name": "stdout",
     "output_type": "stream",
     "text": [
      "\n",
      " Time taken: 0 hours 0 minutes and 4.59 seconds.\n",
      "Best Score: 70.411%\n",
      "{'learning_rate': 0.01, 'max_delta_step': 5, 'n_estimators': 400, 'max_depth': 6, 'scale_pos_weight': 0.36, 'subsample': 0.6, 'min_child_weight': 3, 'colsample_bytree': 1.0, 'gamma': 1.5}\n"
     ]
    },
    {
     "name": "stderr",
     "output_type": "stream",
     "text": [
      "[Parallel(n_jobs=-1)]: Using backend LokyBackend with 16 concurrent workers.\n",
      "[Parallel(n_jobs=-1)]: Done   5 out of   5 | elapsed:    0.8s finished\n"
     ]
    },
    {
     "name": "stdout",
     "output_type": "stream",
     "text": [
      "--- Validation score\n",
      "balanced_accuracy    0.704108\n",
      "recall_0             0.625000\n",
      "precision_0          0.514734\n",
      "recall_1             0.783217\n",
      "precision_1          0.850910\n",
      "auc                  0.766909\n",
      "dtype: float64\n",
      "tn: 21, fp:30, fn:37, tp:105\n",
      "[[ 21  30]\n",
      " [ 37 105]]\n",
      "--- Test score\n",
      "balanced_accuracy      0.575601\n",
      "recall_0               0.411765\n",
      "precision_0            0.362069\n",
      "recall_1               0.739437\n",
      "precision_1            0.777778\n",
      "auc                    0.556614\n",
      "False_positive_rate    0.588235\n",
      "False_negative_rate    0.260563\n",
      "dtype: float64\n",
      "------------ Dimention 42\n",
      "---- Do parameter tuning\n",
      "Scoring parameter balanced_accuracy\n",
      "Fitting 5 folds for each of 25 candidates, totalling 125 fits\n"
     ]
    },
    {
     "name": "stderr",
     "output_type": "stream",
     "text": [
      "[Parallel(n_jobs=12)]: Using backend LokyBackend with 12 concurrent workers.\n",
      "[Parallel(n_jobs=12)]: Done   8 tasks      | elapsed:    0.6s\n",
      "[Parallel(n_jobs=12)]: Done 125 out of 125 | elapsed:    3.9s finished\n"
     ]
    },
    {
     "name": "stdout",
     "output_type": "stream",
     "text": [
      "\n",
      " Time taken: 0 hours 0 minutes and 4.77 seconds.\n",
      "Best Score: 70.456%\n",
      "{'learning_rate': 0.01, 'max_delta_step': 5, 'n_estimators': 400, 'max_depth': 6, 'scale_pos_weight': 0.36, 'subsample': 0.6, 'min_child_weight': 3, 'colsample_bytree': 1.0, 'gamma': 1.5}\n"
     ]
    },
    {
     "name": "stderr",
     "output_type": "stream",
     "text": [
      "[Parallel(n_jobs=-1)]: Using backend LokyBackend with 16 concurrent workers.\n",
      "[Parallel(n_jobs=-1)]: Done   5 out of   5 | elapsed:    0.7s finished\n"
     ]
    },
    {
     "name": "stdout",
     "output_type": "stream",
     "text": [
      "--- Validation score\n",
      "balanced_accuracy    0.704557\n",
      "recall_0             0.616667\n",
      "precision_0          0.526632\n",
      "recall_1             0.792448\n",
      "precision_1          0.850302\n",
      "auc                  0.772277\n",
      "dtype: float64\n",
      "tn: 23, fp:28, fn:37, tp:105\n",
      "[[ 23  28]\n",
      " [ 37 105]]\n",
      "--- Test score\n",
      "balanced_accuracy      0.595209\n",
      "recall_0               0.450980\n",
      "precision_0            0.383333\n",
      "recall_1               0.739437\n",
      "precision_1            0.789474\n",
      "auc                    0.555233\n",
      "False_positive_rate    0.549020\n",
      "False_negative_rate    0.260563\n",
      "dtype: float64\n",
      "------------ Dimention 43\n",
      "---- Do parameter tuning\n",
      "Scoring parameter balanced_accuracy\n",
      "Fitting 5 folds for each of 25 candidates, totalling 125 fits\n"
     ]
    },
    {
     "name": "stderr",
     "output_type": "stream",
     "text": [
      "[Parallel(n_jobs=12)]: Using backend LokyBackend with 12 concurrent workers.\n",
      "[Parallel(n_jobs=12)]: Done   8 tasks      | elapsed:    0.6s\n"
     ]
    },
    {
     "name": "stdout",
     "output_type": "stream",
     "text": [
      "\n",
      " Time taken: 0 hours 0 minutes and 4.6 seconds.\n",
      "Best Score: 70.235%\n",
      "{'learning_rate': 0.07, 'max_delta_step': 3, 'n_estimators': 400, 'max_depth': 6, 'scale_pos_weight': 0.36, 'subsample': 0.6, 'min_child_weight': 4, 'colsample_bytree': 0.6, 'gamma': 1.5}\n"
     ]
    },
    {
     "name": "stderr",
     "output_type": "stream",
     "text": [
      "[Parallel(n_jobs=12)]: Done 125 out of 125 | elapsed:    4.0s finished\n",
      "[Parallel(n_jobs=-1)]: Using backend LokyBackend with 16 concurrent workers.\n",
      "[Parallel(n_jobs=-1)]: Done   5 out of   5 | elapsed:    0.6s finished\n"
     ]
    },
    {
     "name": "stdout",
     "output_type": "stream",
     "text": [
      "--- Validation score\n",
      "balanced_accuracy    0.702354\n",
      "recall_0             0.600000\n",
      "precision_0          0.534833\n",
      "recall_1             0.804709\n",
      "precision_1          0.846027\n",
      "auc                  0.744530\n",
      "dtype: float64\n",
      "tn: 25, fp:26, fn:43, tp:99\n",
      "[[25 26]\n",
      " [43 99]]\n",
      "--- Test score\n",
      "balanced_accuracy      0.593690\n",
      "recall_0               0.490196\n",
      "precision_0            0.367647\n",
      "recall_1               0.697183\n",
      "precision_1            0.792000\n",
      "auc                    0.578155\n",
      "False_positive_rate    0.509804\n",
      "False_negative_rate    0.302817\n",
      "dtype: float64\n",
      "------------ Dimention 44\n",
      "---- Do parameter tuning\n",
      "Scoring parameter balanced_accuracy\n",
      "Fitting 5 folds for each of 25 candidates, totalling 125 fits\n"
     ]
    },
    {
     "name": "stderr",
     "output_type": "stream",
     "text": [
      "[Parallel(n_jobs=12)]: Using backend LokyBackend with 12 concurrent workers.\n",
      "[Parallel(n_jobs=12)]: Done   8 tasks      | elapsed:    0.7s\n",
      "[Parallel(n_jobs=12)]: Done 125 out of 125 | elapsed:    4.1s finished\n"
     ]
    },
    {
     "name": "stdout",
     "output_type": "stream",
     "text": [
      "\n",
      " Time taken: 0 hours 0 minutes and 4.95 seconds.\n",
      "Best Score: 70.723%\n",
      "{'learning_rate': 0.01, 'max_delta_step': 5, 'n_estimators': 400, 'max_depth': 6, 'scale_pos_weight': 0.36, 'subsample': 0.6, 'min_child_weight': 3, 'colsample_bytree': 1.0, 'gamma': 1.5}\n"
     ]
    },
    {
     "name": "stderr",
     "output_type": "stream",
     "text": [
      "[Parallel(n_jobs=-1)]: Using backend LokyBackend with 16 concurrent workers.\n",
      "[Parallel(n_jobs=-1)]: Done   5 out of   5 | elapsed:    0.8s finished\n"
     ]
    },
    {
     "name": "stdout",
     "output_type": "stream",
     "text": [
      "--- Validation score\n",
      "balanced_accuracy    0.707232\n",
      "recall_0             0.625000\n",
      "precision_0          0.522886\n",
      "recall_1             0.789464\n",
      "precision_1          0.852368\n",
      "auc                  0.762094\n",
      "dtype: float64\n",
      "tn: 23, fp:28, fn:39, tp:103\n",
      "[[ 23  28]\n",
      " [ 39 103]]\n",
      "--- Test score\n",
      "balanced_accuracy      0.588166\n",
      "recall_0               0.450980\n",
      "precision_0            0.370968\n",
      "recall_1               0.725352\n",
      "precision_1            0.786260\n",
      "auc                    0.565728\n",
      "False_positive_rate    0.549020\n",
      "False_negative_rate    0.274648\n",
      "dtype: float64\n",
      "------------ Dimention 45\n",
      "---- Do parameter tuning\n",
      "Scoring parameter balanced_accuracy\n",
      "Fitting 5 folds for each of 25 candidates, totalling 125 fits\n"
     ]
    },
    {
     "name": "stderr",
     "output_type": "stream",
     "text": [
      "[Parallel(n_jobs=12)]: Using backend LokyBackend with 12 concurrent workers.\n",
      "[Parallel(n_jobs=12)]: Done   8 tasks      | elapsed:    0.8s\n",
      "[Parallel(n_jobs=12)]: Done 125 out of 125 | elapsed:    4.2s finished\n"
     ]
    },
    {
     "name": "stdout",
     "output_type": "stream",
     "text": [
      "\n",
      " Time taken: 0 hours 0 minutes and 4.99 seconds.\n",
      "Best Score: 69.999%\n",
      "{'learning_rate': 0.01, 'max_delta_step': 5, 'n_estimators': 400, 'max_depth': 6, 'scale_pos_weight': 0.36, 'subsample': 0.6, 'min_child_weight': 3, 'colsample_bytree': 1.0, 'gamma': 1.5}\n"
     ]
    },
    {
     "name": "stderr",
     "output_type": "stream",
     "text": [
      "[Parallel(n_jobs=-1)]: Using backend LokyBackend with 16 concurrent workers.\n",
      "[Parallel(n_jobs=-1)]: Done   5 out of   5 | elapsed:    0.8s finished\n"
     ]
    },
    {
     "name": "stdout",
     "output_type": "stream",
     "text": [
      "--- Validation score\n",
      "balanced_accuracy    0.699988\n",
      "recall_0             0.616667\n",
      "precision_0          0.510563\n",
      "recall_1             0.783310\n",
      "precision_1          0.848413\n",
      "auc                  0.769336\n",
      "dtype: float64\n",
      "tn: 22, fp:29, fn:39, tp:103\n",
      "[[ 22  29]\n",
      " [ 39 103]]\n",
      "--- Test score\n",
      "balanced_accuracy      0.578362\n",
      "recall_0               0.431373\n",
      "precision_0            0.360656\n",
      "recall_1               0.725352\n",
      "precision_1            0.780303\n",
      "auc                    0.568489\n",
      "False_positive_rate    0.568627\n",
      "False_negative_rate    0.274648\n",
      "dtype: float64\n",
      "------------ Dimention 46\n",
      "---- Do parameter tuning\n",
      "Scoring parameter balanced_accuracy\n",
      "Fitting 5 folds for each of 25 candidates, totalling 125 fits\n"
     ]
    },
    {
     "name": "stderr",
     "output_type": "stream",
     "text": [
      "[Parallel(n_jobs=12)]: Using backend LokyBackend with 12 concurrent workers.\n",
      "[Parallel(n_jobs=12)]: Done   8 tasks      | elapsed:    0.7s\n",
      "[Parallel(n_jobs=12)]: Done 125 out of 125 | elapsed:    4.1s finished\n"
     ]
    },
    {
     "name": "stdout",
     "output_type": "stream",
     "text": [
      "\n",
      " Time taken: 0 hours 0 minutes and 5.02 seconds.\n",
      "Best Score: 70.875%\n",
      "{'learning_rate': 0.01, 'max_delta_step': 5, 'n_estimators': 400, 'max_depth': 6, 'scale_pos_weight': 0.36, 'subsample': 0.6, 'min_child_weight': 3, 'colsample_bytree': 1.0, 'gamma': 1.5}\n"
     ]
    },
    {
     "name": "stderr",
     "output_type": "stream",
     "text": [
      "[Parallel(n_jobs=-1)]: Using backend LokyBackend with 16 concurrent workers.\n",
      "[Parallel(n_jobs=-1)]: Done   5 out of   5 | elapsed:    0.8s finished\n"
     ]
    },
    {
     "name": "stdout",
     "output_type": "stream",
     "text": [
      "--- Validation score\n",
      "balanced_accuracy    0.708747\n",
      "recall_0             0.625000\n",
      "precision_0          0.529070\n",
      "recall_1             0.792494\n",
      "precision_1          0.852300\n",
      "auc                  0.767092\n",
      "dtype: float64\n",
      "tn: 23, fp:28, fn:38, tp:104\n",
      "[[ 23  28]\n",
      " [ 38 104]]\n",
      "--- Test score\n",
      "balanced_accuracy      0.591687\n",
      "recall_0               0.450980\n",
      "precision_0            0.377049\n",
      "recall_1               0.732394\n",
      "precision_1            0.787879\n",
      "auc                    0.567109\n",
      "False_positive_rate    0.549020\n",
      "False_negative_rate    0.267606\n",
      "dtype: float64\n",
      "------------ Dimention 47\n",
      "---- Do parameter tuning\n",
      "Scoring parameter balanced_accuracy\n",
      "Fitting 5 folds for each of 25 candidates, totalling 125 fits\n"
     ]
    },
    {
     "name": "stderr",
     "output_type": "stream",
     "text": [
      "[Parallel(n_jobs=12)]: Using backend LokyBackend with 12 concurrent workers.\n",
      "[Parallel(n_jobs=12)]: Done   8 tasks      | elapsed:    0.7s\n",
      "[Parallel(n_jobs=12)]: Done 125 out of 125 | elapsed:    4.3s finished\n"
     ]
    },
    {
     "name": "stdout",
     "output_type": "stream",
     "text": [
      "\n",
      " Time taken: 0 hours 0 minutes and 5.15 seconds.\n",
      "Best Score: 70.013%\n",
      "{'learning_rate': 0.02, 'max_delta_step': 5, 'n_estimators': 700, 'max_depth': 4, 'scale_pos_weight': 0.36, 'subsample': 0.8, 'min_child_weight': 4, 'colsample_bytree': 0.8, 'gamma': 1}\n"
     ]
    },
    {
     "name": "stderr",
     "output_type": "stream",
     "text": [
      "[Parallel(n_jobs=-1)]: Using backend LokyBackend with 16 concurrent workers.\n",
      "[Parallel(n_jobs=-1)]: Done   5 out of   5 | elapsed:    0.8s finished\n"
     ]
    },
    {
     "name": "stdout",
     "output_type": "stream",
     "text": [
      "--- Validation score\n",
      "balanced_accuracy    0.700128\n",
      "recall_0             0.583333\n",
      "precision_0          0.543586\n",
      "recall_1             0.816923\n",
      "precision_1          0.842829\n",
      "auc                  0.746946\n",
      "dtype: float64\n",
      "tn: 20, fp:31, fn:40, tp:102\n",
      "[[ 20  31]\n",
      " [ 40 102]]\n",
      "--- Test score\n",
      "balanced_accuracy      0.555233\n",
      "recall_0               0.392157\n",
      "precision_0            0.333333\n",
      "recall_1               0.718310\n",
      "precision_1            0.766917\n",
      "auc                    0.571251\n",
      "False_positive_rate    0.607843\n",
      "False_negative_rate    0.281690\n",
      "dtype: float64\n",
      "------------ Dimention 48\n",
      "---- Do parameter tuning\n",
      "Scoring parameter balanced_accuracy\n",
      "Fitting 5 folds for each of 25 candidates, totalling 125 fits\n"
     ]
    },
    {
     "name": "stderr",
     "output_type": "stream",
     "text": [
      "[Parallel(n_jobs=12)]: Using backend LokyBackend with 12 concurrent workers.\n",
      "[Parallel(n_jobs=12)]: Done   8 tasks      | elapsed:    0.7s\n",
      "[Parallel(n_jobs=12)]: Done 125 out of 125 | elapsed:    4.4s finished\n"
     ]
    },
    {
     "name": "stdout",
     "output_type": "stream",
     "text": [
      "\n",
      " Time taken: 0 hours 0 minutes and 5.24 seconds.\n",
      "Best Score: 70.399%\n",
      "{'learning_rate': 0.02, 'max_delta_step': 4, 'n_estimators': 500, 'max_depth': 5, 'scale_pos_weight': 0.36, 'subsample': 0.6, 'min_child_weight': 4, 'colsample_bytree': 1.0, 'gamma': 5}\n"
     ]
    },
    {
     "name": "stderr",
     "output_type": "stream",
     "text": [
      "[Parallel(n_jobs=-1)]: Using backend LokyBackend with 16 concurrent workers.\n",
      "[Parallel(n_jobs=-1)]: Done   5 out of   5 | elapsed:    0.8s finished\n"
     ]
    },
    {
     "name": "stdout",
     "output_type": "stream",
     "text": [
      "--- Validation score\n",
      "balanced_accuracy    0.703992\n",
      "recall_0             0.691667\n",
      "precision_0          0.469487\n",
      "recall_1             0.716317\n",
      "precision_1          0.865769\n",
      "auc                  0.758110\n",
      "dtype: float64\n",
      "tn: 23, fp:28, fn:49, tp:93\n",
      "[[23 28]\n",
      " [49 93]]\n",
      "--- Test score\n",
      "balanced_accuracy      0.552955\n",
      "recall_0               0.450980\n",
      "precision_0            0.319444\n",
      "recall_1               0.654930\n",
      "precision_1            0.768595\n",
      "auc                    0.572356\n",
      "False_positive_rate    0.549020\n",
      "False_negative_rate    0.345070\n",
      "dtype: float64\n",
      "------------ Dimention 49\n",
      "---- Do parameter tuning\n",
      "Scoring parameter balanced_accuracy\n",
      "Fitting 5 folds for each of 25 candidates, totalling 125 fits\n"
     ]
    },
    {
     "name": "stderr",
     "output_type": "stream",
     "text": [
      "[Parallel(n_jobs=12)]: Using backend LokyBackend with 12 concurrent workers.\n",
      "[Parallel(n_jobs=12)]: Done   8 tasks      | elapsed:    0.6s\n",
      "[Parallel(n_jobs=12)]: Done 125 out of 125 | elapsed:    4.4s finished\n"
     ]
    },
    {
     "name": "stdout",
     "output_type": "stream",
     "text": [
      "\n",
      " Time taken: 0 hours 0 minutes and 5.19 seconds.\n",
      "Best Score: 70.195%\n",
      "{'learning_rate': 0.01, 'max_delta_step': 5, 'n_estimators': 400, 'max_depth': 6, 'scale_pos_weight': 0.36, 'subsample': 0.6, 'min_child_weight': 3, 'colsample_bytree': 1.0, 'gamma': 1.5}\n"
     ]
    },
    {
     "name": "stderr",
     "output_type": "stream",
     "text": [
      "[Parallel(n_jobs=-1)]: Using backend LokyBackend with 16 concurrent workers.\n",
      "[Parallel(n_jobs=-1)]: Done   5 out of   5 | elapsed:    0.8s finished\n"
     ]
    },
    {
     "name": "stdout",
     "output_type": "stream",
     "text": [
      "--- Validation score\n",
      "balanced_accuracy    0.701952\n",
      "recall_0             0.608333\n",
      "precision_0          0.521970\n",
      "recall_1             0.795571\n",
      "precision_1          0.847827\n",
      "auc                  0.767723\n",
      "dtype: float64\n",
      "tn: 23, fp:28, fn:37, tp:105\n",
      "[[ 23  28]\n",
      " [ 37 105]]\n",
      "--- Test score\n",
      "balanced_accuracy      0.595209\n",
      "recall_0               0.450980\n",
      "precision_0            0.383333\n",
      "recall_1               0.739437\n",
      "precision_1            0.789474\n",
      "auc                    0.562138\n",
      "False_positive_rate    0.549020\n",
      "False_negative_rate    0.260563\n",
      "dtype: float64\n",
      "------------ Dimention 50\n",
      "---- Do parameter tuning\n",
      "Scoring parameter balanced_accuracy\n",
      "Fitting 5 folds for each of 25 candidates, totalling 125 fits\n"
     ]
    },
    {
     "name": "stderr",
     "output_type": "stream",
     "text": [
      "[Parallel(n_jobs=12)]: Using backend LokyBackend with 12 concurrent workers.\n",
      "[Parallel(n_jobs=12)]: Done   8 tasks      | elapsed:    0.7s\n",
      "[Parallel(n_jobs=12)]: Done 125 out of 125 | elapsed:    4.6s finished\n"
     ]
    },
    {
     "name": "stdout",
     "output_type": "stream",
     "text": [
      "\n",
      " Time taken: 0 hours 0 minutes and 5.56 seconds.\n",
      "Best Score: 69.620%\n",
      "{'learning_rate': 0.01, 'max_delta_step': 5, 'n_estimators': 400, 'max_depth': 6, 'scale_pos_weight': 0.36, 'subsample': 0.6, 'min_child_weight': 3, 'colsample_bytree': 1.0, 'gamma': 1.5}\n"
     ]
    },
    {
     "name": "stderr",
     "output_type": "stream",
     "text": [
      "[Parallel(n_jobs=-1)]: Using backend LokyBackend with 16 concurrent workers.\n",
      "[Parallel(n_jobs=-1)]: Done   5 out of   5 | elapsed:    0.8s finished\n"
     ]
    },
    {
     "name": "stdout",
     "output_type": "stream",
     "text": [
      "--- Validation score\n",
      "balanced_accuracy    0.696200\n",
      "recall_0             0.600000\n",
      "precision_0          0.515994\n",
      "recall_1             0.792401\n",
      "precision_1          0.843739\n",
      "auc                  0.757514\n",
      "dtype: float64\n",
      "tn: 23, fp:28, fn:38, tp:104\n",
      "[[ 23  28]\n",
      " [ 38 104]]\n",
      "--- Test score\n",
      "balanced_accuracy      0.591687\n",
      "recall_0               0.450980\n",
      "precision_0            0.377049\n",
      "recall_1               0.732394\n",
      "precision_1            0.787879\n",
      "auc                    0.560619\n",
      "False_positive_rate    0.549020\n",
      "False_negative_rate    0.267606\n",
      "dtype: float64\n",
      "------------ Dimention 51\n",
      "---- Do parameter tuning\n",
      "Scoring parameter balanced_accuracy\n",
      "Fitting 5 folds for each of 25 candidates, totalling 125 fits\n"
     ]
    },
    {
     "name": "stderr",
     "output_type": "stream",
     "text": [
      "[Parallel(n_jobs=12)]: Using backend LokyBackend with 12 concurrent workers.\n",
      "[Parallel(n_jobs=12)]: Done   8 tasks      | elapsed:    0.7s\n",
      "[Parallel(n_jobs=12)]: Done 125 out of 125 | elapsed:    4.6s finished\n"
     ]
    },
    {
     "name": "stdout",
     "output_type": "stream",
     "text": [
      "\n",
      " Time taken: 0 hours 0 minutes and 5.49 seconds.\n",
      "Best Score: 69.464%\n",
      "{'learning_rate': 0.01, 'max_delta_step': 5, 'n_estimators': 400, 'max_depth': 6, 'scale_pos_weight': 0.36, 'subsample': 0.6, 'min_child_weight': 3, 'colsample_bytree': 1.0, 'gamma': 1.5}\n"
     ]
    },
    {
     "name": "stderr",
     "output_type": "stream",
     "text": [
      "[Parallel(n_jobs=-1)]: Using backend LokyBackend with 16 concurrent workers.\n",
      "[Parallel(n_jobs=-1)]: Done   5 out of   5 | elapsed:    0.8s finished\n"
     ]
    },
    {
     "name": "stdout",
     "output_type": "stream",
     "text": [
      "--- Validation score\n",
      "balanced_accuracy    0.694639\n",
      "recall_0             0.600000\n",
      "precision_0          0.517425\n",
      "recall_1             0.789277\n",
      "precision_1          0.843414\n",
      "auc                  0.766082\n",
      "dtype: float64\n",
      "tn: 22, fp:29, fn:38, tp:104\n",
      "[[ 22  29]\n",
      " [ 38 104]]\n",
      "--- Test score\n",
      "balanced_accuracy      0.581883\n",
      "recall_0               0.431373\n",
      "precision_0            0.366667\n",
      "recall_1               0.732394\n",
      "precision_1            0.781955\n",
      "auc                    0.556476\n",
      "False_positive_rate    0.568627\n",
      "False_negative_rate    0.267606\n",
      "dtype: float64\n",
      "------------ Dimention 52\n",
      "---- Do parameter tuning\n",
      "Scoring parameter balanced_accuracy\n",
      "Fitting 5 folds for each of 25 candidates, totalling 125 fits\n"
     ]
    },
    {
     "name": "stderr",
     "output_type": "stream",
     "text": [
      "[Parallel(n_jobs=12)]: Using backend LokyBackend with 12 concurrent workers.\n",
      "[Parallel(n_jobs=12)]: Done   8 tasks      | elapsed:    0.8s\n",
      "[Parallel(n_jobs=12)]: Done 125 out of 125 | elapsed:    4.6s finished\n"
     ]
    },
    {
     "name": "stdout",
     "output_type": "stream",
     "text": [
      "\n",
      " Time taken: 0 hours 0 minutes and 5.66 seconds.\n",
      "Best Score: 69.170%\n",
      "{'learning_rate': 0.02, 'max_delta_step': 5, 'n_estimators': 700, 'max_depth': 4, 'scale_pos_weight': 0.36, 'subsample': 0.8, 'min_child_weight': 4, 'colsample_bytree': 0.8, 'gamma': 1}\n"
     ]
    },
    {
     "name": "stderr",
     "output_type": "stream",
     "text": [
      "[Parallel(n_jobs=-1)]: Using backend LokyBackend with 16 concurrent workers.\n",
      "[Parallel(n_jobs=-1)]: Done   5 out of   5 | elapsed:    0.9s finished\n"
     ]
    },
    {
     "name": "stdout",
     "output_type": "stream",
     "text": [
      "--- Validation score\n",
      "balanced_accuracy    0.691702\n",
      "recall_0             0.566667\n",
      "precision_0          0.531909\n",
      "recall_1             0.816737\n",
      "precision_1          0.837843\n",
      "auc                  0.742168\n",
      "dtype: float64\n",
      "tn: 20, fp:31, fn:41, tp:101\n",
      "[[ 20  31]\n",
      " [ 41 101]]\n",
      "--- Test score\n",
      "balanced_accuracy      0.551712\n",
      "recall_0               0.392157\n",
      "precision_0            0.327869\n",
      "recall_1               0.711268\n",
      "precision_1            0.765152\n",
      "auc                    0.555095\n",
      "False_positive_rate    0.607843\n",
      "False_negative_rate    0.288732\n",
      "dtype: float64\n",
      "------------ Dimention 53\n",
      "---- Do parameter tuning\n",
      "Scoring parameter balanced_accuracy\n",
      "Fitting 5 folds for each of 25 candidates, totalling 125 fits\n"
     ]
    },
    {
     "name": "stderr",
     "output_type": "stream",
     "text": [
      "[Parallel(n_jobs=12)]: Using backend LokyBackend with 12 concurrent workers.\n",
      "[Parallel(n_jobs=12)]: Done   8 tasks      | elapsed:    0.8s\n",
      "[Parallel(n_jobs=12)]: Done 125 out of 125 | elapsed:    4.7s finished\n"
     ]
    },
    {
     "name": "stdout",
     "output_type": "stream",
     "text": [
      "\n",
      " Time taken: 0 hours 0 minutes and 5.23 seconds.\n",
      "Best Score: 70.380%\n",
      "{'learning_rate': 0.07, 'max_delta_step': 2, 'n_estimators': 300, 'max_depth': 3, 'scale_pos_weight': 0.2, 'subsample': 0.6, 'min_child_weight': 1, 'colsample_bytree': 0.8, 'gamma': 0.5}\n"
     ]
    },
    {
     "name": "stderr",
     "output_type": "stream",
     "text": [
      "[Parallel(n_jobs=-1)]: Using backend LokyBackend with 16 concurrent workers.\n",
      "[Parallel(n_jobs=-1)]: Done   5 out of   5 | elapsed:    0.6s finished\n"
     ]
    },
    {
     "name": "stdout",
     "output_type": "stream",
     "text": [
      "--- Validation score\n",
      "balanced_accuracy    0.703800\n",
      "recall_0             0.600000\n",
      "precision_0          0.536346\n",
      "recall_1             0.807599\n",
      "precision_1          0.846612\n",
      "auc                  0.739831\n",
      "dtype: float64\n",
      "tn: 22, fp:29, fn:43, tp:99\n",
      "[[22 29]\n",
      " [43 99]]\n",
      "--- Test score\n",
      "balanced_accuracy      0.564278\n",
      "recall_0               0.431373\n",
      "precision_0            0.338462\n",
      "recall_1               0.697183\n",
      "precision_1            0.773438\n",
      "auc                    0.561033\n",
      "False_positive_rate    0.568627\n",
      "False_negative_rate    0.302817\n",
      "dtype: float64\n",
      "------------ Dimention 54\n",
      "---- Do parameter tuning\n",
      "Scoring parameter balanced_accuracy\n",
      "Fitting 5 folds for each of 25 candidates, totalling 125 fits\n"
     ]
    },
    {
     "name": "stderr",
     "output_type": "stream",
     "text": [
      "[Parallel(n_jobs=12)]: Using backend LokyBackend with 12 concurrent workers.\n",
      "[Parallel(n_jobs=12)]: Done   8 tasks      | elapsed:    0.8s\n",
      "[Parallel(n_jobs=12)]: Done 125 out of 125 | elapsed:    4.7s finished\n"
     ]
    },
    {
     "name": "stdout",
     "output_type": "stream",
     "text": [
      "\n",
      " Time taken: 0 hours 0 minutes and 5.64 seconds.\n",
      "Best Score: 70.198%\n",
      "{'learning_rate': 0.01, 'max_delta_step': 5, 'n_estimators': 400, 'max_depth': 6, 'scale_pos_weight': 0.36, 'subsample': 0.6, 'min_child_weight': 3, 'colsample_bytree': 1.0, 'gamma': 1.5}\n"
     ]
    },
    {
     "name": "stderr",
     "output_type": "stream",
     "text": [
      "[Parallel(n_jobs=-1)]: Using backend LokyBackend with 16 concurrent workers.\n",
      "[Parallel(n_jobs=-1)]: Done   5 out of   5 | elapsed:    0.8s finished\n"
     ]
    },
    {
     "name": "stdout",
     "output_type": "stream",
     "text": [
      "--- Validation score\n",
      "balanced_accuracy    0.701976\n",
      "recall_0             0.608333\n",
      "precision_0          0.522320\n",
      "recall_1             0.795618\n",
      "precision_1          0.848442\n",
      "auc                  0.766237\n",
      "dtype: float64\n",
      "tn: 23, fp:28, fn:41, tp:101\n",
      "[[ 23  28]\n",
      " [ 41 101]]\n",
      "--- Test score\n",
      "balanced_accuracy      0.581124\n",
      "recall_0               0.450980\n",
      "precision_0            0.359375\n",
      "recall_1               0.711268\n",
      "precision_1            0.782946\n",
      "auc                    0.570146\n",
      "False_positive_rate    0.549020\n",
      "False_negative_rate    0.288732\n",
      "dtype: float64\n",
      "------------ Dimention 55\n",
      "---- Do parameter tuning\n",
      "Scoring parameter balanced_accuracy\n",
      "Fitting 5 folds for each of 25 candidates, totalling 125 fits\n"
     ]
    },
    {
     "name": "stderr",
     "output_type": "stream",
     "text": [
      "[Parallel(n_jobs=12)]: Using backend LokyBackend with 12 concurrent workers.\n",
      "[Parallel(n_jobs=12)]: Done   8 tasks      | elapsed:    0.8s\n",
      "[Parallel(n_jobs=12)]: Done 125 out of 125 | elapsed:    4.9s finished\n"
     ]
    },
    {
     "name": "stdout",
     "output_type": "stream",
     "text": [
      "\n",
      " Time taken: 0 hours 0 minutes and 5.74 seconds.\n",
      "Best Score: 70.084%\n",
      "{'learning_rate': 0.01, 'max_delta_step': 5, 'n_estimators': 400, 'max_depth': 6, 'scale_pos_weight': 0.36, 'subsample': 0.6, 'min_child_weight': 3, 'colsample_bytree': 1.0, 'gamma': 1.5}\n"
     ]
    },
    {
     "name": "stderr",
     "output_type": "stream",
     "text": [
      "[Parallel(n_jobs=-1)]: Using backend LokyBackend with 16 concurrent workers.\n",
      "[Parallel(n_jobs=-1)]: Done   5 out of   5 | elapsed:    0.9s finished\n"
     ]
    },
    {
     "name": "stdout",
     "output_type": "stream",
     "text": [
      "--- Validation score\n",
      "balanced_accuracy    0.700839\n",
      "recall_0             0.600000\n",
      "precision_0          0.522111\n",
      "recall_1             0.801678\n",
      "precision_1          0.846871\n",
      "auc                  0.761002\n",
      "dtype: float64\n",
      "tn: 23, fp:28, fn:37, tp:105\n",
      "[[ 23  28]\n",
      " [ 37 105]]\n",
      "--- Test score\n",
      "balanced_accuracy      0.595209\n",
      "recall_0               0.450980\n",
      "precision_0            0.383333\n",
      "recall_1               0.739437\n",
      "precision_1            0.789474\n",
      "auc                    0.568351\n",
      "False_positive_rate    0.549020\n",
      "False_negative_rate    0.260563\n",
      "dtype: float64\n",
      "------------ Dimention 56\n",
      "---- Do parameter tuning\n",
      "Scoring parameter balanced_accuracy\n",
      "Fitting 5 folds for each of 25 candidates, totalling 125 fits\n"
     ]
    },
    {
     "name": "stderr",
     "output_type": "stream",
     "text": [
      "[Parallel(n_jobs=12)]: Using backend LokyBackend with 12 concurrent workers.\n",
      "[Parallel(n_jobs=12)]: Done   8 tasks      | elapsed:    0.7s\n",
      "[Parallel(n_jobs=12)]: Done 125 out of 125 | elapsed:    4.8s finished\n"
     ]
    },
    {
     "name": "stdout",
     "output_type": "stream",
     "text": [
      "\n",
      " Time taken: 0 hours 0 minutes and 5.8 seconds.\n",
      "Best Score: 69.116%\n",
      "{'learning_rate': 0.02, 'max_delta_step': 2, 'n_estimators': 300, 'max_depth': 6, 'scale_pos_weight': 0.36, 'subsample': 0.8, 'min_child_weight': 2, 'colsample_bytree': 0.8, 'gamma': 5}\n"
     ]
    },
    {
     "name": "stderr",
     "output_type": "stream",
     "text": [
      "[Parallel(n_jobs=-1)]: Using backend LokyBackend with 16 concurrent workers.\n",
      "[Parallel(n_jobs=-1)]: Done   5 out of   5 | elapsed:    0.9s finished\n"
     ]
    },
    {
     "name": "stdout",
     "output_type": "stream",
     "text": [
      "--- Validation score\n",
      "balanced_accuracy    0.691160\n",
      "recall_0             0.641667\n",
      "precision_0          0.477018\n",
      "recall_1             0.740653\n",
      "precision_1          0.849701\n",
      "auc                  0.758708\n",
      "dtype: float64\n",
      "tn: 23, fp:28, fn:47, tp:95\n",
      "[[23 28]\n",
      " [47 95]]\n",
      "--- Test score\n",
      "balanced_accuracy      0.559997\n",
      "recall_0               0.450980\n",
      "precision_0            0.328571\n",
      "recall_1               0.669014\n",
      "precision_1            0.772358\n",
      "auc                    0.560342\n",
      "False_positive_rate    0.549020\n",
      "False_negative_rate    0.330986\n",
      "dtype: float64\n",
      "------------ Dimention 57\n",
      "---- Do parameter tuning\n",
      "Scoring parameter balanced_accuracy\n",
      "Fitting 5 folds for each of 25 candidates, totalling 125 fits\n"
     ]
    },
    {
     "name": "stderr",
     "output_type": "stream",
     "text": [
      "[Parallel(n_jobs=12)]: Using backend LokyBackend with 12 concurrent workers.\n",
      "[Parallel(n_jobs=12)]: Done   8 tasks      | elapsed:    0.9s\n",
      "[Parallel(n_jobs=12)]: Done 125 out of 125 | elapsed:    5.0s finished\n"
     ]
    },
    {
     "name": "stdout",
     "output_type": "stream",
     "text": [
      "\n",
      " Time taken: 0 hours 0 minutes and 5.63 seconds.\n",
      "Best Score: 70.643%\n",
      "{'learning_rate': 0.07, 'max_delta_step': 2, 'n_estimators': 300, 'max_depth': 3, 'scale_pos_weight': 0.2, 'subsample': 0.6, 'min_child_weight': 1, 'colsample_bytree': 0.8, 'gamma': 0.5}\n"
     ]
    },
    {
     "name": "stderr",
     "output_type": "stream",
     "text": [
      "[Parallel(n_jobs=-1)]: Using backend LokyBackend with 16 concurrent workers.\n",
      "[Parallel(n_jobs=-1)]: Done   5 out of   5 | elapsed:    0.7s finished\n"
     ]
    },
    {
     "name": "stdout",
     "output_type": "stream",
     "text": [
      "--- Validation score\n",
      "balanced_accuracy    0.706428\n",
      "recall_0             0.608333\n",
      "precision_0          0.534156\n",
      "recall_1             0.804522\n",
      "precision_1          0.849445\n",
      "auc                  0.742125\n",
      "dtype: float64\n",
      "tn: 21, fp:30, fn:45, tp:97\n",
      "[[21 30]\n",
      " [45 97]]\n",
      "--- Test score\n",
      "balanced_accuracy      0.547432\n",
      "recall_0               0.411765\n",
      "precision_0            0.318182\n",
      "recall_1               0.683099\n",
      "precision_1            0.763780\n",
      "auc                    0.537697\n",
      "False_positive_rate    0.588235\n",
      "False_negative_rate    0.316901\n",
      "dtype: float64\n",
      "------------ Dimention 58\n",
      "---- Do parameter tuning\n",
      "Scoring parameter balanced_accuracy\n",
      "Fitting 5 folds for each of 25 candidates, totalling 125 fits\n"
     ]
    },
    {
     "name": "stderr",
     "output_type": "stream",
     "text": [
      "[Parallel(n_jobs=12)]: Using backend LokyBackend with 12 concurrent workers.\n",
      "[Parallel(n_jobs=12)]: Done   8 tasks      | elapsed:    0.8s\n",
      "[Parallel(n_jobs=12)]: Done 125 out of 125 | elapsed:    5.0s finished\n"
     ]
    },
    {
     "name": "stdout",
     "output_type": "stream",
     "text": [
      "\n",
      " Time taken: 0 hours 0 minutes and 5.96 seconds.\n",
      "Best Score: 68.593%\n",
      "{'learning_rate': 0.01, 'max_delta_step': 5, 'n_estimators': 400, 'max_depth': 6, 'scale_pos_weight': 0.36, 'subsample': 0.6, 'min_child_weight': 3, 'colsample_bytree': 1.0, 'gamma': 1.5}\n"
     ]
    },
    {
     "name": "stderr",
     "output_type": "stream",
     "text": [
      "[Parallel(n_jobs=-1)]: Using backend LokyBackend with 16 concurrent workers.\n",
      "[Parallel(n_jobs=-1)]: Done   5 out of   5 | elapsed:    0.9s finished\n"
     ]
    },
    {
     "name": "stdout",
     "output_type": "stream",
     "text": [
      "--- Validation score\n",
      "balanced_accuracy    0.685927\n",
      "recall_0             0.591667\n",
      "precision_0          0.494856\n",
      "recall_1             0.780186\n",
      "precision_1          0.840137\n",
      "auc                  0.755458\n",
      "dtype: float64\n",
      "tn: 22, fp:29, fn:40, tp:102\n",
      "[[ 22  29]\n",
      " [ 40 102]]\n",
      "--- Test score\n",
      "balanced_accuracy      0.574841\n",
      "recall_0               0.431373\n",
      "precision_0            0.354839\n",
      "recall_1               0.718310\n",
      "precision_1            0.778626\n",
      "auc                    0.567937\n",
      "False_positive_rate    0.568627\n",
      "False_negative_rate    0.281690\n",
      "dtype: float64\n",
      "------------ Dimention 59\n",
      "---- Do parameter tuning\n",
      "Scoring parameter balanced_accuracy\n",
      "Fitting 5 folds for each of 25 candidates, totalling 125 fits\n"
     ]
    },
    {
     "name": "stderr",
     "output_type": "stream",
     "text": [
      "[Parallel(n_jobs=12)]: Using backend LokyBackend with 12 concurrent workers.\n",
      "[Parallel(n_jobs=12)]: Done   8 tasks      | elapsed:    0.9s\n",
      "[Parallel(n_jobs=12)]: Done 125 out of 125 | elapsed:    5.2s finished\n"
     ]
    },
    {
     "name": "stdout",
     "output_type": "stream",
     "text": [
      "\n",
      " Time taken: 0 hours 0 minutes and 5.93 seconds.\n",
      "Best Score: 68.827%\n",
      "{'learning_rate': 0.07, 'max_delta_step': 2, 'n_estimators': 300, 'max_depth': 3, 'scale_pos_weight': 0.2, 'subsample': 0.6, 'min_child_weight': 1, 'colsample_bytree': 0.8, 'gamma': 0.5}\n"
     ]
    },
    {
     "name": "stderr",
     "output_type": "stream",
     "text": [
      "[Parallel(n_jobs=-1)]: Using backend LokyBackend with 16 concurrent workers.\n",
      "[Parallel(n_jobs=-1)]: Done   5 out of   5 | elapsed:    0.7s finished\n"
     ]
    },
    {
     "name": "stdout",
     "output_type": "stream",
     "text": [
      "--- Validation score\n",
      "balanced_accuracy    0.688269\n",
      "recall_0             0.575000\n",
      "precision_0          0.512021\n",
      "recall_1             0.801538\n",
      "precision_1          0.838934\n",
      "auc                  0.734037\n",
      "dtype: float64\n",
      "tn: 19, fp:32, fn:43, tp:99\n",
      "[[19 32]\n",
      " [43 99]]\n",
      "--- Test score\n",
      "balanced_accuracy      0.534866\n",
      "recall_0               0.372549\n",
      "precision_0            0.306452\n",
      "recall_1               0.697183\n",
      "precision_1            0.755725\n",
      "auc                    0.545153\n",
      "False_positive_rate    0.627451\n",
      "False_negative_rate    0.302817\n",
      "dtype: float64\n",
      "------------ Dimention 60\n",
      "---- Do parameter tuning\n",
      "Scoring parameter balanced_accuracy\n",
      "Fitting 5 folds for each of 25 candidates, totalling 125 fits\n"
     ]
    },
    {
     "name": "stderr",
     "output_type": "stream",
     "text": [
      "[Parallel(n_jobs=12)]: Using backend LokyBackend with 12 concurrent workers.\n",
      "[Parallel(n_jobs=12)]: Done   8 tasks      | elapsed:    0.9s\n",
      "[Parallel(n_jobs=12)]: Done 125 out of 125 | elapsed:    5.3s finished\n"
     ]
    },
    {
     "name": "stdout",
     "output_type": "stream",
     "text": [
      "\n",
      " Time taken: 0 hours 0 minutes and 6.21 seconds.\n",
      "Best Score: 69.519%\n",
      "{'learning_rate': 0.02, 'max_delta_step': 4, 'n_estimators': 500, 'max_depth': 5, 'scale_pos_weight': 0.36, 'subsample': 0.6, 'min_child_weight': 4, 'colsample_bytree': 1.0, 'gamma': 5}\n"
     ]
    },
    {
     "name": "stderr",
     "output_type": "stream",
     "text": [
      "[Parallel(n_jobs=-1)]: Using backend LokyBackend with 16 concurrent workers.\n",
      "[Parallel(n_jobs=-1)]: Done   5 out of   5 | elapsed:    0.9s finished\n"
     ]
    },
    {
     "name": "stdout",
     "output_type": "stream",
     "text": [
      "--- Validation score\n",
      "balanced_accuracy    0.695186\n",
      "recall_0             0.683333\n",
      "precision_0          0.461280\n",
      "recall_1             0.707040\n",
      "precision_1          0.859121\n",
      "auc                  0.751383\n",
      "dtype: float64\n",
      "tn: 23, fp:28, fn:50, tp:92\n",
      "[[23 28]\n",
      " [50 92]]\n",
      "--- Test score\n",
      "balanced_accuracy      0.549434\n",
      "recall_0               0.450980\n",
      "precision_0            0.315068\n",
      "recall_1               0.647887\n",
      "precision_1            0.766667\n",
      "auc                    0.573737\n",
      "False_positive_rate    0.549020\n",
      "False_negative_rate    0.352113\n",
      "dtype: float64\n",
      "------------ Dimention 61\n",
      "---- Do parameter tuning\n",
      "Scoring parameter balanced_accuracy\n",
      "Fitting 5 folds for each of 25 candidates, totalling 125 fits\n"
     ]
    },
    {
     "name": "stderr",
     "output_type": "stream",
     "text": [
      "[Parallel(n_jobs=12)]: Using backend LokyBackend with 12 concurrent workers.\n",
      "[Parallel(n_jobs=12)]: Done   8 tasks      | elapsed:    0.9s\n",
      "[Parallel(n_jobs=12)]: Done 125 out of 125 | elapsed:    5.3s finished\n"
     ]
    },
    {
     "name": "stdout",
     "output_type": "stream",
     "text": [
      "\n",
      " Time taken: 0 hours 0 minutes and 6.34 seconds.\n",
      "Best Score: 68.145%\n",
      "{'learning_rate': 0.02, 'max_delta_step': 5, 'n_estimators': 700, 'max_depth': 4, 'scale_pos_weight': 0.36, 'subsample': 0.8, 'min_child_weight': 4, 'colsample_bytree': 0.8, 'gamma': 1}\n"
     ]
    },
    {
     "name": "stderr",
     "output_type": "stream",
     "text": [
      "[Parallel(n_jobs=-1)]: Using backend LokyBackend with 16 concurrent workers.\n",
      "[Parallel(n_jobs=-1)]: Done   5 out of   5 | elapsed:    1.0s finished\n"
     ]
    },
    {
     "name": "stdout",
     "output_type": "stream",
     "text": [
      "--- Validation score\n",
      "balanced_accuracy    0.681451\n",
      "recall_0             0.558333\n",
      "precision_0          0.511732\n",
      "recall_1             0.804569\n",
      "precision_1          0.833030\n",
      "auc                  0.722745\n",
      "dtype: float64\n",
      "tn: 20, fp:31, fn:36, tp:106\n",
      "[[ 20  31]\n",
      " [ 36 106]]\n",
      "--- Test score\n",
      "balanced_accuracy      0.569318\n",
      "recall_0               0.392157\n",
      "precision_0            0.357143\n",
      "recall_1               0.746479\n",
      "precision_1            0.773723\n",
      "auc                    0.553714\n",
      "False_positive_rate    0.607843\n",
      "False_negative_rate    0.253521\n",
      "dtype: float64\n",
      "------------ Dimention 62\n",
      "---- Do parameter tuning\n",
      "Scoring parameter balanced_accuracy\n",
      "Fitting 5 folds for each of 25 candidates, totalling 125 fits\n"
     ]
    },
    {
     "name": "stderr",
     "output_type": "stream",
     "text": [
      "[Parallel(n_jobs=12)]: Using backend LokyBackend with 12 concurrent workers.\n",
      "[Parallel(n_jobs=12)]: Done   8 tasks      | elapsed:    0.9s\n",
      "[Parallel(n_jobs=12)]: Done 125 out of 125 | elapsed:    5.4s finished\n"
     ]
    },
    {
     "name": "stdout",
     "output_type": "stream",
     "text": [
      "\n",
      " Time taken: 0 hours 0 minutes and 6.33 seconds.\n",
      "Best Score: 69.094%\n",
      "{'learning_rate': 0.01, 'max_delta_step': 5, 'n_estimators': 400, 'max_depth': 6, 'scale_pos_weight': 0.36, 'subsample': 0.6, 'min_child_weight': 3, 'colsample_bytree': 1.0, 'gamma': 1.5}\n"
     ]
    },
    {
     "name": "stderr",
     "output_type": "stream",
     "text": [
      "[Parallel(n_jobs=-1)]: Using backend LokyBackend with 16 concurrent workers.\n",
      "[Parallel(n_jobs=-1)]: Done   5 out of   5 | elapsed:    0.9s finished\n"
     ]
    },
    {
     "name": "stdout",
     "output_type": "stream",
     "text": [
      "--- Validation score\n",
      "balanced_accuracy    0.690944\n",
      "recall_0             0.583333\n",
      "precision_0          0.515227\n",
      "recall_1             0.798555\n",
      "precision_1          0.840241\n",
      "auc                  0.749270\n",
      "dtype: float64\n",
      "tn: 23, fp:28, fn:37, tp:105\n",
      "[[ 23  28]\n",
      " [ 37 105]]\n",
      "--- Test score\n",
      "balanced_accuracy      0.595209\n",
      "recall_0               0.450980\n",
      "precision_0            0.383333\n",
      "recall_1               0.739437\n",
      "precision_1            0.789474\n",
      "auc                    0.545429\n",
      "False_positive_rate    0.549020\n",
      "False_negative_rate    0.260563\n",
      "dtype: float64\n",
      "------------ Dimention 63\n",
      "---- Do parameter tuning\n",
      "Scoring parameter balanced_accuracy\n",
      "Fitting 5 folds for each of 25 candidates, totalling 125 fits\n"
     ]
    },
    {
     "name": "stderr",
     "output_type": "stream",
     "text": [
      "[Parallel(n_jobs=12)]: Using backend LokyBackend with 12 concurrent workers.\n",
      "[Parallel(n_jobs=12)]: Done   8 tasks      | elapsed:    0.9s\n",
      "[Parallel(n_jobs=12)]: Done 125 out of 125 | elapsed:    5.4s finished\n"
     ]
    },
    {
     "name": "stdout",
     "output_type": "stream",
     "text": [
      "\n",
      " Time taken: 0 hours 0 minutes and 6.28 seconds.\n",
      "Best Score: 69.348%\n",
      "{'learning_rate': 0.02, 'max_delta_step': 2, 'n_estimators': 300, 'max_depth': 6, 'scale_pos_weight': 0.36, 'subsample': 0.8, 'min_child_weight': 2, 'colsample_bytree': 0.8, 'gamma': 5}\n"
     ]
    },
    {
     "name": "stderr",
     "output_type": "stream",
     "text": [
      "[Parallel(n_jobs=-1)]: Using backend LokyBackend with 16 concurrent workers.\n",
      "[Parallel(n_jobs=-1)]: Done   5 out of   5 | elapsed:    0.8s finished\n"
     ]
    },
    {
     "name": "stdout",
     "output_type": "stream",
     "text": [
      "--- Validation score\n",
      "balanced_accuracy    0.693479\n",
      "recall_0             0.625000\n",
      "precision_0          0.490831\n",
      "recall_1             0.761958\n",
      "precision_1          0.848199\n",
      "auc                  0.747803\n",
      "dtype: float64\n",
      "tn: 23, fp:28, fn:54, tp:88\n",
      "[[23 28]\n",
      " [54 88]]\n",
      "--- Test score\n",
      "balanced_accuracy      0.535349\n",
      "recall_0               0.450980\n",
      "precision_0            0.298701\n",
      "recall_1               0.619718\n",
      "precision_1            0.758621\n",
      "auc                    0.544325\n",
      "False_positive_rate    0.549020\n",
      "False_negative_rate    0.380282\n",
      "dtype: float64\n",
      "------------ Dimention 64\n",
      "---- Do parameter tuning\n",
      "Scoring parameter balanced_accuracy\n",
      "Fitting 5 folds for each of 25 candidates, totalling 125 fits\n"
     ]
    },
    {
     "name": "stderr",
     "output_type": "stream",
     "text": [
      "[Parallel(n_jobs=12)]: Using backend LokyBackend with 12 concurrent workers.\n",
      "[Parallel(n_jobs=12)]: Done   8 tasks      | elapsed:    0.9s\n",
      "[Parallel(n_jobs=12)]: Done 125 out of 125 | elapsed:    5.5s finished\n"
     ]
    },
    {
     "name": "stdout",
     "output_type": "stream",
     "text": [
      "\n",
      " Time taken: 0 hours 0 minutes and 6.27 seconds.\n",
      "Best Score: 68.441%\n",
      "{'learning_rate': 0.02, 'max_delta_step': 2, 'n_estimators': 300, 'max_depth': 6, 'scale_pos_weight': 0.36, 'subsample': 0.8, 'min_child_weight': 2, 'colsample_bytree': 0.8, 'gamma': 5}\n"
     ]
    },
    {
     "name": "stderr",
     "output_type": "stream",
     "text": [
      "[Parallel(n_jobs=-1)]: Using backend LokyBackend with 16 concurrent workers.\n",
      "[Parallel(n_jobs=-1)]: Done   5 out of   5 | elapsed:    0.9s finished\n"
     ]
    },
    {
     "name": "stdout",
     "output_type": "stream",
     "text": [
      "--- Validation score\n",
      "balanced_accuracy    0.684411\n",
      "recall_0             0.625000\n",
      "precision_0          0.469776\n",
      "recall_1             0.743823\n",
      "precision_1          0.846523\n",
      "auc                  0.757622\n",
      "dtype: float64\n",
      "tn: 23, fp:28, fn:51, tp:91\n",
      "[[23 28]\n",
      " [51 91]]\n",
      "--- Test score\n",
      "balanced_accuracy      0.545913\n",
      "recall_0               0.450980\n",
      "precision_0            0.310811\n",
      "recall_1               0.640845\n",
      "precision_1            0.764706\n",
      "auc                    0.571665\n",
      "False_positive_rate    0.549020\n",
      "False_negative_rate    0.359155\n",
      "dtype: float64\n",
      "------------ Dimention 65\n",
      "---- Do parameter tuning\n",
      "Scoring parameter balanced_accuracy\n",
      "Fitting 5 folds for each of 25 candidates, totalling 125 fits\n"
     ]
    },
    {
     "name": "stderr",
     "output_type": "stream",
     "text": [
      "[Parallel(n_jobs=12)]: Using backend LokyBackend with 12 concurrent workers.\n",
      "[Parallel(n_jobs=12)]: Done   8 tasks      | elapsed:    0.9s\n",
      "[Parallel(n_jobs=12)]: Done 125 out of 125 | elapsed:    5.6s finished\n"
     ]
    },
    {
     "name": "stdout",
     "output_type": "stream",
     "text": [
      "\n",
      " Time taken: 0 hours 0 minutes and 6.64 seconds.\n",
      "Best Score: 69.355%\n",
      "{'learning_rate': 0.01, 'max_delta_step': 5, 'n_estimators': 400, 'max_depth': 6, 'scale_pos_weight': 0.36, 'subsample': 0.6, 'min_child_weight': 3, 'colsample_bytree': 1.0, 'gamma': 1.5}\n"
     ]
    },
    {
     "name": "stderr",
     "output_type": "stream",
     "text": [
      "[Parallel(n_jobs=-1)]: Using backend LokyBackend with 16 concurrent workers.\n",
      "[Parallel(n_jobs=-1)]: Done   5 out of   5 | elapsed:    0.9s finished\n"
     ]
    },
    {
     "name": "stdout",
     "output_type": "stream",
     "text": [
      "--- Validation score\n",
      "balanced_accuracy    0.693549\n",
      "recall_0             0.591667\n",
      "precision_0          0.516608\n",
      "recall_1             0.795431\n",
      "precision_1          0.842560\n",
      "auc                  0.748704\n",
      "dtype: float64\n",
      "tn: 20, fp:31, fn:44, tp:98\n",
      "[[20 31]\n",
      " [44 98]]\n",
      "--- Test score\n",
      "balanced_accuracy      0.541149\n",
      "recall_0               0.392157\n",
      "precision_0            0.312500\n",
      "recall_1               0.690141\n",
      "precision_1            0.759690\n",
      "auc                    0.526788\n",
      "False_positive_rate    0.607843\n",
      "False_negative_rate    0.309859\n",
      "dtype: float64\n",
      "------------ Dimention 66\n",
      "---- Do parameter tuning\n",
      "Scoring parameter balanced_accuracy\n",
      "Fitting 5 folds for each of 25 candidates, totalling 125 fits\n"
     ]
    },
    {
     "name": "stderr",
     "output_type": "stream",
     "text": [
      "[Parallel(n_jobs=12)]: Using backend LokyBackend with 12 concurrent workers.\n",
      "[Parallel(n_jobs=12)]: Done   8 tasks      | elapsed:    0.9s\n",
      "[Parallel(n_jobs=12)]: Done 125 out of 125 | elapsed:    5.6s finished\n"
     ]
    },
    {
     "name": "stdout",
     "output_type": "stream",
     "text": [
      "\n",
      " Time taken: 0 hours 0 minutes and 6.58 seconds.\n",
      "Best Score: 67.809%\n",
      "{'learning_rate': 0.07, 'max_delta_step': 4, 'n_estimators': 500, 'max_depth': 5, 'scale_pos_weight': 0.2, 'subsample': 0.8, 'min_child_weight': 5, 'colsample_bytree': 1.0, 'gamma': 1.5}\n"
     ]
    },
    {
     "name": "stderr",
     "output_type": "stream",
     "text": [
      "[Parallel(n_jobs=-1)]: Using backend LokyBackend with 16 concurrent workers.\n",
      "[Parallel(n_jobs=-1)]: Done   5 out of   5 | elapsed:    0.8s finished\n"
     ]
    },
    {
     "name": "stdout",
     "output_type": "stream",
     "text": [
      "--- Validation score\n",
      "balanced_accuracy    0.678094\n",
      "recall_0             0.658333\n",
      "precision_0          0.443158\n",
      "recall_1             0.697855\n",
      "precision_1          0.848625\n",
      "auc                  0.712747\n",
      "dtype: float64\n",
      "tn: 24, fp:27, fn:60, tp:82\n",
      "[[24 27]\n",
      " [60 82]]\n",
      "--- Test score\n",
      "balanced_accuracy      0.524027\n",
      "recall_0               0.470588\n",
      "precision_0            0.285714\n",
      "recall_1               0.577465\n",
      "precision_1            0.752294\n",
      "auc                    0.527341\n",
      "False_positive_rate    0.529412\n",
      "False_negative_rate    0.422535\n",
      "dtype: float64\n",
      "------------ Dimention 67\n",
      "---- Do parameter tuning\n",
      "Scoring parameter balanced_accuracy\n",
      "Fitting 5 folds for each of 25 candidates, totalling 125 fits\n"
     ]
    },
    {
     "name": "stderr",
     "output_type": "stream",
     "text": [
      "[Parallel(n_jobs=12)]: Using backend LokyBackend with 12 concurrent workers.\n",
      "[Parallel(n_jobs=12)]: Done   8 tasks      | elapsed:    1.0s\n",
      "[Parallel(n_jobs=12)]: Done 125 out of 125 | elapsed:    5.7s finished\n"
     ]
    },
    {
     "name": "stdout",
     "output_type": "stream",
     "text": [
      "\n",
      " Time taken: 0 hours 0 minutes and 6.7 seconds.\n",
      "Best Score: 68.853%\n",
      "{'learning_rate': 0.02, 'max_delta_step': 4, 'n_estimators': 500, 'max_depth': 5, 'scale_pos_weight': 0.36, 'subsample': 0.6, 'min_child_weight': 4, 'colsample_bytree': 1.0, 'gamma': 5}\n"
     ]
    },
    {
     "name": "stderr",
     "output_type": "stream",
     "text": [
      "[Parallel(n_jobs=-1)]: Using backend LokyBackend with 16 concurrent workers.\n",
      "[Parallel(n_jobs=-1)]: Done   5 out of   5 | elapsed:    0.9s finished\n"
     ]
    },
    {
     "name": "stdout",
     "output_type": "stream",
     "text": [
      "--- Validation score\n",
      "balanced_accuracy    0.688531\n",
      "recall_0             0.633333\n",
      "precision_0          0.471176\n",
      "recall_1             0.743730\n",
      "precision_1          0.849240\n",
      "auc                  0.744520\n",
      "dtype: float64\n",
      "tn: 20, fp:31, fn:49, tp:93\n",
      "[[20 31]\n",
      " [49 93]]\n",
      "--- Test score\n",
      "balanced_accuracy      0.523543\n",
      "recall_0               0.392157\n",
      "precision_0            0.289855\n",
      "recall_1               0.654930\n",
      "precision_1            0.750000\n",
      "auc                    0.543082\n",
      "False_positive_rate    0.607843\n",
      "False_negative_rate    0.345070\n",
      "dtype: float64\n",
      "------------ Dimention 68\n",
      "---- Do parameter tuning\n",
      "Scoring parameter balanced_accuracy\n",
      "Fitting 5 folds for each of 25 candidates, totalling 125 fits\n"
     ]
    },
    {
     "name": "stderr",
     "output_type": "stream",
     "text": [
      "[Parallel(n_jobs=12)]: Using backend LokyBackend with 12 concurrent workers.\n",
      "[Parallel(n_jobs=12)]: Done   8 tasks      | elapsed:    0.9s\n",
      "[Parallel(n_jobs=12)]: Done 125 out of 125 | elapsed:    5.7s finished\n"
     ]
    },
    {
     "name": "stdout",
     "output_type": "stream",
     "text": [
      "\n",
      " Time taken: 0 hours 0 minutes and 6.78 seconds.\n",
      "Best Score: 68.408%\n",
      "{'learning_rate': 0.01, 'max_delta_step': 5, 'n_estimators': 400, 'max_depth': 6, 'scale_pos_weight': 0.36, 'subsample': 0.6, 'min_child_weight': 3, 'colsample_bytree': 1.0, 'gamma': 1.5}\n"
     ]
    },
    {
     "name": "stderr",
     "output_type": "stream",
     "text": [
      "[Parallel(n_jobs=-1)]: Using backend LokyBackend with 16 concurrent workers.\n",
      "[Parallel(n_jobs=-1)]: Done   5 out of   5 | elapsed:    0.9s finished\n"
     ]
    },
    {
     "name": "stdout",
     "output_type": "stream",
     "text": [
      "--- Validation score\n",
      "balanced_accuracy    0.684079\n",
      "recall_0             0.566667\n",
      "precision_0          0.516457\n",
      "recall_1             0.801492\n",
      "precision_1          0.834991\n",
      "auc                  0.751354\n",
      "dtype: float64\n",
      "tn: 20, fp:31, fn:40, tp:102\n",
      "[[ 20  31]\n",
      " [ 40 102]]\n",
      "--- Test score\n",
      "balanced_accuracy      0.555233\n",
      "recall_0               0.392157\n",
      "precision_0            0.333333\n",
      "recall_1               0.718310\n",
      "precision_1            0.766917\n",
      "auc                    0.549848\n",
      "False_positive_rate    0.607843\n",
      "False_negative_rate    0.281690\n",
      "dtype: float64\n",
      "------------ Dimention 69\n",
      "---- Do parameter tuning\n",
      "Scoring parameter balanced_accuracy\n",
      "Fitting 5 folds for each of 25 candidates, totalling 125 fits\n"
     ]
    },
    {
     "name": "stderr",
     "output_type": "stream",
     "text": [
      "[Parallel(n_jobs=12)]: Using backend LokyBackend with 12 concurrent workers.\n",
      "[Parallel(n_jobs=12)]: Done   8 tasks      | elapsed:    1.0s\n",
      "[Parallel(n_jobs=12)]: Done 125 out of 125 | elapsed:    5.8s finished\n"
     ]
    },
    {
     "name": "stdout",
     "output_type": "stream",
     "text": [
      "\n",
      " Time taken: 0 hours 0 minutes and 6.8 seconds.\n",
      "Best Score: 68.256%\n",
      "{'learning_rate': 0.01, 'max_delta_step': 5, 'n_estimators': 400, 'max_depth': 6, 'scale_pos_weight': 0.36, 'subsample': 0.6, 'min_child_weight': 3, 'colsample_bytree': 1.0, 'gamma': 1.5}\n"
     ]
    },
    {
     "name": "stderr",
     "output_type": "stream",
     "text": [
      "[Parallel(n_jobs=-1)]: Using backend LokyBackend with 16 concurrent workers.\n",
      "[Parallel(n_jobs=-1)]: Done   5 out of   5 | elapsed:    0.9s finished\n"
     ]
    },
    {
     "name": "stdout",
     "output_type": "stream",
     "text": [
      "--- Validation score\n",
      "balanced_accuracy    0.682564\n",
      "recall_0             0.566667\n",
      "precision_0          0.508110\n",
      "recall_1             0.798462\n",
      "precision_1          0.834727\n",
      "auc                  0.752597\n",
      "dtype: float64\n",
      "tn: 19, fp:32, fn:41, tp:101\n",
      "[[ 19  32]\n",
      " [ 41 101]]\n",
      "--- Test score\n",
      "balanced_accuracy      0.541908\n",
      "recall_0               0.372549\n",
      "precision_0            0.316667\n",
      "recall_1               0.711268\n",
      "precision_1            0.759398\n",
      "auc                    0.538940\n",
      "False_positive_rate    0.627451\n",
      "False_negative_rate    0.288732\n",
      "dtype: float64\n",
      "------------ Dimention 70\n",
      "---- Do parameter tuning\n",
      "Scoring parameter balanced_accuracy\n",
      "Fitting 5 folds for each of 25 candidates, totalling 125 fits\n"
     ]
    },
    {
     "name": "stderr",
     "output_type": "stream",
     "text": [
      "[Parallel(n_jobs=12)]: Using backend LokyBackend with 12 concurrent workers.\n",
      "[Parallel(n_jobs=12)]: Done   8 tasks      | elapsed:    0.9s\n",
      "[Parallel(n_jobs=12)]: Done 125 out of 125 | elapsed:    5.8s finished\n"
     ]
    },
    {
     "name": "stdout",
     "output_type": "stream",
     "text": [
      "\n",
      " Time taken: 0 hours 0 minutes and 6.79 seconds.\n",
      "Best Score: 69.459%\n",
      "{'learning_rate': 0.02, 'max_delta_step': 2, 'n_estimators': 300, 'max_depth': 6, 'scale_pos_weight': 0.36, 'subsample': 0.8, 'min_child_weight': 2, 'colsample_bytree': 0.8, 'gamma': 5}\n"
     ]
    },
    {
     "name": "stderr",
     "output_type": "stream",
     "text": [
      "[Parallel(n_jobs=-1)]: Using backend LokyBackend with 16 concurrent workers.\n",
      "[Parallel(n_jobs=-1)]: Done   5 out of   5 | elapsed:    0.9s finished\n"
     ]
    },
    {
     "name": "stdout",
     "output_type": "stream",
     "text": [
      "--- Validation score\n",
      "balanced_accuracy    0.694592\n",
      "recall_0             0.633333\n",
      "precision_0          0.493036\n",
      "recall_1             0.755851\n",
      "precision_1          0.849057\n",
      "auc                  0.759120\n",
      "dtype: float64\n",
      "tn: 22, fp:29, fn:51, tp:91\n",
      "[[22 29]\n",
      " [51 91]]\n",
      "--- Test score\n",
      "balanced_accuracy      0.536109\n",
      "recall_0               0.431373\n",
      "precision_0            0.301370\n",
      "recall_1               0.640845\n",
      "precision_1            0.758333\n",
      "auc                    0.547915\n",
      "False_positive_rate    0.568627\n",
      "False_negative_rate    0.359155\n",
      "dtype: float64\n",
      "------------ Dimention 71\n",
      "---- Do parameter tuning\n",
      "Scoring parameter balanced_accuracy\n",
      "Fitting 5 folds for each of 25 candidates, totalling 125 fits\n"
     ]
    },
    {
     "name": "stderr",
     "output_type": "stream",
     "text": [
      "[Parallel(n_jobs=12)]: Using backend LokyBackend with 12 concurrent workers.\n",
      "[Parallel(n_jobs=12)]: Done   8 tasks      | elapsed:    0.8s\n",
      "[Parallel(n_jobs=12)]: Done 125 out of 125 | elapsed:    5.9s finished\n"
     ]
    },
    {
     "name": "stdout",
     "output_type": "stream",
     "text": [
      "\n",
      " Time taken: 0 hours 0 minutes and 7.01 seconds.\n",
      "Best Score: 69.135%\n",
      "{'learning_rate': 0.05, 'max_delta_step': 5, 'n_estimators': 700, 'max_depth': 3, 'scale_pos_weight': 0.2, 'subsample': 1.0, 'min_child_weight': 2, 'colsample_bytree': 0.8, 'gamma': 2}\n"
     ]
    },
    {
     "name": "stderr",
     "output_type": "stream",
     "text": [
      "[Parallel(n_jobs=-1)]: Using backend LokyBackend with 16 concurrent workers.\n",
      "[Parallel(n_jobs=-1)]: Done   5 out of   5 | elapsed:    1.0s finished\n"
     ]
    },
    {
     "name": "stdout",
     "output_type": "stream",
     "text": [
      "--- Validation score\n",
      "balanced_accuracy    0.691352\n",
      "recall_0             0.733333\n",
      "precision_0          0.437094\n",
      "recall_1             0.649371\n",
      "precision_1          0.871296\n",
      "auc                  0.746737\n",
      "dtype: float64\n",
      "tn: 29, fp:22, fn:69, tp:73\n",
      "[[29 22]\n",
      " [69 73]]\n",
      "--- Test score\n",
      "balanced_accuracy      0.541356\n",
      "recall_0               0.568627\n",
      "precision_0            0.295918\n",
      "recall_1               0.514085\n",
      "precision_1            0.768421\n",
      "auc                    0.568489\n",
      "False_positive_rate    0.431373\n",
      "False_negative_rate    0.485915\n",
      "dtype: float64\n",
      "------------ Dimention 72\n",
      "---- Do parameter tuning\n",
      "Scoring parameter balanced_accuracy\n",
      "Fitting 5 folds for each of 25 candidates, totalling 125 fits\n"
     ]
    },
    {
     "name": "stderr",
     "output_type": "stream",
     "text": [
      "[Parallel(n_jobs=12)]: Using backend LokyBackend with 12 concurrent workers.\n",
      "[Parallel(n_jobs=12)]: Done   8 tasks      | elapsed:    1.0s\n",
      "[Parallel(n_jobs=12)]: Done 125 out of 125 | elapsed:    6.0s finished\n"
     ]
    },
    {
     "name": "stdout",
     "output_type": "stream",
     "text": [
      "\n",
      " Time taken: 0 hours 0 minutes and 7.18 seconds.\n",
      "Best Score: 69.964%\n",
      "{'learning_rate': 0.03, 'max_delta_step': 3, 'n_estimators': 700, 'max_depth': 4, 'scale_pos_weight': 0.2, 'subsample': 0.6, 'min_child_weight': 3, 'colsample_bytree': 1.0, 'gamma': 1.5}\n"
     ]
    },
    {
     "name": "stderr",
     "output_type": "stream",
     "text": [
      "[Parallel(n_jobs=-1)]: Using backend LokyBackend with 16 concurrent workers.\n",
      "[Parallel(n_jobs=-1)]: Done   5 out of   5 | elapsed:    1.0s finished\n"
     ]
    },
    {
     "name": "stdout",
     "output_type": "stream",
     "text": [
      "--- Validation score\n",
      "balanced_accuracy    0.699639\n",
      "recall_0             0.683333\n",
      "precision_0          0.473586\n",
      "recall_1             0.715944\n",
      "precision_1          0.858639\n",
      "auc                  0.749775\n",
      "dtype: float64\n",
      "tn: 21, fp:30, fn:53, tp:89\n",
      "[[21 30]\n",
      " [53 89]]\n",
      "--- Test score\n",
      "balanced_accuracy      0.519263\n",
      "recall_0               0.411765\n",
      "precision_0            0.283784\n",
      "recall_1               0.626761\n",
      "precision_1            0.747899\n",
      "auc                    0.534107\n",
      "False_positive_rate    0.588235\n",
      "False_negative_rate    0.373239\n",
      "dtype: float64\n",
      "------------ Dimention 73\n",
      "---- Do parameter tuning\n",
      "Scoring parameter balanced_accuracy\n",
      "Fitting 5 folds for each of 25 candidates, totalling 125 fits\n"
     ]
    },
    {
     "name": "stderr",
     "output_type": "stream",
     "text": [
      "[Parallel(n_jobs=12)]: Using backend LokyBackend with 12 concurrent workers.\n",
      "[Parallel(n_jobs=12)]: Done   8 tasks      | elapsed:    0.9s\n",
      "[Parallel(n_jobs=12)]: Done 125 out of 125 | elapsed:    6.0s finished\n"
     ]
    },
    {
     "name": "stdout",
     "output_type": "stream",
     "text": [
      "\n",
      " Time taken: 0 hours 0 minutes and 7.25 seconds.\n",
      "Best Score: 68.304%\n",
      "{'learning_rate': 0.03, 'max_delta_step': 3, 'n_estimators': 700, 'max_depth': 4, 'scale_pos_weight': 0.2, 'subsample': 0.6, 'min_child_weight': 3, 'colsample_bytree': 1.0, 'gamma': 1.5}\n"
     ]
    },
    {
     "name": "stderr",
     "output_type": "stream",
     "text": [
      "[Parallel(n_jobs=-1)]: Using backend LokyBackend with 16 concurrent workers.\n",
      "[Parallel(n_jobs=-1)]: Done   5 out of   5 | elapsed:    1.1s finished\n"
     ]
    },
    {
     "name": "stdout",
     "output_type": "stream",
     "text": [
      "--- Validation score\n",
      "balanced_accuracy    0.683042\n",
      "recall_0             0.650000\n",
      "precision_0          0.459784\n",
      "recall_1             0.716084\n",
      "precision_1          0.847132\n",
      "auc                  0.741408\n",
      "dtype: float64\n",
      "tn: 24, fp:27, fn:56, tp:86\n",
      "[[24 27]\n",
      " [56 86]]\n",
      "--- Test score\n",
      "balanced_accuracy      0.538111\n",
      "recall_0               0.470588\n",
      "precision_0            0.300000\n",
      "recall_1               0.605634\n",
      "precision_1            0.761062\n",
      "auc                    0.531483\n",
      "False_positive_rate    0.529412\n",
      "False_negative_rate    0.394366\n",
      "dtype: float64\n",
      "------------ Dimention 74\n",
      "---- Do parameter tuning\n",
      "Scoring parameter balanced_accuracy\n",
      "Fitting 5 folds for each of 25 candidates, totalling 125 fits\n"
     ]
    },
    {
     "name": "stderr",
     "output_type": "stream",
     "text": [
      "[Parallel(n_jobs=12)]: Using backend LokyBackend with 12 concurrent workers.\n",
      "[Parallel(n_jobs=12)]: Done   8 tasks      | elapsed:    1.0s\n",
      "[Parallel(n_jobs=12)]: Done 125 out of 125 | elapsed:    6.1s finished\n"
     ]
    },
    {
     "name": "stdout",
     "output_type": "stream",
     "text": [
      "\n",
      " Time taken: 0 hours 0 minutes and 6.78 seconds.\n",
      "Best Score: 68.474%\n",
      "{'learning_rate': 0.07, 'max_delta_step': 2, 'n_estimators': 300, 'max_depth': 3, 'scale_pos_weight': 0.2, 'subsample': 0.6, 'min_child_weight': 1, 'colsample_bytree': 0.8, 'gamma': 0.5}\n"
     ]
    },
    {
     "name": "stderr",
     "output_type": "stream",
     "text": [
      "[Parallel(n_jobs=-1)]: Using backend LokyBackend with 16 concurrent workers.\n",
      "[Parallel(n_jobs=-1)]: Done   5 out of   5 | elapsed:    0.7s finished\n"
     ]
    },
    {
     "name": "stdout",
     "output_type": "stream",
     "text": [
      "--- Validation score\n",
      "balanced_accuracy    0.684744\n",
      "recall_0             0.583333\n",
      "precision_0          0.507022\n",
      "recall_1             0.786154\n",
      "precision_1          0.836482\n",
      "auc                  0.749759\n",
      "dtype: float64\n",
      "tn: 19, fp:32, fn:49, tp:93\n",
      "[[19 32]\n",
      " [49 93]]\n",
      "--- Test score\n",
      "balanced_accuracy      0.513739\n",
      "recall_0               0.372549\n",
      "precision_0            0.279412\n",
      "recall_1               0.654930\n",
      "precision_1            0.744000\n",
      "auc                    0.501657\n",
      "False_positive_rate    0.627451\n",
      "False_negative_rate    0.345070\n",
      "dtype: float64\n",
      "------------ Dimention 75\n",
      "---- Do parameter tuning\n",
      "Scoring parameter balanced_accuracy\n",
      "Fitting 5 folds for each of 25 candidates, totalling 125 fits\n"
     ]
    },
    {
     "name": "stderr",
     "output_type": "stream",
     "text": [
      "[Parallel(n_jobs=12)]: Using backend LokyBackend with 12 concurrent workers.\n",
      "[Parallel(n_jobs=12)]: Done   8 tasks      | elapsed:    1.1s\n",
      "[Parallel(n_jobs=12)]: Done 125 out of 125 | elapsed:    6.2s finished\n"
     ]
    },
    {
     "name": "stdout",
     "output_type": "stream",
     "text": [
      "\n",
      " Time taken: 0 hours 0 minutes and 7.39 seconds.\n",
      "Best Score: 68.834%\n",
      "{'learning_rate': 0.03, 'max_delta_step': 3, 'n_estimators': 700, 'max_depth': 4, 'scale_pos_weight': 0.2, 'subsample': 0.6, 'min_child_weight': 3, 'colsample_bytree': 1.0, 'gamma': 1.5}\n"
     ]
    },
    {
     "name": "stderr",
     "output_type": "stream",
     "text": [
      "[Parallel(n_jobs=-1)]: Using backend LokyBackend with 16 concurrent workers.\n",
      "[Parallel(n_jobs=-1)]: Done   5 out of   5 | elapsed:    1.1s finished\n"
     ]
    },
    {
     "name": "stdout",
     "output_type": "stream",
     "text": [
      "--- Validation score\n",
      "balanced_accuracy    0.688345\n",
      "recall_0             0.666667\n",
      "precision_0          0.459703\n",
      "recall_1             0.710023\n",
      "precision_1          0.852446\n",
      "auc                  0.755173\n",
      "dtype: float64\n",
      "tn: 23, fp:28, fn:56, tp:86\n",
      "[[23 28]\n",
      " [56 86]]\n",
      "--- Test score\n",
      "balanced_accuracy      0.528307\n",
      "recall_0               0.450980\n",
      "precision_0            0.291139\n",
      "recall_1               0.605634\n",
      "precision_1            0.754386\n",
      "auc                    0.522231\n",
      "False_positive_rate    0.549020\n",
      "False_negative_rate    0.394366\n",
      "dtype: float64\n",
      "------------ Dimention 76\n",
      "---- Do parameter tuning\n",
      "Scoring parameter balanced_accuracy\n",
      "Fitting 5 folds for each of 25 candidates, totalling 125 fits\n"
     ]
    },
    {
     "name": "stderr",
     "output_type": "stream",
     "text": [
      "[Parallel(n_jobs=12)]: Using backend LokyBackend with 12 concurrent workers.\n",
      "[Parallel(n_jobs=12)]: Done   8 tasks      | elapsed:    0.9s\n",
      "[Parallel(n_jobs=12)]: Done 125 out of 125 | elapsed:    6.3s finished\n"
     ]
    },
    {
     "name": "stdout",
     "output_type": "stream",
     "text": [
      "\n",
      " Time taken: 0 hours 0 minutes and 7.2 seconds.\n",
      "Best Score: 69.535%\n",
      "{'learning_rate': 0.05, 'max_delta_step': 4, 'n_estimators': 600, 'max_depth': 3, 'scale_pos_weight': 0.2, 'subsample': 0.6, 'min_child_weight': 5, 'colsample_bytree': 1.0, 'gamma': 0.5}\n"
     ]
    },
    {
     "name": "stderr",
     "output_type": "stream",
     "text": [
      "[Parallel(n_jobs=-1)]: Using backend LokyBackend with 16 concurrent workers.\n",
      "[Parallel(n_jobs=-1)]: Done   5 out of   5 | elapsed:    0.8s finished\n"
     ]
    },
    {
     "name": "stdout",
     "output_type": "stream",
     "text": [
      "--- Validation score\n",
      "balanced_accuracy    0.695350\n",
      "recall_0             0.650000\n",
      "precision_0          0.478507\n",
      "recall_1             0.740699\n",
      "precision_1          0.854219\n",
      "auc                  0.711595\n",
      "dtype: float64\n",
      "tn: 24, fp:27, fn:56, tp:86\n",
      "[[24 27]\n",
      " [56 86]]\n",
      "--- Test score\n",
      "balanced_accuracy      0.538111\n",
      "recall_0               0.470588\n",
      "precision_0            0.300000\n",
      "recall_1               0.605634\n",
      "precision_1            0.761062\n",
      "auc                    0.520574\n",
      "False_positive_rate    0.529412\n",
      "False_negative_rate    0.394366\n",
      "dtype: float64\n",
      "------------ Dimention 77\n",
      "---- Do parameter tuning\n",
      "Scoring parameter balanced_accuracy\n",
      "Fitting 5 folds for each of 25 candidates, totalling 125 fits\n"
     ]
    },
    {
     "name": "stderr",
     "output_type": "stream",
     "text": [
      "[Parallel(n_jobs=12)]: Using backend LokyBackend with 12 concurrent workers.\n",
      "[Parallel(n_jobs=12)]: Done   8 tasks      | elapsed:    1.0s\n",
      "[Parallel(n_jobs=12)]: Done 125 out of 125 | elapsed:    6.4s finished\n"
     ]
    },
    {
     "name": "stdout",
     "output_type": "stream",
     "text": [
      "\n",
      " Time taken: 0 hours 0 minutes and 7.06 seconds.\n",
      "Best Score: 69.658%\n",
      "{'learning_rate': 0.07, 'max_delta_step': 2, 'n_estimators': 300, 'max_depth': 3, 'scale_pos_weight': 0.2, 'subsample': 0.6, 'min_child_weight': 1, 'colsample_bytree': 0.8, 'gamma': 0.5}\n"
     ]
    },
    {
     "name": "stderr",
     "output_type": "stream",
     "text": [
      "[Parallel(n_jobs=-1)]: Using backend LokyBackend with 16 concurrent workers.\n",
      "[Parallel(n_jobs=-1)]: Done   5 out of   5 | elapsed:    0.7s finished\n"
     ]
    },
    {
     "name": "stdout",
     "output_type": "stream",
     "text": [
      "--- Validation score\n",
      "balanced_accuracy    0.696579\n",
      "recall_0             0.591667\n",
      "precision_0          0.523985\n",
      "recall_1             0.801492\n",
      "precision_1          0.842525\n",
      "auc                  0.757867\n",
      "dtype: float64\n",
      "tn: 20, fp:31, fn:46, tp:96\n",
      "[[20 31]\n",
      " [46 96]]\n",
      "--- Test score\n",
      "balanced_accuracy      0.534107\n",
      "recall_0               0.392157\n",
      "precision_0            0.303030\n",
      "recall_1               0.676056\n",
      "precision_1            0.755906\n",
      "auc                    0.527755\n",
      "False_positive_rate    0.607843\n",
      "False_negative_rate    0.323944\n",
      "dtype: float64\n",
      "------------ Dimention 78\n",
      "---- Do parameter tuning\n",
      "Scoring parameter balanced_accuracy\n",
      "Fitting 5 folds for each of 25 candidates, totalling 125 fits\n"
     ]
    },
    {
     "name": "stderr",
     "output_type": "stream",
     "text": [
      "[Parallel(n_jobs=12)]: Using backend LokyBackend with 12 concurrent workers.\n",
      "[Parallel(n_jobs=12)]: Done   8 tasks      | elapsed:    1.0s\n",
      "[Parallel(n_jobs=12)]: Done 125 out of 125 | elapsed:    6.4s finished\n"
     ]
    },
    {
     "name": "stdout",
     "output_type": "stream",
     "text": [
      "\n",
      " Time taken: 0 hours 0 minutes and 7.46 seconds.\n",
      "Best Score: 69.473%\n",
      "{'learning_rate': 0.01, 'max_delta_step': 5, 'n_estimators': 400, 'max_depth': 6, 'scale_pos_weight': 0.36, 'subsample': 0.6, 'min_child_weight': 3, 'colsample_bytree': 1.0, 'gamma': 1.5}\n"
     ]
    },
    {
     "name": "stderr",
     "output_type": "stream",
     "text": [
      "[Parallel(n_jobs=-1)]: Using backend LokyBackend with 16 concurrent workers.\n",
      "[Parallel(n_jobs=-1)]: Done   5 out of   5 | elapsed:    1.0s finished\n"
     ]
    },
    {
     "name": "stdout",
     "output_type": "stream",
     "text": [
      "--- Validation score\n",
      "balanced_accuracy    0.694732\n",
      "recall_0             0.566667\n",
      "precision_0          0.544710\n",
      "recall_1             0.822797\n",
      "precision_1          0.838083\n",
      "auc                  0.764217\n",
      "dtype: float64\n",
      "tn: 18, fp:33, fn:36, tp:106\n",
      "[[ 18  33]\n",
      " [ 36 106]]\n",
      "--- Test score\n",
      "balanced_accuracy      0.549710\n",
      "recall_0               0.352941\n",
      "precision_0            0.333333\n",
      "recall_1               0.746479\n",
      "precision_1            0.762590\n",
      "auc                    0.538663\n",
      "False_positive_rate    0.647059\n",
      "False_negative_rate    0.253521\n",
      "dtype: float64\n",
      "------------ Dimention 79\n",
      "---- Do parameter tuning\n",
      "Scoring parameter balanced_accuracy\n",
      "Fitting 5 folds for each of 25 candidates, totalling 125 fits\n"
     ]
    },
    {
     "name": "stderr",
     "output_type": "stream",
     "text": [
      "[Parallel(n_jobs=12)]: Using backend LokyBackend with 12 concurrent workers.\n",
      "[Parallel(n_jobs=12)]: Done   8 tasks      | elapsed:    1.0s\n",
      "[Parallel(n_jobs=12)]: Done 125 out of 125 | elapsed:    6.5s finished\n"
     ]
    },
    {
     "name": "stdout",
     "output_type": "stream",
     "text": [
      "\n",
      " Time taken: 0 hours 0 minutes and 7.6 seconds.\n",
      "Best Score: 69.215%\n",
      "{'learning_rate': 0.01, 'max_delta_step': 5, 'n_estimators': 400, 'max_depth': 6, 'scale_pos_weight': 0.36, 'subsample': 0.6, 'min_child_weight': 3, 'colsample_bytree': 1.0, 'gamma': 1.5}\n"
     ]
    },
    {
     "name": "stderr",
     "output_type": "stream",
     "text": [
      "[Parallel(n_jobs=-1)]: Using backend LokyBackend with 16 concurrent workers.\n",
      "[Parallel(n_jobs=-1)]: Done   5 out of   5 | elapsed:    1.0s finished\n"
     ]
    },
    {
     "name": "stdout",
     "output_type": "stream",
     "text": [
      "--- Validation score\n",
      "balanced_accuracy    0.692150\n",
      "recall_0             0.558333\n",
      "precision_0          0.542332\n",
      "recall_1             0.825967\n",
      "precision_1          0.836268\n",
      "auc                  0.760321\n",
      "dtype: float64\n",
      "tn: 17, fp:34, fn:39, tp:103\n",
      "[[ 17  34]\n",
      " [ 39 103]]\n",
      "--- Test score\n",
      "balanced_accuracy      0.529343\n",
      "recall_0               0.333333\n",
      "precision_0            0.303571\n",
      "recall_1               0.725352\n",
      "precision_1            0.751825\n",
      "auc                    0.541287\n",
      "False_positive_rate    0.666667\n",
      "False_negative_rate    0.274648\n",
      "dtype: float64\n",
      "------------ Dimention 80\n",
      "---- Do parameter tuning\n",
      "Scoring parameter balanced_accuracy\n",
      "Fitting 5 folds for each of 25 candidates, totalling 125 fits\n"
     ]
    },
    {
     "name": "stderr",
     "output_type": "stream",
     "text": [
      "[Parallel(n_jobs=12)]: Using backend LokyBackend with 12 concurrent workers.\n",
      "[Parallel(n_jobs=12)]: Done   8 tasks      | elapsed:    1.1s\n",
      "[Parallel(n_jobs=12)]: Done 125 out of 125 | elapsed:    6.6s finished\n"
     ]
    },
    {
     "name": "stdout",
     "output_type": "stream",
     "text": [
      "\n",
      " Time taken: 0 hours 0 minutes and 7.73 seconds.\n",
      "Best Score: 68.905%\n",
      "{'learning_rate': 0.01, 'max_delta_step': 5, 'n_estimators': 400, 'max_depth': 6, 'scale_pos_weight': 0.36, 'subsample': 0.6, 'min_child_weight': 3, 'colsample_bytree': 1.0, 'gamma': 1.5}\n"
     ]
    },
    {
     "name": "stderr",
     "output_type": "stream",
     "text": [
      "[Parallel(n_jobs=-1)]: Using backend LokyBackend with 16 concurrent workers.\n",
      "[Parallel(n_jobs=-1)]: Done   5 out of   5 | elapsed:    1.0s finished\n"
     ]
    },
    {
     "name": "stdout",
     "output_type": "stream",
     "text": [
      "--- Validation score\n",
      "balanced_accuracy    0.689050\n",
      "recall_0             0.558333\n",
      "precision_0          0.533396\n",
      "recall_1             0.819767\n",
      "precision_1          0.835336\n",
      "auc                  0.763934\n",
      "dtype: float64\n",
      "tn: 17, fp:34, fn:34, tp:108\n",
      "[[ 17  34]\n",
      " [ 34 108]]\n",
      "--- Test score\n",
      "balanced_accuracy      0.546948\n",
      "recall_0               0.333333\n",
      "precision_0            0.333333\n",
      "recall_1               0.760563\n",
      "precision_1            0.760563\n",
      "auc                    0.539630\n",
      "False_positive_rate    0.666667\n",
      "False_negative_rate    0.239437\n",
      "dtype: float64\n",
      "------------ Dimention 81\n",
      "---- Do parameter tuning\n",
      "Scoring parameter balanced_accuracy\n",
      "Fitting 5 folds for each of 25 candidates, totalling 125 fits\n"
     ]
    },
    {
     "name": "stderr",
     "output_type": "stream",
     "text": [
      "[Parallel(n_jobs=12)]: Using backend LokyBackend with 12 concurrent workers.\n",
      "[Parallel(n_jobs=12)]: Done   8 tasks      | elapsed:    0.9s\n",
      "[Parallel(n_jobs=12)]: Done 125 out of 125 | elapsed:    6.6s finished\n"
     ]
    },
    {
     "name": "stdout",
     "output_type": "stream",
     "text": [
      "\n",
      " Time taken: 0 hours 0 minutes and 7.85 seconds.\n",
      "Best Score: 69.093%\n",
      "{'learning_rate': 0.05, 'max_delta_step': 5, 'n_estimators': 700, 'max_depth': 3, 'scale_pos_weight': 0.2, 'subsample': 1.0, 'min_child_weight': 2, 'colsample_bytree': 0.8, 'gamma': 2}\n"
     ]
    },
    {
     "name": "stderr",
     "output_type": "stream",
     "text": [
      "[Parallel(n_jobs=-1)]: Using backend LokyBackend with 16 concurrent workers.\n",
      "[Parallel(n_jobs=-1)]: Done   5 out of   5 | elapsed:    1.1s finished\n"
     ]
    },
    {
     "name": "stdout",
     "output_type": "stream",
     "text": [
      "--- Validation score\n",
      "balanced_accuracy    0.690927\n",
      "recall_0             0.741667\n",
      "precision_0          0.430367\n",
      "recall_1             0.640186\n",
      "precision_1          0.876332\n",
      "auc                  0.741521\n",
      "dtype: float64\n",
      "tn: 27, fp:24, fn:67, tp:75\n",
      "[[27 24]\n",
      " [67 75]]\n",
      "--- Test score\n",
      "balanced_accuracy      0.528790\n",
      "recall_0               0.529412\n",
      "precision_0            0.287234\n",
      "recall_1               0.528169\n",
      "precision_1            0.757576\n",
      "auc                    0.569180\n",
      "False_positive_rate    0.470588\n",
      "False_negative_rate    0.471831\n",
      "dtype: float64\n",
      "------------ Dimention 82\n",
      "---- Do parameter tuning\n",
      "Scoring parameter balanced_accuracy\n",
      "Fitting 5 folds for each of 25 candidates, totalling 125 fits\n"
     ]
    },
    {
     "name": "stderr",
     "output_type": "stream",
     "text": [
      "[Parallel(n_jobs=12)]: Using backend LokyBackend with 12 concurrent workers.\n",
      "[Parallel(n_jobs=12)]: Done   8 tasks      | elapsed:    1.1s\n",
      "[Parallel(n_jobs=12)]: Done 125 out of 125 | elapsed:    6.7s finished\n"
     ]
    },
    {
     "name": "stdout",
     "output_type": "stream",
     "text": [
      "\n",
      " Time taken: 0 hours 0 minutes and 7.78 seconds.\n",
      "Best Score: 69.156%\n",
      "{'learning_rate': 0.02, 'max_delta_step': 2, 'n_estimators': 300, 'max_depth': 6, 'scale_pos_weight': 0.36, 'subsample': 0.8, 'min_child_weight': 2, 'colsample_bytree': 0.8, 'gamma': 5}\n"
     ]
    },
    {
     "name": "stderr",
     "output_type": "stream",
     "text": [
      "[Parallel(n_jobs=-1)]: Using backend LokyBackend with 16 concurrent workers.\n",
      "[Parallel(n_jobs=-1)]: Done   5 out of   5 | elapsed:    0.9s finished\n"
     ]
    },
    {
     "name": "stdout",
     "output_type": "stream",
     "text": [
      "--- Validation score\n",
      "balanced_accuracy    0.691562\n",
      "recall_0             0.633333\n",
      "precision_0          0.485136\n",
      "recall_1             0.749790\n",
      "precision_1          0.847588\n",
      "auc                  0.761158\n",
      "dtype: float64\n",
      "tn: 22, fp:29, fn:49, tp:93\n",
      "[[22 29]\n",
      " [49 93]]\n",
      "--- Test score\n",
      "balanced_accuracy      0.543151\n",
      "recall_0               0.431373\n",
      "precision_0            0.309859\n",
      "recall_1               0.654930\n",
      "precision_1            0.762295\n",
      "auc                    0.553991\n",
      "False_positive_rate    0.568627\n",
      "False_negative_rate    0.345070\n",
      "dtype: float64\n",
      "------------ Dimention 83\n",
      "---- Do parameter tuning\n",
      "Scoring parameter balanced_accuracy\n",
      "Fitting 5 folds for each of 25 candidates, totalling 125 fits\n"
     ]
    },
    {
     "name": "stderr",
     "output_type": "stream",
     "text": [
      "[Parallel(n_jobs=12)]: Using backend LokyBackend with 12 concurrent workers.\n",
      "[Parallel(n_jobs=12)]: Done   8 tasks      | elapsed:    1.0s\n",
      "[Parallel(n_jobs=12)]: Done 125 out of 125 | elapsed:    6.7s finished\n"
     ]
    },
    {
     "name": "stdout",
     "output_type": "stream",
     "text": [
      "\n",
      " Time taken: 0 hours 0 minutes and 7.83 seconds.\n",
      "Best Score: 69.987%\n",
      "{'learning_rate': 0.02, 'max_delta_step': 4, 'n_estimators': 500, 'max_depth': 5, 'scale_pos_weight': 0.36, 'subsample': 0.6, 'min_child_weight': 4, 'colsample_bytree': 1.0, 'gamma': 5}\n"
     ]
    },
    {
     "name": "stderr",
     "output_type": "stream",
     "text": [
      "[Parallel(n_jobs=-1)]: Using backend LokyBackend with 16 concurrent workers.\n",
      "[Parallel(n_jobs=-1)]: Done   5 out of   5 | elapsed:    1.0s finished\n"
     ]
    },
    {
     "name": "stdout",
     "output_type": "stream",
     "text": [
      "--- Validation score\n",
      "balanced_accuracy    0.699872\n",
      "recall_0             0.650000\n",
      "precision_0          0.488763\n",
      "recall_1             0.749744\n",
      "precision_1          0.854333\n",
      "auc                  0.759237\n",
      "dtype: float64\n",
      "tn: 20, fp:31, fn:44, tp:98\n",
      "[[20 31]\n",
      " [44 98]]\n",
      "--- Test score\n",
      "balanced_accuracy      0.541149\n",
      "recall_0               0.392157\n",
      "precision_0            0.312500\n",
      "recall_1               0.690141\n",
      "precision_1            0.759690\n",
      "auc                    0.555786\n",
      "False_positive_rate    0.607843\n",
      "False_negative_rate    0.309859\n",
      "dtype: float64\n",
      "------------ Dimention 84\n",
      "---- Do parameter tuning\n",
      "Scoring parameter balanced_accuracy\n",
      "Fitting 5 folds for each of 25 candidates, totalling 125 fits\n"
     ]
    },
    {
     "name": "stderr",
     "output_type": "stream",
     "text": [
      "[Parallel(n_jobs=12)]: Using backend LokyBackend with 12 concurrent workers.\n",
      "[Parallel(n_jobs=12)]: Done   8 tasks      | elapsed:    1.1s\n",
      "[Parallel(n_jobs=12)]: Done 125 out of 125 | elapsed:    6.8s finished\n"
     ]
    },
    {
     "name": "stdout",
     "output_type": "stream",
     "text": [
      "\n",
      " Time taken: 0 hours 0 minutes and 7.54 seconds.\n",
      "Best Score: 68.299%\n",
      "{'learning_rate': 0.07, 'max_delta_step': 2, 'n_estimators': 300, 'max_depth': 3, 'scale_pos_weight': 0.2, 'subsample': 0.6, 'min_child_weight': 1, 'colsample_bytree': 0.8, 'gamma': 0.5}\n"
     ]
    },
    {
     "name": "stderr",
     "output_type": "stream",
     "text": [
      "[Parallel(n_jobs=-1)]: Using backend LokyBackend with 16 concurrent workers.\n",
      "[Parallel(n_jobs=-1)]: Done   5 out of   5 | elapsed:    0.7s finished\n"
     ]
    },
    {
     "name": "stdout",
     "output_type": "stream",
     "text": [
      "--- Validation score\n",
      "balanced_accuracy    0.682990\n",
      "recall_0             0.558333\n",
      "precision_0          0.507756\n",
      "recall_1             0.807646\n",
      "precision_1          0.835460\n",
      "auc                  0.732143\n",
      "dtype: float64\n",
      "tn: 18, fp:33, fn:42, tp:100\n",
      "[[ 18  33]\n",
      " [ 42 100]]\n",
      "--- Test score\n",
      "balanced_accuracy      0.528583\n",
      "recall_0               0.352941\n",
      "precision_0            0.300000\n",
      "recall_1               0.704225\n",
      "precision_1            0.751880\n",
      "auc                    0.535626\n",
      "False_positive_rate    0.647059\n",
      "False_negative_rate    0.295775\n",
      "dtype: float64\n",
      "------------ Dimention 85\n",
      "---- Do parameter tuning\n",
      "Scoring parameter balanced_accuracy\n",
      "Fitting 5 folds for each of 25 candidates, totalling 125 fits\n"
     ]
    },
    {
     "name": "stderr",
     "output_type": "stream",
     "text": [
      "[Parallel(n_jobs=12)]: Using backend LokyBackend with 12 concurrent workers.\n",
      "[Parallel(n_jobs=12)]: Done   8 tasks      | elapsed:    1.0s\n",
      "[Parallel(n_jobs=12)]: Done 125 out of 125 | elapsed:    6.9s finished\n"
     ]
    },
    {
     "name": "stdout",
     "output_type": "stream",
     "text": [
      "\n",
      " Time taken: 0 hours 0 minutes and 7.73 seconds.\n",
      "Best Score: 68.820%\n",
      "{'learning_rate': 0.07, 'max_delta_step': 2, 'n_estimators': 300, 'max_depth': 3, 'scale_pos_weight': 0.2, 'subsample': 0.6, 'min_child_weight': 1, 'colsample_bytree': 0.8, 'gamma': 0.5}\n"
     ]
    },
    {
     "name": "stderr",
     "output_type": "stream",
     "text": [
      "[Parallel(n_jobs=-1)]: Using backend LokyBackend with 16 concurrent workers.\n",
      "[Parallel(n_jobs=-1)]: Done   5 out of   5 | elapsed:    0.8s finished\n"
     ]
    },
    {
     "name": "stdout",
     "output_type": "stream",
     "text": [
      "--- Validation score\n",
      "balanced_accuracy    0.688199\n",
      "recall_0             0.575000\n",
      "precision_0          0.519344\n",
      "recall_1             0.801399\n",
      "precision_1          0.837086\n",
      "auc                  0.755754\n",
      "dtype: float64\n",
      "tn: 16, fp:35, fn:38, tp:104\n",
      "[[ 16  35]\n",
      " [ 38 104]]\n",
      "--- Test score\n",
      "balanced_accuracy      0.523060\n",
      "recall_0               0.313725\n",
      "precision_0            0.296296\n",
      "recall_1               0.732394\n",
      "precision_1            0.748201\n",
      "auc                    0.515603\n",
      "False_positive_rate    0.686275\n",
      "False_negative_rate    0.267606\n",
      "dtype: float64\n",
      "------------ Dimention 86\n",
      "---- Do parameter tuning\n",
      "Scoring parameter balanced_accuracy\n",
      "Fitting 5 folds for each of 25 candidates, totalling 125 fits\n"
     ]
    },
    {
     "name": "stderr",
     "output_type": "stream",
     "text": [
      "[Parallel(n_jobs=12)]: Using backend LokyBackend with 12 concurrent workers.\n",
      "[Parallel(n_jobs=12)]: Done   8 tasks      | elapsed:    1.1s\n",
      "[Parallel(n_jobs=12)]: Done 125 out of 125 | elapsed:    7.0s finished\n"
     ]
    },
    {
     "name": "stdout",
     "output_type": "stream",
     "text": [
      "\n",
      " Time taken: 0 hours 0 minutes and 7.81 seconds.\n",
      "Best Score: 68.261%\n",
      "{'learning_rate': 0.07, 'max_delta_step': 2, 'n_estimators': 300, 'max_depth': 3, 'scale_pos_weight': 0.2, 'subsample': 0.6, 'min_child_weight': 1, 'colsample_bytree': 0.8, 'gamma': 0.5}\n"
     ]
    },
    {
     "name": "stderr",
     "output_type": "stream",
     "text": [
      "[Parallel(n_jobs=-1)]: Using backend LokyBackend with 16 concurrent workers.\n",
      "[Parallel(n_jobs=-1)]: Done   5 out of   5 | elapsed:    0.8s finished\n"
     ]
    },
    {
     "name": "stdout",
     "output_type": "stream",
     "text": [
      "--- Validation score\n",
      "balanced_accuracy    0.682611\n",
      "recall_0             0.566667\n",
      "precision_0          0.504468\n",
      "recall_1             0.798555\n",
      "precision_1          0.835028\n",
      "auc                  0.751482\n",
      "dtype: float64\n",
      "tn: 18, fp:33, fn:37, tp:105\n",
      "[[ 18  33]\n",
      " [ 37 105]]\n",
      "--- Test score\n",
      "balanced_accuracy      0.546189\n",
      "recall_0               0.352941\n",
      "precision_0            0.327273\n",
      "recall_1               0.739437\n",
      "precision_1            0.760870\n",
      "auc                    0.535764\n",
      "False_positive_rate    0.647059\n",
      "False_negative_rate    0.260563\n",
      "dtype: float64\n",
      "------------ Dimention 87\n",
      "---- Do parameter tuning\n",
      "Scoring parameter balanced_accuracy\n",
      "Fitting 5 folds for each of 25 candidates, totalling 125 fits\n"
     ]
    },
    {
     "name": "stderr",
     "output_type": "stream",
     "text": [
      "[Parallel(n_jobs=12)]: Using backend LokyBackend with 12 concurrent workers.\n",
      "[Parallel(n_jobs=12)]: Done   8 tasks      | elapsed:    1.2s\n",
      "[Parallel(n_jobs=12)]: Done 125 out of 125 | elapsed:    7.1s finished\n"
     ]
    },
    {
     "name": "stdout",
     "output_type": "stream",
     "text": [
      "\n",
      " Time taken: 0 hours 0 minutes and 8.27 seconds.\n",
      "Best Score: 68.325%\n",
      "{'learning_rate': 0.02, 'max_delta_step': 4, 'n_estimators': 500, 'max_depth': 5, 'scale_pos_weight': 0.36, 'subsample': 0.6, 'min_child_weight': 4, 'colsample_bytree': 1.0, 'gamma': 5}\n"
     ]
    },
    {
     "name": "stderr",
     "output_type": "stream",
     "text": [
      "[Parallel(n_jobs=-1)]: Using backend LokyBackend with 16 concurrent workers.\n",
      "[Parallel(n_jobs=-1)]: Done   5 out of   5 | elapsed:    1.0s finished\n"
     ]
    },
    {
     "name": "stdout",
     "output_type": "stream",
     "text": [
      "--- Validation score\n",
      "balanced_accuracy    0.683252\n",
      "recall_0             0.616667\n",
      "precision_0          0.475945\n",
      "recall_1             0.749837\n",
      "precision_1          0.843208\n",
      "auc                  0.756171\n",
      "dtype: float64\n",
      "tn: 21, fp:30, fn:45, tp:97\n",
      "[[21 30]\n",
      " [45 97]]\n",
      "--- Test score\n",
      "balanced_accuracy      0.547432\n",
      "recall_0               0.411765\n",
      "precision_0            0.318182\n",
      "recall_1               0.683099\n",
      "precision_1            0.763780\n",
      "auc                    0.563518\n",
      "False_positive_rate    0.588235\n",
      "False_negative_rate    0.316901\n",
      "dtype: float64\n",
      "------------ Dimention 88\n",
      "---- Do parameter tuning\n",
      "Scoring parameter balanced_accuracy\n",
      "Fitting 5 folds for each of 25 candidates, totalling 125 fits\n"
     ]
    },
    {
     "name": "stderr",
     "output_type": "stream",
     "text": [
      "[Parallel(n_jobs=12)]: Using backend LokyBackend with 12 concurrent workers.\n",
      "[Parallel(n_jobs=12)]: Done   8 tasks      | elapsed:    1.0s\n",
      "[Parallel(n_jobs=12)]: Done 125 out of 125 | elapsed:    7.0s finished\n"
     ]
    },
    {
     "name": "stdout",
     "output_type": "stream",
     "text": [
      "\n",
      " Time taken: 0 hours 0 minutes and 8.38 seconds.\n",
      "Best Score: 68.184%\n",
      "{'learning_rate': 0.05, 'max_delta_step': 5, 'n_estimators': 700, 'max_depth': 3, 'scale_pos_weight': 0.2, 'subsample': 1.0, 'min_child_weight': 2, 'colsample_bytree': 0.8, 'gamma': 2}\n"
     ]
    },
    {
     "name": "stderr",
     "output_type": "stream",
     "text": [
      "[Parallel(n_jobs=-1)]: Using backend LokyBackend with 16 concurrent workers.\n",
      "[Parallel(n_jobs=-1)]: Done   5 out of   5 | elapsed:    1.2s finished\n"
     ]
    },
    {
     "name": "stdout",
     "output_type": "stream",
     "text": [
      "--- Validation score\n",
      "balanced_accuracy    0.681836\n",
      "recall_0             0.708333\n",
      "precision_0          0.431325\n",
      "recall_1             0.655338\n",
      "precision_1          0.860954\n",
      "auc                  0.731544\n",
      "dtype: float64\n",
      "tn: 30, fp:21, fn:66, tp:76\n",
      "[[30 21]\n",
      " [66 76]]\n",
      "--- Test score\n",
      "balanced_accuracy      0.561723\n",
      "recall_0               0.588235\n",
      "precision_0            0.312500\n",
      "recall_1               0.535211\n",
      "precision_1            0.783505\n",
      "auc                    0.586578\n",
      "False_positive_rate    0.411765\n",
      "False_negative_rate    0.464789\n",
      "dtype: float64\n",
      "------------ Dimention 89\n",
      "---- Do parameter tuning\n",
      "Scoring parameter balanced_accuracy\n",
      "Fitting 5 folds for each of 25 candidates, totalling 125 fits\n"
     ]
    },
    {
     "name": "stderr",
     "output_type": "stream",
     "text": [
      "[Parallel(n_jobs=12)]: Using backend LokyBackend with 12 concurrent workers.\n",
      "[Parallel(n_jobs=12)]: Done   8 tasks      | elapsed:    1.2s\n",
      "[Parallel(n_jobs=12)]: Done 125 out of 125 | elapsed:    7.2s finished\n"
     ]
    },
    {
     "name": "stdout",
     "output_type": "stream",
     "text": [
      "\n",
      " Time taken: 0 hours 0 minutes and 8.48 seconds.\n",
      "Best Score: 67.864%\n",
      "{'learning_rate': 0.02, 'max_delta_step': 4, 'n_estimators': 500, 'max_depth': 5, 'scale_pos_weight': 0.36, 'subsample': 0.6, 'min_child_weight': 4, 'colsample_bytree': 1.0, 'gamma': 5}\n"
     ]
    },
    {
     "name": "stderr",
     "output_type": "stream",
     "text": [
      "[Parallel(n_jobs=-1)]: Using backend LokyBackend with 16 concurrent workers.\n",
      "[Parallel(n_jobs=-1)]: Done   5 out of   5 | elapsed:    1.1s finished\n"
     ]
    },
    {
     "name": "stdout",
     "output_type": "stream",
     "text": [
      "--- Validation score\n",
      "balanced_accuracy    0.678636\n",
      "recall_0             0.616667\n",
      "precision_0          0.464532\n",
      "recall_1             0.740606\n",
      "precision_1          0.841344\n",
      "auc                  0.760418\n",
      "dtype: float64\n",
      "tn: 21, fp:30, fn:44, tp:98\n",
      "[[21 30]\n",
      " [44 98]]\n",
      "--- Test score\n",
      "balanced_accuracy      0.550953\n",
      "recall_0               0.411765\n",
      "precision_0            0.323077\n",
      "recall_1               0.690141\n",
      "precision_1            0.765625\n",
      "auc                    0.549572\n",
      "False_positive_rate    0.588235\n",
      "False_negative_rate    0.309859\n",
      "dtype: float64\n",
      "------------ Dimention 90\n",
      "---- Do parameter tuning\n",
      "Scoring parameter balanced_accuracy\n",
      "Fitting 5 folds for each of 25 candidates, totalling 125 fits\n"
     ]
    },
    {
     "name": "stderr",
     "output_type": "stream",
     "text": [
      "[Parallel(n_jobs=12)]: Using backend LokyBackend with 12 concurrent workers.\n",
      "[Parallel(n_jobs=12)]: Done   8 tasks      | elapsed:    1.2s\n",
      "[Parallel(n_jobs=12)]: Done 125 out of 125 | elapsed:    7.3s finished\n"
     ]
    },
    {
     "name": "stdout",
     "output_type": "stream",
     "text": [
      "\n",
      " Time taken: 0 hours 0 minutes and 8.47 seconds.\n",
      "Best Score: 67.987%\n",
      "{'learning_rate': 0.02, 'max_delta_step': 2, 'n_estimators': 300, 'max_depth': 6, 'scale_pos_weight': 0.36, 'subsample': 0.8, 'min_child_weight': 2, 'colsample_bytree': 0.8, 'gamma': 5}\n"
     ]
    },
    {
     "name": "stderr",
     "output_type": "stream",
     "text": [
      "[Parallel(n_jobs=-1)]: Using backend LokyBackend with 16 concurrent workers.\n",
      "[Parallel(n_jobs=-1)]: Done   5 out of   5 | elapsed:    1.0s finished\n"
     ]
    },
    {
     "name": "stdout",
     "output_type": "stream",
     "text": [
      "--- Validation score\n",
      "balanced_accuracy    0.679866\n",
      "recall_0             0.591667\n",
      "precision_0          0.487059\n",
      "recall_1             0.768065\n",
      "precision_1          0.836917\n",
      "auc                  0.751107\n",
      "dtype: float64\n",
      "tn: 23, fp:28, fn:48, tp:94\n",
      "[[23 28]\n",
      " [48 94]]\n",
      "--- Test score\n",
      "balanced_accuracy      0.556476\n",
      "recall_0               0.450980\n",
      "precision_0            0.323944\n",
      "recall_1               0.661972\n",
      "precision_1            0.770492\n",
      "auc                    0.566280\n",
      "False_positive_rate    0.549020\n",
      "False_negative_rate    0.338028\n",
      "dtype: float64\n",
      "------------ Dimention 91\n",
      "---- Do parameter tuning\n",
      "Scoring parameter balanced_accuracy\n",
      "Fitting 5 folds for each of 25 candidates, totalling 125 fits\n"
     ]
    },
    {
     "name": "stderr",
     "output_type": "stream",
     "text": [
      "[Parallel(n_jobs=12)]: Using backend LokyBackend with 12 concurrent workers.\n",
      "[Parallel(n_jobs=12)]: Done   8 tasks      | elapsed:    1.1s\n",
      "[Parallel(n_jobs=12)]: Done 125 out of 125 | elapsed:    7.3s finished\n"
     ]
    },
    {
     "name": "stdout",
     "output_type": "stream",
     "text": [
      "\n",
      " Time taken: 0 hours 0 minutes and 8.12 seconds.\n",
      "Best Score: 68.727%\n",
      "{'learning_rate': 0.07, 'max_delta_step': 3, 'n_estimators': 400, 'max_depth': 6, 'scale_pos_weight': 0.36, 'subsample': 0.6, 'min_child_weight': 4, 'colsample_bytree': 0.6, 'gamma': 1.5}\n"
     ]
    },
    {
     "name": "stderr",
     "output_type": "stream",
     "text": [
      "[Parallel(n_jobs=-1)]: Using backend LokyBackend with 16 concurrent workers.\n",
      "[Parallel(n_jobs=-1)]: Done   5 out of   5 | elapsed:    0.3s finished\n"
     ]
    },
    {
     "name": "stdout",
     "output_type": "stream",
     "text": [
      "--- Validation score\n",
      "balanced_accuracy    0.687273\n",
      "recall_0             0.533333\n",
      "precision_0          0.545652\n",
      "recall_1             0.841212\n",
      "precision_1          0.832276\n",
      "auc                  0.730326\n",
      "dtype: float64\n",
      "tn: 18, fp:33, fn:34, tp:108\n",
      "[[ 18  33]\n",
      " [ 34 108]]\n",
      "--- Test score\n",
      "balanced_accuracy      0.556752\n",
      "recall_0               0.352941\n",
      "precision_0            0.346154\n",
      "recall_1               0.760563\n",
      "precision_1            0.765957\n",
      "auc                    0.555371\n",
      "False_positive_rate    0.647059\n",
      "False_negative_rate    0.239437\n",
      "dtype: float64\n",
      "------------ Dimention 92\n",
      "---- Do parameter tuning\n",
      "Scoring parameter balanced_accuracy\n",
      "Fitting 5 folds for each of 25 candidates, totalling 125 fits\n"
     ]
    },
    {
     "name": "stderr",
     "output_type": "stream",
     "text": [
      "[Parallel(n_jobs=12)]: Using backend LokyBackend with 12 concurrent workers.\n",
      "[Parallel(n_jobs=12)]: Done   8 tasks      | elapsed:    1.0s\n",
      "[Parallel(n_jobs=12)]: Done 125 out of 125 | elapsed:    7.3s finished\n"
     ]
    },
    {
     "name": "stdout",
     "output_type": "stream",
     "text": [
      "\n",
      " Time taken: 0 hours 0 minutes and 8.65 seconds.\n",
      "Best Score: 69.173%\n",
      "{'learning_rate': 0.03, 'max_delta_step': 3, 'n_estimators': 700, 'max_depth': 4, 'scale_pos_weight': 0.2, 'subsample': 0.6, 'min_child_weight': 3, 'colsample_bytree': 1.0, 'gamma': 1.5}\n"
     ]
    },
    {
     "name": "stderr",
     "output_type": "stream",
     "text": [
      "[Parallel(n_jobs=-1)]: Using backend LokyBackend with 16 concurrent workers.\n",
      "[Parallel(n_jobs=-1)]: Done   5 out of   5 | elapsed:    1.2s finished\n"
     ]
    },
    {
     "name": "stdout",
     "output_type": "stream",
     "text": [
      "--- Validation score\n",
      "balanced_accuracy    0.691731\n",
      "recall_0             0.658333\n",
      "precision_0          0.472397\n",
      "recall_1             0.725128\n",
      "precision_1          0.851071\n",
      "auc                  0.740227\n",
      "dtype: float64\n",
      "tn: 22, fp:29, fn:49, tp:93\n",
      "[[22 29]\n",
      " [49 93]]\n",
      "--- Test score\n",
      "balanced_accuracy      0.543151\n",
      "recall_0               0.431373\n",
      "precision_0            0.309859\n",
      "recall_1               0.654930\n",
      "precision_1            0.762295\n",
      "auc                    0.547501\n",
      "False_positive_rate    0.568627\n",
      "False_negative_rate    0.345070\n",
      "dtype: float64\n",
      "------------ Dimention 93\n",
      "---- Do parameter tuning\n",
      "Scoring parameter balanced_accuracy\n",
      "Fitting 5 folds for each of 25 candidates, totalling 125 fits\n"
     ]
    },
    {
     "name": "stderr",
     "output_type": "stream",
     "text": [
      "[Parallel(n_jobs=12)]: Using backend LokyBackend with 12 concurrent workers.\n",
      "[Parallel(n_jobs=12)]: Done   8 tasks      | elapsed:    1.0s\n",
      "[Parallel(n_jobs=12)]: Done 125 out of 125 | elapsed:    7.4s finished\n"
     ]
    },
    {
     "name": "stdout",
     "output_type": "stream",
     "text": [
      "\n",
      " Time taken: 0 hours 0 minutes and 8.41 seconds.\n",
      "Best Score: 68.628%\n",
      "{'learning_rate': 0.02, 'max_delta_step': 2, 'n_estimators': 300, 'max_depth': 6, 'scale_pos_weight': 0.36, 'subsample': 0.8, 'min_child_weight': 2, 'colsample_bytree': 0.8, 'gamma': 5}\n"
     ]
    },
    {
     "name": "stderr",
     "output_type": "stream",
     "text": [
      "[Parallel(n_jobs=-1)]: Using backend LokyBackend with 16 concurrent workers.\n",
      "[Parallel(n_jobs=-1)]: Done   5 out of   5 | elapsed:    1.0s finished\n"
     ]
    },
    {
     "name": "stdout",
     "output_type": "stream",
     "text": [
      "--- Validation score\n",
      "balanced_accuracy    0.686282\n",
      "recall_0             0.616667\n",
      "precision_0          0.482941\n",
      "recall_1             0.755897\n",
      "precision_1          0.843458\n",
      "auc                  0.753590\n",
      "dtype: float64\n",
      "tn: 22, fp:29, fn:43, tp:99\n",
      "[[22 29]\n",
      " [43 99]]\n",
      "--- Test score\n",
      "balanced_accuracy      0.564278\n",
      "recall_0               0.431373\n",
      "precision_0            0.338462\n",
      "recall_1               0.697183\n",
      "precision_1            0.773438\n",
      "auc                    0.578984\n",
      "False_positive_rate    0.568627\n",
      "False_negative_rate    0.302817\n",
      "dtype: float64\n",
      "------------ Dimention 94\n",
      "---- Do parameter tuning\n",
      "Scoring parameter balanced_accuracy\n",
      "Fitting 5 folds for each of 25 candidates, totalling 125 fits\n"
     ]
    },
    {
     "name": "stderr",
     "output_type": "stream",
     "text": [
      "[Parallel(n_jobs=12)]: Using backend LokyBackend with 12 concurrent workers.\n",
      "[Parallel(n_jobs=12)]: Done   8 tasks      | elapsed:    1.2s\n",
      "[Parallel(n_jobs=12)]: Done 125 out of 125 | elapsed:    7.6s finished\n"
     ]
    },
    {
     "name": "stdout",
     "output_type": "stream",
     "text": [
      "\n",
      " Time taken: 0 hours 0 minutes and 8.99 seconds.\n",
      "Best Score: 68.444%\n",
      "{'learning_rate': 0.05, 'max_delta_step': 5, 'n_estimators': 700, 'max_depth': 3, 'scale_pos_weight': 0.2, 'subsample': 1.0, 'min_child_weight': 2, 'colsample_bytree': 0.8, 'gamma': 2}\n"
     ]
    },
    {
     "name": "stderr",
     "output_type": "stream",
     "text": [
      "[Parallel(n_jobs=-1)]: Using backend LokyBackend with 16 concurrent workers.\n",
      "[Parallel(n_jobs=-1)]: Done   5 out of   5 | elapsed:    1.2s finished\n"
     ]
    },
    {
     "name": "stdout",
     "output_type": "stream",
     "text": [
      "--- Validation score\n",
      "balanced_accuracy    0.684441\n",
      "recall_0             0.716667\n",
      "precision_0          0.433891\n",
      "recall_1             0.652214\n",
      "precision_1          0.861729\n",
      "auc                  0.735983\n",
      "dtype: float64\n",
      "tn: 30, fp:21, fn:69, tp:73\n",
      "[[30 21]\n",
      " [69 73]]\n",
      "--- Test score\n",
      "balanced_accuracy      0.551160\n",
      "recall_0               0.588235\n",
      "precision_0            0.303030\n",
      "recall_1               0.514085\n",
      "precision_1            0.776596\n",
      "auc                    0.578155\n",
      "False_positive_rate    0.411765\n",
      "False_negative_rate    0.485915\n",
      "dtype: float64\n",
      "------------ Dimention 95\n",
      "---- Do parameter tuning\n",
      "Scoring parameter balanced_accuracy\n",
      "Fitting 5 folds for each of 25 candidates, totalling 125 fits\n"
     ]
    },
    {
     "name": "stderr",
     "output_type": "stream",
     "text": [
      "[Parallel(n_jobs=12)]: Using backend LokyBackend with 12 concurrent workers.\n",
      "[Parallel(n_jobs=12)]: Done   8 tasks      | elapsed:    1.1s\n",
      "[Parallel(n_jobs=12)]: Done 125 out of 125 | elapsed:    7.5s finished\n"
     ]
    },
    {
     "name": "stdout",
     "output_type": "stream",
     "text": [
      "\n",
      " Time taken: 0 hours 0 minutes and 8.29 seconds.\n",
      "Best Score: 68.263%\n",
      "{'learning_rate': 0.07, 'max_delta_step': 2, 'n_estimators': 300, 'max_depth': 3, 'scale_pos_weight': 0.2, 'subsample': 0.6, 'min_child_weight': 1, 'colsample_bytree': 0.8, 'gamma': 0.5}\n"
     ]
    },
    {
     "name": "stderr",
     "output_type": "stream",
     "text": [
      "[Parallel(n_jobs=-1)]: Using backend LokyBackend with 16 concurrent workers.\n",
      "[Parallel(n_jobs=-1)]: Done   5 out of   5 | elapsed:    0.8s finished\n"
     ]
    },
    {
     "name": "stdout",
     "output_type": "stream",
     "text": [
      "--- Validation score\n",
      "balanced_accuracy    0.682634\n",
      "recall_0             0.566667\n",
      "precision_0          0.507759\n",
      "recall_1             0.798601\n",
      "precision_1          0.834286\n",
      "auc                  0.739687\n",
      "dtype: float64\n",
      "tn: 18, fp:33, fn:43, tp:99\n",
      "[[18 33]\n",
      " [43 99]]\n",
      "--- Test score\n",
      "balanced_accuracy      0.525062\n",
      "recall_0               0.352941\n",
      "precision_0            0.295082\n",
      "recall_1               0.697183\n",
      "precision_1            0.750000\n",
      "auc                    0.560895\n",
      "False_positive_rate    0.647059\n",
      "False_negative_rate    0.302817\n",
      "dtype: float64\n",
      "------------ Dimention 96\n",
      "---- Do parameter tuning\n",
      "Scoring parameter balanced_accuracy\n",
      "Fitting 5 folds for each of 25 candidates, totalling 125 fits\n"
     ]
    },
    {
     "name": "stderr",
     "output_type": "stream",
     "text": [
      "[Parallel(n_jobs=12)]: Using backend LokyBackend with 12 concurrent workers.\n",
      "[Parallel(n_jobs=12)]: Done   8 tasks      | elapsed:    1.1s\n",
      "[Parallel(n_jobs=12)]: Done 125 out of 125 | elapsed:    7.6s finished\n"
     ]
    },
    {
     "name": "stdout",
     "output_type": "stream",
     "text": [
      "\n",
      " Time taken: 0 hours 0 minutes and 8.83 seconds.\n",
      "Best Score: 69.059%\n",
      "{'learning_rate': 0.01, 'max_delta_step': 5, 'n_estimators': 400, 'max_depth': 6, 'scale_pos_weight': 0.36, 'subsample': 0.6, 'min_child_weight': 3, 'colsample_bytree': 1.0, 'gamma': 1.5}\n"
     ]
    },
    {
     "name": "stderr",
     "output_type": "stream",
     "text": [
      "[Parallel(n_jobs=-1)]: Using backend LokyBackend with 16 concurrent workers.\n",
      "[Parallel(n_jobs=-1)]: Done   5 out of   5 | elapsed:    1.0s finished\n"
     ]
    },
    {
     "name": "stdout",
     "output_type": "stream",
     "text": [
      "--- Validation score\n",
      "balanced_accuracy    0.690589\n",
      "recall_0             0.558333\n",
      "precision_0          0.541175\n",
      "recall_1             0.822844\n",
      "precision_1          0.835264\n",
      "auc                  0.756387\n",
      "dtype: float64\n",
      "tn: 19, fp:32, fn:34, tp:108\n",
      "[[ 19  32]\n",
      " [ 34 108]]\n",
      "--- Test score\n",
      "balanced_accuracy      0.566556\n",
      "recall_0               0.372549\n",
      "precision_0            0.358491\n",
      "recall_1               0.760563\n",
      "precision_1            0.771429\n",
      "auc                    0.556476\n",
      "False_positive_rate    0.627451\n",
      "False_negative_rate    0.239437\n",
      "dtype: float64\n",
      "------------ Dimention 97\n",
      "---- Do parameter tuning\n",
      "Scoring parameter balanced_accuracy\n",
      "Fitting 5 folds for each of 25 candidates, totalling 125 fits\n"
     ]
    },
    {
     "name": "stderr",
     "output_type": "stream",
     "text": [
      "[Parallel(n_jobs=12)]: Using backend LokyBackend with 12 concurrent workers.\n",
      "[Parallel(n_jobs=12)]: Done   8 tasks      | elapsed:    1.1s\n",
      "[Parallel(n_jobs=12)]: Done 125 out of 125 | elapsed:    7.7s finished\n"
     ]
    },
    {
     "name": "stdout",
     "output_type": "stream",
     "text": [
      "\n",
      " Time taken: 0 hours 0 minutes and 9.0 seconds.\n",
      "Best Score: 67.724%\n",
      "{'learning_rate': 0.01, 'max_delta_step': 5, 'n_estimators': 400, 'max_depth': 6, 'scale_pos_weight': 0.36, 'subsample': 0.6, 'min_child_weight': 3, 'colsample_bytree': 1.0, 'gamma': 1.5}\n"
     ]
    },
    {
     "name": "stderr",
     "output_type": "stream",
     "text": [
      "[Parallel(n_jobs=-1)]: Using backend LokyBackend with 16 concurrent workers.\n",
      "[Parallel(n_jobs=-1)]: Done   5 out of   5 | elapsed:    1.1s finished\n"
     ]
    },
    {
     "name": "stdout",
     "output_type": "stream",
     "text": [
      "--- Validation score\n",
      "balanced_accuracy    0.677238\n",
      "recall_0             0.550000\n",
      "precision_0          0.520128\n",
      "recall_1             0.804476\n",
      "precision_1          0.828875\n",
      "auc                  0.762047\n",
      "dtype: float64\n",
      "tn: 19, fp:32, fn:39, tp:103\n",
      "[[ 19  32]\n",
      " [ 39 103]]\n",
      "--- Test score\n",
      "balanced_accuracy      0.548951\n",
      "recall_0               0.372549\n",
      "precision_0            0.327586\n",
      "recall_1               0.725352\n",
      "precision_1            0.762963\n",
      "auc                    0.553714\n",
      "False_positive_rate    0.627451\n",
      "False_negative_rate    0.274648\n",
      "dtype: float64\n",
      "------------ Dimention 98\n",
      "---- Do parameter tuning\n",
      "Scoring parameter balanced_accuracy\n",
      "Fitting 5 folds for each of 25 candidates, totalling 125 fits\n"
     ]
    },
    {
     "name": "stderr",
     "output_type": "stream",
     "text": [
      "[Parallel(n_jobs=12)]: Using backend LokyBackend with 12 concurrent workers.\n",
      "[Parallel(n_jobs=12)]: Done   8 tasks      | elapsed:    1.1s\n",
      "[Parallel(n_jobs=12)]: Done 125 out of 125 | elapsed:    7.7s finished\n"
     ]
    },
    {
     "name": "stdout",
     "output_type": "stream",
     "text": [
      "\n",
      " Time taken: 0 hours 0 minutes and 8.96 seconds.\n",
      "Best Score: 69.584%\n",
      "{'learning_rate': 0.01, 'max_delta_step': 5, 'n_estimators': 400, 'max_depth': 6, 'scale_pos_weight': 0.36, 'subsample': 0.6, 'min_child_weight': 3, 'colsample_bytree': 1.0, 'gamma': 1.5}\n"
     ]
    },
    {
     "name": "stderr",
     "output_type": "stream",
     "text": [
      "[Parallel(n_jobs=-1)]: Using backend LokyBackend with 16 concurrent workers.\n",
      "[Parallel(n_jobs=-1)]: Done   5 out of   5 | elapsed:    1.1s finished\n"
     ]
    },
    {
     "name": "stdout",
     "output_type": "stream",
     "text": [
      "--- Validation score\n",
      "balanced_accuracy    0.695845\n",
      "recall_0             0.575000\n",
      "precision_0          0.539845\n",
      "recall_1             0.816690\n",
      "precision_1          0.839495\n",
      "auc                  0.763961\n",
      "dtype: float64\n",
      "tn: 19, fp:32, fn:38, tp:104\n",
      "[[ 19  32]\n",
      " [ 38 104]]\n",
      "--- Test score\n",
      "balanced_accuracy      0.552472\n",
      "recall_0               0.372549\n",
      "precision_0            0.333333\n",
      "recall_1               0.732394\n",
      "precision_1            0.764706\n",
      "auc                    0.567661\n",
      "False_positive_rate    0.627451\n",
      "False_negative_rate    0.267606\n",
      "dtype: float64\n",
      "------------ Dimention 99\n",
      "---- Do parameter tuning\n",
      "Scoring parameter balanced_accuracy\n",
      "Fitting 5 folds for each of 25 candidates, totalling 125 fits\n"
     ]
    },
    {
     "name": "stderr",
     "output_type": "stream",
     "text": [
      "[Parallel(n_jobs=12)]: Using backend LokyBackend with 12 concurrent workers.\n",
      "[Parallel(n_jobs=12)]: Done   8 tasks      | elapsed:    1.2s\n",
      "[Parallel(n_jobs=12)]: Done 125 out of 125 | elapsed:    7.8s finished\n"
     ]
    },
    {
     "name": "stdout",
     "output_type": "stream",
     "text": [
      "\n",
      " Time taken: 0 hours 0 minutes and 8.53 seconds.\n",
      "Best Score: 68.604%\n",
      "{'learning_rate': 0.07, 'max_delta_step': 2, 'n_estimators': 300, 'max_depth': 3, 'scale_pos_weight': 0.2, 'subsample': 0.6, 'min_child_weight': 1, 'colsample_bytree': 0.8, 'gamma': 0.5}\n"
     ]
    },
    {
     "name": "stderr",
     "output_type": "stream",
     "text": [
      "[Parallel(n_jobs=-1)]: Using backend LokyBackend with 16 concurrent workers.\n",
      "[Parallel(n_jobs=-1)]: Done   5 out of   5 | elapsed:    0.8s finished\n"
     ]
    },
    {
     "name": "stdout",
     "output_type": "stream",
     "text": [
      "--- Validation score\n",
      "balanced_accuracy    0.686043\n",
      "recall_0             0.558333\n",
      "precision_0          0.523764\n",
      "recall_1             0.813753\n",
      "precision_1          0.834362\n",
      "auc                  0.756731\n",
      "dtype: float64\n",
      "tn: 17, fp:34, fn:36, tp:106\n",
      "[[ 17  34]\n",
      " [ 36 106]]\n",
      "--- Test score\n",
      "balanced_accuracy      0.539906\n",
      "recall_0               0.333333\n",
      "precision_0            0.320755\n",
      "recall_1               0.746479\n",
      "precision_1            0.757143\n",
      "auc                    0.535211\n",
      "False_positive_rate    0.666667\n",
      "False_negative_rate    0.253521\n",
      "dtype: float64\n",
      "------------ Dimention 100\n",
      "---- Do parameter tuning\n",
      "Scoring parameter balanced_accuracy\n",
      "Fitting 5 folds for each of 25 candidates, totalling 125 fits\n"
     ]
    },
    {
     "name": "stderr",
     "output_type": "stream",
     "text": [
      "[Parallel(n_jobs=12)]: Using backend LokyBackend with 12 concurrent workers.\n",
      "[Parallel(n_jobs=12)]: Done   8 tasks      | elapsed:    1.2s\n",
      "[Parallel(n_jobs=12)]: Done 125 out of 125 | elapsed:    7.9s finished\n"
     ]
    },
    {
     "name": "stdout",
     "output_type": "stream",
     "text": [
      "\n",
      " Time taken: 0 hours 0 minutes and 8.8 seconds.\n",
      "Best Score: 69.128%\n",
      "{'learning_rate': 0.01, 'max_delta_step': 5, 'n_estimators': 400, 'max_depth': 3, 'scale_pos_weight': 0.36, 'subsample': 1.0, 'min_child_weight': 1, 'colsample_bytree': 0.6, 'gamma': 1.5}\n"
     ]
    },
    {
     "name": "stderr",
     "output_type": "stream",
     "text": [
      "[Parallel(n_jobs=-1)]: Using backend LokyBackend with 16 concurrent workers.\n",
      "[Parallel(n_jobs=-1)]: Done   5 out of   5 | elapsed:    0.9s finished\n"
     ]
    },
    {
     "name": "stdout",
     "output_type": "stream",
     "text": [
      "--- Validation score\n",
      "balanced_accuracy    0.691276\n",
      "recall_0             0.575000\n",
      "precision_0          0.528726\n",
      "recall_1             0.807552\n",
      "precision_1          0.837682\n",
      "auc                  0.758658\n",
      "dtype: float64\n",
      "tn: 18, fp:33, fn:42, tp:100\n",
      "[[ 18  33]\n",
      " [ 42 100]]\n",
      "--- Test score\n",
      "balanced_accuracy      0.528583\n",
      "recall_0               0.352941\n",
      "precision_0            0.300000\n",
      "recall_1               0.704225\n",
      "precision_1            0.751880\n",
      "auc                    0.556200\n",
      "False_positive_rate    0.647059\n",
      "False_negative_rate    0.295775\n",
      "dtype: float64\n",
      "------------ Dimention 101\n",
      "---- Do parameter tuning\n",
      "Scoring parameter balanced_accuracy\n",
      "Fitting 5 folds for each of 25 candidates, totalling 125 fits\n"
     ]
    },
    {
     "name": "stderr",
     "output_type": "stream",
     "text": [
      "[Parallel(n_jobs=12)]: Using backend LokyBackend with 12 concurrent workers.\n",
      "[Parallel(n_jobs=12)]: Done   8 tasks      | elapsed:    1.3s\n",
      "[Parallel(n_jobs=12)]: Done 125 out of 125 | elapsed:    7.9s finished\n"
     ]
    },
    {
     "name": "stdout",
     "output_type": "stream",
     "text": [
      "\n",
      " Time taken: 0 hours 0 minutes and 8.75 seconds.\n",
      "Best Score: 68.557%\n",
      "{'learning_rate': 0.07, 'max_delta_step': 2, 'n_estimators': 300, 'max_depth': 3, 'scale_pos_weight': 0.2, 'subsample': 0.6, 'min_child_weight': 1, 'colsample_bytree': 0.8, 'gamma': 0.5}\n"
     ]
    },
    {
     "name": "stderr",
     "output_type": "stream",
     "text": [
      "[Parallel(n_jobs=-1)]: Using backend LokyBackend with 16 concurrent workers.\n",
      "[Parallel(n_jobs=-1)]: Done   5 out of   5 | elapsed:    0.7s finished\n"
     ]
    },
    {
     "name": "stdout",
     "output_type": "stream",
     "text": [
      "--- Validation score\n",
      "balanced_accuracy    0.685571\n",
      "recall_0             0.566667\n",
      "precision_0          0.522348\n",
      "recall_1             0.804476\n",
      "precision_1          0.834527\n",
      "auc                  0.744932\n",
      "dtype: float64\n",
      "tn: 18, fp:33, fn:32, tp:110\n",
      "[[ 18  33]\n",
      " [ 32 110]]\n",
      "--- Test score\n",
      "balanced_accuracy      0.563795\n",
      "recall_0               0.352941\n",
      "precision_0            0.360000\n",
      "recall_1               0.774648\n",
      "precision_1            0.769231\n",
      "auc                    0.544049\n",
      "False_positive_rate    0.647059\n",
      "False_negative_rate    0.225352\n",
      "dtype: float64\n",
      "------------ Dimention 102\n",
      "---- Do parameter tuning\n",
      "Scoring parameter balanced_accuracy\n",
      "Fitting 5 folds for each of 25 candidates, totalling 125 fits\n"
     ]
    },
    {
     "name": "stderr",
     "output_type": "stream",
     "text": [
      "[Parallel(n_jobs=12)]: Using backend LokyBackend with 12 concurrent workers.\n",
      "[Parallel(n_jobs=12)]: Done   8 tasks      | elapsed:    1.2s\n",
      "[Parallel(n_jobs=12)]: Done 125 out of 125 | elapsed:    8.0s finished\n"
     ]
    },
    {
     "name": "stdout",
     "output_type": "stream",
     "text": [
      "\n",
      " Time taken: 0 hours 0 minutes and 9.19 seconds.\n",
      "Best Score: 68.167%\n",
      "{'learning_rate': 0.02, 'max_delta_step': 2, 'n_estimators': 300, 'max_depth': 6, 'scale_pos_weight': 0.36, 'subsample': 0.8, 'min_child_weight': 2, 'colsample_bytree': 0.8, 'gamma': 5}\n"
     ]
    },
    {
     "name": "stderr",
     "output_type": "stream",
     "text": [
      "[Parallel(n_jobs=-1)]: Using backend LokyBackend with 16 concurrent workers.\n",
      "[Parallel(n_jobs=-1)]: Done   5 out of   5 | elapsed:    1.1s finished\n"
     ]
    },
    {
     "name": "stdout",
     "output_type": "stream",
     "text": [
      "--- Validation score\n",
      "balanced_accuracy    0.681667\n",
      "recall_0             0.616667\n",
      "precision_0          0.475632\n",
      "recall_1             0.746667\n",
      "precision_1          0.840962\n",
      "auc                  0.764005\n",
      "dtype: float64\n",
      "tn: 22, fp:29, fn:47, tp:95\n",
      "[[22 29]\n",
      " [47 95]]\n",
      "--- Test score\n",
      "balanced_accuracy      0.550193\n",
      "recall_0               0.431373\n",
      "precision_0            0.318841\n",
      "recall_1               0.669014\n",
      "precision_1            0.766129\n",
      "auc                    0.557857\n",
      "False_positive_rate    0.568627\n",
      "False_negative_rate    0.330986\n",
      "dtype: float64\n",
      "------------ Dimention 103\n",
      "---- Do parameter tuning\n",
      "Scoring parameter balanced_accuracy\n",
      "Fitting 5 folds for each of 25 candidates, totalling 125 fits\n"
     ]
    },
    {
     "name": "stderr",
     "output_type": "stream",
     "text": [
      "[Parallel(n_jobs=12)]: Using backend LokyBackend with 12 concurrent workers.\n",
      "[Parallel(n_jobs=12)]: Done   8 tasks      | elapsed:    1.3s\n",
      "[Parallel(n_jobs=12)]: Done 125 out of 125 | elapsed:    8.0s finished\n"
     ]
    },
    {
     "name": "stdout",
     "output_type": "stream",
     "text": [
      "\n",
      " Time taken: 0 hours 0 minutes and 8.78 seconds.\n",
      "Best Score: 69.582%\n",
      "{'learning_rate': 0.07, 'max_delta_step': 2, 'n_estimators': 300, 'max_depth': 3, 'scale_pos_weight': 0.2, 'subsample': 0.6, 'min_child_weight': 1, 'colsample_bytree': 0.8, 'gamma': 0.5}\n"
     ]
    },
    {
     "name": "stderr",
     "output_type": "stream",
     "text": [
      "[Parallel(n_jobs=-1)]: Using backend LokyBackend with 16 concurrent workers.\n",
      "[Parallel(n_jobs=-1)]: Done   5 out of   5 | elapsed:    0.8s finished\n"
     ]
    },
    {
     "name": "stdout",
     "output_type": "stream",
     "text": [
      "--- Validation score\n",
      "balanced_accuracy    0.695822\n",
      "recall_0             0.575000\n",
      "precision_0          0.549324\n",
      "recall_1             0.816643\n",
      "precision_1          0.838906\n",
      "auc                  0.750828\n",
      "dtype: float64\n",
      "tn: 19, fp:32, fn:36, tp:106\n",
      "[[ 19  32]\n",
      " [ 36 106]]\n",
      "--- Test score\n",
      "balanced_accuracy      0.559514\n",
      "recall_0               0.372549\n",
      "precision_0            0.345455\n",
      "recall_1               0.746479\n",
      "precision_1            0.768116\n",
      "auc                    0.544463\n",
      "False_positive_rate    0.627451\n",
      "False_negative_rate    0.253521\n",
      "dtype: float64\n",
      "------------ Dimention 104\n",
      "---- Do parameter tuning\n",
      "Scoring parameter balanced_accuracy\n",
      "Fitting 5 folds for each of 25 candidates, totalling 125 fits\n"
     ]
    },
    {
     "name": "stderr",
     "output_type": "stream",
     "text": [
      "[Parallel(n_jobs=12)]: Using backend LokyBackend with 12 concurrent workers.\n",
      "[Parallel(n_jobs=12)]: Done   8 tasks      | elapsed:    1.3s\n",
      "[Parallel(n_jobs=12)]: Done 125 out of 125 | elapsed:    8.1s finished\n"
     ]
    },
    {
     "name": "stdout",
     "output_type": "stream",
     "text": [
      "\n",
      " Time taken: 0 hours 0 minutes and 9.39 seconds.\n",
      "Best Score: 68.698%\n",
      "{'learning_rate': 0.02, 'max_delta_step': 5, 'n_estimators': 700, 'max_depth': 6, 'scale_pos_weight': 0.2, 'subsample': 0.8, 'min_child_weight': 4, 'colsample_bytree': 0.6, 'gamma': 5}\n"
     ]
    },
    {
     "name": "stderr",
     "output_type": "stream",
     "text": [
      "[Parallel(n_jobs=-1)]: Using backend LokyBackend with 16 concurrent workers.\n",
      "[Parallel(n_jobs=-1)]: Done   5 out of   5 | elapsed:    1.1s finished\n"
     ]
    },
    {
     "name": "stdout",
     "output_type": "stream",
     "text": [
      "--- Validation score\n",
      "balanced_accuracy    0.686981\n",
      "recall_0             0.883333\n",
      "precision_0          0.388928\n",
      "recall_1             0.490629\n",
      "precision_1          0.921472\n",
      "auc                  0.743934\n",
      "dtype: float64\n",
      "tn: 33, fp:18, fn:76, tp:66\n",
      "[[33 18]\n",
      " [76 66]]\n",
      "--- Test score\n",
      "balanced_accuracy      0.555924\n",
      "recall_0               0.647059\n",
      "precision_0            0.302752\n",
      "recall_1               0.464789\n",
      "precision_1            0.785714\n",
      "auc                    0.571113\n",
      "False_positive_rate    0.352941\n",
      "False_negative_rate    0.535211\n",
      "dtype: float64\n",
      "------------ Dimention 105\n",
      "---- Do parameter tuning\n",
      "Scoring parameter balanced_accuracy\n",
      "Fitting 5 folds for each of 25 candidates, totalling 125 fits\n"
     ]
    },
    {
     "name": "stderr",
     "output_type": "stream",
     "text": [
      "[Parallel(n_jobs=12)]: Using backend LokyBackend with 12 concurrent workers.\n",
      "[Parallel(n_jobs=12)]: Done   8 tasks      | elapsed:    1.2s\n",
      "[Parallel(n_jobs=12)]: Done 125 out of 125 | elapsed:    8.1s finished\n"
     ]
    },
    {
     "name": "stdout",
     "output_type": "stream",
     "text": [
      "\n",
      " Time taken: 0 hours 0 minutes and 9.71 seconds.\n",
      "Best Score: 67.319%\n",
      "{'learning_rate': 0.03, 'max_delta_step': 3, 'n_estimators': 700, 'max_depth': 4, 'scale_pos_weight': 0.2, 'subsample': 0.6, 'min_child_weight': 3, 'colsample_bytree': 1.0, 'gamma': 1.5}\n"
     ]
    },
    {
     "name": "stderr",
     "output_type": "stream",
     "text": [
      "[Parallel(n_jobs=-1)]: Using backend LokyBackend with 16 concurrent workers.\n",
      "[Parallel(n_jobs=-1)]: Done   5 out of   5 | elapsed:    1.2s finished\n"
     ]
    },
    {
     "name": "stdout",
     "output_type": "stream",
     "text": [
      "--- Validation score\n",
      "balanced_accuracy    0.673193\n",
      "recall_0             0.633333\n",
      "precision_0          0.449615\n",
      "recall_1             0.713054\n",
      "precision_1          0.840574\n",
      "auc                  0.740771\n",
      "dtype: float64\n",
      "tn: 24, fp:27, fn:43, tp:99\n",
      "[[24 27]\n",
      " [43 99]]\n",
      "--- Test score\n",
      "balanced_accuracy      0.583886\n",
      "recall_0               0.470588\n",
      "precision_0            0.358209\n",
      "recall_1               0.697183\n",
      "precision_1            0.785714\n",
      "auc                    0.561999\n",
      "False_positive_rate    0.529412\n",
      "False_negative_rate    0.302817\n",
      "dtype: float64\n",
      "------------ Dimention 106\n",
      "---- Do parameter tuning\n",
      "Scoring parameter balanced_accuracy\n",
      "Fitting 5 folds for each of 25 candidates, totalling 125 fits\n"
     ]
    },
    {
     "name": "stderr",
     "output_type": "stream",
     "text": [
      "[Parallel(n_jobs=12)]: Using backend LokyBackend with 12 concurrent workers.\n",
      "[Parallel(n_jobs=12)]: Done   8 tasks      | elapsed:    1.3s\n",
      "[Parallel(n_jobs=12)]: Done 125 out of 125 | elapsed:    8.3s finished\n"
     ]
    },
    {
     "name": "stdout",
     "output_type": "stream",
     "text": [
      "\n",
      " Time taken: 0 hours 0 minutes and 9.67 seconds.\n",
      "Best Score: 69.000%\n",
      "{'learning_rate': 0.02, 'max_delta_step': 4, 'n_estimators': 500, 'max_depth': 5, 'scale_pos_weight': 0.36, 'subsample': 0.6, 'min_child_weight': 4, 'colsample_bytree': 1.0, 'gamma': 5}\n"
     ]
    },
    {
     "name": "stderr",
     "output_type": "stream",
     "text": [
      "[Parallel(n_jobs=-1)]: Using backend LokyBackend with 16 concurrent workers.\n",
      "[Parallel(n_jobs=-1)]: Done   5 out of   5 | elapsed:    1.1s finished\n"
     ]
    },
    {
     "name": "stdout",
     "output_type": "stream",
     "text": [
      "--- Validation score\n",
      "balanced_accuracy    0.690000\n",
      "recall_0             0.633333\n",
      "precision_0          0.478918\n",
      "recall_1             0.746667\n",
      "precision_1          0.847514\n",
      "auc                  0.762655\n",
      "dtype: float64\n",
      "tn: 20, fp:31, fn:45, tp:97\n",
      "[[20 31]\n",
      " [45 97]]\n",
      "--- Test score\n",
      "balanced_accuracy      0.537628\n",
      "recall_0               0.392157\n",
      "precision_0            0.307692\n",
      "recall_1               0.683099\n",
      "precision_1            0.757812\n",
      "auc                    0.565037\n",
      "False_positive_rate    0.607843\n",
      "False_negative_rate    0.316901\n",
      "dtype: float64\n",
      "------------ Dimention 107\n",
      "---- Do parameter tuning\n",
      "Scoring parameter balanced_accuracy\n",
      "Fitting 5 folds for each of 25 candidates, totalling 125 fits\n"
     ]
    },
    {
     "name": "stderr",
     "output_type": "stream",
     "text": [
      "[Parallel(n_jobs=12)]: Using backend LokyBackend with 12 concurrent workers.\n",
      "[Parallel(n_jobs=12)]: Done   8 tasks      | elapsed:    1.3s\n",
      "[Parallel(n_jobs=12)]: Done 125 out of 125 | elapsed:    8.4s finished\n"
     ]
    },
    {
     "name": "stdout",
     "output_type": "stream",
     "text": [
      "\n",
      " Time taken: 0 hours 0 minutes and 9.3 seconds.\n",
      "Best Score: 68.865%\n",
      "{'learning_rate': 0.01, 'max_delta_step': 5, 'n_estimators': 400, 'max_depth': 3, 'scale_pos_weight': 0.36, 'subsample': 1.0, 'min_child_weight': 1, 'colsample_bytree': 0.6, 'gamma': 1.5}\n"
     ]
    },
    {
     "name": "stderr",
     "output_type": "stream",
     "text": [
      "[Parallel(n_jobs=-1)]: Using backend LokyBackend with 16 concurrent workers.\n",
      "[Parallel(n_jobs=-1)]: Done   5 out of   5 | elapsed:    0.9s finished\n"
     ]
    },
    {
     "name": "stdout",
     "output_type": "stream",
     "text": [
      "--- Validation score\n",
      "balanced_accuracy    0.688648\n",
      "recall_0             0.566667\n",
      "precision_0          0.524770\n",
      "recall_1             0.810629\n",
      "precision_1          0.836145\n",
      "auc                  0.766123\n",
      "dtype: float64\n",
      "tn: 17, fp:34, fn:43, tp:99\n",
      "[[17 34]\n",
      " [43 99]]\n",
      "--- Test score\n",
      "balanced_accuracy      0.515258\n",
      "recall_0               0.333333\n",
      "precision_0            0.283333\n",
      "recall_1               0.697183\n",
      "precision_1            0.744361\n",
      "auc                    0.558133\n",
      "False_positive_rate    0.666667\n",
      "False_negative_rate    0.302817\n",
      "dtype: float64\n",
      "------------ Dimention 108\n",
      "---- Do parameter tuning\n",
      "Scoring parameter balanced_accuracy\n",
      "Fitting 5 folds for each of 25 candidates, totalling 125 fits\n"
     ]
    },
    {
     "name": "stderr",
     "output_type": "stream",
     "text": [
      "[Parallel(n_jobs=12)]: Using backend LokyBackend with 12 concurrent workers.\n",
      "[Parallel(n_jobs=12)]: Done   8 tasks      | elapsed:    1.2s\n",
      "[Parallel(n_jobs=12)]: Done 125 out of 125 | elapsed:    8.5s finished\n"
     ]
    },
    {
     "name": "stdout",
     "output_type": "stream",
     "text": [
      "\n",
      " Time taken: 0 hours 0 minutes and 9.45 seconds.\n",
      "Best Score: 68.256%\n",
      "{'learning_rate': 0.01, 'max_delta_step': 5, 'n_estimators': 400, 'max_depth': 3, 'scale_pos_weight': 0.36, 'subsample': 1.0, 'min_child_weight': 1, 'colsample_bytree': 0.6, 'gamma': 1.5}\n"
     ]
    },
    {
     "name": "stderr",
     "output_type": "stream",
     "text": [
      "[Parallel(n_jobs=-1)]: Using backend LokyBackend with 16 concurrent workers.\n",
      "[Parallel(n_jobs=-1)]: Done   5 out of   5 | elapsed:    0.9s finished\n"
     ]
    },
    {
     "name": "stdout",
     "output_type": "stream",
     "text": [
      "--- Validation score\n",
      "balanced_accuracy    0.682564\n",
      "recall_0             0.566667\n",
      "precision_0          0.510916\n",
      "recall_1             0.798462\n",
      "precision_1          0.833730\n",
      "auc                  0.755099\n",
      "dtype: float64\n",
      "tn: 20, fp:31, fn:43, tp:99\n",
      "[[20 31]\n",
      " [43 99]]\n",
      "--- Test score\n",
      "balanced_accuracy      0.544670\n",
      "recall_0               0.392157\n",
      "precision_0            0.317460\n",
      "recall_1               0.697183\n",
      "precision_1            0.761538\n",
      "auc                    0.552748\n",
      "False_positive_rate    0.607843\n",
      "False_negative_rate    0.302817\n",
      "dtype: float64\n",
      "------------ Dimention 109\n",
      "---- Do parameter tuning\n",
      "Scoring parameter balanced_accuracy\n",
      "Fitting 5 folds for each of 25 candidates, totalling 125 fits\n"
     ]
    },
    {
     "name": "stderr",
     "output_type": "stream",
     "text": [
      "[Parallel(n_jobs=12)]: Using backend LokyBackend with 12 concurrent workers.\n",
      "[Parallel(n_jobs=12)]: Done   8 tasks      | elapsed:    1.2s\n",
      "[Parallel(n_jobs=12)]: Done 125 out of 125 | elapsed:    8.5s finished\n"
     ]
    },
    {
     "name": "stdout",
     "output_type": "stream",
     "text": [
      "\n",
      " Time taken: 0 hours 0 minutes and 9.45 seconds.\n",
      "Best Score: 67.991%\n",
      "{'learning_rate': 0.01, 'max_delta_step': 5, 'n_estimators': 400, 'max_depth': 3, 'scale_pos_weight': 0.36, 'subsample': 1.0, 'min_child_weight': 1, 'colsample_bytree': 0.6, 'gamma': 1.5}\n"
     ]
    },
    {
     "name": "stderr",
     "output_type": "stream",
     "text": [
      "[Parallel(n_jobs=-1)]: Using backend LokyBackend with 16 concurrent workers.\n",
      "[Parallel(n_jobs=-1)]: Done   5 out of   5 | elapsed:    0.9s finished\n"
     ]
    },
    {
     "name": "stdout",
     "output_type": "stream",
     "text": [
      "--- Validation score\n",
      "balanced_accuracy    0.679913\n",
      "recall_0             0.558333\n",
      "precision_0          0.511770\n",
      "recall_1             0.801492\n",
      "precision_1          0.831498\n",
      "auc                  0.755709\n",
      "dtype: float64\n",
      "tn: 20, fp:31, fn:42, tp:100\n",
      "[[ 20  31]\n",
      " [ 42 100]]\n",
      "--- Test score\n",
      "balanced_accuracy      0.548191\n",
      "recall_0               0.392157\n",
      "precision_0            0.322581\n",
      "recall_1               0.704225\n",
      "precision_1            0.763359\n",
      "auc                    0.543911\n",
      "False_positive_rate    0.607843\n",
      "False_negative_rate    0.295775\n",
      "dtype: float64\n",
      "------------ Dimention 110\n",
      "---- Do parameter tuning\n",
      "Scoring parameter balanced_accuracy\n",
      "Fitting 5 folds for each of 25 candidates, totalling 125 fits\n"
     ]
    },
    {
     "name": "stderr",
     "output_type": "stream",
     "text": [
      "[Parallel(n_jobs=12)]: Using backend LokyBackend with 12 concurrent workers.\n",
      "[Parallel(n_jobs=12)]: Done   8 tasks      | elapsed:    1.3s\n",
      "[Parallel(n_jobs=12)]: Done 125 out of 125 | elapsed:    8.4s finished\n"
     ]
    },
    {
     "name": "stdout",
     "output_type": "stream",
     "text": [
      "\n",
      " Time taken: 0 hours 0 minutes and 9.71 seconds.\n",
      "Best Score: 67.673%\n",
      "{'learning_rate': 0.02, 'max_delta_step': 5, 'n_estimators': 700, 'max_depth': 6, 'scale_pos_weight': 0.2, 'subsample': 0.8, 'min_child_weight': 4, 'colsample_bytree': 0.6, 'gamma': 5}\n"
     ]
    },
    {
     "name": "stderr",
     "output_type": "stream",
     "text": [
      "[Parallel(n_jobs=-1)]: Using backend LokyBackend with 16 concurrent workers.\n",
      "[Parallel(n_jobs=-1)]: Done   5 out of   5 | elapsed:    1.0s finished\n"
     ]
    },
    {
     "name": "stdout",
     "output_type": "stream",
     "text": [
      "--- Validation score\n",
      "balanced_accuracy    0.676731\n",
      "recall_0             0.875000\n",
      "precision_0          0.380706\n",
      "recall_1             0.478462\n",
      "precision_1          0.913195\n",
      "auc                  0.747473\n",
      "dtype: float64\n",
      "tn: 32, fp:19, fn:78, tp:64\n",
      "[[32 19]\n",
      " [78 64]]\n",
      "--- Test score\n",
      "balanced_accuracy      0.539078\n",
      "recall_0               0.627451\n",
      "precision_0            0.290909\n",
      "recall_1               0.450704\n",
      "precision_1            0.771084\n",
      "auc                    0.571251\n",
      "False_positive_rate    0.372549\n",
      "False_negative_rate    0.549296\n",
      "dtype: float64\n",
      "------------ Dimention 111\n",
      "---- Do parameter tuning\n",
      "Scoring parameter balanced_accuracy\n",
      "Fitting 5 folds for each of 25 candidates, totalling 125 fits\n"
     ]
    },
    {
     "name": "stderr",
     "output_type": "stream",
     "text": [
      "[Parallel(n_jobs=12)]: Using backend LokyBackend with 12 concurrent workers.\n",
      "[Parallel(n_jobs=12)]: Done   8 tasks      | elapsed:    1.3s\n",
      "[Parallel(n_jobs=12)]: Done 125 out of 125 | elapsed:    8.5s finished\n"
     ]
    },
    {
     "name": "stdout",
     "output_type": "stream",
     "text": [
      "\n",
      " Time taken: 0 hours 0 minutes and 9.82 seconds.\n",
      "Best Score: 68.397%\n",
      "{'learning_rate': 0.02, 'max_delta_step': 5, 'n_estimators': 700, 'max_depth': 6, 'scale_pos_weight': 0.2, 'subsample': 0.8, 'min_child_weight': 4, 'colsample_bytree': 0.6, 'gamma': 5}\n"
     ]
    },
    {
     "name": "stderr",
     "output_type": "stream",
     "text": [
      "[Parallel(n_jobs=-1)]: Using backend LokyBackend with 16 concurrent workers.\n",
      "[Parallel(n_jobs=-1)]: Done   5 out of   5 | elapsed:    1.1s finished\n"
     ]
    },
    {
     "name": "stdout",
     "output_type": "stream",
     "text": [
      "--- Validation score\n",
      "balanced_accuracy    0.683974\n",
      "recall_0             0.883333\n",
      "precision_0          0.385894\n",
      "recall_1             0.484615\n",
      "precision_1          0.919013\n",
      "auc                  0.754118\n",
      "dtype: float64\n",
      "tn: 32, fp:19, fn:79, tp:63\n",
      "[[32 19]\n",
      " [79 63]]\n",
      "--- Test score\n",
      "balanced_accuracy      0.535556\n",
      "recall_0               0.627451\n",
      "precision_0            0.288288\n",
      "recall_1               0.443662\n",
      "precision_1            0.768293\n",
      "auc                    0.568351\n",
      "False_positive_rate    0.372549\n",
      "False_negative_rate    0.556338\n",
      "dtype: float64\n",
      "------------ Dimention 112\n",
      "---- Do parameter tuning\n",
      "Scoring parameter balanced_accuracy\n",
      "Fitting 5 folds for each of 25 candidates, totalling 125 fits\n"
     ]
    },
    {
     "name": "stderr",
     "output_type": "stream",
     "text": [
      "[Parallel(n_jobs=12)]: Using backend LokyBackend with 12 concurrent workers.\n",
      "[Parallel(n_jobs=12)]: Done   8 tasks      | elapsed:    1.3s\n",
      "[Parallel(n_jobs=12)]: Done 125 out of 125 | elapsed:    8.6s finished\n"
     ]
    },
    {
     "name": "stdout",
     "output_type": "stream",
     "text": [
      "\n",
      " Time taken: 0 hours 0 minutes and 10.08 seconds.\n",
      "Best Score: 68.165%\n",
      "{'learning_rate': 0.05, 'max_delta_step': 5, 'n_estimators': 700, 'max_depth': 3, 'scale_pos_weight': 0.2, 'subsample': 1.0, 'min_child_weight': 2, 'colsample_bytree': 0.8, 'gamma': 2}\n"
     ]
    },
    {
     "name": "stderr",
     "output_type": "stream",
     "text": [
      "[Parallel(n_jobs=-1)]: Using backend LokyBackend with 16 concurrent workers.\n",
      "[Parallel(n_jobs=-1)]: Done   5 out of   5 | elapsed:    1.3s finished\n"
     ]
    },
    {
     "name": "stdout",
     "output_type": "stream",
     "text": [
      "--- Validation score\n",
      "balanced_accuracy    0.681649\n",
      "recall_0             0.708333\n",
      "precision_0          0.435770\n",
      "recall_1             0.654965\n",
      "precision_1          0.856084\n",
      "auc                  0.743450\n",
      "dtype: float64\n",
      "tn: 27, fp:24, fn:62, tp:80\n",
      "[[27 24]\n",
      " [62 80]]\n",
      "--- Test score\n",
      "balanced_accuracy      0.546396\n",
      "recall_0               0.529412\n",
      "precision_0            0.303371\n",
      "recall_1               0.563380\n",
      "precision_1            0.769231\n",
      "auc                    0.564416\n",
      "False_positive_rate    0.470588\n",
      "False_negative_rate    0.436620\n",
      "dtype: float64\n",
      "------------ Dimention 113\n",
      "---- Do parameter tuning\n",
      "Scoring parameter balanced_accuracy\n",
      "Fitting 5 folds for each of 25 candidates, totalling 125 fits\n"
     ]
    },
    {
     "name": "stderr",
     "output_type": "stream",
     "text": [
      "[Parallel(n_jobs=12)]: Using backend LokyBackend with 12 concurrent workers.\n",
      "[Parallel(n_jobs=12)]: Done   8 tasks      | elapsed:    1.3s\n",
      "[Parallel(n_jobs=12)]: Done 125 out of 125 | elapsed:    8.6s finished\n"
     ]
    },
    {
     "name": "stdout",
     "output_type": "stream",
     "text": [
      "\n",
      " Time taken: 0 hours 0 minutes and 9.87 seconds.\n",
      "Best Score: 69.455%\n",
      "{'learning_rate': 0.02, 'max_delta_step': 2, 'n_estimators': 300, 'max_depth': 6, 'scale_pos_weight': 0.36, 'subsample': 0.8, 'min_child_weight': 2, 'colsample_bytree': 0.8, 'gamma': 5}\n"
     ]
    },
    {
     "name": "stderr",
     "output_type": "stream",
     "text": [
      "[Parallel(n_jobs=-1)]: Using backend LokyBackend with 16 concurrent workers.\n",
      "[Parallel(n_jobs=-1)]: Done   5 out of   5 | elapsed:    1.1s finished\n"
     ]
    },
    {
     "name": "stdout",
     "output_type": "stream",
     "text": [
      "--- Validation score\n",
      "balanced_accuracy    0.694545\n",
      "recall_0             0.633333\n",
      "precision_0          0.496406\n",
      "recall_1             0.755758\n",
      "precision_1          0.847870\n",
      "auc                  0.750272\n",
      "dtype: float64\n",
      "tn: 22, fp:29, fn:46, tp:96\n",
      "[[22 29]\n",
      " [46 96]]\n",
      "--- Test score\n",
      "balanced_accuracy      0.553714\n",
      "recall_0               0.431373\n",
      "precision_0            0.323529\n",
      "recall_1               0.676056\n",
      "precision_1            0.768000\n",
      "auc                    0.567937\n",
      "False_positive_rate    0.568627\n",
      "False_negative_rate    0.323944\n",
      "dtype: float64\n",
      "------------ Dimention 114\n",
      "---- Do parameter tuning\n",
      "Scoring parameter balanced_accuracy\n",
      "Fitting 5 folds for each of 25 candidates, totalling 125 fits\n"
     ]
    },
    {
     "name": "stderr",
     "output_type": "stream",
     "text": [
      "[Parallel(n_jobs=12)]: Using backend LokyBackend with 12 concurrent workers.\n",
      "[Parallel(n_jobs=12)]: Done   8 tasks      | elapsed:    1.4s\n",
      "[Parallel(n_jobs=12)]: Done 125 out of 125 | elapsed:    8.8s finished\n"
     ]
    },
    {
     "name": "stdout",
     "output_type": "stream",
     "text": [
      "\n",
      " Time taken: 0 hours 0 minutes and 10.16 seconds.\n",
      "Best Score: 68.251%\n",
      "{'learning_rate': 0.02, 'max_delta_step': 5, 'n_estimators': 700, 'max_depth': 6, 'scale_pos_weight': 0.2, 'subsample': 0.8, 'min_child_weight': 4, 'colsample_bytree': 0.6, 'gamma': 5}\n"
     ]
    },
    {
     "name": "stderr",
     "output_type": "stream",
     "text": [
      "[Parallel(n_jobs=-1)]: Using backend LokyBackend with 16 concurrent workers.\n",
      "[Parallel(n_jobs=-1)]: Done   5 out of   5 | elapsed:    1.2s finished\n"
     ]
    },
    {
     "name": "stdout",
     "output_type": "stream",
     "text": [
      "--- Validation score\n",
      "balanced_accuracy    0.682506\n",
      "recall_0             0.883333\n",
      "precision_0          0.384704\n",
      "recall_1             0.481678\n",
      "precision_1          0.919211\n",
      "auc                  0.748326\n",
      "dtype: float64\n",
      "tn: 32, fp:19, fn:74, tp:68\n",
      "[[32 19]\n",
      " [74 68]]\n",
      "--- Test score\n",
      "balanced_accuracy      0.553162\n",
      "recall_0               0.627451\n",
      "precision_0            0.301887\n",
      "recall_1               0.478873\n",
      "precision_1            0.781609\n",
      "auc                    0.572494\n",
      "False_positive_rate    0.372549\n",
      "False_negative_rate    0.521127\n",
      "dtype: float64\n",
      "------------ Dimention 115\n",
      "---- Do parameter tuning\n",
      "Scoring parameter balanced_accuracy\n",
      "Fitting 5 folds for each of 25 candidates, totalling 125 fits\n"
     ]
    },
    {
     "name": "stderr",
     "output_type": "stream",
     "text": [
      "[Parallel(n_jobs=12)]: Using backend LokyBackend with 12 concurrent workers.\n",
      "[Parallel(n_jobs=12)]: Done   8 tasks      | elapsed:    1.2s\n",
      "[Parallel(n_jobs=12)]: Done 125 out of 125 | elapsed:    8.8s finished\n"
     ]
    },
    {
     "name": "stdout",
     "output_type": "stream",
     "text": [
      "\n",
      " Time taken: 0 hours 0 minutes and 10.26 seconds.\n",
      "Best Score: 69.273%\n",
      "{'learning_rate': 0.02, 'max_delta_step': 5, 'n_estimators': 700, 'max_depth': 6, 'scale_pos_weight': 0.2, 'subsample': 0.8, 'min_child_weight': 4, 'colsample_bytree': 0.6, 'gamma': 5}\n"
     ]
    },
    {
     "name": "stderr",
     "output_type": "stream",
     "text": [
      "[Parallel(n_jobs=-1)]: Using backend LokyBackend with 16 concurrent workers.\n",
      "[Parallel(n_jobs=-1)]: Done   5 out of   5 | elapsed:    1.1s finished\n"
     ]
    },
    {
     "name": "stdout",
     "output_type": "stream",
     "text": [
      "--- Validation score\n",
      "balanced_accuracy    0.692733\n",
      "recall_0             0.891667\n",
      "precision_0          0.392478\n",
      "recall_1             0.493800\n",
      "precision_1          0.926090\n",
      "auc                  0.754172\n",
      "dtype: float64\n",
      "tn: 31, fp:20, fn:75, tp:67\n",
      "[[31 20]\n",
      " [75 67]]\n",
      "--- Test score\n",
      "balanced_accuracy      0.539837\n",
      "recall_0               0.607843\n",
      "precision_0            0.292453\n",
      "recall_1               0.471831\n",
      "precision_1            0.770115\n",
      "auc                    0.574979\n",
      "False_positive_rate    0.392157\n",
      "False_negative_rate    0.528169\n",
      "dtype: float64\n",
      "------------ Dimention 116\n",
      "---- Do parameter tuning\n",
      "Scoring parameter balanced_accuracy\n",
      "Fitting 5 folds for each of 25 candidates, totalling 125 fits\n"
     ]
    },
    {
     "name": "stderr",
     "output_type": "stream",
     "text": [
      "[Parallel(n_jobs=12)]: Using backend LokyBackend with 12 concurrent workers.\n",
      "[Parallel(n_jobs=12)]: Done   8 tasks      | elapsed:    1.3s\n",
      "[Parallel(n_jobs=12)]: Done 125 out of 125 | elapsed:    9.0s finished\n"
     ]
    },
    {
     "name": "stdout",
     "output_type": "stream",
     "text": [
      "\n",
      " Time taken: 0 hours 0 minutes and 10.54 seconds.\n",
      "Best Score: 68.939%\n",
      "{'learning_rate': 0.05, 'max_delta_step': 5, 'n_estimators': 700, 'max_depth': 3, 'scale_pos_weight': 0.2, 'subsample': 1.0, 'min_child_weight': 2, 'colsample_bytree': 0.8, 'gamma': 2}\n"
     ]
    },
    {
     "name": "stderr",
     "output_type": "stream",
     "text": [
      "[Parallel(n_jobs=-1)]: Using backend LokyBackend with 16 concurrent workers.\n",
      "[Parallel(n_jobs=-1)]: Done   5 out of   5 | elapsed:    1.4s finished\n"
     ]
    },
    {
     "name": "stdout",
     "output_type": "stream",
     "text": [
      "--- Validation score\n",
      "balanced_accuracy    0.689388\n",
      "recall_0             0.708333\n",
      "precision_0          0.443602\n",
      "recall_1             0.670443\n",
      "precision_1          0.861650\n",
      "auc                  0.745905\n",
      "dtype: float64\n",
      "tn: 25, fp:26, fn:59, tp:83\n",
      "[[25 26]\n",
      " [59 83]]\n",
      "--- Test score\n",
      "balanced_accuracy      0.537352\n",
      "recall_0               0.490196\n",
      "precision_0            0.297619\n",
      "recall_1               0.584507\n",
      "precision_1            0.761468\n",
      "auc                    0.578569\n",
      "False_positive_rate    0.509804\n",
      "False_negative_rate    0.415493\n",
      "dtype: float64\n",
      "------------ Dimention 117\n",
      "---- Do parameter tuning\n",
      "Scoring parameter balanced_accuracy\n",
      "Fitting 5 folds for each of 25 candidates, totalling 125 fits\n"
     ]
    },
    {
     "name": "stderr",
     "output_type": "stream",
     "text": [
      "[Parallel(n_jobs=12)]: Using backend LokyBackend with 12 concurrent workers.\n",
      "[Parallel(n_jobs=12)]: Done   8 tasks      | elapsed:    1.4s\n",
      "[Parallel(n_jobs=12)]: Done 125 out of 125 | elapsed:    9.0s finished\n"
     ]
    },
    {
     "name": "stdout",
     "output_type": "stream",
     "text": [
      "\n",
      " Time taken: 0 hours 0 minutes and 10.34 seconds.\n",
      "Best Score: 69.043%\n",
      "{'learning_rate': 0.02, 'max_delta_step': 2, 'n_estimators': 300, 'max_depth': 6, 'scale_pos_weight': 0.36, 'subsample': 0.8, 'min_child_weight': 2, 'colsample_bytree': 0.8, 'gamma': 5}\n"
     ]
    },
    {
     "name": "stderr",
     "output_type": "stream",
     "text": [
      "[Parallel(n_jobs=-1)]: Using backend LokyBackend with 16 concurrent workers.\n",
      "[Parallel(n_jobs=-1)]: Done   5 out of   5 | elapsed:    1.1s finished\n"
     ]
    },
    {
     "name": "stdout",
     "output_type": "stream",
     "text": [
      "--- Validation score\n",
      "balanced_accuracy    0.690425\n",
      "recall_0             0.625000\n",
      "precision_0          0.488746\n",
      "recall_1             0.755851\n",
      "precision_1          0.845747\n",
      "auc                  0.760367\n",
      "dtype: float64\n",
      "tn: 21, fp:30, fn:48, tp:94\n",
      "[[21 30]\n",
      " [48 94]]\n",
      "--- Test score\n",
      "balanced_accuracy      0.536868\n",
      "recall_0               0.411765\n",
      "precision_0            0.304348\n",
      "recall_1               0.661972\n",
      "precision_1            0.758065\n",
      "auc                    0.552057\n",
      "False_positive_rate    0.588235\n",
      "False_negative_rate    0.338028\n",
      "dtype: float64\n",
      "------------ Dimention 118\n",
      "---- Do parameter tuning\n",
      "Scoring parameter balanced_accuracy\n",
      "Fitting 5 folds for each of 25 candidates, totalling 125 fits\n"
     ]
    },
    {
     "name": "stderr",
     "output_type": "stream",
     "text": [
      "[Parallel(n_jobs=12)]: Using backend LokyBackend with 12 concurrent workers.\n",
      "[Parallel(n_jobs=12)]: Done   8 tasks      | elapsed:    1.4s\n",
      "[Parallel(n_jobs=12)]: Done 125 out of 125 | elapsed:    9.0s finished\n"
     ]
    },
    {
     "name": "stdout",
     "output_type": "stream",
     "text": [
      "\n",
      " Time taken: 0 hours 0 minutes and 10.25 seconds.\n",
      "Best Score: 68.586%\n",
      "{'learning_rate': 0.02, 'max_delta_step': 2, 'n_estimators': 300, 'max_depth': 6, 'scale_pos_weight': 0.36, 'subsample': 0.8, 'min_child_weight': 2, 'colsample_bytree': 0.8, 'gamma': 5}\n"
     ]
    },
    {
     "name": "stderr",
     "output_type": "stream",
     "text": [
      "[Parallel(n_jobs=-1)]: Using backend LokyBackend with 16 concurrent workers.\n",
      "[Parallel(n_jobs=-1)]: Done   5 out of   5 | elapsed:    1.1s finished\n"
     ]
    },
    {
     "name": "stdout",
     "output_type": "stream",
     "text": [
      "--- Validation score\n",
      "balanced_accuracy    0.685857\n",
      "recall_0             0.625000\n",
      "precision_0          0.475097\n",
      "recall_1             0.746713\n",
      "precision_1          0.844991\n",
      "auc                  0.755602\n",
      "dtype: float64\n",
      "tn: 22, fp:29, fn:45, tp:97\n",
      "[[22 29]\n",
      " [45 97]]\n",
      "--- Test score\n",
      "balanced_accuracy      0.557236\n",
      "recall_0               0.431373\n",
      "precision_0            0.328358\n",
      "recall_1               0.683099\n",
      "precision_1            0.769841\n",
      "auc                    0.551091\n",
      "False_positive_rate    0.568627\n",
      "False_negative_rate    0.316901\n",
      "dtype: float64\n",
      "------------ Dimention 119\n",
      "---- Do parameter tuning\n",
      "Scoring parameter balanced_accuracy\n",
      "Fitting 5 folds for each of 25 candidates, totalling 125 fits\n"
     ]
    },
    {
     "name": "stderr",
     "output_type": "stream",
     "text": [
      "[Parallel(n_jobs=12)]: Using backend LokyBackend with 12 concurrent workers.\n",
      "[Parallel(n_jobs=12)]: Done   8 tasks      | elapsed:    1.5s\n",
      "[Parallel(n_jobs=12)]: Done 125 out of 125 | elapsed:    9.1s finished\n"
     ]
    },
    {
     "name": "stdout",
     "output_type": "stream",
     "text": [
      "\n",
      " Time taken: 0 hours 0 minutes and 10.46 seconds.\n",
      "Best Score: 68.621%\n",
      "{'learning_rate': 0.02, 'max_delta_step': 2, 'n_estimators': 300, 'max_depth': 6, 'scale_pos_weight': 0.36, 'subsample': 0.8, 'min_child_weight': 2, 'colsample_bytree': 0.8, 'gamma': 5}\n"
     ]
    },
    {
     "name": "stderr",
     "output_type": "stream",
     "text": [
      "[Parallel(n_jobs=-1)]: Using backend LokyBackend with 16 concurrent workers.\n",
      "[Parallel(n_jobs=-1)]: Done   5 out of   5 | elapsed:    1.1s finished\n"
     ]
    },
    {
     "name": "stdout",
     "output_type": "stream",
     "text": [
      "--- Validation score\n",
      "balanced_accuracy    0.686212\n",
      "recall_0             0.616667\n",
      "precision_0          0.489134\n",
      "recall_1             0.755758\n",
      "precision_1          0.842009\n",
      "auc                  0.749955\n",
      "dtype: float64\n",
      "tn: 22, fp:29, fn:47, tp:95\n",
      "[[22 29]\n",
      " [47 95]]\n",
      "--- Test score\n",
      "balanced_accuracy      0.550193\n",
      "recall_0               0.431373\n",
      "precision_0            0.318841\n",
      "recall_1               0.669014\n",
      "precision_1            0.766129\n",
      "auc                    0.543772\n",
      "False_positive_rate    0.568627\n",
      "False_negative_rate    0.330986\n",
      "dtype: float64\n",
      "------------ Dimention 120\n",
      "---- Do parameter tuning\n",
      "Scoring parameter balanced_accuracy\n",
      "Fitting 5 folds for each of 25 candidates, totalling 125 fits\n"
     ]
    },
    {
     "name": "stderr",
     "output_type": "stream",
     "text": [
      "[Parallel(n_jobs=12)]: Using backend LokyBackend with 12 concurrent workers.\n",
      "[Parallel(n_jobs=12)]: Done   8 tasks      | elapsed:    1.4s\n",
      "[Parallel(n_jobs=12)]: Done 125 out of 125 | elapsed:    9.2s finished\n"
     ]
    },
    {
     "name": "stdout",
     "output_type": "stream",
     "text": [
      "\n",
      " Time taken: 0 hours 0 minutes and 10.57 seconds.\n",
      "Best Score: 69.196%\n",
      "{'learning_rate': 0.02, 'max_delta_step': 2, 'n_estimators': 300, 'max_depth': 6, 'scale_pos_weight': 0.36, 'subsample': 0.8, 'min_child_weight': 2, 'colsample_bytree': 0.8, 'gamma': 5}\n"
     ]
    },
    {
     "name": "stderr",
     "output_type": "stream",
     "text": [
      "[Parallel(n_jobs=-1)]: Using backend LokyBackend with 16 concurrent workers.\n",
      "[Parallel(n_jobs=-1)]: Done   5 out of   5 | elapsed:    1.1s finished\n"
     ]
    },
    {
     "name": "stdout",
     "output_type": "stream",
     "text": [
      "--- Validation score\n",
      "balanced_accuracy    0.691964\n",
      "recall_0             0.625000\n",
      "precision_0          0.491063\n",
      "recall_1             0.758928\n",
      "precision_1          0.846461\n",
      "auc                  0.756799\n",
      "dtype: float64\n",
      "tn: 23, fp:28, fn:50, tp:92\n",
      "[[23 28]\n",
      " [50 92]]\n",
      "--- Test score\n",
      "balanced_accuracy      0.549434\n",
      "recall_0               0.450980\n",
      "precision_0            0.315068\n",
      "recall_1               0.647887\n",
      "precision_1            0.766667\n",
      "auc                    0.555510\n",
      "False_positive_rate    0.549020\n",
      "False_negative_rate    0.352113\n",
      "dtype: float64\n",
      "------------ Dimention 121\n",
      "---- Do parameter tuning\n",
      "Scoring parameter balanced_accuracy\n",
      "Fitting 5 folds for each of 25 candidates, totalling 125 fits\n"
     ]
    },
    {
     "name": "stderr",
     "output_type": "stream",
     "text": [
      "[Parallel(n_jobs=12)]: Using backend LokyBackend with 12 concurrent workers.\n",
      "[Parallel(n_jobs=12)]: Done   8 tasks      | elapsed:    1.4s\n",
      "[Parallel(n_jobs=12)]: Done 125 out of 125 | elapsed:    9.2s finished\n"
     ]
    },
    {
     "name": "stdout",
     "output_type": "stream",
     "text": [
      "\n",
      " Time taken: 0 hours 0 minutes and 10.69 seconds.\n",
      "Best Score: 69.991%\n",
      "{'learning_rate': 0.02, 'max_delta_step': 5, 'n_estimators': 700, 'max_depth': 6, 'scale_pos_weight': 0.2, 'subsample': 0.8, 'min_child_weight': 4, 'colsample_bytree': 0.6, 'gamma': 5}\n"
     ]
    },
    {
     "name": "stderr",
     "output_type": "stream",
     "text": [
      "[Parallel(n_jobs=-1)]: Using backend LokyBackend with 16 concurrent workers.\n",
      "[Parallel(n_jobs=-1)]: Done   5 out of   5 | elapsed:    1.2s finished\n"
     ]
    },
    {
     "name": "stdout",
     "output_type": "stream",
     "text": [
      "--- Validation score\n",
      "balanced_accuracy    0.699907\n",
      "recall_0             0.900000\n",
      "precision_0          0.397747\n",
      "recall_1             0.499814\n",
      "precision_1          0.932361\n",
      "auc                  0.750622\n",
      "dtype: float64\n",
      "tn: 31, fp:20, fn:78, tp:64\n",
      "[[31 20]\n",
      " [78 64]]\n",
      "--- Test score\n",
      "balanced_accuracy      0.529274\n",
      "recall_0               0.607843\n",
      "precision_0            0.284404\n",
      "recall_1               0.450704\n",
      "precision_1            0.761905\n",
      "auc                    0.572632\n",
      "False_positive_rate    0.392157\n",
      "False_negative_rate    0.549296\n",
      "dtype: float64\n",
      "------------ Dimention 122\n",
      "---- Do parameter tuning\n",
      "Scoring parameter balanced_accuracy\n",
      "Fitting 5 folds for each of 25 candidates, totalling 125 fits\n"
     ]
    },
    {
     "name": "stderr",
     "output_type": "stream",
     "text": [
      "[Parallel(n_jobs=12)]: Using backend LokyBackend with 12 concurrent workers.\n",
      "[Parallel(n_jobs=12)]: Done   8 tasks      | elapsed:    1.4s\n",
      "[Parallel(n_jobs=12)]: Done 125 out of 125 | elapsed:    9.3s finished\n"
     ]
    },
    {
     "name": "stdout",
     "output_type": "stream",
     "text": [
      "\n",
      " Time taken: 0 hours 0 minutes and 10.65 seconds.\n",
      "Best Score: 68.550%\n",
      "{'learning_rate': 0.02, 'max_delta_step': 2, 'n_estimators': 300, 'max_depth': 6, 'scale_pos_weight': 0.36, 'subsample': 0.8, 'min_child_weight': 2, 'colsample_bytree': 0.8, 'gamma': 5}\n"
     ]
    },
    {
     "name": "stderr",
     "output_type": "stream",
     "text": [
      "[Parallel(n_jobs=-1)]: Using backend LokyBackend with 16 concurrent workers.\n",
      "[Parallel(n_jobs=-1)]: Done   5 out of   5 | elapsed:    1.2s finished\n"
     ]
    },
    {
     "name": "stdout",
     "output_type": "stream",
     "text": [
      "--- Validation score\n",
      "balanced_accuracy    0.685501\n",
      "recall_0             0.600000\n",
      "precision_0          0.499119\n",
      "recall_1             0.771002\n",
      "precision_1          0.839232\n",
      "auc                  0.763551\n",
      "dtype: float64\n",
      "tn: 22, fp:29, fn:46, tp:96\n",
      "[[22 29]\n",
      " [46 96]]\n",
      "--- Test score\n",
      "balanced_accuracy      0.553714\n",
      "recall_0               0.431373\n",
      "precision_0            0.323529\n",
      "recall_1               0.676056\n",
      "precision_1            0.768000\n",
      "auc                    0.565313\n",
      "False_positive_rate    0.568627\n",
      "False_negative_rate    0.323944\n",
      "dtype: float64\n",
      "------------ Dimention 123\n",
      "---- Do parameter tuning\n",
      "Scoring parameter balanced_accuracy\n",
      "Fitting 5 folds for each of 25 candidates, totalling 125 fits\n"
     ]
    },
    {
     "name": "stderr",
     "output_type": "stream",
     "text": [
      "[Parallel(n_jobs=12)]: Using backend LokyBackend with 12 concurrent workers.\n",
      "[Parallel(n_jobs=12)]: Done   8 tasks      | elapsed:    1.3s\n",
      "[Parallel(n_jobs=12)]: Done 125 out of 125 | elapsed:    9.4s finished\n"
     ]
    },
    {
     "name": "stdout",
     "output_type": "stream",
     "text": [
      "\n",
      " Time taken: 0 hours 0 minutes and 10.8 seconds.\n",
      "Best Score: 68.551%\n",
      "{'learning_rate': 0.02, 'max_delta_step': 5, 'n_estimators': 700, 'max_depth': 6, 'scale_pos_weight': 0.2, 'subsample': 0.8, 'min_child_weight': 4, 'colsample_bytree': 0.6, 'gamma': 5}\n"
     ]
    },
    {
     "name": "stderr",
     "output_type": "stream",
     "text": [
      "[Parallel(n_jobs=-1)]: Using backend LokyBackend with 16 concurrent workers.\n",
      "[Parallel(n_jobs=-1)]: Done   5 out of   5 | elapsed:    1.2s finished\n"
     ]
    },
    {
     "name": "stdout",
     "output_type": "stream",
     "text": [
      "--- Validation score\n",
      "balanced_accuracy    0.685513\n",
      "recall_0             0.883333\n",
      "precision_0          0.387374\n",
      "recall_1             0.487692\n",
      "precision_1          0.919885\n",
      "auc                  0.750884\n",
      "dtype: float64\n",
      "tn: 33, fp:18, fn:79, tp:63\n",
      "[[33 18]\n",
      " [79 63]]\n",
      "--- Test score\n",
      "balanced_accuracy      0.545360\n",
      "recall_0               0.647059\n",
      "precision_0            0.294643\n",
      "recall_1               0.443662\n",
      "precision_1            0.777778\n",
      "auc                    0.565037\n",
      "False_positive_rate    0.352941\n",
      "False_negative_rate    0.556338\n",
      "dtype: float64\n",
      "------------ Dimention 124\n",
      "---- Do parameter tuning\n",
      "Scoring parameter balanced_accuracy\n",
      "Fitting 5 folds for each of 25 candidates, totalling 125 fits\n"
     ]
    },
    {
     "name": "stderr",
     "output_type": "stream",
     "text": [
      "[Parallel(n_jobs=12)]: Using backend LokyBackend with 12 concurrent workers.\n",
      "[Parallel(n_jobs=12)]: Done   8 tasks      | elapsed:    1.4s\n",
      "[Parallel(n_jobs=12)]: Done 125 out of 125 | elapsed:    9.4s finished\n"
     ]
    },
    {
     "name": "stdout",
     "output_type": "stream",
     "text": [
      "\n",
      " Time taken: 0 hours 0 minutes and 10.78 seconds.\n",
      "Best Score: 68.730%\n",
      "{'learning_rate': 0.02, 'max_delta_step': 2, 'n_estimators': 300, 'max_depth': 6, 'scale_pos_weight': 0.36, 'subsample': 0.8, 'min_child_weight': 2, 'colsample_bytree': 0.8, 'gamma': 5}\n"
     ]
    },
    {
     "name": "stderr",
     "output_type": "stream",
     "text": [
      "[Parallel(n_jobs=-1)]: Using backend LokyBackend with 16 concurrent workers.\n",
      "[Parallel(n_jobs=-1)]: Done   5 out of   5 | elapsed:    1.2s finished\n"
     ]
    },
    {
     "name": "stdout",
     "output_type": "stream",
     "text": [
      "--- Validation score\n",
      "balanced_accuracy    0.687302\n",
      "recall_0             0.625000\n",
      "precision_0          0.485742\n",
      "recall_1             0.749604\n",
      "precision_1          0.843988\n",
      "auc                  0.754971\n",
      "dtype: float64\n",
      "tn: 21, fp:30, fn:45, tp:97\n",
      "[[21 30]\n",
      " [45 97]]\n",
      "--- Test score\n",
      "balanced_accuracy      0.547432\n",
      "recall_0               0.411765\n",
      "precision_0            0.318182\n",
      "recall_1               0.683099\n",
      "precision_1            0.763780\n",
      "auc                    0.554267\n",
      "False_positive_rate    0.588235\n",
      "False_negative_rate    0.316901\n",
      "dtype: float64\n",
      "------------ Dimention 125\n",
      "---- Do parameter tuning\n",
      "Scoring parameter balanced_accuracy\n",
      "Fitting 5 folds for each of 25 candidates, totalling 125 fits\n"
     ]
    },
    {
     "name": "stderr",
     "output_type": "stream",
     "text": [
      "[Parallel(n_jobs=12)]: Using backend LokyBackend with 12 concurrent workers.\n",
      "[Parallel(n_jobs=12)]: Done   8 tasks      | elapsed:    1.3s\n",
      "[Parallel(n_jobs=12)]: Done 125 out of 125 | elapsed:    9.6s finished\n"
     ]
    },
    {
     "name": "stdout",
     "output_type": "stream",
     "text": [
      "\n",
      " Time taken: 0 hours 0 minutes and 11.12 seconds.\n",
      "Best Score: 67.988%\n",
      "{'learning_rate': 0.02, 'max_delta_step': 5, 'n_estimators': 700, 'max_depth': 6, 'scale_pos_weight': 0.2, 'subsample': 0.8, 'min_child_weight': 4, 'colsample_bytree': 0.6, 'gamma': 5}\n"
     ]
    },
    {
     "name": "stderr",
     "output_type": "stream",
     "text": [
      "[Parallel(n_jobs=-1)]: Using backend LokyBackend with 16 concurrent workers.\n",
      "[Parallel(n_jobs=-1)]: Done   5 out of   5 | elapsed:    1.2s finished\n"
     ]
    },
    {
     "name": "stdout",
     "output_type": "stream",
     "text": [
      "--- Validation score\n",
      "balanced_accuracy    0.679878\n",
      "recall_0             0.875000\n",
      "precision_0          0.383700\n",
      "recall_1             0.484755\n",
      "precision_1          0.914494\n",
      "auc                  0.755233\n",
      "dtype: float64\n",
      "tn: 33, fp:18, fn:76, tp:66\n",
      "[[33 18]\n",
      " [76 66]]\n",
      "--- Test score\n",
      "balanced_accuracy      0.555924\n",
      "recall_0               0.647059\n",
      "precision_0            0.302752\n",
      "recall_1               0.464789\n",
      "precision_1            0.785714\n",
      "auc                    0.566694\n",
      "False_positive_rate    0.352941\n",
      "False_negative_rate    0.535211\n",
      "dtype: float64\n",
      "------------ Dimention 126\n",
      "---- Do parameter tuning\n",
      "Scoring parameter balanced_accuracy\n",
      "Fitting 5 folds for each of 25 candidates, totalling 125 fits\n"
     ]
    },
    {
     "name": "stderr",
     "output_type": "stream",
     "text": [
      "[Parallel(n_jobs=12)]: Using backend LokyBackend with 12 concurrent workers.\n",
      "[Parallel(n_jobs=12)]: Done   8 tasks      | elapsed:    1.4s\n",
      "[Parallel(n_jobs=12)]: Done 125 out of 125 | elapsed:    9.4s finished\n"
     ]
    },
    {
     "name": "stdout",
     "output_type": "stream",
     "text": [
      "\n",
      " Time taken: 0 hours 0 minutes and 10.6 seconds.\n",
      "Best Score: 68.339%\n",
      "{'learning_rate': 0.01, 'max_delta_step': 5, 'n_estimators': 400, 'max_depth': 3, 'scale_pos_weight': 0.36, 'subsample': 1.0, 'min_child_weight': 1, 'colsample_bytree': 0.6, 'gamma': 1.5}\n"
     ]
    },
    {
     "name": "stderr",
     "output_type": "stream",
     "text": [
      "[Parallel(n_jobs=-1)]: Using backend LokyBackend with 16 concurrent workers.\n",
      "[Parallel(n_jobs=-1)]: Done   5 out of   5 | elapsed:    1.1s finished\n"
     ]
    },
    {
     "name": "stdout",
     "output_type": "stream",
     "text": [
      "--- Validation score\n",
      "balanced_accuracy    0.683392\n",
      "recall_0             0.550000\n",
      "precision_0          0.528070\n",
      "recall_1             0.816783\n",
      "precision_1          0.832354\n",
      "auc                  0.749318\n",
      "dtype: float64\n",
      "tn: 17, fp:34, fn:39, tp:103\n",
      "[[ 17  34]\n",
      " [ 39 103]]\n",
      "--- Test score\n",
      "balanced_accuracy      0.529343\n",
      "recall_0               0.333333\n",
      "precision_0            0.303571\n",
      "recall_1               0.725352\n",
      "precision_1            0.751825\n",
      "auc                    0.544463\n",
      "False_positive_rate    0.666667\n",
      "False_negative_rate    0.274648\n",
      "dtype: float64\n",
      "------------ Dimention 127\n",
      "---- Do parameter tuning\n",
      "Scoring parameter balanced_accuracy\n",
      "Fitting 5 folds for each of 25 candidates, totalling 125 fits\n"
     ]
    },
    {
     "name": "stderr",
     "output_type": "stream",
     "text": [
      "[Parallel(n_jobs=12)]: Using backend LokyBackend with 12 concurrent workers.\n",
      "[Parallel(n_jobs=12)]: Done   8 tasks      | elapsed:    1.5s\n",
      "[Parallel(n_jobs=12)]: Done 125 out of 125 | elapsed:    9.7s finished\n"
     ]
    },
    {
     "name": "stdout",
     "output_type": "stream",
     "text": [
      "\n",
      " Time taken: 0 hours 0 minutes and 10.84 seconds.\n",
      "Best Score: 69.587%\n",
      "{'learning_rate': 0.01, 'max_delta_step': 5, 'n_estimators': 400, 'max_depth': 3, 'scale_pos_weight': 0.36, 'subsample': 1.0, 'min_child_weight': 1, 'colsample_bytree': 0.6, 'gamma': 1.5}\n"
     ]
    },
    {
     "name": "stderr",
     "output_type": "stream",
     "text": [
      "[Parallel(n_jobs=-1)]: Using backend LokyBackend with 16 concurrent workers.\n",
      "[Parallel(n_jobs=-1)]: Done   5 out of   5 | elapsed:    1.0s finished\n"
     ]
    },
    {
     "name": "stdout",
     "output_type": "stream",
     "text": [
      "--- Validation score\n",
      "balanced_accuracy    0.695868\n",
      "recall_0             0.575000\n",
      "precision_0          0.534097\n",
      "recall_1             0.816737\n",
      "precision_1          0.840487\n",
      "auc                  0.750462\n",
      "dtype: float64\n",
      "tn: 17, fp:34, fn:38, tp:104\n",
      "[[ 17  34]\n",
      " [ 38 104]]\n",
      "--- Test score\n",
      "balanced_accuracy      0.532864\n",
      "recall_0               0.333333\n",
      "precision_0            0.309091\n",
      "recall_1               0.732394\n",
      "precision_1            0.753623\n",
      "auc                    0.550815\n",
      "False_positive_rate    0.666667\n",
      "False_negative_rate    0.267606\n",
      "dtype: float64\n",
      "------------ Dimention 128\n",
      "---- Do parameter tuning\n",
      "Scoring parameter balanced_accuracy\n",
      "Fitting 5 folds for each of 25 candidates, totalling 125 fits\n"
     ]
    },
    {
     "name": "stderr",
     "output_type": "stream",
     "text": [
      "[Parallel(n_jobs=12)]: Using backend LokyBackend with 12 concurrent workers.\n",
      "[Parallel(n_jobs=12)]: Done   8 tasks      | elapsed:    1.3s\n",
      "[Parallel(n_jobs=12)]: Done 125 out of 125 | elapsed:    9.7s finished\n"
     ]
    },
    {
     "name": "stdout",
     "output_type": "stream",
     "text": [
      "\n",
      " Time taken: 0 hours 0 minutes and 11.21 seconds.\n",
      "Best Score: 68.860%\n",
      "{'learning_rate': 0.02, 'max_delta_step': 4, 'n_estimators': 500, 'max_depth': 5, 'scale_pos_weight': 0.36, 'subsample': 0.6, 'min_child_weight': 4, 'colsample_bytree': 1.0, 'gamma': 5}\n"
     ]
    },
    {
     "name": "stderr",
     "output_type": "stream",
     "text": [
      "[Parallel(n_jobs=-1)]: Using backend LokyBackend with 16 concurrent workers.\n",
      "[Parallel(n_jobs=-1)]: Done   5 out of   5 | elapsed:    1.3s finished\n"
     ]
    },
    {
     "name": "stdout",
     "output_type": "stream",
     "text": [
      "--- Validation score\n",
      "balanced_accuracy    0.688601\n",
      "recall_0             0.600000\n",
      "precision_0          0.496450\n",
      "recall_1             0.777203\n",
      "precision_1          0.842092\n",
      "auc                  0.755738\n",
      "dtype: float64\n",
      "tn: 20, fp:31, fn:46, tp:96\n",
      "[[20 31]\n",
      " [46 96]]\n",
      "--- Test score\n",
      "balanced_accuracy      0.534107\n",
      "recall_0               0.392157\n",
      "precision_0            0.303030\n",
      "recall_1               0.676056\n",
      "precision_1            0.755906\n",
      "auc                    0.537421\n",
      "False_positive_rate    0.607843\n",
      "False_negative_rate    0.323944\n",
      "dtype: float64\n",
      "------------ Dimention 129\n",
      "---- Do parameter tuning\n",
      "Scoring parameter balanced_accuracy\n",
      "Fitting 5 folds for each of 25 candidates, totalling 125 fits\n"
     ]
    },
    {
     "name": "stderr",
     "output_type": "stream",
     "text": [
      "[Parallel(n_jobs=12)]: Using backend LokyBackend with 12 concurrent workers.\n",
      "[Parallel(n_jobs=12)]: Done   8 tasks      | elapsed:    1.4s\n",
      "[Parallel(n_jobs=12)]: Done 125 out of 125 | elapsed:    9.7s finished\n"
     ]
    },
    {
     "name": "stdout",
     "output_type": "stream",
     "text": [
      "\n",
      " Time taken: 0 hours 0 minutes and 11.09 seconds.\n",
      "Best Score: 69.457%\n",
      "{'learning_rate': 0.02, 'max_delta_step': 2, 'n_estimators': 300, 'max_depth': 6, 'scale_pos_weight': 0.36, 'subsample': 0.8, 'min_child_weight': 2, 'colsample_bytree': 0.8, 'gamma': 5}\n"
     ]
    },
    {
     "name": "stderr",
     "output_type": "stream",
     "text": [
      "[Parallel(n_jobs=-1)]: Using backend LokyBackend with 16 concurrent workers.\n",
      "[Parallel(n_jobs=-1)]: Done   5 out of   5 | elapsed:    1.3s finished\n"
     ]
    },
    {
     "name": "stdout",
     "output_type": "stream",
     "text": [
      "--- Validation score\n",
      "balanced_accuracy    0.694569\n",
      "recall_0             0.633333\n",
      "precision_0          0.493059\n",
      "recall_1             0.755804\n",
      "precision_1          0.848892\n",
      "auc                  0.753568\n",
      "dtype: float64\n",
      "tn: 20, fp:31, fn:45, tp:97\n",
      "[[20 31]\n",
      " [45 97]]\n",
      "--- Test score\n",
      "balanced_accuracy      0.537628\n",
      "recall_0               0.392157\n",
      "precision_0            0.307692\n",
      "recall_1               0.683099\n",
      "precision_1            0.757812\n",
      "auc                    0.565037\n",
      "False_positive_rate    0.607843\n",
      "False_negative_rate    0.316901\n",
      "dtype: float64\n",
      "------------ Dimention 130\n",
      "---- Do parameter tuning\n",
      "Scoring parameter balanced_accuracy\n",
      "Fitting 5 folds for each of 25 candidates, totalling 125 fits\n"
     ]
    },
    {
     "name": "stderr",
     "output_type": "stream",
     "text": [
      "[Parallel(n_jobs=12)]: Using backend LokyBackend with 12 concurrent workers.\n",
      "[Parallel(n_jobs=12)]: Done   8 tasks      | elapsed:    1.6s\n",
      "[Parallel(n_jobs=12)]: Done 125 out of 125 | elapsed:    9.9s finished\n"
     ]
    },
    {
     "name": "stdout",
     "output_type": "stream",
     "text": [
      "\n",
      " Time taken: 0 hours 0 minutes and 11.04 seconds.\n",
      "Best Score: 69.016%\n",
      "{'learning_rate': 0.01, 'max_delta_step': 5, 'n_estimators': 400, 'max_depth': 3, 'scale_pos_weight': 0.36, 'subsample': 1.0, 'min_child_weight': 1, 'colsample_bytree': 0.6, 'gamma': 1.5}\n"
     ]
    },
    {
     "name": "stderr",
     "output_type": "stream",
     "text": [
      "[Parallel(n_jobs=-1)]: Using backend LokyBackend with 16 concurrent workers.\n",
      "[Parallel(n_jobs=-1)]: Done   5 out of   5 | elapsed:    1.1s finished\n"
     ]
    },
    {
     "name": "stdout",
     "output_type": "stream",
     "text": [
      "--- Validation score\n",
      "balanced_accuracy    0.690163\n",
      "recall_0             0.566667\n",
      "precision_0          0.528571\n",
      "recall_1             0.813660\n",
      "precision_1          0.836895\n",
      "auc                  0.746779\n",
      "dtype: float64\n",
      "tn: 17, fp:34, fn:40, tp:102\n",
      "[[ 17  34]\n",
      " [ 40 102]]\n",
      "--- Test score\n",
      "balanced_accuracy      0.525822\n",
      "recall_0               0.333333\n",
      "precision_0            0.298246\n",
      "recall_1               0.718310\n",
      "precision_1            0.750000\n",
      "auc                    0.546396\n",
      "False_positive_rate    0.666667\n",
      "False_negative_rate    0.281690\n",
      "dtype: float64\n",
      "------------ Dimention 131\n",
      "---- Do parameter tuning\n",
      "Scoring parameter balanced_accuracy\n",
      "Fitting 5 folds for each of 25 candidates, totalling 125 fits\n"
     ]
    },
    {
     "name": "stderr",
     "output_type": "stream",
     "text": [
      "[Parallel(n_jobs=12)]: Using backend LokyBackend with 12 concurrent workers.\n",
      "[Parallel(n_jobs=12)]: Done   8 tasks      | elapsed:    1.5s\n",
      "[Parallel(n_jobs=12)]: Done 125 out of 125 | elapsed:    9.9s finished\n"
     ]
    },
    {
     "name": "stdout",
     "output_type": "stream",
     "text": [
      "\n",
      " Time taken: 0 hours 0 minutes and 11.08 seconds.\n",
      "Best Score: 69.324%\n",
      "{'learning_rate': 0.01, 'max_delta_step': 5, 'n_estimators': 400, 'max_depth': 3, 'scale_pos_weight': 0.36, 'subsample': 1.0, 'min_child_weight': 1, 'colsample_bytree': 0.6, 'gamma': 1.5}\n"
     ]
    },
    {
     "name": "stderr",
     "output_type": "stream",
     "text": [
      "[Parallel(n_jobs=-1)]: Using backend LokyBackend with 16 concurrent workers.\n",
      "[Parallel(n_jobs=-1)]: Done   5 out of   5 | elapsed:    1.0s finished\n"
     ]
    },
    {
     "name": "stdout",
     "output_type": "stream",
     "text": [
      "--- Validation score\n",
      "balanced_accuracy    0.693240\n",
      "recall_0             0.566667\n",
      "precision_0          0.536176\n",
      "recall_1             0.819814\n",
      "precision_1          0.837993\n",
      "auc                  0.747772\n",
      "dtype: float64\n",
      "tn: 16, fp:35, fn:39, tp:103\n",
      "[[ 16  35]\n",
      " [ 39 103]]\n",
      "--- Test score\n",
      "balanced_accuracy      0.519539\n",
      "recall_0               0.313725\n",
      "precision_0            0.290909\n",
      "recall_1               0.725352\n",
      "precision_1            0.746377\n",
      "auc                    0.545844\n",
      "False_positive_rate    0.686275\n",
      "False_negative_rate    0.274648\n",
      "dtype: float64\n",
      "------------ Dimention 132\n",
      "---- Do parameter tuning\n",
      "Scoring parameter balanced_accuracy\n",
      "Fitting 5 folds for each of 25 candidates, totalling 125 fits\n"
     ]
    },
    {
     "name": "stderr",
     "output_type": "stream",
     "text": [
      "[Parallel(n_jobs=12)]: Using backend LokyBackend with 12 concurrent workers.\n",
      "[Parallel(n_jobs=12)]: Done   8 tasks      | elapsed:    1.5s\n",
      "[Parallel(n_jobs=12)]: Done 125 out of 125 | elapsed:   10.0s finished\n"
     ]
    },
    {
     "name": "stdout",
     "output_type": "stream",
     "text": [
      "\n",
      " Time taken: 0 hours 0 minutes and 11.14 seconds.\n",
      "Best Score: 68.640%\n",
      "{'learning_rate': 0.01, 'max_delta_step': 5, 'n_estimators': 400, 'max_depth': 3, 'scale_pos_weight': 0.36, 'subsample': 1.0, 'min_child_weight': 1, 'colsample_bytree': 0.6, 'gamma': 1.5}\n"
     ]
    },
    {
     "name": "stderr",
     "output_type": "stream",
     "text": [
      "[Parallel(n_jobs=-1)]: Using backend LokyBackend with 16 concurrent workers.\n",
      "[Parallel(n_jobs=-1)]: Done   5 out of   5 | elapsed:    1.0s finished\n"
     ]
    },
    {
     "name": "stdout",
     "output_type": "stream",
     "text": [
      "--- Validation score\n",
      "balanced_accuracy    0.686399\n",
      "recall_0             0.550000\n",
      "precision_0          0.534492\n",
      "recall_1             0.822797\n",
      "precision_1          0.833141\n",
      "auc                  0.751465\n",
      "dtype: float64\n",
      "tn: 16, fp:35, fn:38, tp:104\n",
      "[[ 16  35]\n",
      " [ 38 104]]\n",
      "--- Test score\n",
      "balanced_accuracy      0.523060\n",
      "recall_0               0.313725\n",
      "precision_0            0.296296\n",
      "recall_1               0.732394\n",
      "precision_1            0.748201\n",
      "auc                    0.549296\n",
      "False_positive_rate    0.686275\n",
      "False_negative_rate    0.267606\n",
      "dtype: float64\n",
      "------------ Dimention 133\n",
      "---- Do parameter tuning\n",
      "Scoring parameter balanced_accuracy\n",
      "Fitting 5 folds for each of 25 candidates, totalling 125 fits\n"
     ]
    },
    {
     "name": "stderr",
     "output_type": "stream",
     "text": [
      "[Parallel(n_jobs=12)]: Using backend LokyBackend with 12 concurrent workers.\n",
      "[Parallel(n_jobs=12)]: Done   8 tasks      | elapsed:    1.5s\n",
      "[Parallel(n_jobs=12)]: Done 125 out of 125 | elapsed:   10.0s finished\n"
     ]
    },
    {
     "name": "stdout",
     "output_type": "stream",
     "text": [
      "\n",
      " Time taken: 0 hours 0 minutes and 11.04 seconds.\n",
      "Best Score: 69.435%\n",
      "{'learning_rate': 0.01, 'max_delta_step': 5, 'n_estimators': 400, 'max_depth': 3, 'scale_pos_weight': 0.36, 'subsample': 1.0, 'min_child_weight': 1, 'colsample_bytree': 0.6, 'gamma': 1.5}\n"
     ]
    },
    {
     "name": "stderr",
     "output_type": "stream",
     "text": [
      "[Parallel(n_jobs=-1)]: Using backend LokyBackend with 16 concurrent workers.\n",
      "[Parallel(n_jobs=-1)]: Done   5 out of   5 | elapsed:    1.0s finished\n"
     ]
    },
    {
     "name": "stdout",
     "output_type": "stream",
     "text": [
      "--- Validation score\n",
      "balanced_accuracy    0.694353\n",
      "recall_0             0.575000\n",
      "precision_0          0.532364\n",
      "recall_1             0.813706\n",
      "precision_1          0.839503\n",
      "auc                  0.747640\n",
      "dtype: float64\n",
      "tn: 16, fp:35, fn:39, tp:103\n",
      "[[ 16  35]\n",
      " [ 39 103]]\n",
      "--- Test score\n",
      "balanced_accuracy      0.519539\n",
      "recall_0               0.313725\n",
      "precision_0            0.290909\n",
      "recall_1               0.725352\n",
      "precision_1            0.746377\n",
      "auc                    0.554543\n",
      "False_positive_rate    0.686275\n",
      "False_negative_rate    0.274648\n",
      "dtype: float64\n",
      "------------ Dimention 134\n",
      "---- Do parameter tuning\n",
      "Scoring parameter balanced_accuracy\n",
      "Fitting 5 folds for each of 25 candidates, totalling 125 fits\n"
     ]
    },
    {
     "name": "stderr",
     "output_type": "stream",
     "text": [
      "[Parallel(n_jobs=12)]: Using backend LokyBackend with 12 concurrent workers.\n",
      "[Parallel(n_jobs=12)]: Done   8 tasks      | elapsed:    1.4s\n",
      "[Parallel(n_jobs=12)]: Done 125 out of 125 | elapsed:   10.1s finished\n"
     ]
    },
    {
     "name": "stdout",
     "output_type": "stream",
     "text": [
      "\n",
      " Time taken: 0 hours 0 minutes and 11.68 seconds.\n",
      "Best Score: 69.162%\n",
      "{'learning_rate': 0.02, 'max_delta_step': 5, 'n_estimators': 700, 'max_depth': 6, 'scale_pos_weight': 0.2, 'subsample': 0.8, 'min_child_weight': 4, 'colsample_bytree': 0.6, 'gamma': 5}\n"
     ]
    },
    {
     "name": "stderr",
     "output_type": "stream",
     "text": [
      "[Parallel(n_jobs=-1)]: Using backend LokyBackend with 16 concurrent workers.\n",
      "[Parallel(n_jobs=-1)]: Done   5 out of   5 | elapsed:    1.2s finished\n"
     ]
    },
    {
     "name": "stdout",
     "output_type": "stream",
     "text": [
      "--- Validation score\n",
      "balanced_accuracy    0.691620\n",
      "recall_0             0.883333\n",
      "precision_0          0.392632\n",
      "recall_1             0.499907\n",
      "precision_1          0.922539\n",
      "auc                  0.756204\n",
      "dtype: float64\n",
      "tn: 32, fp:19, fn:79, tp:63\n",
      "[[32 19]\n",
      " [79 63]]\n",
      "--- Test score\n",
      "balanced_accuracy      0.535556\n",
      "recall_0               0.627451\n",
      "precision_0            0.288288\n",
      "recall_1               0.443662\n",
      "precision_1            0.768293\n",
      "auc                    0.567523\n",
      "False_positive_rate    0.372549\n",
      "False_negative_rate    0.556338\n",
      "dtype: float64\n",
      "------------ Dimention 135\n",
      "---- Do parameter tuning\n",
      "Scoring parameter balanced_accuracy\n",
      "Fitting 5 folds for each of 25 candidates, totalling 125 fits\n"
     ]
    },
    {
     "name": "stderr",
     "output_type": "stream",
     "text": [
      "[Parallel(n_jobs=12)]: Using backend LokyBackend with 12 concurrent workers.\n",
      "[Parallel(n_jobs=12)]: Done   8 tasks      | elapsed:    1.5s\n",
      "[Parallel(n_jobs=12)]: Done 125 out of 125 | elapsed:   10.3s finished\n"
     ]
    },
    {
     "name": "stdout",
     "output_type": "stream",
     "text": [
      "\n",
      " Time taken: 0 hours 0 minutes and 11.76 seconds.\n",
      "Best Score: 68.740%\n",
      "{'learning_rate': 0.02, 'max_delta_step': 2, 'n_estimators': 300, 'max_depth': 6, 'scale_pos_weight': 0.36, 'subsample': 0.8, 'min_child_weight': 2, 'colsample_bytree': 0.8, 'gamma': 5}\n"
     ]
    },
    {
     "name": "stderr",
     "output_type": "stream",
     "text": [
      "[Parallel(n_jobs=-1)]: Using backend LokyBackend with 16 concurrent workers.\n",
      "[Parallel(n_jobs=-1)]: Done   5 out of   5 | elapsed:    1.2s finished\n"
     ]
    },
    {
     "name": "stdout",
     "output_type": "stream",
     "text": [
      "--- Validation score\n",
      "balanced_accuracy    0.687395\n",
      "recall_0             0.625000\n",
      "precision_0          0.477669\n",
      "recall_1             0.749790\n",
      "precision_1          0.845622\n",
      "auc                  0.755359\n",
      "dtype: float64\n",
      "tn: 21, fp:30, fn:42, tp:100\n",
      "[[ 21  30]\n",
      " [ 42 100]]\n",
      "--- Test score\n",
      "balanced_accuracy      0.557995\n",
      "recall_0               0.411765\n",
      "precision_0            0.333333\n",
      "recall_1               0.704225\n",
      "precision_1            0.769231\n",
      "auc                    0.572080\n",
      "False_positive_rate    0.588235\n",
      "False_negative_rate    0.295775\n",
      "dtype: float64\n",
      "------------ Dimention 136\n",
      "---- Do parameter tuning\n",
      "Scoring parameter balanced_accuracy\n",
      "Fitting 5 folds for each of 25 candidates, totalling 125 fits\n"
     ]
    },
    {
     "name": "stderr",
     "output_type": "stream",
     "text": [
      "[Parallel(n_jobs=12)]: Using backend LokyBackend with 12 concurrent workers.\n",
      "[Parallel(n_jobs=12)]: Done   8 tasks      | elapsed:    1.5s\n",
      "[Parallel(n_jobs=12)]: Done 125 out of 125 | elapsed:   10.3s finished\n"
     ]
    },
    {
     "name": "stdout",
     "output_type": "stream",
     "text": [
      "\n",
      " Time taken: 0 hours 0 minutes and 11.72 seconds.\n",
      "Best Score: 68.179%\n",
      "{'learning_rate': 0.02, 'max_delta_step': 5, 'n_estimators': 700, 'max_depth': 6, 'scale_pos_weight': 0.2, 'subsample': 0.8, 'min_child_weight': 4, 'colsample_bytree': 0.6, 'gamma': 5}\n"
     ]
    },
    {
     "name": "stderr",
     "output_type": "stream",
     "text": [
      "[Parallel(n_jobs=-1)]: Using backend LokyBackend with 16 concurrent workers.\n",
      "[Parallel(n_jobs=-1)]: Done   5 out of   5 | elapsed:    1.4s finished\n"
     ]
    },
    {
     "name": "stdout",
     "output_type": "stream",
     "text": [
      "--- Validation score\n",
      "balanced_accuracy    0.681795\n",
      "recall_0             0.866667\n",
      "precision_0          0.386894\n",
      "recall_1             0.496923\n",
      "precision_1          0.910560\n",
      "auc                  0.746954\n",
      "dtype: float64\n",
      "tn: 32, fp:19, fn:80, tp:62\n",
      "[[32 19]\n",
      " [80 62]]\n",
      "--- Test score\n",
      "balanced_accuracy      0.532035\n",
      "recall_0               0.627451\n",
      "precision_0            0.285714\n",
      "recall_1               0.436620\n",
      "precision_1            0.765432\n",
      "auc                    0.560204\n",
      "False_positive_rate    0.372549\n",
      "False_negative_rate    0.563380\n",
      "dtype: float64\n",
      "------------ Dimention 137\n",
      "---- Do parameter tuning\n",
      "Scoring parameter balanced_accuracy\n",
      "Fitting 5 folds for each of 25 candidates, totalling 125 fits\n"
     ]
    },
    {
     "name": "stderr",
     "output_type": "stream",
     "text": [
      "[Parallel(n_jobs=12)]: Using backend LokyBackend with 12 concurrent workers.\n",
      "[Parallel(n_jobs=12)]: Done   8 tasks      | elapsed:    1.4s\n",
      "[Parallel(n_jobs=12)]: Done 125 out of 125 | elapsed:   10.3s finished\n"
     ]
    },
    {
     "name": "stdout",
     "output_type": "stream",
     "text": [
      "\n",
      " Time taken: 0 hours 0 minutes and 11.81 seconds.\n",
      "Best Score: 68.556%\n",
      "{'learning_rate': 0.02, 'max_delta_step': 5, 'n_estimators': 700, 'max_depth': 6, 'scale_pos_weight': 0.2, 'subsample': 0.8, 'min_child_weight': 4, 'colsample_bytree': 0.6, 'gamma': 5}\n"
     ]
    },
    {
     "name": "stderr",
     "output_type": "stream",
     "text": [
      "[Parallel(n_jobs=-1)]: Using backend LokyBackend with 16 concurrent workers.\n",
      "[Parallel(n_jobs=-1)]: Done   5 out of   5 | elapsed:    1.3s finished\n"
     ]
    },
    {
     "name": "stdout",
     "output_type": "stream",
     "text": [
      "--- Validation score\n",
      "balanced_accuracy    0.685559\n",
      "recall_0             0.883333\n",
      "precision_0          0.386847\n",
      "recall_1             0.487786\n",
      "precision_1          0.920130\n",
      "auc                  0.751439\n",
      "dtype: float64\n",
      "tn: 31, fp:20, fn:80, tp:62\n",
      "[[31 20]\n",
      " [80 62]]\n",
      "--- Test score\n",
      "balanced_accuracy      0.522231\n",
      "recall_0               0.607843\n",
      "precision_0            0.279279\n",
      "recall_1               0.436620\n",
      "precision_1            0.756098\n",
      "auc                    0.565866\n",
      "False_positive_rate    0.392157\n",
      "False_negative_rate    0.563380\n",
      "dtype: float64\n",
      "------------ Dimention 138\n",
      "---- Do parameter tuning\n",
      "Scoring parameter balanced_accuracy\n",
      "Fitting 5 folds for each of 25 candidates, totalling 125 fits\n"
     ]
    },
    {
     "name": "stderr",
     "output_type": "stream",
     "text": [
      "[Parallel(n_jobs=12)]: Using backend LokyBackend with 12 concurrent workers.\n",
      "[Parallel(n_jobs=12)]: Done   8 tasks      | elapsed:    1.6s\n",
      "[Parallel(n_jobs=12)]: Done 125 out of 125 | elapsed:   10.4s finished\n"
     ]
    },
    {
     "name": "stdout",
     "output_type": "stream",
     "text": [
      "\n",
      " Time taken: 0 hours 0 minutes and 12.28 seconds.\n",
      "Best Score: 67.840%\n",
      "{'learning_rate': 0.03, 'max_delta_step': 3, 'n_estimators': 700, 'max_depth': 4, 'scale_pos_weight': 0.2, 'subsample': 0.6, 'min_child_weight': 3, 'colsample_bytree': 1.0, 'gamma': 1.5}\n"
     ]
    },
    {
     "name": "stderr",
     "output_type": "stream",
     "text": [
      "[Parallel(n_jobs=-1)]: Using backend LokyBackend with 16 concurrent workers.\n",
      "[Parallel(n_jobs=-1)]: Done   5 out of   5 | elapsed:    1.5s finished\n"
     ]
    },
    {
     "name": "stdout",
     "output_type": "stream",
     "text": [
      "--- Validation score\n",
      "balanced_accuracy    0.678403\n",
      "recall_0             0.650000\n",
      "precision_0          0.453807\n",
      "recall_1             0.706807\n",
      "precision_1          0.845124\n",
      "auc                  0.732339\n",
      "dtype: float64\n",
      "tn: 22, fp:29, fn:37, tp:105\n",
      "[[ 22  29]\n",
      " [ 37 105]]\n",
      "--- Test score\n",
      "balanced_accuracy      0.585405\n",
      "recall_0               0.431373\n",
      "precision_0            0.372881\n",
      "recall_1               0.739437\n",
      "precision_1            0.783582\n",
      "auc                    0.557028\n",
      "False_positive_rate    0.568627\n",
      "False_negative_rate    0.260563\n",
      "dtype: float64\n",
      "------------ Dimention 139\n",
      "---- Do parameter tuning\n",
      "Scoring parameter balanced_accuracy\n",
      "Fitting 5 folds for each of 25 candidates, totalling 125 fits\n"
     ]
    },
    {
     "name": "stderr",
     "output_type": "stream",
     "text": [
      "[Parallel(n_jobs=12)]: Using backend LokyBackend with 12 concurrent workers.\n",
      "[Parallel(n_jobs=12)]: Done   8 tasks      | elapsed:    1.5s\n",
      "[Parallel(n_jobs=12)]: Done 125 out of 125 | elapsed:   10.5s finished\n"
     ]
    },
    {
     "name": "stdout",
     "output_type": "stream",
     "text": [
      "\n",
      " Time taken: 0 hours 0 minutes and 12.06 seconds.\n",
      "Best Score: 68.741%\n",
      "{'learning_rate': 0.02, 'max_delta_step': 5, 'n_estimators': 700, 'max_depth': 6, 'scale_pos_weight': 0.2, 'subsample': 0.8, 'min_child_weight': 4, 'colsample_bytree': 0.6, 'gamma': 5}\n"
     ]
    },
    {
     "name": "stderr",
     "output_type": "stream",
     "text": [
      "[Parallel(n_jobs=-1)]: Using backend LokyBackend with 16 concurrent workers.\n",
      "[Parallel(n_jobs=-1)]: Done   5 out of   5 | elapsed:    1.3s finished\n"
     ]
    },
    {
     "name": "stdout",
     "output_type": "stream",
     "text": [
      "--- Validation score\n",
      "balanced_accuracy    0.687407\n",
      "recall_0             0.875000\n",
      "precision_0          0.390734\n",
      "recall_1             0.499814\n",
      "precision_1          0.915890\n",
      "auc                  0.748656\n",
      "dtype: float64\n",
      "tn: 29, fp:22, fn:77, tp:65\n",
      "[[29 22]\n",
      " [77 65]]\n",
      "--- Test score\n",
      "balanced_accuracy      0.513187\n",
      "recall_0               0.568627\n",
      "precision_0            0.273585\n",
      "recall_1               0.457746\n",
      "precision_1            0.747126\n",
      "auc                    0.575808\n",
      "False_positive_rate    0.431373\n",
      "False_negative_rate    0.542254\n",
      "dtype: float64\n",
      "------------ Dimention 140\n",
      "---- Do parameter tuning\n",
      "Scoring parameter balanced_accuracy\n",
      "Fitting 5 folds for each of 25 candidates, totalling 125 fits\n"
     ]
    },
    {
     "name": "stderr",
     "output_type": "stream",
     "text": [
      "[Parallel(n_jobs=12)]: Using backend LokyBackend with 12 concurrent workers.\n",
      "[Parallel(n_jobs=12)]: Done   8 tasks      | elapsed:    1.5s\n",
      "[Parallel(n_jobs=12)]: Done 125 out of 125 | elapsed:   10.6s finished\n"
     ]
    },
    {
     "name": "stdout",
     "output_type": "stream",
     "text": [
      "\n",
      " Time taken: 0 hours 0 minutes and 11.72 seconds.\n",
      "Best Score: 67.842%\n",
      "{'learning_rate': 0.01, 'max_delta_step': 5, 'n_estimators': 400, 'max_depth': 3, 'scale_pos_weight': 0.36, 'subsample': 1.0, 'min_child_weight': 1, 'colsample_bytree': 0.6, 'gamma': 1.5}\n"
     ]
    },
    {
     "name": "stderr",
     "output_type": "stream",
     "text": [
      "[Parallel(n_jobs=-1)]: Using backend LokyBackend with 16 concurrent workers.\n",
      "[Parallel(n_jobs=-1)]: Done   5 out of   5 | elapsed:    1.0s finished\n"
     ]
    },
    {
     "name": "stdout",
     "output_type": "stream",
     "text": [
      "--- Validation score\n",
      "balanced_accuracy    0.678421\n",
      "recall_0             0.558333\n",
      "precision_0          0.504779\n",
      "recall_1             0.798508\n",
      "precision_1          0.831397\n",
      "auc                  0.747273\n",
      "dtype: float64\n",
      "tn: 15, fp:36, fn:37, tp:105\n",
      "[[ 15  36]\n",
      " [ 37 105]]\n",
      "--- Test score\n",
      "balanced_accuracy      0.516777\n",
      "recall_0               0.294118\n",
      "precision_0            0.288462\n",
      "recall_1               0.739437\n",
      "precision_1            0.744681\n",
      "auc                    0.541839\n",
      "False_positive_rate    0.705882\n",
      "False_negative_rate    0.260563\n",
      "dtype: float64\n",
      "------------ Dimention 141\n",
      "---- Do parameter tuning\n",
      "Scoring parameter balanced_accuracy\n",
      "Fitting 5 folds for each of 25 candidates, totalling 125 fits\n"
     ]
    },
    {
     "name": "stderr",
     "output_type": "stream",
     "text": [
      "[Parallel(n_jobs=12)]: Using backend LokyBackend with 12 concurrent workers.\n",
      "[Parallel(n_jobs=12)]: Done   8 tasks      | elapsed:    1.6s\n",
      "[Parallel(n_jobs=12)]: Done 125 out of 125 | elapsed:   10.6s finished\n"
     ]
    },
    {
     "name": "stdout",
     "output_type": "stream",
     "text": [
      "\n",
      " Time taken: 0 hours 0 minutes and 12.06 seconds.\n",
      "Best Score: 67.983%\n",
      "{'learning_rate': 0.02, 'max_delta_step': 5, 'n_estimators': 700, 'max_depth': 6, 'scale_pos_weight': 0.2, 'subsample': 0.8, 'min_child_weight': 4, 'colsample_bytree': 0.6, 'gamma': 5}\n"
     ]
    },
    {
     "name": "stderr",
     "output_type": "stream",
     "text": [
      "[Parallel(n_jobs=-1)]: Using backend LokyBackend with 16 concurrent workers.\n",
      "[Parallel(n_jobs=-1)]: Done   5 out of   5 | elapsed:    1.3s finished\n"
     ]
    },
    {
     "name": "stdout",
     "output_type": "stream",
     "text": [
      "--- Validation score\n",
      "balanced_accuracy    0.679831\n",
      "recall_0             0.875000\n",
      "precision_0          0.383380\n",
      "recall_1             0.484662\n",
      "precision_1          0.915670\n",
      "auc                  0.749037\n",
      "dtype: float64\n",
      "tn: 31, fp:20, fn:80, tp:62\n",
      "[[31 20]\n",
      " [80 62]]\n",
      "--- Test score\n",
      "balanced_accuracy      0.522231\n",
      "recall_0               0.607843\n",
      "precision_0            0.279279\n",
      "recall_1               0.436620\n",
      "precision_1            0.756098\n",
      "auc                    0.557167\n",
      "False_positive_rate    0.392157\n",
      "False_negative_rate    0.563380\n",
      "dtype: float64\n",
      "------------ Dimention 142\n",
      "---- Do parameter tuning\n",
      "Scoring parameter balanced_accuracy\n",
      "Fitting 5 folds for each of 25 candidates, totalling 125 fits\n"
     ]
    },
    {
     "name": "stderr",
     "output_type": "stream",
     "text": [
      "[Parallel(n_jobs=12)]: Using backend LokyBackend with 12 concurrent workers.\n",
      "[Parallel(n_jobs=12)]: Done   8 tasks      | elapsed:    1.6s\n",
      "[Parallel(n_jobs=12)]: Done 125 out of 125 | elapsed:   10.7s finished\n"
     ]
    },
    {
     "name": "stdout",
     "output_type": "stream",
     "text": [
      "\n",
      " Time taken: 0 hours 0 minutes and 12.38 seconds.\n",
      "Best Score: 67.179%\n",
      "{'learning_rate': 0.02, 'max_delta_step': 4, 'n_estimators': 500, 'max_depth': 5, 'scale_pos_weight': 0.36, 'subsample': 0.6, 'min_child_weight': 4, 'colsample_bytree': 1.0, 'gamma': 5}\n"
     ]
    },
    {
     "name": "stderr",
     "output_type": "stream",
     "text": [
      "[Parallel(n_jobs=-1)]: Using backend LokyBackend with 16 concurrent workers.\n",
      "[Parallel(n_jobs=-1)]: Done   5 out of   5 | elapsed:    1.4s finished\n"
     ]
    },
    {
     "name": "stdout",
     "output_type": "stream",
     "text": [
      "--- Validation score\n",
      "balanced_accuracy    0.671795\n",
      "recall_0             0.600000\n",
      "precision_0          0.462355\n",
      "recall_1             0.743590\n",
      "precision_1          0.835275\n",
      "auc                  0.744635\n",
      "dtype: float64\n",
      "tn: 21, fp:30, fn:40, tp:102\n",
      "[[ 21  30]\n",
      " [ 40 102]]\n",
      "--- Test score\n",
      "balanced_accuracy      0.565037\n",
      "recall_0               0.411765\n",
      "precision_0            0.344262\n",
      "recall_1               0.718310\n",
      "precision_1            0.772727\n",
      "auc                    0.571113\n",
      "False_positive_rate    0.588235\n",
      "False_negative_rate    0.281690\n",
      "dtype: float64\n",
      "------------ Dimention 143\n",
      "---- Do parameter tuning\n",
      "Scoring parameter balanced_accuracy\n",
      "Fitting 5 folds for each of 25 candidates, totalling 125 fits\n"
     ]
    },
    {
     "name": "stderr",
     "output_type": "stream",
     "text": [
      "[Parallel(n_jobs=12)]: Using backend LokyBackend with 12 concurrent workers.\n",
      "[Parallel(n_jobs=12)]: Done   8 tasks      | elapsed:    1.4s\n",
      "[Parallel(n_jobs=12)]: Done 125 out of 125 | elapsed:   10.7s finished\n"
     ]
    },
    {
     "name": "stdout",
     "output_type": "stream",
     "text": [
      "\n",
      " Time taken: 0 hours 0 minutes and 12.34 seconds.\n",
      "Best Score: 68.966%\n",
      "{'learning_rate': 0.02, 'max_delta_step': 5, 'n_estimators': 700, 'max_depth': 6, 'scale_pos_weight': 0.2, 'subsample': 0.8, 'min_child_weight': 4, 'colsample_bytree': 0.6, 'gamma': 5}\n"
     ]
    },
    {
     "name": "stderr",
     "output_type": "stream",
     "text": [
      "[Parallel(n_jobs=-1)]: Using backend LokyBackend with 16 concurrent workers.\n",
      "[Parallel(n_jobs=-1)]: Done   5 out of   5 | elapsed:    1.3s finished\n"
     ]
    },
    {
     "name": "stdout",
     "output_type": "stream",
     "text": [
      "--- Validation score\n",
      "balanced_accuracy    0.689656\n",
      "recall_0             0.891667\n",
      "precision_0          0.389258\n",
      "recall_1             0.487646\n",
      "precision_1          0.925279\n",
      "auc                  0.750486\n",
      "dtype: float64\n",
      "tn: 33, fp:18, fn:76, tp:66\n",
      "[[33 18]\n",
      " [76 66]]\n",
      "--- Test score\n",
      "balanced_accuracy      0.555924\n",
      "recall_0               0.647059\n",
      "precision_0            0.302752\n",
      "recall_1               0.464789\n",
      "precision_1            0.785714\n",
      "auc                    0.565313\n",
      "False_positive_rate    0.352941\n",
      "False_negative_rate    0.535211\n",
      "dtype: float64\n",
      "------------ Dimention 144\n",
      "---- Do parameter tuning\n",
      "Scoring parameter balanced_accuracy\n",
      "Fitting 5 folds for each of 25 candidates, totalling 125 fits\n"
     ]
    },
    {
     "name": "stderr",
     "output_type": "stream",
     "text": [
      "[Parallel(n_jobs=12)]: Using backend LokyBackend with 12 concurrent workers.\n",
      "[Parallel(n_jobs=12)]: Done   8 tasks      | elapsed:    1.6s\n",
      "[Parallel(n_jobs=12)]: Done 125 out of 125 | elapsed:   10.8s finished\n"
     ]
    },
    {
     "name": "stdout",
     "output_type": "stream",
     "text": [
      "\n",
      " Time taken: 0 hours 0 minutes and 12.41 seconds.\n",
      "Best Score: 68.594%\n",
      "{'learning_rate': 0.02, 'max_delta_step': 5, 'n_estimators': 700, 'max_depth': 6, 'scale_pos_weight': 0.2, 'subsample': 0.8, 'min_child_weight': 4, 'colsample_bytree': 0.6, 'gamma': 5}\n"
     ]
    },
    {
     "name": "stderr",
     "output_type": "stream",
     "text": [
      "[Parallel(n_jobs=-1)]: Using backend LokyBackend with 16 concurrent workers.\n",
      "[Parallel(n_jobs=-1)]: Done   5 out of   5 | elapsed:    1.3s finished\n"
     ]
    },
    {
     "name": "stdout",
     "output_type": "stream",
     "text": [
      "--- Validation score\n",
      "balanced_accuracy    0.685938\n",
      "recall_0             0.875000\n",
      "precision_0          0.388904\n",
      "recall_1             0.496876\n",
      "precision_1          0.916729\n",
      "auc                  0.752778\n",
      "dtype: float64\n",
      "tn: 32, fp:19, fn:75, tp:67\n",
      "[[32 19]\n",
      " [75 67]]\n",
      "--- Test score\n",
      "balanced_accuracy      0.549641\n",
      "recall_0               0.627451\n",
      "precision_0            0.299065\n",
      "recall_1               0.471831\n",
      "precision_1            0.779070\n",
      "auc                    0.566280\n",
      "False_positive_rate    0.372549\n",
      "False_negative_rate    0.528169\n",
      "dtype: float64\n",
      "------------ Dimention 145\n",
      "---- Do parameter tuning\n",
      "Scoring parameter balanced_accuracy\n",
      "Fitting 5 folds for each of 25 candidates, totalling 125 fits\n"
     ]
    },
    {
     "name": "stderr",
     "output_type": "stream",
     "text": [
      "[Parallel(n_jobs=12)]: Using backend LokyBackend with 12 concurrent workers.\n",
      "[Parallel(n_jobs=12)]: Done   8 tasks      | elapsed:    1.5s\n",
      "[Parallel(n_jobs=12)]: Done 125 out of 125 | elapsed:   10.9s finished\n"
     ]
    },
    {
     "name": "stdout",
     "output_type": "stream",
     "text": [
      "\n",
      " Time taken: 0 hours 0 minutes and 12.57 seconds.\n",
      "Best Score: 69.467%\n",
      "{'learning_rate': 0.02, 'max_delta_step': 5, 'n_estimators': 700, 'max_depth': 6, 'scale_pos_weight': 0.2, 'subsample': 0.8, 'min_child_weight': 4, 'colsample_bytree': 0.6, 'gamma': 5}\n"
     ]
    },
    {
     "name": "stderr",
     "output_type": "stream",
     "text": [
      "[Parallel(n_jobs=-1)]: Using backend LokyBackend with 16 concurrent workers.\n",
      "[Parallel(n_jobs=-1)]: Done   5 out of   5 | elapsed:    1.3s finished\n"
     ]
    },
    {
     "name": "stdout",
     "output_type": "stream",
     "text": [
      "--- Validation score\n",
      "balanced_accuracy    0.694674\n",
      "recall_0             0.883333\n",
      "precision_0          0.395914\n",
      "recall_1             0.506014\n",
      "precision_1          0.922335\n",
      "auc                  0.743667\n",
      "dtype: float64\n",
      "tn: 33, fp:18, fn:76, tp:66\n",
      "[[33 18]\n",
      " [76 66]]\n",
      "--- Test score\n",
      "balanced_accuracy      0.555924\n",
      "recall_0               0.647059\n",
      "precision_0            0.302752\n",
      "recall_1               0.464789\n",
      "precision_1            0.785714\n",
      "auc                    0.566418\n",
      "False_positive_rate    0.352941\n",
      "False_negative_rate    0.535211\n",
      "dtype: float64\n",
      "------------ Dimention 146\n",
      "---- Do parameter tuning\n",
      "Scoring parameter balanced_accuracy\n",
      "Fitting 5 folds for each of 25 candidates, totalling 125 fits\n"
     ]
    },
    {
     "name": "stderr",
     "output_type": "stream",
     "text": [
      "[Parallel(n_jobs=12)]: Using backend LokyBackend with 12 concurrent workers.\n",
      "[Parallel(n_jobs=12)]: Done   8 tasks      | elapsed:    1.7s\n",
      "[Parallel(n_jobs=12)]: Done 125 out of 125 | elapsed:   11.0s finished\n"
     ]
    },
    {
     "name": "stdout",
     "output_type": "stream",
     "text": [
      "\n",
      " Time taken: 0 hours 0 minutes and 12.29 seconds.\n",
      "Best Score: 69.438%\n",
      "{'learning_rate': 0.07, 'max_delta_step': 4, 'n_estimators': 500, 'max_depth': 5, 'scale_pos_weight': 0.2, 'subsample': 0.8, 'min_child_weight': 5, 'colsample_bytree': 1.0, 'gamma': 1.5}\n"
     ]
    },
    {
     "name": "stderr",
     "output_type": "stream",
     "text": [
      "[Parallel(n_jobs=-1)]: Using backend LokyBackend with 16 concurrent workers.\n",
      "[Parallel(n_jobs=-1)]: Done   5 out of   5 | elapsed:    1.1s finished\n"
     ]
    },
    {
     "name": "stdout",
     "output_type": "stream",
     "text": [
      "--- Validation score\n",
      "balanced_accuracy    0.694382\n",
      "recall_0             0.666667\n",
      "precision_0          0.473231\n",
      "recall_1             0.722098\n",
      "precision_1          0.854078\n",
      "auc                  0.735895\n",
      "dtype: float64\n",
      "tn: 25, fp:26, fn:49, tp:93\n",
      "[[25 26]\n",
      " [49 93]]\n",
      "--- Test score\n",
      "balanced_accuracy      0.572563\n",
      "recall_0               0.490196\n",
      "precision_0            0.337838\n",
      "recall_1               0.654930\n",
      "precision_1            0.781513\n",
      "auc                    0.572080\n",
      "False_positive_rate    0.509804\n",
      "False_negative_rate    0.345070\n",
      "dtype: float64\n",
      "------------ Dimention 147\n",
      "---- Do parameter tuning\n",
      "Scoring parameter balanced_accuracy\n",
      "Fitting 5 folds for each of 25 candidates, totalling 125 fits\n"
     ]
    },
    {
     "name": "stderr",
     "output_type": "stream",
     "text": [
      "[Parallel(n_jobs=12)]: Using backend LokyBackend with 12 concurrent workers.\n",
      "[Parallel(n_jobs=12)]: Done   8 tasks      | elapsed:    1.5s\n",
      "[Parallel(n_jobs=12)]: Done 125 out of 125 | elapsed:   11.0s finished\n"
     ]
    },
    {
     "name": "stdout",
     "output_type": "stream",
     "text": [
      "\n",
      " Time taken: 0 hours 0 minutes and 12.69 seconds.\n",
      "Best Score: 68.440%\n",
      "{'learning_rate': 0.02, 'max_delta_step': 5, 'n_estimators': 700, 'max_depth': 6, 'scale_pos_weight': 0.2, 'subsample': 0.8, 'min_child_weight': 4, 'colsample_bytree': 0.6, 'gamma': 5}\n"
     ]
    },
    {
     "name": "stderr",
     "output_type": "stream",
     "text": [
      "[Parallel(n_jobs=-1)]: Using backend LokyBackend with 16 concurrent workers.\n",
      "[Parallel(n_jobs=-1)]: Done   5 out of   5 | elapsed:    1.3s finished\n"
     ]
    },
    {
     "name": "stdout",
     "output_type": "stream",
     "text": [
      "--- Validation score\n",
      "balanced_accuracy    0.684400\n",
      "recall_0             0.875000\n",
      "precision_0          0.388080\n",
      "recall_1             0.493800\n",
      "precision_1          0.914752\n",
      "auc                  0.746391\n",
      "dtype: float64\n",
      "tn: 32, fp:19, fn:80, tp:62\n",
      "[[32 19]\n",
      " [80 62]]\n",
      "--- Test score\n",
      "balanced_accuracy      0.532035\n",
      "recall_0               0.627451\n",
      "precision_0            0.285714\n",
      "recall_1               0.436620\n",
      "precision_1            0.765432\n",
      "auc                    0.572632\n",
      "False_positive_rate    0.372549\n",
      "False_negative_rate    0.563380\n",
      "dtype: float64\n",
      "------------ Dimention 148\n",
      "---- Do parameter tuning\n",
      "Scoring parameter balanced_accuracy\n",
      "Fitting 5 folds for each of 25 candidates, totalling 125 fits\n"
     ]
    },
    {
     "name": "stderr",
     "output_type": "stream",
     "text": [
      "[Parallel(n_jobs=12)]: Using backend LokyBackend with 12 concurrent workers.\n",
      "[Parallel(n_jobs=12)]: Done   8 tasks      | elapsed:    1.5s\n",
      "[Parallel(n_jobs=12)]: Done 125 out of 125 | elapsed:   11.1s finished\n"
     ]
    },
    {
     "name": "stdout",
     "output_type": "stream",
     "text": [
      "\n",
      " Time taken: 0 hours 0 minutes and 12.69 seconds.\n",
      "Best Score: 67.832%\n",
      "{'learning_rate': 0.02, 'max_delta_step': 5, 'n_estimators': 700, 'max_depth': 6, 'scale_pos_weight': 0.2, 'subsample': 0.8, 'min_child_weight': 4, 'colsample_bytree': 0.6, 'gamma': 5}\n"
     ]
    },
    {
     "name": "stderr",
     "output_type": "stream",
     "text": [
      "[Parallel(n_jobs=-1)]: Using backend LokyBackend with 16 concurrent workers.\n",
      "[Parallel(n_jobs=-1)]: Done   5 out of   5 | elapsed:    1.3s finished\n"
     ]
    },
    {
     "name": "stdout",
     "output_type": "stream",
     "text": [
      "--- Validation score\n",
      "balanced_accuracy    0.678316\n",
      "recall_0             0.875000\n",
      "precision_0          0.382171\n",
      "recall_1             0.481632\n",
      "precision_1          0.915069\n",
      "auc                  0.742488\n",
      "dtype: float64\n",
      "tn: 31, fp:20, fn:79, tp:63\n",
      "[[31 20]\n",
      " [79 63]]\n",
      "--- Test score\n",
      "balanced_accuracy      0.525753\n",
      "recall_0               0.607843\n",
      "precision_0            0.281818\n",
      "recall_1               0.443662\n",
      "precision_1            0.759036\n",
      "auc                    0.562276\n",
      "False_positive_rate    0.392157\n",
      "False_negative_rate    0.556338\n",
      "dtype: float64\n",
      "------------ Dimention 149\n",
      "---- Do parameter tuning\n",
      "Scoring parameter balanced_accuracy\n",
      "Fitting 5 folds for each of 25 candidates, totalling 125 fits\n"
     ]
    },
    {
     "name": "stderr",
     "output_type": "stream",
     "text": [
      "[Parallel(n_jobs=12)]: Using backend LokyBackend with 12 concurrent workers.\n",
      "[Parallel(n_jobs=12)]: Done   8 tasks      | elapsed:    1.7s\n",
      "[Parallel(n_jobs=12)]: Done 125 out of 125 | elapsed:   11.2s finished\n"
     ]
    },
    {
     "name": "stdout",
     "output_type": "stream",
     "text": [
      "\n",
      " Time taken: 0 hours 0 minutes and 13.18 seconds.\n",
      "Best Score: 67.562%\n",
      "{'learning_rate': 0.03, 'max_delta_step': 1, 'n_estimators': 700, 'max_depth': 5, 'scale_pos_weight': 0.1, 'subsample': 0.8, 'min_child_weight': 2, 'colsample_bytree': 0.8, 'gamma': 2}\n"
     ]
    },
    {
     "name": "stderr",
     "output_type": "stream",
     "text": [
      "[Parallel(n_jobs=-1)]: Using backend LokyBackend with 16 concurrent workers.\n",
      "[Parallel(n_jobs=-1)]: Done   5 out of   5 | elapsed:    1.7s finished\n"
     ]
    },
    {
     "name": "stdout",
     "output_type": "stream",
     "text": [
      "--- Validation score\n",
      "balanced_accuracy    0.675618\n",
      "recall_0             0.900000\n",
      "precision_0          0.374696\n",
      "recall_1             0.451235\n",
      "precision_1          0.926587\n",
      "auc                  0.740105\n",
      "dtype: float64\n",
      "tn: 33, fp:18, fn:86, tp:56\n",
      "[[33 18]\n",
      " [86 56]]\n",
      "--- Test score\n",
      "balanced_accuracy      0.520713\n",
      "recall_0               0.647059\n",
      "precision_0            0.277311\n",
      "recall_1               0.394366\n",
      "precision_1            0.756757\n",
      "auc                    0.558133\n",
      "False_positive_rate    0.352941\n",
      "False_negative_rate    0.605634\n",
      "dtype: float64\n",
      "Best auc= 0.7724980574980574, dimentions used= 34\n",
      "Best Balanced_accuracy= 0.7306934731934731, dimentions used= 4\n",
      "Lowest FPR = 0.35294117647058826, dimentions used= 104\n",
      "---- Do parameter tuning\n",
      "Scoring parameter balanced_accuracy\n",
      "Fitting 5 folds for each of 25 candidates, totalling 125 fits\n"
     ]
    },
    {
     "name": "stderr",
     "output_type": "stream",
     "text": [
      "[Parallel(n_jobs=12)]: Using backend LokyBackend with 12 concurrent workers.\n",
      "[Parallel(n_jobs=12)]: Done   8 tasks      | elapsed:    1.7s\n",
      "[Parallel(n_jobs=12)]: Done 125 out of 125 | elapsed:   11.3s finished\n"
     ]
    },
    {
     "name": "stdout",
     "output_type": "stream",
     "text": [
      "\n",
      " Time taken: 0 hours 0 minutes and 12.88 seconds.\n",
      "Best Score: 66.889%\n",
      "{'learning_rate': 0.02, 'max_delta_step': 5, 'n_estimators': 700, 'max_depth': 6, 'scale_pos_weight': 0.2, 'subsample': 0.8, 'min_child_weight': 4, 'colsample_bytree': 0.6, 'gamma': 5}\n"
     ]
    },
    {
     "name": "stderr",
     "output_type": "stream",
     "text": [
      "[Parallel(n_jobs=-1)]: Using backend LokyBackend with 16 concurrent workers.\n",
      "[Parallel(n_jobs=-1)]: Done   5 out of   5 | elapsed:    1.3s finished\n"
     ]
    },
    {
     "name": "stdout",
     "output_type": "stream",
     "text": [
      "--- Validation score\n",
      "balanced_accuracy    0.668893\n",
      "recall_0             0.850000\n",
      "precision_0          0.378306\n",
      "recall_1             0.487786\n",
      "precision_1          0.899916\n",
      "auc                  0.739874\n",
      "dtype: float64\n",
      "tn: 33, fp:18, fn:78, tp:64\n",
      "[[33 18]\n",
      " [78 64]]\n",
      "--- Test score\n",
      "balanced_accuracy      0.548882\n",
      "recall_0               0.647059\n",
      "precision_0            0.297297\n",
      "recall_1               0.450704\n",
      "precision_1            0.780488\n",
      "auc                    0.582298\n",
      "False_positive_rate    0.352941\n",
      "False_negative_rate    0.549296\n",
      "dtype: float64\n"
     ]
    }
   ],
   "source": [
    "emb_all = pd.merge(emb_train.append(emb_test), outcome, on=\"patient_ID\")\n",
    "emb_all = emb_all.dropna()\n",
    "result = find_best_dim(emb_all.set_index(\"patient_ID\").astype(\"float64\"),scoring=\"balanced_accuracy\", scale_pos_weight=True, train_set=train_set, test_set=test_set)"
   ]
  },
  {
   "cell_type": "code",
   "execution_count": 19,
   "id": "gorgeous-recorder",
   "metadata": {},
   "outputs": [],
   "source": [
    "val_res, test_res = {},{}\n",
    "for i in result.keys():\n",
    "    if result[i][\"test\"][\"balanced_accuracy\"].values[0] > 0.59:\n",
    "        val_res[i] = result[i][\"val\"]\n",
    "        test_res[i] = result[i][\"test\"]"
   ]
  },
  {
   "cell_type": "code",
   "execution_count": 20,
   "id": "limited-ecuador",
   "metadata": {},
   "outputs": [
    {
     "data": {
      "text/html": [
       "<div>\n",
       "<style scoped>\n",
       "    .dataframe tbody tr th:only-of-type {\n",
       "        vertical-align: middle;\n",
       "    }\n",
       "\n",
       "    .dataframe tbody tr th {\n",
       "        vertical-align: top;\n",
       "    }\n",
       "\n",
       "    .dataframe thead th {\n",
       "        text-align: right;\n",
       "    }\n",
       "</style>\n",
       "<table border=\"1\" class=\"dataframe\">\n",
       "  <thead>\n",
       "    <tr style=\"text-align: right;\">\n",
       "      <th></th>\n",
       "      <th>dim 46</th>\n",
       "      <th>dim 34</th>\n",
       "      <th>dim 36</th>\n",
       "      <th>dim 49</th>\n",
       "      <th>dim 35</th>\n",
       "      <th>dim 40</th>\n",
       "      <th>dim 39</th>\n",
       "      <th>dim 50</th>\n",
       "      <th>dim 55</th>\n",
       "      <th>dim 42</th>\n",
       "      <th>dim 62</th>\n",
       "      <th>dim 43</th>\n",
       "      <th>dim 33</th>\n",
       "    </tr>\n",
       "  </thead>\n",
       "  <tbody>\n",
       "    <tr>\n",
       "      <th>auc</th>\n",
       "      <td>0.767092</td>\n",
       "      <td>0.772498</td>\n",
       "      <td>0.77184</td>\n",
       "      <td>0.767723</td>\n",
       "      <td>0.76636</td>\n",
       "      <td>0.766911</td>\n",
       "      <td>0.769126</td>\n",
       "      <td>0.757514</td>\n",
       "      <td>0.761002</td>\n",
       "      <td>0.772277</td>\n",
       "      <td>0.74927</td>\n",
       "      <td>0.74453</td>\n",
       "      <td>0.756402</td>\n",
       "    </tr>\n",
       "    <tr>\n",
       "      <th>balanced_accuracy</th>\n",
       "      <td>0.708747</td>\n",
       "      <td>0.710478</td>\n",
       "      <td>0.70257</td>\n",
       "      <td>0.701952</td>\n",
       "      <td>0.694924</td>\n",
       "      <td>0.698473</td>\n",
       "      <td>0.703019</td>\n",
       "      <td>0.6962</td>\n",
       "      <td>0.700839</td>\n",
       "      <td>0.704557</td>\n",
       "      <td>0.690944</td>\n",
       "      <td>0.702354</td>\n",
       "      <td>0.706474</td>\n",
       "    </tr>\n",
       "    <tr>\n",
       "      <th>precision_0</th>\n",
       "      <td>0.52907</td>\n",
       "      <td>0.522363</td>\n",
       "      <td>0.515484</td>\n",
       "      <td>0.52197</td>\n",
       "      <td>0.504306</td>\n",
       "      <td>0.507372</td>\n",
       "      <td>0.51845</td>\n",
       "      <td>0.515994</td>\n",
       "      <td>0.522111</td>\n",
       "      <td>0.526632</td>\n",
       "      <td>0.515227</td>\n",
       "      <td>0.534833</td>\n",
       "      <td>0.529517</td>\n",
       "    </tr>\n",
       "    <tr>\n",
       "      <th>precision_1</th>\n",
       "      <td>0.8523</td>\n",
       "      <td>0.856709</td>\n",
       "      <td>0.850252</td>\n",
       "      <td>0.847827</td>\n",
       "      <td>0.846652</td>\n",
       "      <td>0.848762</td>\n",
       "      <td>0.849217</td>\n",
       "      <td>0.843739</td>\n",
       "      <td>0.846871</td>\n",
       "      <td>0.850302</td>\n",
       "      <td>0.840241</td>\n",
       "      <td>0.846027</td>\n",
       "      <td>0.849949</td>\n",
       "    </tr>\n",
       "    <tr>\n",
       "      <th>recall_0</th>\n",
       "      <td>0.625</td>\n",
       "      <td>0.65</td>\n",
       "      <td>0.625</td>\n",
       "      <td>0.608333</td>\n",
       "      <td>0.625</td>\n",
       "      <td>0.616667</td>\n",
       "      <td>0.616667</td>\n",
       "      <td>0.6</td>\n",
       "      <td>0.6</td>\n",
       "      <td>0.616667</td>\n",
       "      <td>0.583333</td>\n",
       "      <td>0.6</td>\n",
       "      <td>0.608333</td>\n",
       "    </tr>\n",
       "    <tr>\n",
       "      <th>recall_1</th>\n",
       "      <td>0.792494</td>\n",
       "      <td>0.770956</td>\n",
       "      <td>0.78014</td>\n",
       "      <td>0.795571</td>\n",
       "      <td>0.764848</td>\n",
       "      <td>0.78028</td>\n",
       "      <td>0.789371</td>\n",
       "      <td>0.792401</td>\n",
       "      <td>0.801678</td>\n",
       "      <td>0.792448</td>\n",
       "      <td>0.798555</td>\n",
       "      <td>0.804709</td>\n",
       "      <td>0.804615</td>\n",
       "    </tr>\n",
       "  </tbody>\n",
       "</table>\n",
       "</div>"
      ],
      "text/plain": [
       "                     dim 46    dim 34    dim 36    dim 49    dim 35    dim 40  \\\n",
       "auc                0.767092  0.772498   0.77184  0.767723   0.76636  0.766911   \n",
       "balanced_accuracy  0.708747  0.710478   0.70257  0.701952  0.694924  0.698473   \n",
       "precision_0         0.52907  0.522363  0.515484   0.52197  0.504306  0.507372   \n",
       "precision_1          0.8523  0.856709  0.850252  0.847827  0.846652  0.848762   \n",
       "recall_0              0.625      0.65     0.625  0.608333     0.625  0.616667   \n",
       "recall_1           0.792494  0.770956   0.78014  0.795571  0.764848   0.78028   \n",
       "\n",
       "                     dim 39    dim 50    dim 55    dim 42    dim 62    dim 43  \\\n",
       "auc                0.769126  0.757514  0.761002  0.772277   0.74927   0.74453   \n",
       "balanced_accuracy  0.703019    0.6962  0.700839  0.704557  0.690944  0.702354   \n",
       "precision_0         0.51845  0.515994  0.522111  0.526632  0.515227  0.534833   \n",
       "precision_1        0.849217  0.843739  0.846871  0.850302  0.840241  0.846027   \n",
       "recall_0           0.616667       0.6       0.6  0.616667  0.583333       0.6   \n",
       "recall_1           0.789371  0.792401  0.801678  0.792448  0.798555  0.804709   \n",
       "\n",
       "                     dim 33  \n",
       "auc                0.756402  \n",
       "balanced_accuracy  0.706474  \n",
       "precision_0        0.529517  \n",
       "precision_1        0.849949  \n",
       "recall_0           0.608333  \n",
       "recall_1           0.804615  "
      ]
     },
     "execution_count": 20,
     "metadata": {},
     "output_type": "execute_result"
    }
   ],
   "source": [
    "print_comparision(val_res)"
   ]
  },
  {
   "cell_type": "code",
   "execution_count": 21,
   "id": "crude-travel",
   "metadata": {},
   "outputs": [
    {
     "data": {
      "text/html": [
       "<div>\n",
       "<style scoped>\n",
       "    .dataframe tbody tr th:only-of-type {\n",
       "        vertical-align: middle;\n",
       "    }\n",
       "\n",
       "    .dataframe tbody tr th {\n",
       "        vertical-align: top;\n",
       "    }\n",
       "\n",
       "    .dataframe thead th {\n",
       "        text-align: right;\n",
       "    }\n",
       "</style>\n",
       "<table border=\"1\" class=\"dataframe\">\n",
       "  <thead>\n",
       "    <tr style=\"text-align: right;\">\n",
       "      <th></th>\n",
       "      <th>dim 46</th>\n",
       "      <th>dim 34</th>\n",
       "      <th>dim 36</th>\n",
       "      <th>dim 49</th>\n",
       "      <th>dim 35</th>\n",
       "      <th>dim 40</th>\n",
       "      <th>dim 39</th>\n",
       "      <th>dim 50</th>\n",
       "      <th>dim 55</th>\n",
       "      <th>dim 42</th>\n",
       "      <th>dim 62</th>\n",
       "      <th>dim 43</th>\n",
       "      <th>dim 33</th>\n",
       "    </tr>\n",
       "  </thead>\n",
       "  <tbody>\n",
       "    <tr>\n",
       "      <th>False_negative_rate</th>\n",
       "      <td>0.267606</td>\n",
       "      <td>0.260563</td>\n",
       "      <td>0.253521</td>\n",
       "      <td>0.260563</td>\n",
       "      <td>0.260563</td>\n",
       "      <td>0.253521</td>\n",
       "      <td>0.253521</td>\n",
       "      <td>0.267606</td>\n",
       "      <td>0.260563</td>\n",
       "      <td>0.260563</td>\n",
       "      <td>0.260563</td>\n",
       "      <td>0.302817</td>\n",
       "      <td>0.246479</td>\n",
       "    </tr>\n",
       "    <tr>\n",
       "      <th>False_positive_rate</th>\n",
       "      <td>0.54902</td>\n",
       "      <td>0.54902</td>\n",
       "      <td>0.54902</td>\n",
       "      <td>0.54902</td>\n",
       "      <td>0.54902</td>\n",
       "      <td>0.54902</td>\n",
       "      <td>0.54902</td>\n",
       "      <td>0.54902</td>\n",
       "      <td>0.54902</td>\n",
       "      <td>0.54902</td>\n",
       "      <td>0.54902</td>\n",
       "      <td>0.509804</td>\n",
       "      <td>0.54902</td>\n",
       "    </tr>\n",
       "    <tr>\n",
       "      <th>auc</th>\n",
       "      <td>0.567109</td>\n",
       "      <td>0.548743</td>\n",
       "      <td>0.539216</td>\n",
       "      <td>0.562138</td>\n",
       "      <td>0.561309</td>\n",
       "      <td>0.558962</td>\n",
       "      <td>0.551643</td>\n",
       "      <td>0.560619</td>\n",
       "      <td>0.568351</td>\n",
       "      <td>0.555233</td>\n",
       "      <td>0.545429</td>\n",
       "      <td>0.578155</td>\n",
       "      <td>0.543772</td>\n",
       "    </tr>\n",
       "    <tr>\n",
       "      <th>balanced_accuracy</th>\n",
       "      <td>0.591687</td>\n",
       "      <td>0.595209</td>\n",
       "      <td>0.59873</td>\n",
       "      <td>0.595209</td>\n",
       "      <td>0.595209</td>\n",
       "      <td>0.59873</td>\n",
       "      <td>0.59873</td>\n",
       "      <td>0.591687</td>\n",
       "      <td>0.595209</td>\n",
       "      <td>0.595209</td>\n",
       "      <td>0.595209</td>\n",
       "      <td>0.59369</td>\n",
       "      <td>0.602251</td>\n",
       "    </tr>\n",
       "    <tr>\n",
       "      <th>precision_0</th>\n",
       "      <td>0.377049</td>\n",
       "      <td>0.383333</td>\n",
       "      <td>0.389831</td>\n",
       "      <td>0.383333</td>\n",
       "      <td>0.383333</td>\n",
       "      <td>0.389831</td>\n",
       "      <td>0.389831</td>\n",
       "      <td>0.377049</td>\n",
       "      <td>0.383333</td>\n",
       "      <td>0.383333</td>\n",
       "      <td>0.383333</td>\n",
       "      <td>0.367647</td>\n",
       "      <td>0.396552</td>\n",
       "    </tr>\n",
       "    <tr>\n",
       "      <th>precision_1</th>\n",
       "      <td>0.787879</td>\n",
       "      <td>0.789474</td>\n",
       "      <td>0.791045</td>\n",
       "      <td>0.789474</td>\n",
       "      <td>0.789474</td>\n",
       "      <td>0.791045</td>\n",
       "      <td>0.791045</td>\n",
       "      <td>0.787879</td>\n",
       "      <td>0.789474</td>\n",
       "      <td>0.789474</td>\n",
       "      <td>0.789474</td>\n",
       "      <td>0.792</td>\n",
       "      <td>0.792593</td>\n",
       "    </tr>\n",
       "    <tr>\n",
       "      <th>recall_0</th>\n",
       "      <td>0.45098</td>\n",
       "      <td>0.45098</td>\n",
       "      <td>0.45098</td>\n",
       "      <td>0.45098</td>\n",
       "      <td>0.45098</td>\n",
       "      <td>0.45098</td>\n",
       "      <td>0.45098</td>\n",
       "      <td>0.45098</td>\n",
       "      <td>0.45098</td>\n",
       "      <td>0.45098</td>\n",
       "      <td>0.45098</td>\n",
       "      <td>0.490196</td>\n",
       "      <td>0.45098</td>\n",
       "    </tr>\n",
       "    <tr>\n",
       "      <th>recall_1</th>\n",
       "      <td>0.732394</td>\n",
       "      <td>0.739437</td>\n",
       "      <td>0.746479</td>\n",
       "      <td>0.739437</td>\n",
       "      <td>0.739437</td>\n",
       "      <td>0.746479</td>\n",
       "      <td>0.746479</td>\n",
       "      <td>0.732394</td>\n",
       "      <td>0.739437</td>\n",
       "      <td>0.739437</td>\n",
       "      <td>0.739437</td>\n",
       "      <td>0.697183</td>\n",
       "      <td>0.753521</td>\n",
       "    </tr>\n",
       "  </tbody>\n",
       "</table>\n",
       "</div>"
      ],
      "text/plain": [
       "                       dim 46    dim 34    dim 36    dim 49    dim 35  \\\n",
       "False_negative_rate  0.267606  0.260563  0.253521  0.260563  0.260563   \n",
       "False_positive_rate   0.54902   0.54902   0.54902   0.54902   0.54902   \n",
       "auc                  0.567109  0.548743  0.539216  0.562138  0.561309   \n",
       "balanced_accuracy    0.591687  0.595209   0.59873  0.595209  0.595209   \n",
       "precision_0          0.377049  0.383333  0.389831  0.383333  0.383333   \n",
       "precision_1          0.787879  0.789474  0.791045  0.789474  0.789474   \n",
       "recall_0              0.45098   0.45098   0.45098   0.45098   0.45098   \n",
       "recall_1             0.732394  0.739437  0.746479  0.739437  0.739437   \n",
       "\n",
       "                       dim 40    dim 39    dim 50    dim 55    dim 42  \\\n",
       "False_negative_rate  0.253521  0.253521  0.267606  0.260563  0.260563   \n",
       "False_positive_rate   0.54902   0.54902   0.54902   0.54902   0.54902   \n",
       "auc                  0.558962  0.551643  0.560619  0.568351  0.555233   \n",
       "balanced_accuracy     0.59873   0.59873  0.591687  0.595209  0.595209   \n",
       "precision_0          0.389831  0.389831  0.377049  0.383333  0.383333   \n",
       "precision_1          0.791045  0.791045  0.787879  0.789474  0.789474   \n",
       "recall_0              0.45098   0.45098   0.45098   0.45098   0.45098   \n",
       "recall_1             0.746479  0.746479  0.732394  0.739437  0.739437   \n",
       "\n",
       "                       dim 62    dim 43    dim 33  \n",
       "False_negative_rate  0.260563  0.302817  0.246479  \n",
       "False_positive_rate   0.54902  0.509804   0.54902  \n",
       "auc                  0.545429  0.578155  0.543772  \n",
       "balanced_accuracy    0.595209   0.59369  0.602251  \n",
       "precision_0          0.383333  0.367647  0.396552  \n",
       "precision_1          0.789474     0.792  0.792593  \n",
       "recall_0              0.45098  0.490196   0.45098  \n",
       "recall_1             0.739437  0.697183  0.753521  "
      ]
     },
     "execution_count": 21,
     "metadata": {},
     "output_type": "execute_result"
    }
   ],
   "source": [
    "print_comparision(test_res)"
   ]
  },
  {
   "cell_type": "code",
   "execution_count": null,
   "id": "irish-orbit",
   "metadata": {},
   "outputs": [],
   "source": [
    "## cosine kernel"
   ]
  },
  {
   "cell_type": "code",
   "execution_count": 106,
   "id": "ordinary-coral",
   "metadata": {},
   "outputs": [],
   "source": [
    "emb_train_cosine = do_kpca_rbf(ppty_vector_train, kernel=\"cosine\")\n",
    "emb_test_cosine = do_kpca_rbf(ppty_vector_test, test_data=True, vec_space=ppty_vector_train, kernel=\"cosine\")"
   ]
  },
  {
   "cell_type": "code",
   "execution_count": 108,
   "id": "smaller-creation",
   "metadata": {},
   "outputs": [
    {
     "data": {
      "text/plain": [
       "Text(0.5, 1.0, 'Test embedding using training data as vector space (Cosine kernel)')"
      ]
     },
     "execution_count": 108,
     "metadata": {},
     "output_type": "execute_result"
    },
    {
     "data": {
      "image/png": "[encoded data removed]",
      "text/plain": [
       "<Figure size 1296x720 with 2 Axes>"
      ]
     },
     "metadata": {
      "needs_background": "light"
     },
     "output_type": "display_data"
    }
   ],
   "source": [
    "outcome = pd.read_csv(\"/var/www/datasets/state_and_outcome.csv\")\n",
    "outcome = outcome[[\"posOutcome\",\"patient_ID\"]]\n",
    "\n",
    "train_emb_plot = pd.merge(emb_train_cosine, outcome[outcome[\"patient_ID\"].isin(emb_train_cosine[\"patient_ID\"])], on=\"patient_ID\")\n",
    "test_emb_plot = pd.merge(emb_test_cosine, outcome[outcome[\"patient_ID\"].isin(emb_test_cosine[\"patient_ID\"])], on=\"patient_ID\")\n",
    "\n",
    "fig, axs = plt.subplots(1, 2, figsize=(18,10), sharex='all', sharey='all')\n",
    "ax1, ax2 = axs[0], axs[1]\n",
    "\n",
    "ax1.scatter(train_emb_plot[0], train_emb_plot[1], c = train_emb_plot[\"posOutcome\"])\n",
    "ax2.scatter(test_emb_plot[0], test_emb_plot[1],c = test_emb_plot[\"posOutcome\"])\n",
    "ax1.set_title('Train embedding (cosine kernel)')\n",
    "ax2.set_title('Test embedding using training data as vector space (Cosine kernel)')"
   ]
  },
  {
   "cell_type": "code",
   "execution_count": null,
   "id": "substantial-pattern",
   "metadata": {},
   "outputs": [],
   "source": [
    "### sigmoid"
   ]
  },
  {
   "cell_type": "code",
   "execution_count": 111,
   "id": "informative-copyright",
   "metadata": {},
   "outputs": [],
   "source": [
    "emb_train_sigmoid = do_kpca_rbf(ppty_vector_train, kernel=\"sigmoid\")\n",
    "emb_test_sigmoid = do_kpca_rbf(ppty_vector_test, test_data=True, vec_space=ppty_vector_train, kernel=\"sigmoid\")"
   ]
  },
  {
   "cell_type": "code",
   "execution_count": 112,
   "id": "white-second",
   "metadata": {},
   "outputs": [
    {
     "data": {
      "text/plain": [
       "Text(0.5, 1.0, 'Test embedding using training data as vector space (sigmoid kernel)')"
      ]
     },
     "execution_count": 112,
     "metadata": {},
     "output_type": "execute_result"
    },
    {
     "data": {
      "image/png": "[encoded data removed]",
      "text/plain": [
       "<Figure size 1296x720 with 2 Axes>"
      ]
     },
     "metadata": {
      "needs_background": "light"
     },
     "output_type": "display_data"
    }
   ],
   "source": [
    "outcome = pd.read_csv(\"/var/www/datasets/state_and_outcome.csv\")\n",
    "outcome = outcome[[\"posOutcome\",\"patient_ID\"]]\n",
    "\n",
    "train_emb_plot = pd.merge(emb_train_sigmoid, outcome[outcome[\"patient_ID\"].isin(emb_train_sigmoid[\"patient_ID\"])], on=\"patient_ID\")\n",
    "test_emb_plot = pd.merge(emb_test_sigmoid, outcome[outcome[\"patient_ID\"].isin(emb_test_sigmoid[\"patient_ID\"])], on=\"patient_ID\")\n",
    "\n",
    "fig, axs = plt.subplots(1, 2, figsize=(18,10), sharex='all', sharey='all')\n",
    "ax1, ax2 = axs[0], axs[1]\n",
    "\n",
    "ax1.scatter(train_emb_plot[0], train_emb_plot[1], c = train_emb_plot[\"posOutcome\"])\n",
    "ax2.scatter(test_emb_plot[0], test_emb_plot[1],c = test_emb_plot[\"posOutcome\"])\n",
    "ax1.set_title('Train embedding (sigmid kernel)')\n",
    "ax2.set_title('Test embedding using training data as vector space (sigmoid kernel)')"
   ]
  },
  {
   "cell_type": "code",
   "execution_count": null,
   "id": "removable-juvenile",
   "metadata": {},
   "outputs": [],
   "source": [
    "#### Gaussian kernel"
   ]
  },
  {
   "cell_type": "code",
   "execution_count": 38,
   "id": "revised-farming",
   "metadata": {},
   "outputs": [],
   "source": [
    "emb_train_rbf = do_kpca_rbf(ppty_vector_train)\n",
    "emb_test_rbf = do_kpca_rbf(ppty_vector_test, test_data=True, vec_space=ppty_vector_train)"
   ]
  },
  {
   "cell_type": "code",
   "execution_count": 39,
   "id": "challenging-empty",
   "metadata": {},
   "outputs": [],
   "source": [
    "outcome = pd.read_csv(\"/var/www/datasets/state_and_outcome.csv\")\n",
    "outcome = outcome[[\"posOutcome\",\"patient_ID\"]]"
   ]
  },
  {
   "cell_type": "code",
   "execution_count": 44,
   "id": "healthy-gregory",
   "metadata": {},
   "outputs": [
    {
     "data": {
      "text/plain": [
       "Text(0.5, 1.0, 'Test embedding using training data as vector space (Gaussian kernel)')"
      ]
     },
     "execution_count": 44,
     "metadata": {},
     "output_type": "execute_result"
    },
    {
     "data": {
      "image/png": "[encoded data removed]",
      "text/plain": [
       "<Figure size 1296x720 with 2 Axes>"
      ]
     },
     "metadata": {
      "needs_background": "light"
     },
     "output_type": "display_data"
    }
   ],
   "source": [
    "train_emb_plot = pd.merge(emb_train_rbf, outcome[outcome[\"patient_ID\"].isin(emb_train_rbf[\"patient_ID\"])], on=\"patient_ID\")\n",
    "test_emb_plot = pd.merge(emb_test_rbf, outcome[outcome[\"patient_ID\"].isin(emb_test_rbf[\"patient_ID\"])], on=\"patient_ID\")\n",
    "\n",
    "fig, axs = plt.subplots(1, 2, figsize=(18,10), sharex='all', sharey='all')\n",
    "ax1, ax2 = axs[0], axs[1]\n",
    "\n",
    "ax1.scatter(train_emb_plot[0], train_emb_plot[1], c = train_emb_plot[\"posOutcome\"])\n",
    "ax2.scatter(test_emb_plot[0], test_emb_plot[1],c = test_emb_plot[\"posOutcome\"])\n",
    "ax1.set_title('Train embedding (Gaussian kernel)')\n",
    "ax2.set_title('Test embedding using training data as vector space (Gaussian kernel)')"
   ]
  },
  {
   "cell_type": "code",
   "execution_count": 84,
   "id": "average-setting",
   "metadata": {},
   "outputs": [],
   "source": [
    "emb_all_rbf = pd.merge(emb_train_rbf.append(emb_test_rbf), outcome, on=\"patient_ID\").dropna()"
   ]
  },
  {
   "cell_type": "code",
   "execution_count": 85,
   "id": "local-excuse",
   "metadata": {},
   "outputs": [
    {
     "name": "stdout",
     "output_type": "stream",
     "text": [
      "---- Do parameter tuning\n",
      "Scoring parameter balanced_accuracy\n",
      "Fitting 5 folds for each of 25 candidates, totalling 125 fits\n"
     ]
    },
    {
     "name": "stderr",
     "output_type": "stream",
     "text": [
      "[Parallel(n_jobs=12)]: Using backend LokyBackend with 12 concurrent workers.\n",
      "[Parallel(n_jobs=12)]: Done   8 tasks      | elapsed:    4.3s\n",
      "[Parallel(n_jobs=12)]: Done 125 out of 125 | elapsed:   31.7s finished\n"
     ]
    },
    {
     "name": "stdout",
     "output_type": "stream",
     "text": [
      "\n",
      " Time taken: 0 hours 0 minutes and 35.01 seconds.\n",
      "Best Score: 68.121%\n",
      "{'max_depth': 6, 'min_child_weight': 2, 'subsample': 0.8, 'max_delta_step': 2, 'gamma': 5, 'learning_rate': 0.02, 'colsample_bytree': 0.8, 'scale_pos_weight': 0.36, 'n_estimators': 300}\n"
     ]
    },
    {
     "name": "stderr",
     "output_type": "stream",
     "text": [
      "[Parallel(n_jobs=-1)]: Using backend LokyBackend with 16 concurrent workers.\n",
      "[Parallel(n_jobs=-1)]: Done   5 out of   5 | elapsed:    2.9s finished\n"
     ]
    },
    {
     "name": "stdout",
     "output_type": "stream",
     "text": [
      "--- Validation score\n",
      "balanced_accuracy    0.681212\n",
      "recall_0             0.533333\n",
      "precision_0          0.527552\n",
      "recall_1             0.829091\n",
      "precision_1          0.830429\n",
      "auc                  0.711859\n",
      "dtype: float64\n",
      "tn: 7, fp:44, fn:12, tp:130\n",
      "[[  7  44]\n",
      " [ 12 130]]\n",
      "--- Test score\n",
      "balanced_accuracy      0.526374\n",
      "recall_0               0.137255\n",
      "precision_0            0.368421\n",
      "recall_1               0.915493\n",
      "precision_1            0.747126\n",
      "auc                    0.566556\n",
      "False_positive_rate    0.862745\n",
      "False_negative_rate    0.084507\n",
      "dtype: float64\n"
     ]
    }
   ],
   "source": [
    "val_rbf, test_rbf = do_train_val_test(emb_all_rbf.set_index(\"patient_ID\").astype(\"float64\"),scoring=\"balanced_accuracy\", scale_pos_weight=True, train=emb_train_rbf[\"patient_ID\"].tolist(),test=emb_test_rbf[\"patient_ID\"].tolist())"
   ]
  },
  {
   "cell_type": "markdown",
   "id": "disciplinary-saskatchewan",
   "metadata": {},
   "source": [
    "### PCA dimention reduction"
   ]
  },
  {
   "cell_type": "code",
   "execution_count": 99,
   "id": "attractive-villa",
   "metadata": {},
   "outputs": [],
   "source": [
    "train_emb_pca = do_pca(ppty_vector_train)"
   ]
  },
  {
   "cell_type": "code",
   "execution_count": 100,
   "id": "central-parish",
   "metadata": {},
   "outputs": [],
   "source": [
    "test_emb_pca = do_pca(ppty_vector_test, test_data=True, vec_space=ppty_vector_train)"
   ]
  },
  {
   "cell_type": "code",
   "execution_count": 104,
   "id": "characteristic-condition",
   "metadata": {},
   "outputs": [
    {
     "data": {
      "text/plain": [
       "Text(0.5, 1.0, 'Test embedding using training data as vector space PCA')"
      ]
     },
     "execution_count": 104,
     "metadata": {},
     "output_type": "execute_result"
    },
    {
     "data": {
      "image/png": "[encoded data removed]",
      "text/plain": [
       "<Figure size 1296x720 with 2 Axes>"
      ]
     },
     "metadata": {
      "needs_background": "light"
     },
     "output_type": "display_data"
    }
   ],
   "source": [
    "train_emb_plot = pd.merge(train_emb_pca, outcome[outcome[\"patient_ID\"].isin(train_emb_pca[\"patient_ID\"])], on=\"patient_ID\")\n",
    "test_emb_plot = pd.merge(test_emb_pca, outcome[outcome[\"patient_ID\"].isin(test_emb_pca[\"patient_ID\"])], on=\"patient_ID\")\n",
    "\n",
    "fig, axs = plt.subplots(1, 2, figsize=(18,10), sharex='all', sharey='all')\n",
    "ax1, ax2 = axs[0], axs[1]\n",
    "\n",
    "ax1.scatter(train_emb_plot[0], train_emb_plot[1], c = train_emb_plot[\"posOutcome\"])\n",
    "ax2.scatter(test_emb_plot[0], test_emb_plot[1],c = test_emb_plot[\"posOutcome\"])\n",
    "ax1.set_title('Train embedding PCA ')\n",
    "ax2.set_title('Test embedding using training data as vector space PCA')"
   ]
  }
 ],
 "metadata": {
  "kernelspec": {
   "display_name": "Python 3",
   "language": "python",
   "name": "python3"
  },
  "language_info": {
   "codemirror_mode": {
    "name": "ipython",
    "version": 3
   },
   "file_extension": ".py",
   "mimetype": "text/x-python",
   "name": "python",
   "nbconvert_exporter": "python",
   "pygments_lexer": "ipython3",
   "version": "3.5.2"
  }
 },
 "nbformat": 4,
 "nbformat_minor": 5
}
