{
 "cells": [
  {
   "cell_type": "code",
   "execution_count": 1,
   "id": "impressive-album",
   "metadata": {},
   "outputs": [],
   "source": [
    "%load_ext autoreload"
   ]
  },
  {
   "cell_type": "code",
   "execution_count": 2,
   "id": "victorian-charter",
   "metadata": {},
   "outputs": [],
   "source": [
    "%autoreload 2"
   ]
  },
  {
   "cell_type": "code",
   "execution_count": 72,
   "id": "super-cross",
   "metadata": {},
   "outputs": [],
   "source": [
    "from notebook_utils import *\n",
    "from generate_embedding import *\n",
    "from sklearn.manifold import TSNE\n",
    "import re"
   ]
  },
  {
   "cell_type": "code",
   "execution_count": 8,
   "id": "empty-midnight",
   "metadata": {},
   "outputs": [],
   "source": [
    "ppty_vector_train = pd.read_csv(\"ten_genes/train/ge_pln/property_vector_beforekpca_p=1,T=2_notnormalized_2021-03-18.csv\", sep=\"\\t\")"
   ]
  },
  {
   "cell_type": "code",
   "execution_count": 9,
   "id": "addressed-access",
   "metadata": {},
   "outputs": [
    {
     "data": {
      "text/html": [
       "<div>\n",
       "<style scoped>\n",
       "    .dataframe tbody tr th:only-of-type {\n",
       "        vertical-align: middle;\n",
       "    }\n",
       "\n",
       "    .dataframe tbody tr th {\n",
       "        vertical-align: top;\n",
       "    }\n",
       "\n",
       "    .dataframe thead th {\n",
       "        text-align: right;\n",
       "    }\n",
       "</style>\n",
       "<table border=\"1\" class=\"dataframe\">\n",
       "  <thead>\n",
       "    <tr style=\"text-align: right;\">\n",
       "      <th></th>\n",
       "      <th>patient_ID</th>\n",
       "      <th>0</th>\n",
       "      <th>1</th>\n",
       "      <th>2</th>\n",
       "      <th>3</th>\n",
       "      <th>4</th>\n",
       "      <th>5</th>\n",
       "      <th>6</th>\n",
       "      <th>7</th>\n",
       "      <th>8</th>\n",
       "      <th>...</th>\n",
       "      <th>743</th>\n",
       "      <th>744</th>\n",
       "      <th>745</th>\n",
       "      <th>746</th>\n",
       "      <th>747</th>\n",
       "      <th>748</th>\n",
       "      <th>749</th>\n",
       "      <th>750</th>\n",
       "      <th>751</th>\n",
       "      <th>752</th>\n",
       "    </tr>\n",
       "  </thead>\n",
       "  <tbody>\n",
       "    <tr>\n",
       "      <th>0</th>\n",
       "      <td>249600</td>\n",
       "      <td>0.000365</td>\n",
       "      <td>0.000677</td>\n",
       "      <td>0.000069</td>\n",
       "      <td>0.000225</td>\n",
       "      <td>0.000046</td>\n",
       "      <td>0.000557</td>\n",
       "      <td>0.000000</td>\n",
       "      <td>0.000000</td>\n",
       "      <td>0.000000</td>\n",
       "      <td>...</td>\n",
       "      <td>0.000000</td>\n",
       "      <td>0.000665</td>\n",
       "      <td>0.000221</td>\n",
       "      <td>0.000119</td>\n",
       "      <td>0.000811</td>\n",
       "      <td>0.000689</td>\n",
       "      <td>0.000000</td>\n",
       "      <td>0.000067</td>\n",
       "      <td>0.000000</td>\n",
       "      <td>0.000000</td>\n",
       "    </tr>\n",
       "    <tr>\n",
       "      <th>1</th>\n",
       "      <td>441891</td>\n",
       "      <td>0.000000</td>\n",
       "      <td>0.000000</td>\n",
       "      <td>0.000060</td>\n",
       "      <td>0.000217</td>\n",
       "      <td>0.000000</td>\n",
       "      <td>0.000000</td>\n",
       "      <td>0.000152</td>\n",
       "      <td>0.000000</td>\n",
       "      <td>0.000000</td>\n",
       "      <td>...</td>\n",
       "      <td>0.000000</td>\n",
       "      <td>0.000000</td>\n",
       "      <td>0.000213</td>\n",
       "      <td>0.000000</td>\n",
       "      <td>0.000000</td>\n",
       "      <td>0.000663</td>\n",
       "      <td>0.000000</td>\n",
       "      <td>0.000000</td>\n",
       "      <td>0.000000</td>\n",
       "      <td>0.000000</td>\n",
       "    </tr>\n",
       "    <tr>\n",
       "      <th>2</th>\n",
       "      <td>22476</td>\n",
       "      <td>0.000273</td>\n",
       "      <td>0.000653</td>\n",
       "      <td>0.000088</td>\n",
       "      <td>0.000184</td>\n",
       "      <td>0.000005</td>\n",
       "      <td>0.000537</td>\n",
       "      <td>0.000194</td>\n",
       "      <td>0.000618</td>\n",
       "      <td>0.000241</td>\n",
       "      <td>...</td>\n",
       "      <td>0.000191</td>\n",
       "      <td>0.000598</td>\n",
       "      <td>0.000000</td>\n",
       "      <td>0.000100</td>\n",
       "      <td>0.000783</td>\n",
       "      <td>0.000000</td>\n",
       "      <td>0.000481</td>\n",
       "      <td>0.000061</td>\n",
       "      <td>0.000626</td>\n",
       "      <td>0.000000</td>\n",
       "    </tr>\n",
       "    <tr>\n",
       "      <th>3</th>\n",
       "      <td>249532</td>\n",
       "      <td>0.000000</td>\n",
       "      <td>0.000696</td>\n",
       "      <td>0.000127</td>\n",
       "      <td>0.000327</td>\n",
       "      <td>0.000050</td>\n",
       "      <td>0.000573</td>\n",
       "      <td>0.000201</td>\n",
       "      <td>0.000722</td>\n",
       "      <td>0.000282</td>\n",
       "      <td>...</td>\n",
       "      <td>0.000223</td>\n",
       "      <td>0.000000</td>\n",
       "      <td>0.000000</td>\n",
       "      <td>0.000067</td>\n",
       "      <td>0.000835</td>\n",
       "      <td>0.000000</td>\n",
       "      <td>0.000562</td>\n",
       "      <td>0.000000</td>\n",
       "      <td>0.000731</td>\n",
       "      <td>0.000416</td>\n",
       "    </tr>\n",
       "    <tr>\n",
       "      <th>4</th>\n",
       "      <td>305173</td>\n",
       "      <td>0.000407</td>\n",
       "      <td>0.000571</td>\n",
       "      <td>0.000102</td>\n",
       "      <td>0.000000</td>\n",
       "      <td>0.000043</td>\n",
       "      <td>0.000470</td>\n",
       "      <td>0.000193</td>\n",
       "      <td>0.000656</td>\n",
       "      <td>0.000256</td>\n",
       "      <td>...</td>\n",
       "      <td>0.000203</td>\n",
       "      <td>0.000580</td>\n",
       "      <td>0.000000</td>\n",
       "      <td>0.000000</td>\n",
       "      <td>0.000685</td>\n",
       "      <td>0.000000</td>\n",
       "      <td>0.000511</td>\n",
       "      <td>0.000059</td>\n",
       "      <td>0.000665</td>\n",
       "      <td>0.000000</td>\n",
       "    </tr>\n",
       "  </tbody>\n",
       "</table>\n",
       "<p>5 rows × 754 columns</p>\n",
       "</div>"
      ],
      "text/plain": [
       "   patient_ID         0         1         2         3         4         5  \\\n",
       "0      249600  0.000365  0.000677  0.000069  0.000225  0.000046  0.000557   \n",
       "1      441891  0.000000  0.000000  0.000060  0.000217  0.000000  0.000000   \n",
       "2       22476  0.000273  0.000653  0.000088  0.000184  0.000005  0.000537   \n",
       "3      249532  0.000000  0.000696  0.000127  0.000327  0.000050  0.000573   \n",
       "4      305173  0.000407  0.000571  0.000102  0.000000  0.000043  0.000470   \n",
       "\n",
       "          6         7         8  ...       743       744       745       746  \\\n",
       "0  0.000000  0.000000  0.000000  ...  0.000000  0.000665  0.000221  0.000119   \n",
       "1  0.000152  0.000000  0.000000  ...  0.000000  0.000000  0.000213  0.000000   \n",
       "2  0.000194  0.000618  0.000241  ...  0.000191  0.000598  0.000000  0.000100   \n",
       "3  0.000201  0.000722  0.000282  ...  0.000223  0.000000  0.000000  0.000067   \n",
       "4  0.000193  0.000656  0.000256  ...  0.000203  0.000580  0.000000  0.000000   \n",
       "\n",
       "        747       748       749       750       751       752  \n",
       "0  0.000811  0.000689  0.000000  0.000067  0.000000  0.000000  \n",
       "1  0.000000  0.000663  0.000000  0.000000  0.000000  0.000000  \n",
       "2  0.000783  0.000000  0.000481  0.000061  0.000626  0.000000  \n",
       "3  0.000835  0.000000  0.000562  0.000000  0.000731  0.000416  \n",
       "4  0.000685  0.000000  0.000511  0.000059  0.000665  0.000000  \n",
       "\n",
       "[5 rows x 754 columns]"
      ]
     },
     "execution_count": 9,
     "metadata": {},
     "output_type": "execute_result"
    }
   ],
   "source": [
    "ppty_vector_train.head()"
   ]
  },
  {
   "cell_type": "code",
   "execution_count": 13,
   "id": "blocked-kuwait",
   "metadata": {},
   "outputs": [],
   "source": [
    "ppty_vector_test = pd.read_csv(\"ten_genes/test/ge_pln/property_vector_beforekpca_p=1,T=2_notnormalized_2021-03-18.csv\", sep=\"\\t\")"
   ]
  },
  {
   "cell_type": "code",
   "execution_count": 14,
   "id": "drawn-departure",
   "metadata": {},
   "outputs": [
    {
     "data": {
      "text/html": [
       "<div>\n",
       "<style scoped>\n",
       "    .dataframe tbody tr th:only-of-type {\n",
       "        vertical-align: middle;\n",
       "    }\n",
       "\n",
       "    .dataframe tbody tr th {\n",
       "        vertical-align: top;\n",
       "    }\n",
       "\n",
       "    .dataframe thead th {\n",
       "        text-align: right;\n",
       "    }\n",
       "</style>\n",
       "<table border=\"1\" class=\"dataframe\">\n",
       "  <thead>\n",
       "    <tr style=\"text-align: right;\">\n",
       "      <th></th>\n",
       "      <th>patient_ID</th>\n",
       "      <th>0</th>\n",
       "      <th>1</th>\n",
       "      <th>2</th>\n",
       "      <th>3</th>\n",
       "      <th>4</th>\n",
       "      <th>5</th>\n",
       "      <th>6</th>\n",
       "      <th>7</th>\n",
       "      <th>8</th>\n",
       "      <th>...</th>\n",
       "      <th>743</th>\n",
       "      <th>744</th>\n",
       "      <th>745</th>\n",
       "      <th>746</th>\n",
       "      <th>747</th>\n",
       "      <th>748</th>\n",
       "      <th>749</th>\n",
       "      <th>750</th>\n",
       "      <th>751</th>\n",
       "      <th>752</th>\n",
       "    </tr>\n",
       "  </thead>\n",
       "  <tbody>\n",
       "    <tr>\n",
       "      <th>0</th>\n",
       "      <td>441736</td>\n",
       "      <td>0.000000</td>\n",
       "      <td>0.000000</td>\n",
       "      <td>0.000000</td>\n",
       "      <td>0.000000</td>\n",
       "      <td>0.000000</td>\n",
       "      <td>0.000000</td>\n",
       "      <td>0.000000</td>\n",
       "      <td>0.000000</td>\n",
       "      <td>0.000129</td>\n",
       "      <td>...</td>\n",
       "      <td>0.000077</td>\n",
       "      <td>0.000566</td>\n",
       "      <td>0.000000</td>\n",
       "      <td>0.00000</td>\n",
       "      <td>0.000000</td>\n",
       "      <td>0.000000</td>\n",
       "      <td>0.000193</td>\n",
       "      <td>0.000057</td>\n",
       "      <td>0.000252</td>\n",
       "      <td>0.000000</td>\n",
       "    </tr>\n",
       "    <tr>\n",
       "      <th>1</th>\n",
       "      <td>249665</td>\n",
       "      <td>0.000000</td>\n",
       "      <td>0.000000</td>\n",
       "      <td>0.000301</td>\n",
       "      <td>0.000211</td>\n",
       "      <td>0.000027</td>\n",
       "      <td>0.000000</td>\n",
       "      <td>0.000078</td>\n",
       "      <td>0.000000</td>\n",
       "      <td>0.000137</td>\n",
       "      <td>...</td>\n",
       "      <td>0.000082</td>\n",
       "      <td>0.000573</td>\n",
       "      <td>0.000220</td>\n",
       "      <td>0.00000</td>\n",
       "      <td>0.000000</td>\n",
       "      <td>0.000687</td>\n",
       "      <td>0.000205</td>\n",
       "      <td>0.000058</td>\n",
       "      <td>0.000267</td>\n",
       "      <td>0.000000</td>\n",
       "    </tr>\n",
       "    <tr>\n",
       "      <th>2</th>\n",
       "      <td>305252</td>\n",
       "      <td>0.000415</td>\n",
       "      <td>0.000596</td>\n",
       "      <td>0.000369</td>\n",
       "      <td>0.000295</td>\n",
       "      <td>0.000071</td>\n",
       "      <td>0.000491</td>\n",
       "      <td>0.000183</td>\n",
       "      <td>0.000000</td>\n",
       "      <td>0.000230</td>\n",
       "      <td>...</td>\n",
       "      <td>0.000137</td>\n",
       "      <td>0.000000</td>\n",
       "      <td>0.000222</td>\n",
       "      <td>0.00006</td>\n",
       "      <td>0.000713</td>\n",
       "      <td>0.000691</td>\n",
       "      <td>0.000344</td>\n",
       "      <td>0.000000</td>\n",
       "      <td>0.000448</td>\n",
       "      <td>0.000000</td>\n",
       "    </tr>\n",
       "    <tr>\n",
       "      <th>3</th>\n",
       "      <td>305153</td>\n",
       "      <td>0.000386</td>\n",
       "      <td>0.000596</td>\n",
       "      <td>0.000089</td>\n",
       "      <td>0.000000</td>\n",
       "      <td>0.000073</td>\n",
       "      <td>0.000491</td>\n",
       "      <td>0.000198</td>\n",
       "      <td>0.000244</td>\n",
       "      <td>0.000326</td>\n",
       "      <td>...</td>\n",
       "      <td>0.000194</td>\n",
       "      <td>0.000000</td>\n",
       "      <td>0.000000</td>\n",
       "      <td>0.00000</td>\n",
       "      <td>0.000713</td>\n",
       "      <td>0.000000</td>\n",
       "      <td>0.000488</td>\n",
       "      <td>0.000000</td>\n",
       "      <td>0.000634</td>\n",
       "      <td>0.000372</td>\n",
       "    </tr>\n",
       "    <tr>\n",
       "      <th>4</th>\n",
       "      <td>305171</td>\n",
       "      <td>0.000000</td>\n",
       "      <td>0.000596</td>\n",
       "      <td>0.000053</td>\n",
       "      <td>0.000000</td>\n",
       "      <td>0.000075</td>\n",
       "      <td>0.000491</td>\n",
       "      <td>0.000074</td>\n",
       "      <td>0.000345</td>\n",
       "      <td>0.000277</td>\n",
       "      <td>...</td>\n",
       "      <td>0.000164</td>\n",
       "      <td>0.000627</td>\n",
       "      <td>0.000000</td>\n",
       "      <td>0.00000</td>\n",
       "      <td>0.000713</td>\n",
       "      <td>0.000000</td>\n",
       "      <td>0.000414</td>\n",
       "      <td>0.000063</td>\n",
       "      <td>0.000538</td>\n",
       "      <td>0.000527</td>\n",
       "    </tr>\n",
       "  </tbody>\n",
       "</table>\n",
       "<p>5 rows × 754 columns</p>\n",
       "</div>"
      ],
      "text/plain": [
       "   patient_ID         0         1         2         3         4         5  \\\n",
       "0      441736  0.000000  0.000000  0.000000  0.000000  0.000000  0.000000   \n",
       "1      249665  0.000000  0.000000  0.000301  0.000211  0.000027  0.000000   \n",
       "2      305252  0.000415  0.000596  0.000369  0.000295  0.000071  0.000491   \n",
       "3      305153  0.000386  0.000596  0.000089  0.000000  0.000073  0.000491   \n",
       "4      305171  0.000000  0.000596  0.000053  0.000000  0.000075  0.000491   \n",
       "\n",
       "          6         7         8  ...       743       744       745      746  \\\n",
       "0  0.000000  0.000000  0.000129  ...  0.000077  0.000566  0.000000  0.00000   \n",
       "1  0.000078  0.000000  0.000137  ...  0.000082  0.000573  0.000220  0.00000   \n",
       "2  0.000183  0.000000  0.000230  ...  0.000137  0.000000  0.000222  0.00006   \n",
       "3  0.000198  0.000244  0.000326  ...  0.000194  0.000000  0.000000  0.00000   \n",
       "4  0.000074  0.000345  0.000277  ...  0.000164  0.000627  0.000000  0.00000   \n",
       "\n",
       "        747       748       749       750       751       752  \n",
       "0  0.000000  0.000000  0.000193  0.000057  0.000252  0.000000  \n",
       "1  0.000000  0.000687  0.000205  0.000058  0.000267  0.000000  \n",
       "2  0.000713  0.000691  0.000344  0.000000  0.000448  0.000000  \n",
       "3  0.000713  0.000000  0.000488  0.000000  0.000634  0.000372  \n",
       "4  0.000713  0.000000  0.000414  0.000063  0.000538  0.000527  \n",
       "\n",
       "[5 rows x 754 columns]"
      ]
     },
     "execution_count": 14,
     "metadata": {},
     "output_type": "execute_result"
    }
   ],
   "source": [
    "ppty_vector_test.head()"
   ]
  },
  {
   "cell_type": "code",
   "execution_count": 10,
   "id": "crucial-costs",
   "metadata": {},
   "outputs": [],
   "source": [
    "# train_mapping = open(\"ten_genes/train/ge_pln/ppty_mapping_notnormalized\",\"rb\")\n",
    "# train_mapping = pickle.load(train_mapping)\n",
    "# test_mapping = open(\"ten_genes/test/ge_pln/ppty_mapping_notnormalized\",\"rb\")\n",
    "# test_mapping = pickle.load(test_mapping)"
   ]
  },
  {
   "cell_type": "code",
   "execution_count": 28,
   "id": "scenic-virginia",
   "metadata": {},
   "outputs": [],
   "source": [
    "outcome = pd.read_csv(\"/var/www/datasets/state_and_outcome.csv\")\n",
    "outcome = outcome[[\"posOutcome\",\"patient_ID\"]]"
   ]
  },
  {
   "cell_type": "code",
   "execution_count": 96,
   "id": "protected-copyright",
   "metadata": {},
   "outputs": [
    {
     "name": "stdout",
     "output_type": "stream",
     "text": [
      "--- Doing KPCA\n",
      "--- Doing KPCA\n",
      "Train data:(448, 754), Test data:(193, 754)\n",
      "--- Test data : (193, 448)\n"
     ]
    }
   ],
   "source": [
    "emb_train_ge_pln = do_kpca(ppty_vector_train)\n",
    "emb_test_ge_pln = do_kpca(ppty_vector_test, test_data=True, vector_space=ppty_vector_train)"
   ]
  },
  {
   "cell_type": "code",
   "execution_count": 97,
   "id": "paperback-insert",
   "metadata": {},
   "outputs": [
    {
     "data": {
      "text/plain": [
       "Text(0.5, 1.0, 'Test embedding using training data as vector space')"
      ]
     },
     "execution_count": 97,
     "metadata": {},
     "output_type": "execute_result"
    },
    {
     "data": {
      "image/png": "[encoded data removed]",
      "text/plain": [
       "<Figure size 1296x720 with 2 Axes>"
      ]
     },
     "metadata": {
      "needs_background": "light"
     },
     "output_type": "display_data"
    }
   ],
   "source": [
    "train_emb_plot = pd.merge(emb_train_ge_pln, outcome[outcome[\"patient_ID\"].isin(emb_train_ge_pln[\"patient_ID\"])], on=\"patient_ID\")\n",
    "test_emb_plot = pd.merge(emb_test_ge_pln, outcome[outcome[\"patient_ID\"].isin(emb_test[\"patient_ID\"])], on=\"patient_ID\")\n",
    "\n",
    "fig, axs = plt.subplots(1, 2, figsize=(18,10), sharex='all', sharey='all')\n",
    "ax1, ax2 = axs[0], axs[1]\n",
    "\n",
    "ax1.scatter(train_emb_plot[0], train_emb_plot[1], c = train_emb_plot[\"posOutcome\"])\n",
    "ax2.scatter(test_emb_plot[0], test_emb_plot[1],c = test_emb_plot[\"posOutcome\"])\n",
    "ax1.set_title('Train embedding')\n",
    "ax2.set_title('Test embedding using training data as vector space')"
   ]
  },
  {
   "cell_type": "code",
   "execution_count": 98,
   "id": "thousand-mustang",
   "metadata": {},
   "outputs": [],
   "source": [
    "train_set = ppty_vector_train[\"patient_ID\"].tolist() \n",
    "test_set = ppty_vector_test[\"patient_ID\"].tolist()"
   ]
  },
  {
   "cell_type": "code",
   "execution_count": 99,
   "id": "unique-symphony",
   "metadata": {},
   "outputs": [],
   "source": [
    "emb_all_ge_pln = pd.merge(emb_train_ge_pln.append(emb_test_ge_pln), outcome, on=\"patient_ID\")\n",
    "emb_all_ge_pln = emb_all_ge_pln.dropna()"
   ]
  },
  {
   "cell_type": "code",
   "execution_count": 32,
   "id": "helpful-rouge",
   "metadata": {},
   "outputs": [
    {
     "name": "stdout",
     "output_type": "stream",
     "text": [
      "------------ Dimention 2\n",
      "---- Do parameter tuning\n",
      "Scoring parameter balanced_accuracy\n",
      "Fitting 5 folds for each of 25 candidates, totalling 125 fits\n"
     ]
    },
    {
     "name": "stderr",
     "output_type": "stream",
     "text": [
      "[Parallel(n_jobs=12)]: Using backend LokyBackend with 12 concurrent workers.\n",
      "[Parallel(n_jobs=12)]: Done   8 tasks      | elapsed:    0.9s\n"
     ]
    },
    {
     "name": "stdout",
     "output_type": "stream",
     "text": [
      "\n",
      " Time taken: 0 hours 0 minutes and 1.68 seconds.\n",
      "Best Score: 63.565%\n",
      "{'n_estimators': 700, 'scale_pos_weight': 0.36, 'min_child_weight': 4, 'max_depth': 4, 'max_delta_step': 5, 'learning_rate': 0.02, 'gamma': 1, 'colsample_bytree': 0.8, 'subsample': 0.8}\n"
     ]
    },
    {
     "name": "stderr",
     "output_type": "stream",
     "text": [
      "[Parallel(n_jobs=12)]: Done 102 out of 125 | elapsed:    1.5s remaining:    0.3s\n",
      "[Parallel(n_jobs=12)]: Done 125 out of 125 | elapsed:    1.6s finished\n",
      "[Parallel(n_jobs=-1)]: Using backend LokyBackend with 16 concurrent workers.\n",
      "[Parallel(n_jobs=-1)]: Done   5 out of   5 | elapsed:    0.6s finished\n"
     ]
    },
    {
     "name": "stdout",
     "output_type": "stream",
     "text": [
      "--- Validation score\n",
      "balanced_accuracy    0.635647\n",
      "recall_0             0.558333\n",
      "precision_0          0.416171\n",
      "recall_1             0.712960\n",
      "precision_1          0.815998\n",
      "auc                  0.654730\n",
      "dtype: float64\n",
      "tn: 19, fp:32, fn:69, tp:73\n",
      "[[19 32]\n",
      " [69 73]]\n",
      "--- Test score\n",
      "balanced_accuracy      0.443317\n",
      "recall_0               0.372549\n",
      "precision_0            0.215909\n",
      "recall_1               0.514085\n",
      "precision_1            0.695238\n",
      "auc                    0.446838\n",
      "False_positive_rate    0.627451\n",
      "False_negative_rate    0.485915\n",
      "dtype: float64\n",
      "------------ Dimention 3\n",
      "---- Do parameter tuning\n",
      "Scoring parameter balanced_accuracy\n",
      "Fitting 5 folds for each of 25 candidates, totalling 125 fits\n"
     ]
    },
    {
     "name": "stderr",
     "output_type": "stream",
     "text": [
      "[Parallel(n_jobs=12)]: Using backend LokyBackend with 12 concurrent workers.\n",
      "[Parallel(n_jobs=12)]: Done   8 tasks      | elapsed:    0.2s\n"
     ]
    },
    {
     "name": "stdout",
     "output_type": "stream",
     "text": [
      "\n",
      " Time taken: 0 hours 0 minutes and 1.41 seconds.\n",
      "Best Score: 63.366%\n",
      "{'n_estimators': 300, 'scale_pos_weight': 0.2, 'min_child_weight': 1, 'max_depth': 3, 'max_delta_step': 2, 'learning_rate': 0.07, 'gamma': 0.5, 'colsample_bytree': 0.8, 'subsample': 0.6}\n"
     ]
    },
    {
     "name": "stderr",
     "output_type": "stream",
     "text": [
      "[Parallel(n_jobs=12)]: Done 102 out of 125 | elapsed:    1.0s remaining:    0.2s\n",
      "[Parallel(n_jobs=12)]: Done 125 out of 125 | elapsed:    1.1s finished\n",
      "[Parallel(n_jobs=-1)]: Using backend LokyBackend with 16 concurrent workers.\n",
      "[Parallel(n_jobs=-1)]: Done   5 out of   5 | elapsed:    0.5s finished\n"
     ]
    },
    {
     "name": "stdout",
     "output_type": "stream",
     "text": [
      "--- Validation score\n",
      "balanced_accuracy    0.633660\n",
      "recall_0             0.633333\n",
      "precision_0          0.381452\n",
      "recall_1             0.633986\n",
      "precision_1          0.830248\n",
      "auc                  0.666674\n",
      "dtype: float64\n",
      "tn: 30, fp:21, fn:88, tp:54\n",
      "[[30 21]\n",
      " [88 54]]\n",
      "--- Test score\n",
      "balanced_accuracy      0.484258\n",
      "recall_0               0.588235\n",
      "precision_0            0.254237\n",
      "recall_1               0.380282\n",
      "precision_1            0.720000\n",
      "auc                    0.442281\n",
      "False_positive_rate    0.411765\n",
      "False_negative_rate    0.619718\n",
      "dtype: float64\n",
      "------------ Dimention 4\n",
      "---- Do parameter tuning\n",
      "Scoring parameter balanced_accuracy\n",
      "Fitting 5 folds for each of 25 candidates, totalling 125 fits\n"
     ]
    },
    {
     "name": "stderr",
     "output_type": "stream",
     "text": [
      "[Parallel(n_jobs=12)]: Using backend LokyBackend with 12 concurrent workers.\n",
      "[Parallel(n_jobs=12)]: Done   8 tasks      | elapsed:    0.3s\n"
     ]
    },
    {
     "name": "stdout",
     "output_type": "stream",
     "text": [
      "\n",
      " Time taken: 0 hours 0 minutes and 1.6 seconds.\n",
      "Best Score: 71.052%\n",
      "{'n_estimators': 400, 'scale_pos_weight': 0.36, 'min_child_weight': 1, 'max_depth': 3, 'max_delta_step': 5, 'learning_rate': 0.01, 'gamma': 1.5, 'colsample_bytree': 0.6, 'subsample': 1.0}\n"
     ]
    },
    {
     "name": "stderr",
     "output_type": "stream",
     "text": [
      "[Parallel(n_jobs=12)]: Done 102 out of 125 | elapsed:    1.1s remaining:    0.3s\n",
      "[Parallel(n_jobs=12)]: Done 125 out of 125 | elapsed:    1.2s finished\n",
      "[Parallel(n_jobs=-1)]: Using backend LokyBackend with 16 concurrent workers.\n",
      "[Parallel(n_jobs=-1)]: Done   5 out of   5 | elapsed:    0.5s finished\n"
     ]
    },
    {
     "name": "stdout",
     "output_type": "stream",
     "text": [
      "--- Validation score\n",
      "balanced_accuracy    0.710524\n",
      "recall_0             0.683333\n",
      "precision_0          0.484893\n",
      "recall_1             0.737716\n",
      "precision_1          0.868206\n",
      "auc                  0.755930\n",
      "dtype: float64\n",
      "tn: 35, fp:16, fn:74, tp:68\n",
      "[[35 16]\n",
      " [74 68]]\n",
      "--- Test score\n",
      "balanced_accuracy      0.582574\n",
      "recall_0               0.686275\n",
      "precision_0            0.321101\n",
      "recall_1               0.478873\n",
      "precision_1            0.809524\n",
      "auc                    0.584231\n",
      "False_positive_rate    0.313725\n",
      "False_negative_rate    0.521127\n",
      "dtype: float64\n",
      "------------ Dimention 5\n",
      "---- Do parameter tuning\n",
      "Scoring parameter balanced_accuracy\n",
      "Fitting 5 folds for each of 25 candidates, totalling 125 fits\n"
     ]
    },
    {
     "name": "stderr",
     "output_type": "stream",
     "text": [
      "[Parallel(n_jobs=12)]: Using backend LokyBackend with 12 concurrent workers.\n",
      "[Parallel(n_jobs=12)]: Done   8 tasks      | elapsed:    0.3s\n",
      "[Parallel(n_jobs=12)]: Done 102 out of 125 | elapsed:    1.2s remaining:    0.3s\n",
      "[Parallel(n_jobs=12)]: Done 125 out of 125 | elapsed:    1.3s finished\n"
     ]
    },
    {
     "name": "stdout",
     "output_type": "stream",
     "text": [
      "\n",
      " Time taken: 0 hours 0 minutes and 1.81 seconds.\n",
      "Best Score: 70.780%\n",
      "{'n_estimators': 400, 'scale_pos_weight': 0.36, 'min_child_weight': 3, 'max_depth': 6, 'max_delta_step': 5, 'learning_rate': 0.01, 'gamma': 1.5, 'colsample_bytree': 1.0, 'subsample': 0.6}\n"
     ]
    },
    {
     "name": "stderr",
     "output_type": "stream",
     "text": [
      "[Parallel(n_jobs=-1)]: Using backend LokyBackend with 16 concurrent workers.\n",
      "[Parallel(n_jobs=-1)]: Done   5 out of   5 | elapsed:    0.5s finished\n"
     ]
    },
    {
     "name": "stdout",
     "output_type": "stream",
     "text": [
      "--- Validation score\n",
      "balanced_accuracy    0.707803\n",
      "recall_0             0.675000\n",
      "precision_0          0.483525\n",
      "recall_1             0.740606\n",
      "precision_1          0.865370\n",
      "auc                  0.769007\n",
      "dtype: float64\n",
      "tn: 34, fp:17, fn:64, tp:78\n",
      "[[34 17]\n",
      " [64 78]]\n",
      "--- Test score\n",
      "balanced_accuracy      0.607981\n",
      "recall_0               0.666667\n",
      "precision_0            0.346939\n",
      "recall_1               0.549296\n",
      "precision_1            0.821053\n",
      "auc                    0.609914\n",
      "False_positive_rate    0.333333\n",
      "False_negative_rate    0.450704\n",
      "dtype: float64\n",
      "------------ Dimention 6\n",
      "---- Do parameter tuning\n",
      "Scoring parameter balanced_accuracy\n",
      "Fitting 5 folds for each of 25 candidates, totalling 125 fits\n"
     ]
    },
    {
     "name": "stderr",
     "output_type": "stream",
     "text": [
      "[Parallel(n_jobs=12)]: Using backend LokyBackend with 12 concurrent workers.\n",
      "[Parallel(n_jobs=12)]: Done   8 tasks      | elapsed:    0.3s\n",
      "[Parallel(n_jobs=12)]: Done 102 out of 125 | elapsed:    1.2s remaining:    0.3s\n",
      "[Parallel(n_jobs=12)]: Done 125 out of 125 | elapsed:    1.3s finished\n"
     ]
    },
    {
     "name": "stdout",
     "output_type": "stream",
     "text": [
      "\n",
      " Time taken: 0 hours 0 minutes and 1.8 seconds.\n",
      "Best Score: 69.848%\n",
      "{'n_estimators': 500, 'scale_pos_weight': 0.36, 'min_child_weight': 4, 'max_depth': 5, 'max_delta_step': 4, 'learning_rate': 0.02, 'gamma': 5, 'colsample_bytree': 1.0, 'subsample': 0.6}\n"
     ]
    },
    {
     "name": "stderr",
     "output_type": "stream",
     "text": [
      "[Parallel(n_jobs=-1)]: Using backend LokyBackend with 16 concurrent workers.\n",
      "[Parallel(n_jobs=-1)]: Done   5 out of   5 | elapsed:    0.5s finished\n"
     ]
    },
    {
     "name": "stdout",
     "output_type": "stream",
     "text": [
      "--- Validation score\n",
      "balanced_accuracy    0.698479\n",
      "recall_0             0.741667\n",
      "precision_0          0.439674\n",
      "recall_1             0.655291\n",
      "precision_1          0.877957\n",
      "auc                  0.754456\n",
      "dtype: float64\n",
      "tn: 37, fp:14, fn:84, tp:58\n",
      "[[37 14]\n",
      " [84 58]]\n",
      "--- Test score\n",
      "balanced_accuracy      0.566970\n",
      "recall_0               0.725490\n",
      "precision_0            0.305785\n",
      "recall_1               0.408451\n",
      "precision_1            0.805556\n",
      "auc                    0.631041\n",
      "False_positive_rate    0.274510\n",
      "False_negative_rate    0.591549\n",
      "dtype: float64\n",
      "------------ Dimention 7\n",
      "---- Do parameter tuning\n",
      "Scoring parameter balanced_accuracy\n",
      "Fitting 5 folds for each of 25 candidates, totalling 125 fits\n"
     ]
    },
    {
     "name": "stderr",
     "output_type": "stream",
     "text": [
      "[Parallel(n_jobs=12)]: Using backend LokyBackend with 12 concurrent workers.\n",
      "[Parallel(n_jobs=12)]: Done   8 tasks      | elapsed:    0.3s\n",
      "[Parallel(n_jobs=12)]: Done 102 out of 125 | elapsed:    1.3s remaining:    0.3s\n",
      "[Parallel(n_jobs=12)]: Done 125 out of 125 | elapsed:    1.5s finished\n"
     ]
    },
    {
     "name": "stdout",
     "output_type": "stream",
     "text": [
      "\n",
      " Time taken: 0 hours 0 minutes and 2.1 seconds.\n",
      "Best Score: 69.334%\n",
      "{'n_estimators': 300, 'scale_pos_weight': 0.36, 'min_child_weight': 2, 'max_depth': 6, 'max_delta_step': 2, 'learning_rate': 0.02, 'gamma': 5, 'colsample_bytree': 0.8, 'subsample': 0.8}\n"
     ]
    },
    {
     "name": "stderr",
     "output_type": "stream",
     "text": [
      "[Parallel(n_jobs=-1)]: Using backend LokyBackend with 16 concurrent workers.\n",
      "[Parallel(n_jobs=-1)]: Done   5 out of   5 | elapsed:    0.5s finished\n"
     ]
    },
    {
     "name": "stdout",
     "output_type": "stream",
     "text": [
      "--- Validation score\n",
      "balanced_accuracy    0.693339\n",
      "recall_0             0.691667\n",
      "precision_0          0.450310\n",
      "recall_1             0.695012\n",
      "precision_1          0.865353\n",
      "auc                  0.760927\n",
      "dtype: float64\n",
      "tn: 36, fp:15, fn:79, tp:63\n",
      "[[36 15]\n",
      " [79 63]]\n",
      "--- Test score\n",
      "balanced_accuracy      0.574772\n",
      "recall_0               0.705882\n",
      "precision_0            0.313043\n",
      "recall_1               0.443662\n",
      "precision_1            0.807692\n",
      "auc                    0.623792\n",
      "False_positive_rate    0.294118\n",
      "False_negative_rate    0.556338\n",
      "dtype: float64\n",
      "------------ Dimention 8\n",
      "---- Do parameter tuning\n",
      "Scoring parameter balanced_accuracy\n",
      "Fitting 5 folds for each of 25 candidates, totalling 125 fits\n"
     ]
    },
    {
     "name": "stderr",
     "output_type": "stream",
     "text": [
      "[Parallel(n_jobs=12)]: Using backend LokyBackend with 12 concurrent workers.\n",
      "[Parallel(n_jobs=12)]: Done   8 tasks      | elapsed:    0.3s\n",
      "[Parallel(n_jobs=12)]: Done 102 out of 125 | elapsed:    1.3s remaining:    0.3s\n",
      "[Parallel(n_jobs=12)]: Done 125 out of 125 | elapsed:    1.5s finished\n"
     ]
    },
    {
     "name": "stdout",
     "output_type": "stream",
     "text": [
      "\n",
      " Time taken: 0 hours 0 minutes and 1.89 seconds.\n",
      "Best Score: 68.519%\n",
      "{'n_estimators': 400, 'scale_pos_weight': 0.36, 'min_child_weight': 1, 'max_depth': 3, 'max_delta_step': 5, 'learning_rate': 0.01, 'gamma': 1.5, 'colsample_bytree': 0.6, 'subsample': 1.0}\n"
     ]
    },
    {
     "name": "stderr",
     "output_type": "stream",
     "text": [
      "[Parallel(n_jobs=-1)]: Using backend LokyBackend with 16 concurrent workers.\n",
      "[Parallel(n_jobs=-1)]: Done   5 out of   5 | elapsed:    0.5s finished\n"
     ]
    },
    {
     "name": "stdout",
     "output_type": "stream",
     "text": [
      "--- Validation score\n",
      "balanced_accuracy    0.685192\n",
      "recall_0             0.608333\n",
      "precision_0          0.481999\n",
      "recall_1             0.762051\n",
      "precision_1          0.842210\n",
      "auc                  0.746162\n",
      "dtype: float64\n",
      "tn: 37, fp:14, fn:80, tp:62\n",
      "[[37 14]\n",
      " [80 62]]\n",
      "--- Test score\n",
      "balanced_accuracy      0.581055\n",
      "recall_0               0.725490\n",
      "precision_0            0.316239\n",
      "recall_1               0.436620\n",
      "precision_1            0.815789\n",
      "auc                    0.602182\n",
      "False_positive_rate    0.274510\n",
      "False_negative_rate    0.563380\n",
      "dtype: float64\n",
      "------------ Dimention 9\n",
      "---- Do parameter tuning\n",
      "Scoring parameter balanced_accuracy\n",
      "Fitting 5 folds for each of 25 candidates, totalling 125 fits\n"
     ]
    },
    {
     "name": "stderr",
     "output_type": "stream",
     "text": [
      "[Parallel(n_jobs=12)]: Using backend LokyBackend with 12 concurrent workers.\n",
      "[Parallel(n_jobs=12)]: Done   8 tasks      | elapsed:    0.3s\n",
      "[Parallel(n_jobs=12)]: Done 102 out of 125 | elapsed:    1.4s remaining:    0.3s\n"
     ]
    },
    {
     "name": "stdout",
     "output_type": "stream",
     "text": [
      "\n",
      " Time taken: 0 hours 0 minutes and 2.06 seconds.\n",
      "Best Score: 69.142%\n",
      "{'n_estimators': 300, 'scale_pos_weight': 0.36, 'min_child_weight': 2, 'max_depth': 6, 'max_delta_step': 2, 'learning_rate': 0.02, 'gamma': 5, 'colsample_bytree': 0.8, 'subsample': 0.8}\n"
     ]
    },
    {
     "name": "stderr",
     "output_type": "stream",
     "text": [
      "[Parallel(n_jobs=12)]: Done 125 out of 125 | elapsed:    1.6s finished\n",
      "[Parallel(n_jobs=-1)]: Using backend LokyBackend with 16 concurrent workers.\n",
      "[Parallel(n_jobs=-1)]: Done   5 out of   5 | elapsed:    0.5s finished\n"
     ]
    },
    {
     "name": "stdout",
     "output_type": "stream",
     "text": [
      "--- Validation score\n",
      "balanced_accuracy    0.691422\n",
      "recall_0             0.700000\n",
      "precision_0          0.444533\n",
      "recall_1             0.682844\n",
      "precision_1          0.867143\n",
      "auc                  0.761811\n",
      "dtype: float64\n",
      "tn: 36, fp:15, fn:74, tp:68\n",
      "[[36 15]\n",
      " [74 68]]\n",
      "--- Test score\n",
      "balanced_accuracy      0.592378\n",
      "recall_0               0.705882\n",
      "precision_0            0.327273\n",
      "recall_1               0.478873\n",
      "precision_1            0.819277\n",
      "auc                    0.614747\n",
      "False_positive_rate    0.294118\n",
      "False_negative_rate    0.521127\n",
      "dtype: float64\n",
      "------------ Dimention 10\n",
      "---- Do parameter tuning\n",
      "Scoring parameter balanced_accuracy\n",
      "Fitting 5 folds for each of 25 candidates, totalling 125 fits\n"
     ]
    },
    {
     "name": "stderr",
     "output_type": "stream",
     "text": [
      "[Parallel(n_jobs=12)]: Using backend LokyBackend with 12 concurrent workers.\n",
      "[Parallel(n_jobs=12)]: Done   8 tasks      | elapsed:    0.4s\n"
     ]
    },
    {
     "name": "stdout",
     "output_type": "stream",
     "text": [
      "\n",
      " Time taken: 0 hours 0 minutes and 2.23 seconds.\n",
      "Best Score: 68.761%\n",
      "{'n_estimators': 300, 'scale_pos_weight': 0.36, 'min_child_weight': 2, 'max_depth': 6, 'max_delta_step': 2, 'learning_rate': 0.02, 'gamma': 5, 'colsample_bytree': 0.8, 'subsample': 0.8}\n"
     ]
    },
    {
     "name": "stderr",
     "output_type": "stream",
     "text": [
      "[Parallel(n_jobs=12)]: Done 125 out of 125 | elapsed:    1.7s finished\n",
      "[Parallel(n_jobs=-1)]: Using backend LokyBackend with 16 concurrent workers.\n",
      "[Parallel(n_jobs=-1)]: Done   5 out of   5 | elapsed:    0.5s finished\n"
     ]
    },
    {
     "name": "stdout",
     "output_type": "stream",
     "text": [
      "--- Validation score\n",
      "balanced_accuracy    0.687611\n",
      "recall_0             0.683333\n",
      "precision_0          0.446262\n",
      "recall_1             0.691888\n",
      "precision_1          0.860926\n",
      "auc                  0.756144\n",
      "dtype: float64\n",
      "tn: 37, fp:14, fn:78, tp:64\n",
      "[[37 14]\n",
      " [78 64]]\n",
      "--- Test score\n",
      "balanced_accuracy      0.588097\n",
      "recall_0               0.725490\n",
      "precision_0            0.321739\n",
      "recall_1               0.450704\n",
      "precision_1            0.820513\n",
      "auc                    0.633320\n",
      "False_positive_rate    0.274510\n",
      "False_negative_rate    0.549296\n",
      "dtype: float64\n",
      "------------ Dimention 11\n",
      "---- Do parameter tuning\n",
      "Scoring parameter balanced_accuracy\n",
      "Fitting 5 folds for each of 25 candidates, totalling 125 fits\n"
     ]
    },
    {
     "name": "stderr",
     "output_type": "stream",
     "text": [
      "[Parallel(n_jobs=12)]: Using backend LokyBackend with 12 concurrent workers.\n",
      "[Parallel(n_jobs=12)]: Done   8 tasks      | elapsed:    0.3s\n"
     ]
    },
    {
     "name": "stdout",
     "output_type": "stream",
     "text": [
      "\n",
      " Time taken: 0 hours 0 minutes and 2.37 seconds.\n",
      "Best Score: 70.390%\n",
      "{'n_estimators': 500, 'scale_pos_weight': 0.36, 'min_child_weight': 4, 'max_depth': 5, 'max_delta_step': 4, 'learning_rate': 0.02, 'gamma': 5, 'colsample_bytree': 1.0, 'subsample': 0.6}\n"
     ]
    },
    {
     "name": "stderr",
     "output_type": "stream",
     "text": [
      "[Parallel(n_jobs=12)]: Done 125 out of 125 | elapsed:    1.7s finished\n",
      "[Parallel(n_jobs=-1)]: Using backend LokyBackend with 16 concurrent workers.\n",
      "[Parallel(n_jobs=-1)]: Done   5 out of   5 | elapsed:    0.6s finished\n"
     ]
    },
    {
     "name": "stdout",
     "output_type": "stream",
     "text": [
      "--- Validation score\n",
      "balanced_accuracy    0.703899\n",
      "recall_0             0.725000\n",
      "precision_0          0.453544\n",
      "recall_1             0.682797\n",
      "precision_1          0.873719\n",
      "auc                  0.752685\n",
      "dtype: float64\n",
      "tn: 39, fp:12, fn:79, tp:63\n",
      "[[39 12]\n",
      " [79 63]]\n",
      "--- Test score\n",
      "balanced_accuracy      0.604184\n",
      "recall_0               0.764706\n",
      "precision_0            0.330508\n",
      "recall_1               0.443662\n",
      "precision_1            0.840000\n",
      "auc                    0.661212\n",
      "False_positive_rate    0.235294\n",
      "False_negative_rate    0.556338\n",
      "dtype: float64\n",
      "------------ Dimention 12\n",
      "---- Do parameter tuning\n",
      "Scoring parameter balanced_accuracy\n",
      "Fitting 5 folds for each of 25 candidates, totalling 125 fits\n"
     ]
    },
    {
     "name": "stderr",
     "output_type": "stream",
     "text": [
      "[Parallel(n_jobs=12)]: Using backend LokyBackend with 12 concurrent workers.\n",
      "[Parallel(n_jobs=12)]: Done   8 tasks      | elapsed:    0.4s\n"
     ]
    },
    {
     "name": "stdout",
     "output_type": "stream",
     "text": [
      "\n",
      " Time taken: 0 hours 0 minutes and 2.38 seconds.\n",
      "Best Score: 69.928%\n",
      "{'n_estimators': 500, 'scale_pos_weight': 0.36, 'min_child_weight': 4, 'max_depth': 5, 'max_delta_step': 4, 'learning_rate': 0.02, 'gamma': 5, 'colsample_bytree': 1.0, 'subsample': 0.6}\n"
     ]
    },
    {
     "name": "stderr",
     "output_type": "stream",
     "text": [
      "[Parallel(n_jobs=12)]: Done 125 out of 125 | elapsed:    1.9s finished\n",
      "[Parallel(n_jobs=-1)]: Using backend LokyBackend with 16 concurrent workers.\n",
      "[Parallel(n_jobs=-1)]: Done   5 out of   5 | elapsed:    0.5s finished\n"
     ]
    },
    {
     "name": "stdout",
     "output_type": "stream",
     "text": [
      "--- Validation score\n",
      "balanced_accuracy    0.699283\n",
      "recall_0             0.725000\n",
      "precision_0          0.447742\n",
      "recall_1             0.673566\n",
      "precision_1          0.871871\n",
      "auc                  0.746709\n",
      "dtype: float64\n",
      "tn: 37, fp:14, fn:78, tp:64\n",
      "[[37 14]\n",
      " [78 64]]\n",
      "--- Test score\n",
      "balanced_accuracy      0.588097\n",
      "recall_0               0.725490\n",
      "precision_0            0.321739\n",
      "recall_1               0.450704\n",
      "precision_1            0.820513\n",
      "auc                    0.654584\n",
      "False_positive_rate    0.274510\n",
      "False_negative_rate    0.549296\n",
      "dtype: float64\n",
      "------------ Dimention 13\n",
      "---- Do parameter tuning\n",
      "Scoring parameter balanced_accuracy\n",
      "Fitting 5 folds for each of 25 candidates, totalling 125 fits\n"
     ]
    },
    {
     "name": "stderr",
     "output_type": "stream",
     "text": [
      "[Parallel(n_jobs=12)]: Using backend LokyBackend with 12 concurrent workers.\n",
      "[Parallel(n_jobs=12)]: Done   8 tasks      | elapsed:    0.3s\n"
     ]
    },
    {
     "name": "stdout",
     "output_type": "stream",
     "text": [
      "\n",
      " Time taken: 0 hours 0 minutes and 2.47 seconds.\n",
      "Best Score: 71.147%\n",
      "{'n_estimators': 300, 'scale_pos_weight': 0.36, 'min_child_weight': 2, 'max_depth': 6, 'max_delta_step': 2, 'learning_rate': 0.02, 'gamma': 5, 'colsample_bytree': 0.8, 'subsample': 0.8}\n"
     ]
    },
    {
     "name": "stderr",
     "output_type": "stream",
     "text": [
      "[Parallel(n_jobs=12)]: Done 125 out of 125 | elapsed:    1.9s finished\n",
      "[Parallel(n_jobs=-1)]: Using backend LokyBackend with 16 concurrent workers.\n",
      "[Parallel(n_jobs=-1)]: Done   5 out of   5 | elapsed:    0.6s finished\n"
     ]
    },
    {
     "name": "stdout",
     "output_type": "stream",
     "text": [
      "--- Validation score\n",
      "balanced_accuracy    0.711474\n",
      "recall_0             0.725000\n",
      "precision_0          0.468872\n",
      "recall_1             0.697949\n",
      "precision_1          0.876178\n",
      "auc                  0.763510\n",
      "dtype: float64\n",
      "tn: 38, fp:13, fn:75, tp:67\n",
      "[[38 13]\n",
      " [75 67]]\n",
      "--- Test score\n",
      "balanced_accuracy      0.608465\n",
      "recall_0               0.745098\n",
      "precision_0            0.336283\n",
      "recall_1               0.471831\n",
      "precision_1            0.837500\n",
      "auc                    0.645333\n",
      "False_positive_rate    0.254902\n",
      "False_negative_rate    0.528169\n",
      "dtype: float64\n",
      "------------ Dimention 14\n",
      "---- Do parameter tuning\n",
      "Scoring parameter balanced_accuracy\n",
      "Fitting 5 folds for each of 25 candidates, totalling 125 fits\n"
     ]
    },
    {
     "name": "stderr",
     "output_type": "stream",
     "text": [
      "[Parallel(n_jobs=12)]: Using backend LokyBackend with 12 concurrent workers.\n",
      "[Parallel(n_jobs=12)]: Done   8 tasks      | elapsed:    0.4s\n"
     ]
    },
    {
     "name": "stdout",
     "output_type": "stream",
     "text": [
      "\n",
      " Time taken: 0 hours 0 minutes and 2.5 seconds.\n",
      "Best Score: 70.721%\n",
      "{'n_estimators': 400, 'scale_pos_weight': 0.36, 'min_child_weight': 1, 'max_depth': 3, 'max_delta_step': 5, 'learning_rate': 0.01, 'gamma': 1.5, 'colsample_bytree': 0.6, 'subsample': 1.0}\n"
     ]
    },
    {
     "name": "stderr",
     "output_type": "stream",
     "text": [
      "[Parallel(n_jobs=12)]: Done 125 out of 125 | elapsed:    2.0s finished\n",
      "[Parallel(n_jobs=-1)]: Using backend LokyBackend with 16 concurrent workers.\n",
      "[Parallel(n_jobs=-1)]: Done   5 out of   5 | elapsed:    0.5s finished\n"
     ]
    },
    {
     "name": "stdout",
     "output_type": "stream",
     "text": [
      "--- Validation score\n",
      "balanced_accuracy    0.707209\n",
      "recall_0             0.625000\n",
      "precision_0          0.520397\n",
      "recall_1             0.789417\n",
      "precision_1          0.852422\n",
      "auc                  0.758943\n",
      "dtype: float64\n",
      "tn: 36, fp:15, fn:64, tp:78\n",
      "[[36 15]\n",
      " [64 78]]\n",
      "--- Test score\n",
      "balanced_accuracy      0.627589\n",
      "recall_0               0.705882\n",
      "precision_0            0.360000\n",
      "recall_1               0.549296\n",
      "precision_1            0.838710\n",
      "auc                    0.631524\n",
      "False_positive_rate    0.294118\n",
      "False_negative_rate    0.450704\n",
      "dtype: float64\n",
      "------------ Dimention 15\n",
      "---- Do parameter tuning\n",
      "Scoring parameter balanced_accuracy\n",
      "Fitting 5 folds for each of 25 candidates, totalling 125 fits\n"
     ]
    },
    {
     "name": "stderr",
     "output_type": "stream",
     "text": [
      "[Parallel(n_jobs=12)]: Using backend LokyBackend with 12 concurrent workers.\n",
      "[Parallel(n_jobs=12)]: Done   8 tasks      | elapsed:    0.4s\n"
     ]
    },
    {
     "name": "stdout",
     "output_type": "stream",
     "text": [
      "\n",
      " Time taken: 0 hours 0 minutes and 2.73 seconds.\n",
      "Best Score: 69.251%\n",
      "{'n_estimators': 500, 'scale_pos_weight': 0.36, 'min_child_weight': 4, 'max_depth': 5, 'max_delta_step': 4, 'learning_rate': 0.02, 'gamma': 5, 'colsample_bytree': 1.0, 'subsample': 0.6}\n"
     ]
    },
    {
     "name": "stderr",
     "output_type": "stream",
     "text": [
      "[Parallel(n_jobs=12)]: Done 125 out of 125 | elapsed:    2.2s finished\n",
      "[Parallel(n_jobs=-1)]: Using backend LokyBackend with 16 concurrent workers.\n",
      "[Parallel(n_jobs=-1)]: Done   5 out of   5 | elapsed:    0.6s finished\n"
     ]
    },
    {
     "name": "stdout",
     "output_type": "stream",
     "text": [
      "--- Validation score\n",
      "balanced_accuracy    0.692512\n",
      "recall_0             0.708333\n",
      "precision_0          0.442038\n",
      "recall_1             0.676690\n",
      "precision_1          0.866943\n",
      "auc                  0.746709\n",
      "dtype: float64\n",
      "tn: 39, fp:12, fn:81, tp:61\n",
      "[[39 12]\n",
      " [81 61]]\n",
      "--- Test score\n",
      "balanced_accuracy      0.597142\n",
      "recall_0               0.764706\n",
      "precision_0            0.325000\n",
      "recall_1               0.429577\n",
      "precision_1            0.835616\n",
      "auc                    0.644919\n",
      "False_positive_rate    0.235294\n",
      "False_negative_rate    0.570423\n",
      "dtype: float64\n",
      "------------ Dimention 16\n",
      "---- Do parameter tuning\n",
      "Scoring parameter balanced_accuracy\n",
      "Fitting 5 folds for each of 25 candidates, totalling 125 fits\n"
     ]
    },
    {
     "name": "stderr",
     "output_type": "stream",
     "text": [
      "[Parallel(n_jobs=12)]: Using backend LokyBackend with 12 concurrent workers.\n",
      "[Parallel(n_jobs=12)]: Done   8 tasks      | elapsed:    0.4s\n"
     ]
    },
    {
     "name": "stdout",
     "output_type": "stream",
     "text": [
      "\n",
      " Time taken: 0 hours 0 minutes and 2.63 seconds.\n",
      "Best Score: 70.352%\n",
      "{'n_estimators': 300, 'scale_pos_weight': 0.36, 'min_child_weight': 2, 'max_depth': 6, 'max_delta_step': 2, 'learning_rate': 0.02, 'gamma': 5, 'colsample_bytree': 0.8, 'subsample': 0.8}\n"
     ]
    },
    {
     "name": "stderr",
     "output_type": "stream",
     "text": [
      "[Parallel(n_jobs=12)]: Done 125 out of 125 | elapsed:    2.2s finished\n",
      "[Parallel(n_jobs=-1)]: Using backend LokyBackend with 16 concurrent workers.\n",
      "[Parallel(n_jobs=-1)]: Done   5 out of   5 | elapsed:    0.6s finished\n"
     ]
    },
    {
     "name": "stdout",
     "output_type": "stream",
     "text": [
      "--- Validation score\n",
      "balanced_accuracy    0.703520\n",
      "recall_0             0.700000\n",
      "precision_0          0.465668\n",
      "recall_1             0.707040\n",
      "precision_1          0.868473\n",
      "auc                  0.765724\n",
      "dtype: float64\n",
      "tn: 38, fp:13, fn:75, tp:67\n",
      "[[38 13]\n",
      " [75 67]]\n",
      "--- Test score\n",
      "balanced_accuracy      0.608465\n",
      "recall_0               0.745098\n",
      "precision_0            0.336283\n",
      "recall_1               0.471831\n",
      "precision_1            0.837500\n",
      "auc                    0.650994\n",
      "False_positive_rate    0.254902\n",
      "False_negative_rate    0.528169\n",
      "dtype: float64\n",
      "------------ Dimention 17\n",
      "---- Do parameter tuning\n",
      "Scoring parameter balanced_accuracy\n",
      "Fitting 5 folds for each of 25 candidates, totalling 125 fits\n"
     ]
    },
    {
     "name": "stderr",
     "output_type": "stream",
     "text": [
      "[Parallel(n_jobs=12)]: Using backend LokyBackend with 12 concurrent workers.\n",
      "[Parallel(n_jobs=12)]: Done   8 tasks      | elapsed:    0.4s\n"
     ]
    },
    {
     "name": "stdout",
     "output_type": "stream",
     "text": [
      "\n",
      " Time taken: 0 hours 0 minutes and 2.84 seconds.\n",
      "Best Score: 70.439%\n",
      "{'n_estimators': 300, 'scale_pos_weight': 0.36, 'min_child_weight': 2, 'max_depth': 6, 'max_delta_step': 2, 'learning_rate': 0.02, 'gamma': 5, 'colsample_bytree': 0.8, 'subsample': 0.8}\n"
     ]
    },
    {
     "name": "stderr",
     "output_type": "stream",
     "text": [
      "[Parallel(n_jobs=12)]: Done 125 out of 125 | elapsed:    2.2s finished\n",
      "[Parallel(n_jobs=-1)]: Using backend LokyBackend with 16 concurrent workers.\n",
      "[Parallel(n_jobs=-1)]: Done   5 out of   5 | elapsed:    0.6s finished\n"
     ]
    },
    {
     "name": "stdout",
     "output_type": "stream",
     "text": [
      "--- Validation score\n",
      "balanced_accuracy    0.704394\n",
      "recall_0             0.683333\n",
      "precision_0          0.473893\n",
      "recall_1             0.725455\n",
      "precision_1          0.865291\n",
      "auc                  0.765063\n",
      "dtype: float64\n",
      "tn: 38, fp:13, fn:72, tp:70\n",
      "[[38 13]\n",
      " [72 70]]\n",
      "--- Test score\n",
      "balanced_accuracy      0.619028\n",
      "recall_0               0.745098\n",
      "precision_0            0.345455\n",
      "recall_1               0.492958\n",
      "precision_1            0.843373\n",
      "auc                    0.645816\n",
      "False_positive_rate    0.254902\n",
      "False_negative_rate    0.507042\n",
      "dtype: float64\n",
      "------------ Dimention 18\n",
      "---- Do parameter tuning\n",
      "Scoring parameter balanced_accuracy\n",
      "Fitting 5 folds for each of 25 candidates, totalling 125 fits\n"
     ]
    },
    {
     "name": "stderr",
     "output_type": "stream",
     "text": [
      "[Parallel(n_jobs=12)]: Using backend LokyBackend with 12 concurrent workers.\n",
      "[Parallel(n_jobs=12)]: Done   8 tasks      | elapsed:    0.4s\n"
     ]
    },
    {
     "name": "stdout",
     "output_type": "stream",
     "text": [
      "\n",
      " Time taken: 0 hours 0 minutes and 2.97 seconds.\n",
      "Best Score: 70.811%\n",
      "{'n_estimators': 300, 'scale_pos_weight': 0.36, 'min_child_weight': 2, 'max_depth': 6, 'max_delta_step': 2, 'learning_rate': 0.02, 'gamma': 5, 'colsample_bytree': 0.8, 'subsample': 0.8}\n"
     ]
    },
    {
     "name": "stderr",
     "output_type": "stream",
     "text": [
      "[Parallel(n_jobs=12)]: Done 125 out of 125 | elapsed:    2.3s finished\n",
      "[Parallel(n_jobs=-1)]: Using backend LokyBackend with 16 concurrent workers.\n",
      "[Parallel(n_jobs=-1)]: Done   5 out of   5 | elapsed:    0.6s finished\n"
     ]
    },
    {
     "name": "stdout",
     "output_type": "stream",
     "text": [
      "--- Validation score\n",
      "balanced_accuracy    0.708112\n",
      "recall_0             0.700000\n",
      "precision_0          0.476004\n",
      "recall_1             0.716224\n",
      "precision_1          0.867987\n",
      "auc                  0.766621\n",
      "dtype: float64\n",
      "tn: 37, fp:14, fn:70, tp:72\n",
      "[[37 14]\n",
      " [70 72]]\n",
      "--- Test score\n",
      "balanced_accuracy      0.616266\n",
      "recall_0               0.725490\n",
      "precision_0            0.345794\n",
      "recall_1               0.507042\n",
      "precision_1            0.837209\n",
      "auc                    0.643814\n",
      "False_positive_rate    0.274510\n",
      "False_negative_rate    0.492958\n",
      "dtype: float64\n",
      "------------ Dimention 19\n",
      "---- Do parameter tuning\n",
      "Scoring parameter balanced_accuracy\n",
      "Fitting 5 folds for each of 25 candidates, totalling 125 fits\n"
     ]
    },
    {
     "name": "stderr",
     "output_type": "stream",
     "text": [
      "[Parallel(n_jobs=12)]: Using backend LokyBackend with 12 concurrent workers.\n",
      "[Parallel(n_jobs=12)]: Done   8 tasks      | elapsed:    0.5s\n"
     ]
    },
    {
     "name": "stdout",
     "output_type": "stream",
     "text": [
      "\n",
      " Time taken: 0 hours 0 minutes and 2.92 seconds.\n",
      "Best Score: 68.593%\n",
      "{'n_estimators': 400, 'scale_pos_weight': 0.36, 'min_child_weight': 1, 'max_depth': 3, 'max_delta_step': 5, 'learning_rate': 0.01, 'gamma': 1.5, 'colsample_bytree': 0.6, 'subsample': 1.0}\n"
     ]
    },
    {
     "name": "stderr",
     "output_type": "stream",
     "text": [
      "[Parallel(n_jobs=12)]: Done 125 out of 125 | elapsed:    2.4s finished\n",
      "[Parallel(n_jobs=-1)]: Using backend LokyBackend with 16 concurrent workers.\n",
      "[Parallel(n_jobs=-1)]: Done   5 out of   5 | elapsed:    0.5s finished\n"
     ]
    },
    {
     "name": "stdout",
     "output_type": "stream",
     "text": [
      "--- Validation score\n",
      "balanced_accuracy    0.685927\n",
      "recall_0             0.591667\n",
      "precision_0          0.496150\n",
      "recall_1             0.780186\n",
      "precision_1          0.839464\n",
      "auc                  0.757424\n",
      "dtype: float64\n",
      "tn: 35, fp:16, fn:68, tp:74\n",
      "[[35 16]\n",
      " [68 74]]\n",
      "--- Test score\n",
      "balanced_accuracy      0.603701\n",
      "recall_0               0.686275\n",
      "precision_0            0.339806\n",
      "recall_1               0.521127\n",
      "precision_1            0.822222\n",
      "auc                    0.624620\n",
      "False_positive_rate    0.313725\n",
      "False_negative_rate    0.478873\n",
      "dtype: float64\n",
      "------------ Dimention 20\n",
      "---- Do parameter tuning\n",
      "Scoring parameter balanced_accuracy\n",
      "Fitting 5 folds for each of 25 candidates, totalling 125 fits\n"
     ]
    },
    {
     "name": "stderr",
     "output_type": "stream",
     "text": [
      "[Parallel(n_jobs=12)]: Using backend LokyBackend with 12 concurrent workers.\n",
      "[Parallel(n_jobs=12)]: Done   8 tasks      | elapsed:    0.4s\n"
     ]
    },
    {
     "name": "stdout",
     "output_type": "stream",
     "text": [
      "\n",
      " Time taken: 0 hours 0 minutes and 2.92 seconds.\n",
      "Best Score: 69.469%\n",
      "{'n_estimators': 400, 'scale_pos_weight': 0.36, 'min_child_weight': 1, 'max_depth': 3, 'max_delta_step': 5, 'learning_rate': 0.01, 'gamma': 1.5, 'colsample_bytree': 0.6, 'subsample': 1.0}\n"
     ]
    },
    {
     "name": "stderr",
     "output_type": "stream",
     "text": [
      "[Parallel(n_jobs=12)]: Done 125 out of 125 | elapsed:    2.4s finished\n",
      "[Parallel(n_jobs=-1)]: Using backend LokyBackend with 16 concurrent workers.\n",
      "[Parallel(n_jobs=-1)]: Done   5 out of   5 | elapsed:    0.6s finished\n"
     ]
    },
    {
     "name": "stdout",
     "output_type": "stream",
     "text": [
      "--- Validation score\n",
      "balanced_accuracy    0.694685\n",
      "recall_0             0.600000\n",
      "precision_0          0.510781\n",
      "recall_1             0.789371\n",
      "precision_1          0.843475\n",
      "auc                  0.759454\n",
      "dtype: float64\n",
      "tn: 35, fp:16, fn:69, tp:73\n",
      "[[35 16]\n",
      " [69 73]]\n",
      "--- Test score\n",
      "balanced_accuracy      0.600180\n",
      "recall_0               0.686275\n",
      "precision_0            0.336538\n",
      "recall_1               0.514085\n",
      "precision_1            0.820225\n",
      "auc                    0.624896\n",
      "False_positive_rate    0.313725\n",
      "False_negative_rate    0.485915\n",
      "dtype: float64\n",
      "------------ Dimention 21\n",
      "---- Do parameter tuning\n",
      "Scoring parameter balanced_accuracy\n",
      "Fitting 5 folds for each of 25 candidates, totalling 125 fits\n"
     ]
    },
    {
     "name": "stderr",
     "output_type": "stream",
     "text": [
      "[Parallel(n_jobs=12)]: Using backend LokyBackend with 12 concurrent workers.\n",
      "[Parallel(n_jobs=12)]: Done   8 tasks      | elapsed:    0.5s\n"
     ]
    },
    {
     "name": "stdout",
     "output_type": "stream",
     "text": [
      "\n",
      " Time taken: 0 hours 0 minutes and 3.07 seconds.\n",
      "Best Score: 68.898%\n",
      "{'n_estimators': 400, 'scale_pos_weight': 0.36, 'min_child_weight': 1, 'max_depth': 3, 'max_delta_step': 5, 'learning_rate': 0.01, 'gamma': 1.5, 'colsample_bytree': 0.6, 'subsample': 1.0}\n"
     ]
    },
    {
     "name": "stderr",
     "output_type": "stream",
     "text": [
      "[Parallel(n_jobs=12)]: Done 125 out of 125 | elapsed:    2.5s finished\n",
      "[Parallel(n_jobs=-1)]: Using backend LokyBackend with 16 concurrent workers.\n",
      "[Parallel(n_jobs=-1)]: Done   5 out of   5 | elapsed:    0.6s finished\n"
     ]
    },
    {
     "name": "stdout",
     "output_type": "stream",
     "text": [
      "--- Validation score\n",
      "balanced_accuracy    0.688980\n",
      "recall_0             0.591667\n",
      "precision_0          0.502932\n",
      "recall_1             0.786294\n",
      "precision_1          0.840360\n",
      "auc                  0.756249\n",
      "dtype: float64\n",
      "tn: 37, fp:14, fn:66, tp:76\n",
      "[[37 14]\n",
      " [66 76]]\n",
      "--- Test score\n",
      "balanced_accuracy      0.630351\n",
      "recall_0               0.725490\n",
      "precision_0            0.359223\n",
      "recall_1               0.535211\n",
      "precision_1            0.844444\n",
      "auc                    0.631455\n",
      "False_positive_rate    0.274510\n",
      "False_negative_rate    0.464789\n",
      "dtype: float64\n",
      "------------ Dimention 22\n",
      "---- Do parameter tuning\n",
      "Scoring parameter balanced_accuracy\n",
      "Fitting 5 folds for each of 25 candidates, totalling 125 fits\n"
     ]
    },
    {
     "name": "stderr",
     "output_type": "stream",
     "text": [
      "[Parallel(n_jobs=12)]: Using backend LokyBackend with 12 concurrent workers.\n",
      "[Parallel(n_jobs=12)]: Done   8 tasks      | elapsed:    0.5s\n",
      "[Parallel(n_jobs=12)]: Done 125 out of 125 | elapsed:    2.6s finished\n"
     ]
    },
    {
     "name": "stdout",
     "output_type": "stream",
     "text": [
      "\n",
      " Time taken: 0 hours 0 minutes and 3.27 seconds.\n",
      "Best Score: 70.498%\n",
      "{'n_estimators': 600, 'scale_pos_weight': 1, 'min_child_weight': 4, 'max_depth': 5, 'max_delta_step': 2, 'learning_rate': 0.03, 'gamma': 1, 'colsample_bytree': 0.8, 'subsample': 1.0}\n"
     ]
    },
    {
     "name": "stderr",
     "output_type": "stream",
     "text": [
      "[Parallel(n_jobs=-1)]: Using backend LokyBackend with 16 concurrent workers.\n",
      "[Parallel(n_jobs=-1)]: Done   5 out of   5 | elapsed:    0.7s finished\n"
     ]
    },
    {
     "name": "stdout",
     "output_type": "stream",
     "text": [
      "--- Validation score\n",
      "balanced_accuracy    0.704977\n",
      "recall_0             0.483333\n",
      "precision_0          0.698235\n",
      "recall_1             0.926620\n",
      "precision_1          0.830942\n",
      "auc                  0.747393\n",
      "dtype: float64\n",
      "tn: 16, fp:35, fn:33, tp:109\n",
      "[[ 16  35]\n",
      " [ 33 109]]\n",
      "--- Test score\n",
      "balanced_accuracy      0.540666\n",
      "recall_0               0.313725\n",
      "precision_0            0.326531\n",
      "recall_1               0.767606\n",
      "precision_1            0.756944\n",
      "auc                    0.592516\n",
      "False_positive_rate    0.686275\n",
      "False_negative_rate    0.232394\n",
      "dtype: float64\n",
      "------------ Dimention 23\n",
      "---- Do parameter tuning\n",
      "Scoring parameter balanced_accuracy\n",
      "Fitting 5 folds for each of 25 candidates, totalling 125 fits\n"
     ]
    },
    {
     "name": "stderr",
     "output_type": "stream",
     "text": [
      "[Parallel(n_jobs=12)]: Using backend LokyBackend with 12 concurrent workers.\n",
      "[Parallel(n_jobs=12)]: Done   8 tasks      | elapsed:    0.4s\n",
      "[Parallel(n_jobs=12)]: Done 125 out of 125 | elapsed:    2.6s finished\n"
     ]
    },
    {
     "name": "stdout",
     "output_type": "stream",
     "text": [
      "\n",
      " Time taken: 0 hours 0 minutes and 3.24 seconds.\n",
      "Best Score: 69.795%\n",
      "{'n_estimators': 300, 'scale_pos_weight': 0.36, 'min_child_weight': 2, 'max_depth': 6, 'max_delta_step': 2, 'learning_rate': 0.02, 'gamma': 5, 'colsample_bytree': 0.8, 'subsample': 0.8}\n"
     ]
    },
    {
     "name": "stderr",
     "output_type": "stream",
     "text": [
      "[Parallel(n_jobs=-1)]: Using backend LokyBackend with 16 concurrent workers.\n",
      "[Parallel(n_jobs=-1)]: Done   5 out of   5 | elapsed:    0.6s finished\n"
     ]
    },
    {
     "name": "stdout",
     "output_type": "stream",
     "text": [
      "--- Validation score\n",
      "balanced_accuracy    0.697955\n",
      "recall_0             0.658333\n",
      "precision_0          0.475490\n",
      "recall_1             0.737576\n",
      "precision_1          0.857189\n",
      "auc                  0.774229\n",
      "dtype: float64\n",
      "tn: 37, fp:14, fn:69, tp:73\n",
      "[[37 14]\n",
      " [69 73]]\n",
      "--- Test score\n",
      "balanced_accuracy      0.619787\n",
      "recall_0               0.725490\n",
      "precision_0            0.349057\n",
      "recall_1               0.514085\n",
      "precision_1            0.839080\n",
      "auc                    0.635253\n",
      "False_positive_rate    0.274510\n",
      "False_negative_rate    0.485915\n",
      "dtype: float64\n",
      "------------ Dimention 24\n",
      "---- Do parameter tuning\n",
      "Scoring parameter balanced_accuracy\n",
      "Fitting 5 folds for each of 25 candidates, totalling 125 fits\n"
     ]
    },
    {
     "name": "stderr",
     "output_type": "stream",
     "text": [
      "[Parallel(n_jobs=12)]: Using backend LokyBackend with 12 concurrent workers.\n",
      "[Parallel(n_jobs=12)]: Done   8 tasks      | elapsed:    0.4s\n"
     ]
    },
    {
     "name": "stdout",
     "output_type": "stream",
     "text": [
      "\n",
      " Time taken: 0 hours 0 minutes and 3.35 seconds.\n",
      "Best Score: 69.885%\n",
      "{'n_estimators': 400, 'scale_pos_weight': 0.36, 'min_child_weight': 1, 'max_depth': 3, 'max_delta_step': 5, 'learning_rate': 0.01, 'gamma': 1.5, 'colsample_bytree': 0.6, 'subsample': 1.0}\n"
     ]
    },
    {
     "name": "stderr",
     "output_type": "stream",
     "text": [
      "[Parallel(n_jobs=12)]: Done 125 out of 125 | elapsed:    2.7s finished\n",
      "[Parallel(n_jobs=-1)]: Using backend LokyBackend with 16 concurrent workers.\n",
      "[Parallel(n_jobs=-1)]: Done   5 out of   5 | elapsed:    0.6s finished\n"
     ]
    },
    {
     "name": "stdout",
     "output_type": "stream",
     "text": [
      "--- Validation score\n",
      "balanced_accuracy    0.698852\n",
      "recall_0             0.608333\n",
      "precision_0          0.508854\n",
      "recall_1             0.789371\n",
      "precision_1          0.848132\n",
      "auc                  0.763106\n",
      "dtype: float64\n",
      "tn: 35, fp:16, fn:61, tp:81\n",
      "[[35 16]\n",
      " [61 81]]\n",
      "--- Test score\n",
      "balanced_accuracy      0.628349\n",
      "recall_0               0.686275\n",
      "precision_0            0.364583\n",
      "recall_1               0.570423\n",
      "precision_1            0.835052\n",
      "auc                    0.630213\n",
      "False_positive_rate    0.313725\n",
      "False_negative_rate    0.429577\n",
      "dtype: float64\n",
      "------------ Dimention 25\n",
      "---- Do parameter tuning\n",
      "Scoring parameter balanced_accuracy\n",
      "Fitting 5 folds for each of 25 candidates, totalling 125 fits\n"
     ]
    },
    {
     "name": "stderr",
     "output_type": "stream",
     "text": [
      "[Parallel(n_jobs=12)]: Using backend LokyBackend with 12 concurrent workers.\n",
      "[Parallel(n_jobs=12)]: Done   8 tasks      | elapsed:    0.5s\n",
      "[Parallel(n_jobs=12)]: Done 125 out of 125 | elapsed:    2.8s finished\n"
     ]
    },
    {
     "name": "stdout",
     "output_type": "stream",
     "text": [
      "\n",
      " Time taken: 0 hours 0 minutes and 3.53 seconds.\n",
      "Best Score: 69.816%\n",
      "{'n_estimators': 700, 'scale_pos_weight': 0.36, 'min_child_weight': 4, 'max_depth': 4, 'max_delta_step': 5, 'learning_rate': 0.02, 'gamma': 1, 'colsample_bytree': 0.8, 'subsample': 0.8}\n"
     ]
    },
    {
     "name": "stderr",
     "output_type": "stream",
     "text": [
      "[Parallel(n_jobs=-1)]: Using backend LokyBackend with 16 concurrent workers.\n",
      "[Parallel(n_jobs=-1)]: Done   5 out of   5 | elapsed:    0.7s finished\n"
     ]
    },
    {
     "name": "stdout",
     "output_type": "stream",
     "text": [
      "--- Validation score\n",
      "balanced_accuracy    0.698164\n",
      "recall_0             0.591667\n",
      "precision_0          0.521656\n",
      "recall_1             0.804662\n",
      "precision_1          0.844958\n",
      "auc                  0.762127\n",
      "dtype: float64\n",
      "tn: 30, fp:21, fn:69, tp:73\n",
      "[[30 21]\n",
      " [69 73]]\n",
      "--- Test score\n",
      "balanced_accuracy      0.551160\n",
      "recall_0               0.588235\n",
      "precision_0            0.303030\n",
      "recall_1               0.514085\n",
      "precision_1            0.776596\n",
      "auc                    0.560342\n",
      "False_positive_rate    0.411765\n",
      "False_negative_rate    0.485915\n",
      "dtype: float64\n",
      "------------ Dimention 26\n",
      "---- Do parameter tuning\n",
      "Scoring parameter balanced_accuracy\n",
      "Fitting 5 folds for each of 25 candidates, totalling 125 fits\n"
     ]
    },
    {
     "name": "stderr",
     "output_type": "stream",
     "text": [
      "[Parallel(n_jobs=12)]: Using backend LokyBackend with 12 concurrent workers.\n",
      "[Parallel(n_jobs=12)]: Done   8 tasks      | elapsed:    0.5s\n"
     ]
    },
    {
     "name": "stdout",
     "output_type": "stream",
     "text": [
      "\n",
      " Time taken: 0 hours 0 minutes and 3.48 seconds.\n",
      "Best Score: 69.360%\n",
      "{'n_estimators': 400, 'scale_pos_weight': 0.36, 'min_child_weight': 1, 'max_depth': 3, 'max_delta_step': 5, 'learning_rate': 0.01, 'gamma': 1.5, 'colsample_bytree': 0.6, 'subsample': 1.0}\n"
     ]
    },
    {
     "name": "stderr",
     "output_type": "stream",
     "text": [
      "[Parallel(n_jobs=12)]: Done 125 out of 125 | elapsed:    2.9s finished\n",
      "[Parallel(n_jobs=-1)]: Using backend LokyBackend with 16 concurrent workers.\n",
      "[Parallel(n_jobs=-1)]: Done   5 out of   5 | elapsed:    0.6s finished\n"
     ]
    },
    {
     "name": "stdout",
     "output_type": "stream",
     "text": [
      "--- Validation score\n",
      "balanced_accuracy    0.693596\n",
      "recall_0             0.591667\n",
      "precision_0          0.511429\n",
      "recall_1             0.795524\n",
      "precision_1          0.842814\n",
      "auc                  0.761317\n",
      "dtype: float64\n",
      "tn: 35, fp:16, fn:66, tp:76\n",
      "[[35 16]\n",
      " [66 76]]\n",
      "--- Test score\n",
      "balanced_accuracy      0.610743\n",
      "recall_0               0.686275\n",
      "precision_0            0.346535\n",
      "recall_1               0.535211\n",
      "precision_1            0.826087\n",
      "auc                    0.626277\n",
      "False_positive_rate    0.313725\n",
      "False_negative_rate    0.464789\n",
      "dtype: float64\n",
      "------------ Dimention 27\n",
      "---- Do parameter tuning\n",
      "Scoring parameter balanced_accuracy\n",
      "Fitting 5 folds for each of 25 candidates, totalling 125 fits\n"
     ]
    },
    {
     "name": "stderr",
     "output_type": "stream",
     "text": [
      "[Parallel(n_jobs=12)]: Using backend LokyBackend with 12 concurrent workers.\n",
      "[Parallel(n_jobs=12)]: Done   8 tasks      | elapsed:    0.5s\n"
     ]
    },
    {
     "name": "stdout",
     "output_type": "stream",
     "text": [
      "\n",
      " Time taken: 0 hours 0 minutes and 3.51 seconds.\n",
      "Best Score: 70.044%\n",
      "{'n_estimators': 400, 'scale_pos_weight': 0.36, 'min_child_weight': 1, 'max_depth': 3, 'max_delta_step': 5, 'learning_rate': 0.01, 'gamma': 1.5, 'colsample_bytree': 0.6, 'subsample': 1.0}\n"
     ]
    },
    {
     "name": "stderr",
     "output_type": "stream",
     "text": [
      "[Parallel(n_jobs=12)]: Done 125 out of 125 | elapsed:    2.9s finished\n",
      "[Parallel(n_jobs=-1)]: Using backend LokyBackend with 16 concurrent workers.\n",
      "[Parallel(n_jobs=-1)]: Done   5 out of   5 | elapsed:    0.6s finished\n"
     ]
    },
    {
     "name": "stdout",
     "output_type": "stream",
     "text": [
      "--- Validation score\n",
      "balanced_accuracy    0.700437\n",
      "recall_0             0.608333\n",
      "precision_0          0.511892\n",
      "recall_1             0.792541\n",
      "precision_1          0.848784\n",
      "auc                  0.758555\n",
      "dtype: float64\n",
      "tn: 35, fp:16, fn:63, tp:79\n",
      "[[35 16]\n",
      " [63 79]]\n",
      "--- Test score\n",
      "balanced_accuracy      0.621306\n",
      "recall_0               0.686275\n",
      "precision_0            0.357143\n",
      "recall_1               0.556338\n",
      "precision_1            0.831579\n",
      "auc                    0.620892\n",
      "False_positive_rate    0.313725\n",
      "False_negative_rate    0.443662\n",
      "dtype: float64\n",
      "------------ Dimention 28\n",
      "---- Do parameter tuning\n",
      "Scoring parameter balanced_accuracy\n",
      "Fitting 5 folds for each of 25 candidates, totalling 125 fits\n"
     ]
    },
    {
     "name": "stderr",
     "output_type": "stream",
     "text": [
      "[Parallel(n_jobs=12)]: Using backend LokyBackend with 12 concurrent workers.\n",
      "[Parallel(n_jobs=12)]: Done   8 tasks      | elapsed:    0.5s\n"
     ]
    },
    {
     "name": "stdout",
     "output_type": "stream",
     "text": [
      "\n",
      " Time taken: 0 hours 0 minutes and 3.68 seconds.\n",
      "Best Score: 70.688%\n",
      "{'n_estimators': 400, 'scale_pos_weight': 0.36, 'min_child_weight': 1, 'max_depth': 3, 'max_delta_step': 5, 'learning_rate': 0.01, 'gamma': 1.5, 'colsample_bytree': 0.6, 'subsample': 1.0}\n"
     ]
    },
    {
     "name": "stderr",
     "output_type": "stream",
     "text": [
      "[Parallel(n_jobs=12)]: Done 125 out of 125 | elapsed:    3.0s finished\n",
      "[Parallel(n_jobs=-1)]: Using backend LokyBackend with 16 concurrent workers.\n",
      "[Parallel(n_jobs=-1)]: Done   5 out of   5 | elapsed:    0.6s finished\n"
     ]
    },
    {
     "name": "stdout",
     "output_type": "stream",
     "text": [
      "--- Validation score\n",
      "balanced_accuracy    0.706876\n",
      "recall_0             0.600000\n",
      "precision_0          0.540337\n",
      "recall_1             0.813753\n",
      "precision_1          0.848030\n",
      "auc                  0.766884\n",
      "dtype: float64\n",
      "tn: 31, fp:20, fn:63, tp:79\n",
      "[[31 20]\n",
      " [63 79]]\n",
      "--- Test score\n",
      "balanced_accuracy      0.582091\n",
      "recall_0               0.607843\n",
      "precision_0            0.329787\n",
      "recall_1               0.556338\n",
      "precision_1            0.797980\n",
      "auc                    0.604598\n",
      "False_positive_rate    0.392157\n",
      "False_negative_rate    0.443662\n",
      "dtype: float64\n",
      "------------ Dimention 29\n",
      "---- Do parameter tuning\n",
      "Scoring parameter balanced_accuracy\n",
      "Fitting 5 folds for each of 25 candidates, totalling 125 fits\n"
     ]
    },
    {
     "name": "stderr",
     "output_type": "stream",
     "text": [
      "[Parallel(n_jobs=12)]: Using backend LokyBackend with 12 concurrent workers.\n",
      "[Parallel(n_jobs=12)]: Done   8 tasks      | elapsed:    0.6s\n"
     ]
    },
    {
     "name": "stdout",
     "output_type": "stream",
     "text": [
      "\n",
      " Time taken: 0 hours 0 minutes and 3.71 seconds.\n",
      "Best Score: 69.932%\n",
      "{'n_estimators': 400, 'scale_pos_weight': 0.36, 'min_child_weight': 1, 'max_depth': 3, 'max_delta_step': 5, 'learning_rate': 0.01, 'gamma': 1.5, 'colsample_bytree': 0.6, 'subsample': 1.0}\n"
     ]
    },
    {
     "name": "stderr",
     "output_type": "stream",
     "text": [
      "[Parallel(n_jobs=12)]: Done 125 out of 125 | elapsed:    3.1s finished\n",
      "[Parallel(n_jobs=-1)]: Using backend LokyBackend with 16 concurrent workers.\n",
      "[Parallel(n_jobs=-1)]: Done   5 out of   5 | elapsed:    0.6s finished\n"
     ]
    },
    {
     "name": "stdout",
     "output_type": "stream",
     "text": [
      "--- Validation score\n",
      "balanced_accuracy    0.699324\n",
      "recall_0             0.600000\n",
      "precision_0          0.516553\n",
      "recall_1             0.798648\n",
      "precision_1          0.847117\n",
      "auc                  0.764887\n",
      "dtype: float64\n",
      "tn: 33, fp:18, fn:65, tp:77\n",
      "[[33 18]\n",
      " [65 77]]\n",
      "--- Test score\n",
      "balanced_accuracy      0.594656\n",
      "recall_0               0.647059\n",
      "precision_0            0.336735\n",
      "recall_1               0.542254\n",
      "precision_1            0.810526\n",
      "auc                    0.604943\n",
      "False_positive_rate    0.352941\n",
      "False_negative_rate    0.457746\n",
      "dtype: float64\n",
      "------------ Dimention 30\n",
      "---- Do parameter tuning\n",
      "Scoring parameter balanced_accuracy\n",
      "Fitting 5 folds for each of 25 candidates, totalling 125 fits\n"
     ]
    },
    {
     "name": "stderr",
     "output_type": "stream",
     "text": [
      "[Parallel(n_jobs=12)]: Using backend LokyBackend with 12 concurrent workers.\n",
      "[Parallel(n_jobs=12)]: Done   8 tasks      | elapsed:    0.6s\n"
     ]
    },
    {
     "name": "stdout",
     "output_type": "stream",
     "text": [
      "\n",
      " Time taken: 0 hours 0 minutes and 3.86 seconds.\n",
      "Best Score: 69.663%\n",
      "{'n_estimators': 400, 'scale_pos_weight': 0.36, 'min_child_weight': 1, 'max_depth': 3, 'max_delta_step': 5, 'learning_rate': 0.01, 'gamma': 1.5, 'colsample_bytree': 0.6, 'subsample': 1.0}\n"
     ]
    },
    {
     "name": "stderr",
     "output_type": "stream",
     "text": [
      "[Parallel(n_jobs=12)]: Done 125 out of 125 | elapsed:    3.2s finished\n",
      "[Parallel(n_jobs=-1)]: Using backend LokyBackend with 16 concurrent workers.\n",
      "[Parallel(n_jobs=-1)]: Done   5 out of   5 | elapsed:    0.6s finished\n"
     ]
    },
    {
     "name": "stdout",
     "output_type": "stream",
     "text": [
      "--- Validation score\n",
      "balanced_accuracy    0.696626\n",
      "recall_0             0.591667\n",
      "precision_0          0.520835\n",
      "recall_1             0.801585\n",
      "precision_1          0.843929\n",
      "auc                  0.761946\n",
      "dtype: float64\n",
      "tn: 32, fp:19, fn:65, tp:77\n",
      "[[32 19]\n",
      " [65 77]]\n",
      "--- Test score\n",
      "balanced_accuracy      0.584852\n",
      "recall_0               0.627451\n",
      "precision_0            0.329897\n",
      "recall_1               0.542254\n",
      "precision_1            0.802083\n",
      "auc                    0.600870\n",
      "False_positive_rate    0.372549\n",
      "False_negative_rate    0.457746\n",
      "dtype: float64\n",
      "------------ Dimention 31\n",
      "---- Do parameter tuning\n",
      "Scoring parameter balanced_accuracy\n",
      "Fitting 5 folds for each of 25 candidates, totalling 125 fits\n"
     ]
    },
    {
     "name": "stderr",
     "output_type": "stream",
     "text": [
      "[Parallel(n_jobs=12)]: Using backend LokyBackend with 12 concurrent workers.\n",
      "[Parallel(n_jobs=12)]: Done   8 tasks      | elapsed:    0.5s\n"
     ]
    },
    {
     "name": "stdout",
     "output_type": "stream",
     "text": [
      "\n",
      " Time taken: 0 hours 0 minutes and 3.71 seconds.\n",
      "Best Score: 69.928%\n",
      "{'n_estimators': 400, 'scale_pos_weight': 0.36, 'min_child_weight': 1, 'max_depth': 3, 'max_delta_step': 5, 'learning_rate': 0.01, 'gamma': 1.5, 'colsample_bytree': 0.6, 'subsample': 1.0}\n"
     ]
    },
    {
     "name": "stderr",
     "output_type": "stream",
     "text": [
      "[Parallel(n_jobs=12)]: Done 125 out of 125 | elapsed:    3.2s finished\n",
      "[Parallel(n_jobs=-1)]: Using backend LokyBackend with 16 concurrent workers.\n",
      "[Parallel(n_jobs=-1)]: Done   5 out of   5 | elapsed:    0.6s finished\n"
     ]
    },
    {
     "name": "stdout",
     "output_type": "stream",
     "text": [
      "--- Validation score\n",
      "balanced_accuracy    0.699277\n",
      "recall_0             0.600000\n",
      "precision_0          0.523564\n",
      "recall_1             0.798555\n",
      "precision_1          0.845781\n",
      "auc                  0.765913\n",
      "dtype: float64\n",
      "tn: 33, fp:18, fn:62, tp:80\n",
      "[[33 18]\n",
      " [62 80]]\n",
      "--- Test score\n",
      "balanced_accuracy      0.605220\n",
      "recall_0               0.647059\n",
      "precision_0            0.347368\n",
      "recall_1               0.563380\n",
      "precision_1            0.816327\n",
      "auc                    0.611088\n",
      "False_positive_rate    0.352941\n",
      "False_negative_rate    0.436620\n",
      "dtype: float64\n",
      "------------ Dimention 32\n",
      "---- Do parameter tuning\n",
      "Scoring parameter balanced_accuracy\n",
      "Fitting 5 folds for each of 25 candidates, totalling 125 fits\n"
     ]
    },
    {
     "name": "stderr",
     "output_type": "stream",
     "text": [
      "[Parallel(n_jobs=12)]: Using backend LokyBackend with 12 concurrent workers.\n",
      "[Parallel(n_jobs=12)]: Done   8 tasks      | elapsed:    0.5s\n"
     ]
    },
    {
     "name": "stdout",
     "output_type": "stream",
     "text": [
      "\n",
      " Time taken: 0 hours 0 minutes and 3.86 seconds.\n",
      "Best Score: 69.847%\n",
      "{'n_estimators': 300, 'scale_pos_weight': 0.2, 'min_child_weight': 1, 'max_depth': 3, 'max_delta_step': 2, 'learning_rate': 0.07, 'gamma': 0.5, 'colsample_bytree': 0.8, 'subsample': 0.6}\n"
     ]
    },
    {
     "name": "stderr",
     "output_type": "stream",
     "text": [
      "[Parallel(n_jobs=12)]: Done 125 out of 125 | elapsed:    3.3s finished\n",
      "[Parallel(n_jobs=-1)]: Using backend LokyBackend with 16 concurrent workers.\n",
      "[Parallel(n_jobs=-1)]: Done   5 out of   5 | elapsed:    0.6s finished\n"
     ]
    },
    {
     "name": "stdout",
     "output_type": "stream",
     "text": [
      "--- Validation score\n",
      "balanced_accuracy    0.698473\n",
      "recall_0             0.616667\n",
      "precision_0          0.503799\n",
      "recall_1             0.780280\n",
      "precision_1          0.850207\n",
      "auc                  0.734679\n",
      "dtype: float64\n",
      "tn: 32, fp:19, fn:81, tp:61\n",
      "[[32 19]\n",
      " [81 61]]\n",
      "--- Test score\n",
      "balanced_accuracy      0.528514\n",
      "recall_0               0.627451\n",
      "precision_0            0.283186\n",
      "recall_1               0.429577\n",
      "precision_1            0.762500\n",
      "auc                    0.512842\n",
      "False_positive_rate    0.372549\n",
      "False_negative_rate    0.570423\n",
      "dtype: float64\n",
      "------------ Dimention 33\n",
      "---- Do parameter tuning\n",
      "Scoring parameter balanced_accuracy\n",
      "Fitting 5 folds for each of 25 candidates, totalling 125 fits\n"
     ]
    },
    {
     "name": "stderr",
     "output_type": "stream",
     "text": [
      "[Parallel(n_jobs=12)]: Using backend LokyBackend with 12 concurrent workers.\n",
      "[Parallel(n_jobs=12)]: Done   8 tasks      | elapsed:    0.6s\n"
     ]
    },
    {
     "name": "stdout",
     "output_type": "stream",
     "text": [
      "\n",
      " Time taken: 0 hours 0 minutes and 3.81 seconds.\n",
      "Best Score: 70.252%\n",
      "{'n_estimators': 300, 'scale_pos_weight': 0.2, 'min_child_weight': 1, 'max_depth': 3, 'max_delta_step': 2, 'learning_rate': 0.07, 'gamma': 0.5, 'colsample_bytree': 0.8, 'subsample': 0.6}\n"
     ]
    },
    {
     "name": "stderr",
     "output_type": "stream",
     "text": [
      "[Parallel(n_jobs=12)]: Done 125 out of 125 | elapsed:    3.4s finished\n",
      "[Parallel(n_jobs=-1)]: Using backend LokyBackend with 16 concurrent workers.\n",
      "[Parallel(n_jobs=-1)]: Done   5 out of   5 | elapsed:    0.6s finished\n"
     ]
    },
    {
     "name": "stdout",
     "output_type": "stream",
     "text": [
      "--- Validation score\n",
      "balanced_accuracy    0.702523\n",
      "recall_0             0.625000\n",
      "precision_0          0.515445\n",
      "recall_1             0.780047\n",
      "precision_1          0.849543\n",
      "auc                  0.745282\n",
      "dtype: float64\n",
      "tn: 31, fp:20, fn:83, tp:59\n",
      "[[31 20]\n",
      " [83 59]]\n",
      "--- Test score\n",
      "balanced_accuracy      0.511668\n",
      "recall_0               0.607843\n",
      "precision_0            0.271930\n",
      "recall_1               0.415493\n",
      "precision_1            0.746835\n",
      "auc                    0.511875\n",
      "False_positive_rate    0.392157\n",
      "False_negative_rate    0.584507\n",
      "dtype: float64\n",
      "------------ Dimention 34\n",
      "---- Do parameter tuning\n",
      "Scoring parameter balanced_accuracy\n",
      "Fitting 5 folds for each of 25 candidates, totalling 125 fits\n"
     ]
    },
    {
     "name": "stderr",
     "output_type": "stream",
     "text": [
      "[Parallel(n_jobs=12)]: Using backend LokyBackend with 12 concurrent workers.\n",
      "[Parallel(n_jobs=12)]: Done   8 tasks      | elapsed:    0.6s\n",
      "[Parallel(n_jobs=12)]: Done 125 out of 125 | elapsed:    3.4s finished\n"
     ]
    },
    {
     "name": "stdout",
     "output_type": "stream",
     "text": [
      "\n",
      " Time taken: 0 hours 0 minutes and 4.11 seconds.\n",
      "Best Score: 70.979%\n",
      "{'n_estimators': 400, 'scale_pos_weight': 0.36, 'min_child_weight': 3, 'max_depth': 6, 'max_delta_step': 5, 'learning_rate': 0.01, 'gamma': 1.5, 'colsample_bytree': 1.0, 'subsample': 0.6}\n"
     ]
    },
    {
     "name": "stderr",
     "output_type": "stream",
     "text": [
      "[Parallel(n_jobs=-1)]: Using backend LokyBackend with 16 concurrent workers.\n",
      "[Parallel(n_jobs=-1)]: Done   5 out of   5 | elapsed:    0.3s finished\n"
     ]
    },
    {
     "name": "stdout",
     "output_type": "stream",
     "text": [
      "--- Validation score\n",
      "balanced_accuracy    0.709790\n",
      "recall_0             0.633333\n",
      "precision_0          0.525392\n",
      "recall_1             0.786247\n",
      "precision_1          0.855308\n",
      "auc                  0.763388\n",
      "dtype: float64\n",
      "tn: 33, fp:18, fn:64, tp:78\n",
      "[[33 18]\n",
      " [64 78]]\n",
      "--- Test score\n",
      "balanced_accuracy      0.598177\n",
      "recall_0               0.647059\n",
      "precision_0            0.340206\n",
      "recall_1               0.549296\n",
      "precision_1            0.812500\n",
      "auc                    0.601629\n",
      "False_positive_rate    0.352941\n",
      "False_negative_rate    0.450704\n",
      "dtype: float64\n",
      "------------ Dimention 35\n",
      "---- Do parameter tuning\n",
      "Scoring parameter balanced_accuracy\n",
      "Fitting 5 folds for each of 25 candidates, totalling 125 fits\n"
     ]
    },
    {
     "name": "stderr",
     "output_type": "stream",
     "text": [
      "[Parallel(n_jobs=12)]: Using backend LokyBackend with 12 concurrent workers.\n",
      "[Parallel(n_jobs=12)]: Done   8 tasks      | elapsed:    0.5s\n",
      "[Parallel(n_jobs=12)]: Done 125 out of 125 | elapsed:    3.5s finished\n"
     ]
    },
    {
     "name": "stdout",
     "output_type": "stream",
     "text": [
      "\n",
      " Time taken: 0 hours 0 minutes and 4.39 seconds.\n",
      "Best Score: 69.700%\n",
      "{'n_estimators': 700, 'scale_pos_weight': 0.36, 'min_child_weight': 4, 'max_depth': 4, 'max_delta_step': 5, 'learning_rate': 0.02, 'gamma': 1, 'colsample_bytree': 0.8, 'subsample': 0.8}\n"
     ]
    },
    {
     "name": "stderr",
     "output_type": "stream",
     "text": [
      "[Parallel(n_jobs=-1)]: Using backend LokyBackend with 16 concurrent workers.\n",
      "[Parallel(n_jobs=-1)]: Done   5 out of   5 | elapsed:    0.8s finished\n"
     ]
    },
    {
     "name": "stdout",
     "output_type": "stream",
     "text": [
      "--- Validation score\n",
      "balanced_accuracy    0.697005\n",
      "recall_0             0.583333\n",
      "precision_0          0.532376\n",
      "recall_1             0.810676\n",
      "precision_1          0.841595\n",
      "auc                  0.747552\n",
      "dtype: float64\n",
      "tn: 28, fp:23, fn:64, tp:78\n",
      "[[28 23]\n",
      " [64 78]]\n",
      "--- Test score\n",
      "balanced_accuracy      0.549158\n",
      "recall_0               0.549020\n",
      "precision_0            0.304348\n",
      "recall_1               0.549296\n",
      "precision_1            0.772277\n",
      "auc                    0.547777\n",
      "False_positive_rate    0.450980\n",
      "False_negative_rate    0.450704\n",
      "dtype: float64\n",
      "------------ Dimention 36\n",
      "---- Do parameter tuning\n",
      "Scoring parameter balanced_accuracy\n",
      "Fitting 5 folds for each of 25 candidates, totalling 125 fits\n"
     ]
    },
    {
     "name": "stderr",
     "output_type": "stream",
     "text": [
      "[Parallel(n_jobs=12)]: Using backend LokyBackend with 12 concurrent workers.\n",
      "[Parallel(n_jobs=12)]: Done   8 tasks      | elapsed:    0.5s\n",
      "[Parallel(n_jobs=12)]: Done 125 out of 125 | elapsed:    3.4s finished\n"
     ]
    },
    {
     "name": "stdout",
     "output_type": "stream",
     "text": [
      "\n",
      " Time taken: 0 hours 0 minutes and 4.23 seconds.\n",
      "Best Score: 71.029%\n",
      "{'n_estimators': 400, 'scale_pos_weight': 0.36, 'min_child_weight': 3, 'max_depth': 6, 'max_delta_step': 5, 'learning_rate': 0.01, 'gamma': 1.5, 'colsample_bytree': 1.0, 'subsample': 0.6}\n"
     ]
    },
    {
     "name": "stderr",
     "output_type": "stream",
     "text": [
      "[Parallel(n_jobs=-1)]: Using backend LokyBackend with 16 concurrent workers.\n",
      "[Parallel(n_jobs=-1)]: Done   5 out of   5 | elapsed:    0.7s finished\n"
     ]
    },
    {
     "name": "stdout",
     "output_type": "stream",
     "text": [
      "--- Validation score\n",
      "balanced_accuracy    0.710286\n",
      "recall_0             0.625000\n",
      "precision_0          0.529279\n",
      "recall_1             0.795571\n",
      "precision_1          0.853966\n",
      "auc                  0.761999\n",
      "dtype: float64\n",
      "tn: 32, fp:19, fn:73, tp:69\n",
      "[[32 19]\n",
      " [73 69]]\n",
      "--- Test score\n",
      "balanced_accuracy      0.556683\n",
      "recall_0               0.627451\n",
      "precision_0            0.304762\n",
      "recall_1               0.485915\n",
      "precision_1            0.784091\n",
      "auc                    0.596520\n",
      "False_positive_rate    0.372549\n",
      "False_negative_rate    0.514085\n",
      "dtype: float64\n",
      "------------ Dimention 37\n",
      "---- Do parameter tuning\n",
      "Scoring parameter balanced_accuracy\n",
      "Fitting 5 folds for each of 25 candidates, totalling 125 fits\n"
     ]
    },
    {
     "name": "stderr",
     "output_type": "stream",
     "text": [
      "[Parallel(n_jobs=12)]: Using backend LokyBackend with 12 concurrent workers.\n",
      "[Parallel(n_jobs=12)]: Done   8 tasks      | elapsed:    0.6s\n",
      "[Parallel(n_jobs=12)]: Done 125 out of 125 | elapsed:    3.5s finished\n"
     ]
    },
    {
     "name": "stdout",
     "output_type": "stream",
     "text": [
      "\n",
      " Time taken: 0 hours 0 minutes and 4.27 seconds.\n",
      "Best Score: 69.776%\n",
      "{'n_estimators': 400, 'scale_pos_weight': 0.36, 'min_child_weight': 3, 'max_depth': 6, 'max_delta_step': 5, 'learning_rate': 0.01, 'gamma': 1.5, 'colsample_bytree': 1.0, 'subsample': 0.6}\n"
     ]
    },
    {
     "name": "stderr",
     "output_type": "stream",
     "text": [
      "[Parallel(n_jobs=-1)]: Using backend LokyBackend with 16 concurrent workers.\n",
      "[Parallel(n_jobs=-1)]: Done   5 out of   5 | elapsed:    0.7s finished\n"
     ]
    },
    {
     "name": "stdout",
     "output_type": "stream",
     "text": [
      "--- Validation score\n",
      "balanced_accuracy    0.697762\n",
      "recall_0             0.600000\n",
      "precision_0          0.519575\n",
      "recall_1             0.795524\n",
      "precision_1          0.845418\n",
      "auc                  0.770177\n",
      "dtype: float64\n",
      "tn: 35, fp:16, fn:71, tp:71\n",
      "[[35 16]\n",
      " [71 71]]\n",
      "--- Test score\n",
      "balanced_accuracy      0.593137\n",
      "recall_0               0.686275\n",
      "precision_0            0.330189\n",
      "recall_1               0.500000\n",
      "precision_1            0.816092\n",
      "auc                    0.605358\n",
      "False_positive_rate    0.313725\n",
      "False_negative_rate    0.500000\n",
      "dtype: float64\n",
      "------------ Dimention 38\n",
      "---- Do parameter tuning\n",
      "Scoring parameter balanced_accuracy\n",
      "Fitting 5 folds for each of 25 candidates, totalling 125 fits\n"
     ]
    },
    {
     "name": "stderr",
     "output_type": "stream",
     "text": [
      "[Parallel(n_jobs=12)]: Using backend LokyBackend with 12 concurrent workers.\n",
      "[Parallel(n_jobs=12)]: Done   8 tasks      | elapsed:    0.6s\n",
      "[Parallel(n_jobs=12)]: Done 125 out of 125 | elapsed:    3.6s finished\n"
     ]
    },
    {
     "name": "stdout",
     "output_type": "stream",
     "text": [
      "\n",
      " Time taken: 0 hours 0 minutes and 4.49 seconds.\n",
      "Best Score: 70.763%\n",
      "{'n_estimators': 400, 'scale_pos_weight': 0.36, 'min_child_weight': 3, 'max_depth': 6, 'max_delta_step': 5, 'learning_rate': 0.01, 'gamma': 1.5, 'colsample_bytree': 1.0, 'subsample': 0.6}\n"
     ]
    },
    {
     "name": "stderr",
     "output_type": "stream",
     "text": [
      "[Parallel(n_jobs=-1)]: Using backend LokyBackend with 16 concurrent workers.\n",
      "[Parallel(n_jobs=-1)]: Done   5 out of   5 | elapsed:    0.8s finished\n"
     ]
    },
    {
     "name": "stdout",
     "output_type": "stream",
     "text": [
      "--- Validation score\n",
      "balanced_accuracy    0.707634\n",
      "recall_0             0.616667\n",
      "precision_0          0.532883\n",
      "recall_1             0.798601\n",
      "precision_1          0.851182\n",
      "auc                  0.768017\n",
      "dtype: float64\n",
      "tn: 33, fp:18, fn:73, tp:69\n",
      "[[33 18]\n",
      " [73 69]]\n",
      "--- Test score\n",
      "balanced_accuracy      0.566487\n",
      "recall_0               0.647059\n",
      "precision_0            0.311321\n",
      "recall_1               0.485915\n",
      "precision_1            0.793103\n",
      "auc                    0.597901\n",
      "False_positive_rate    0.352941\n",
      "False_negative_rate    0.514085\n",
      "dtype: float64\n",
      "------------ Dimention 39\n",
      "---- Do parameter tuning\n",
      "Scoring parameter balanced_accuracy\n",
      "Fitting 5 folds for each of 25 candidates, totalling 125 fits\n"
     ]
    },
    {
     "name": "stderr",
     "output_type": "stream",
     "text": [
      "[Parallel(n_jobs=12)]: Using backend LokyBackend with 12 concurrent workers.\n",
      "[Parallel(n_jobs=12)]: Done   8 tasks      | elapsed:    0.6s\n",
      "[Parallel(n_jobs=12)]: Done 125 out of 125 | elapsed:    3.7s finished\n"
     ]
    },
    {
     "name": "stdout",
     "output_type": "stream",
     "text": [
      "\n",
      " Time taken: 0 hours 0 minutes and 4.58 seconds.\n",
      "Best Score: 69.471%\n",
      "{'n_estimators': 400, 'scale_pos_weight': 0.36, 'min_child_weight': 3, 'max_depth': 6, 'max_delta_step': 5, 'learning_rate': 0.01, 'gamma': 1.5, 'colsample_bytree': 1.0, 'subsample': 0.6}\n"
     ]
    },
    {
     "name": "stderr",
     "output_type": "stream",
     "text": [
      "[Parallel(n_jobs=-1)]: Using backend LokyBackend with 16 concurrent workers.\n",
      "[Parallel(n_jobs=-1)]: Done   5 out of   5 | elapsed:    0.8s finished\n"
     ]
    },
    {
     "name": "stdout",
     "output_type": "stream",
     "text": [
      "--- Validation score\n",
      "balanced_accuracy    0.694709\n",
      "recall_0             0.600000\n",
      "precision_0          0.509663\n",
      "recall_1             0.789417\n",
      "precision_1          0.844969\n",
      "auc                  0.764544\n",
      "dtype: float64\n",
      "tn: 32, fp:19, fn:75, tp:67\n",
      "[[32 19]\n",
      " [75 67]]\n",
      "--- Test score\n",
      "balanced_accuracy      0.549641\n",
      "recall_0               0.627451\n",
      "precision_0            0.299065\n",
      "recall_1               0.471831\n",
      "precision_1            0.779070\n",
      "auc                    0.583264\n",
      "False_positive_rate    0.372549\n",
      "False_negative_rate    0.528169\n",
      "dtype: float64\n",
      "------------ Dimention 40\n",
      "---- Do parameter tuning\n",
      "Scoring parameter balanced_accuracy\n",
      "Fitting 5 folds for each of 25 candidates, totalling 125 fits\n"
     ]
    },
    {
     "name": "stderr",
     "output_type": "stream",
     "text": [
      "[Parallel(n_jobs=12)]: Using backend LokyBackend with 12 concurrent workers.\n",
      "[Parallel(n_jobs=12)]: Done   8 tasks      | elapsed:    0.7s\n",
      "[Parallel(n_jobs=12)]: Done 125 out of 125 | elapsed:    3.9s finished\n"
     ]
    },
    {
     "name": "stdout",
     "output_type": "stream",
     "text": [
      "\n",
      " Time taken: 0 hours 0 minutes and 4.68 seconds.\n",
      "Best Score: 69.990%\n",
      "{'n_estimators': 300, 'scale_pos_weight': 0.36, 'min_child_weight': 2, 'max_depth': 6, 'max_delta_step': 2, 'learning_rate': 0.02, 'gamma': 5, 'colsample_bytree': 0.8, 'subsample': 0.8}\n"
     ]
    },
    {
     "name": "stderr",
     "output_type": "stream",
     "text": [
      "[Parallel(n_jobs=-1)]: Using backend LokyBackend with 16 concurrent workers.\n",
      "[Parallel(n_jobs=-1)]: Done   5 out of   5 | elapsed:    0.7s finished\n"
     ]
    },
    {
     "name": "stdout",
     "output_type": "stream",
     "text": [
      "--- Validation score\n",
      "balanced_accuracy    0.699895\n",
      "recall_0             0.650000\n",
      "precision_0          0.488556\n",
      "recall_1             0.749790\n",
      "precision_1          0.855281\n",
      "auc                  0.761739\n",
      "dtype: float64\n",
      "tn: 38, fp:13, fn:76, tp:66\n",
      "[[38 13]\n",
      " [76 66]]\n",
      "--- Test score\n",
      "balanced_accuracy      0.604943\n",
      "recall_0               0.745098\n",
      "precision_0            0.333333\n",
      "recall_1               0.464789\n",
      "precision_1            0.835443\n",
      "auc                    0.616266\n",
      "False_positive_rate    0.254902\n",
      "False_negative_rate    0.535211\n",
      "dtype: float64\n",
      "------------ Dimention 41\n",
      "---- Do parameter tuning\n",
      "Scoring parameter balanced_accuracy\n",
      "Fitting 5 folds for each of 25 candidates, totalling 125 fits\n"
     ]
    },
    {
     "name": "stderr",
     "output_type": "stream",
     "text": [
      "[Parallel(n_jobs=12)]: Using backend LokyBackend with 12 concurrent workers.\n",
      "[Parallel(n_jobs=12)]: Done   8 tasks      | elapsed:    0.7s\n"
     ]
    },
    {
     "name": "stdout",
     "output_type": "stream",
     "text": [
      "\n",
      " Time taken: 0 hours 0 minutes and 4.4 seconds.\n",
      "Best Score: 70.297%\n",
      "{'n_estimators': 300, 'scale_pos_weight': 0.2, 'min_child_weight': 1, 'max_depth': 3, 'max_delta_step': 2, 'learning_rate': 0.07, 'gamma': 0.5, 'colsample_bytree': 0.8, 'subsample': 0.6}\n"
     ]
    },
    {
     "name": "stderr",
     "output_type": "stream",
     "text": [
      "[Parallel(n_jobs=12)]: Done 125 out of 125 | elapsed:    3.9s finished\n",
      "[Parallel(n_jobs=-1)]: Using backend LokyBackend with 16 concurrent workers.\n",
      "[Parallel(n_jobs=-1)]: Done   5 out of   5 | elapsed:    0.6s finished\n"
     ]
    },
    {
     "name": "stdout",
     "output_type": "stream",
     "text": [
      "--- Validation score\n",
      "balanced_accuracy    0.702972\n",
      "recall_0             0.616667\n",
      "precision_0          0.523497\n",
      "recall_1             0.789277\n",
      "precision_1          0.849588\n",
      "auc                  0.741404\n",
      "dtype: float64\n",
      "tn: 33, fp:18, fn:81, tp:61\n",
      "[[33 18]\n",
      " [81 61]]\n",
      "--- Test score\n",
      "balanced_accuracy      0.538318\n",
      "recall_0               0.647059\n",
      "precision_0            0.289474\n",
      "recall_1               0.429577\n",
      "precision_1            0.772152\n",
      "auc                    0.547501\n",
      "False_positive_rate    0.352941\n",
      "False_negative_rate    0.570423\n",
      "dtype: float64\n",
      "------------ Dimention 42\n",
      "---- Do parameter tuning\n",
      "Scoring parameter balanced_accuracy\n",
      "Fitting 5 folds for each of 25 candidates, totalling 125 fits\n"
     ]
    },
    {
     "name": "stderr",
     "output_type": "stream",
     "text": [
      "[Parallel(n_jobs=12)]: Using backend LokyBackend with 12 concurrent workers.\n",
      "[Parallel(n_jobs=12)]: Done   8 tasks      | elapsed:    0.7s\n",
      "[Parallel(n_jobs=12)]: Done 125 out of 125 | elapsed:    4.0s finished\n"
     ]
    },
    {
     "name": "stdout",
     "output_type": "stream",
     "text": [
      "\n",
      " Time taken: 0 hours 0 minutes and 4.67 seconds.\n",
      "Best Score: 70.667%\n",
      "{'n_estimators': 300, 'scale_pos_weight': 0.36, 'min_child_weight': 2, 'max_depth': 6, 'max_delta_step': 2, 'learning_rate': 0.02, 'gamma': 5, 'colsample_bytree': 0.8, 'subsample': 0.8}\n"
     ]
    },
    {
     "name": "stderr",
     "output_type": "stream",
     "text": [
      "[Parallel(n_jobs=-1)]: Using backend LokyBackend with 16 concurrent workers.\n",
      "[Parallel(n_jobs=-1)]: Done   5 out of   5 | elapsed:    0.7s finished\n"
     ]
    },
    {
     "name": "stdout",
     "output_type": "stream",
     "text": [
      "--- Validation score\n",
      "balanced_accuracy    0.706667\n",
      "recall_0             0.666667\n",
      "precision_0          0.496075\n",
      "recall_1             0.746667\n",
      "precision_1          0.859778\n",
      "auc                  0.767669\n",
      "dtype: float64\n",
      "tn: 39, fp:12, fn:74, tp:68\n",
      "[[39 12]\n",
      " [74 68]]\n",
      "--- Test score\n",
      "balanced_accuracy      0.621790\n",
      "recall_0               0.764706\n",
      "precision_0            0.345133\n",
      "recall_1               0.478873\n",
      "precision_1            0.850000\n",
      "auc                    0.601629\n",
      "False_positive_rate    0.235294\n",
      "False_negative_rate    0.521127\n",
      "dtype: float64\n",
      "------------ Dimention 43\n",
      "---- Do parameter tuning\n",
      "Scoring parameter balanced_accuracy\n",
      "Fitting 5 folds for each of 25 candidates, totalling 125 fits\n"
     ]
    },
    {
     "name": "stderr",
     "output_type": "stream",
     "text": [
      "[Parallel(n_jobs=12)]: Using backend LokyBackend with 12 concurrent workers.\n",
      "[Parallel(n_jobs=12)]: Done   8 tasks      | elapsed:    0.6s\n",
      "[Parallel(n_jobs=12)]: Done 125 out of 125 | elapsed:    3.9s finished\n"
     ]
    },
    {
     "name": "stdout",
     "output_type": "stream",
     "text": [
      "\n",
      " Time taken: 0 hours 0 minutes and 4.67 seconds.\n",
      "Best Score: 69.838%\n",
      "{'n_estimators': 300, 'scale_pos_weight': 0.36, 'min_child_weight': 2, 'max_depth': 6, 'max_delta_step': 2, 'learning_rate': 0.02, 'gamma': 5, 'colsample_bytree': 0.8, 'subsample': 0.8}\n"
     ]
    },
    {
     "name": "stderr",
     "output_type": "stream",
     "text": [
      "[Parallel(n_jobs=-1)]: Using backend LokyBackend with 16 concurrent workers.\n",
      "[Parallel(n_jobs=-1)]: Done   5 out of   5 | elapsed:    0.7s finished\n"
     ]
    },
    {
     "name": "stdout",
     "output_type": "stream",
     "text": [
      "--- Validation score\n",
      "balanced_accuracy    0.698380\n",
      "recall_0             0.650000\n",
      "precision_0          0.488924\n",
      "recall_1             0.746760\n",
      "precision_1          0.854605\n",
      "auc                  0.765917\n",
      "dtype: float64\n",
      "tn: 37, fp:14, fn:70, tp:72\n",
      "[[37 14]\n",
      " [70 72]]\n",
      "--- Test score\n",
      "balanced_accuracy      0.616266\n",
      "recall_0               0.725490\n",
      "precision_0            0.345794\n",
      "recall_1               0.507042\n",
      "precision_1            0.837209\n",
      "auc                    0.625932\n",
      "False_positive_rate    0.274510\n",
      "False_negative_rate    0.492958\n",
      "dtype: float64\n",
      "------------ Dimention 44\n",
      "---- Do parameter tuning\n",
      "Scoring parameter balanced_accuracy\n",
      "Fitting 5 folds for each of 25 candidates, totalling 125 fits\n"
     ]
    },
    {
     "name": "stderr",
     "output_type": "stream",
     "text": [
      "[Parallel(n_jobs=12)]: Using backend LokyBackend with 12 concurrent workers.\n",
      "[Parallel(n_jobs=12)]: Done   8 tasks      | elapsed:    0.6s\n"
     ]
    },
    {
     "name": "stdout",
     "output_type": "stream",
     "text": [
      "\n",
      " Time taken: 0 hours 0 minutes and 4.65 seconds.\n",
      "Best Score: 71.022%\n",
      "{'n_estimators': 300, 'scale_pos_weight': 0.2, 'min_child_weight': 1, 'max_depth': 3, 'max_delta_step': 2, 'learning_rate': 0.07, 'gamma': 0.5, 'colsample_bytree': 0.8, 'subsample': 0.6}\n"
     ]
    },
    {
     "name": "stderr",
     "output_type": "stream",
     "text": [
      "[Parallel(n_jobs=12)]: Done 125 out of 125 | elapsed:    4.0s finished\n",
      "[Parallel(n_jobs=-1)]: Using backend LokyBackend with 16 concurrent workers.\n",
      "[Parallel(n_jobs=-1)]: Done   5 out of   5 | elapsed:    0.6s finished\n"
     ]
    },
    {
     "name": "stdout",
     "output_type": "stream",
     "text": [
      "--- Validation score\n",
      "balanced_accuracy    0.710216\n",
      "recall_0             0.625000\n",
      "precision_0          0.527473\n",
      "recall_1             0.795431\n",
      "precision_1          0.853686\n",
      "auc                  0.753619\n",
      "dtype: float64\n",
      "tn: 31, fp:20, fn:86, tp:56\n",
      "[[31 20]\n",
      " [86 56]]\n",
      "--- Test score\n",
      "balanced_accuracy      0.501105\n",
      "recall_0               0.607843\n",
      "precision_0            0.264957\n",
      "recall_1               0.394366\n",
      "precision_1            0.736842\n",
      "auc                    0.519194\n",
      "False_positive_rate    0.392157\n",
      "False_negative_rate    0.605634\n",
      "dtype: float64\n",
      "------------ Dimention 45\n",
      "---- Do parameter tuning\n",
      "Scoring parameter balanced_accuracy\n",
      "Fitting 5 folds for each of 25 candidates, totalling 125 fits\n"
     ]
    },
    {
     "name": "stderr",
     "output_type": "stream",
     "text": [
      "[Parallel(n_jobs=12)]: Using backend LokyBackend with 12 concurrent workers.\n",
      "[Parallel(n_jobs=12)]: Done   8 tasks      | elapsed:    0.7s\n",
      "[Parallel(n_jobs=12)]: Done 125 out of 125 | elapsed:    4.2s finished\n"
     ]
    },
    {
     "name": "stdout",
     "output_type": "stream",
     "text": [
      "\n",
      " Time taken: 0 hours 0 minutes and 5.09 seconds.\n",
      "Best Score: 71.334%\n",
      "{'n_estimators': 400, 'scale_pos_weight': 0.36, 'min_child_weight': 3, 'max_depth': 6, 'max_delta_step': 5, 'learning_rate': 0.01, 'gamma': 1.5, 'colsample_bytree': 1.0, 'subsample': 0.6}\n"
     ]
    },
    {
     "name": "stderr",
     "output_type": "stream",
     "text": [
      "[Parallel(n_jobs=-1)]: Using backend LokyBackend with 16 concurrent workers.\n",
      "[Parallel(n_jobs=-1)]: Done   5 out of   5 | elapsed:    0.8s finished\n"
     ]
    },
    {
     "name": "stdout",
     "output_type": "stream",
     "text": [
      "--- Validation score\n",
      "balanced_accuracy    0.713339\n",
      "recall_0             0.625000\n",
      "precision_0          0.536278\n",
      "recall_1             0.801678\n",
      "precision_1          0.854686\n",
      "auc                  0.778087\n",
      "dtype: float64\n",
      "tn: 33, fp:18, fn:70, tp:72\n",
      "[[33 18]\n",
      " [70 72]]\n",
      "--- Test score\n",
      "balanced_accuracy      0.577051\n",
      "recall_0               0.647059\n",
      "precision_0            0.320388\n",
      "recall_1               0.507042\n",
      "precision_1            0.800000\n",
      "auc                    0.610467\n",
      "False_positive_rate    0.352941\n",
      "False_negative_rate    0.492958\n",
      "dtype: float64\n",
      "------------ Dimention 46\n",
      "---- Do parameter tuning\n",
      "Scoring parameter balanced_accuracy\n",
      "Fitting 5 folds for each of 25 candidates, totalling 125 fits\n"
     ]
    },
    {
     "name": "stderr",
     "output_type": "stream",
     "text": [
      "[Parallel(n_jobs=12)]: Using backend LokyBackend with 12 concurrent workers.\n",
      "[Parallel(n_jobs=12)]: Done   8 tasks      | elapsed:    0.7s\n",
      "[Parallel(n_jobs=12)]: Done 125 out of 125 | elapsed:    4.2s finished\n"
     ]
    },
    {
     "name": "stdout",
     "output_type": "stream",
     "text": [
      "\n",
      " Time taken: 0 hours 0 minutes and 5.12 seconds.\n",
      "Best Score: 70.501%\n",
      "{'n_estimators': 400, 'scale_pos_weight': 0.36, 'min_child_weight': 3, 'max_depth': 6, 'max_delta_step': 5, 'learning_rate': 0.01, 'gamma': 1.5, 'colsample_bytree': 1.0, 'subsample': 0.6}\n"
     ]
    },
    {
     "name": "stderr",
     "output_type": "stream",
     "text": [
      "[Parallel(n_jobs=-1)]: Using backend LokyBackend with 16 concurrent workers.\n",
      "[Parallel(n_jobs=-1)]: Done   5 out of   5 | elapsed:    0.8s finished\n"
     ]
    },
    {
     "name": "stdout",
     "output_type": "stream",
     "text": [
      "--- Validation score\n",
      "balanced_accuracy    0.705006\n",
      "recall_0             0.608333\n",
      "precision_0          0.527710\n",
      "recall_1             0.801678\n",
      "precision_1          0.849415\n",
      "auc                  0.769413\n",
      "dtype: float64\n",
      "tn: 32, fp:19, fn:76, tp:66\n",
      "[[32 19]\n",
      " [76 66]]\n",
      "--- Test score\n",
      "balanced_accuracy      0.546120\n",
      "recall_0               0.627451\n",
      "precision_0            0.296296\n",
      "recall_1               0.464789\n",
      "precision_1            0.776471\n",
      "auc                    0.583817\n",
      "False_positive_rate    0.372549\n",
      "False_negative_rate    0.535211\n",
      "dtype: float64\n",
      "------------ Dimention 47\n",
      "---- Do parameter tuning\n",
      "Scoring parameter balanced_accuracy\n",
      "Fitting 5 folds for each of 25 candidates, totalling 125 fits\n"
     ]
    },
    {
     "name": "stderr",
     "output_type": "stream",
     "text": [
      "[Parallel(n_jobs=12)]: Using backend LokyBackend with 12 concurrent workers.\n",
      "[Parallel(n_jobs=12)]: Done   8 tasks      | elapsed:    0.8s\n",
      "[Parallel(n_jobs=12)]: Done 125 out of 125 | elapsed:    4.3s finished\n"
     ]
    },
    {
     "name": "stdout",
     "output_type": "stream",
     "text": [
      "\n",
      " Time taken: 0 hours 0 minutes and 5.29 seconds.\n",
      "Best Score: 69.776%\n",
      "{'n_estimators': 400, 'scale_pos_weight': 0.36, 'min_child_weight': 3, 'max_depth': 6, 'max_delta_step': 5, 'learning_rate': 0.01, 'gamma': 1.5, 'colsample_bytree': 1.0, 'subsample': 0.6}\n"
     ]
    },
    {
     "name": "stderr",
     "output_type": "stream",
     "text": [
      "[Parallel(n_jobs=-1)]: Using backend LokyBackend with 16 concurrent workers.\n",
      "[Parallel(n_jobs=-1)]: Done   5 out of   5 | elapsed:    0.8s finished\n"
     ]
    },
    {
     "name": "stdout",
     "output_type": "stream",
     "text": [
      "--- Validation score\n",
      "balanced_accuracy    0.697762\n",
      "recall_0             0.600000\n",
      "precision_0          0.514897\n",
      "recall_1             0.795524\n",
      "precision_1          0.845895\n",
      "auc                  0.769716\n",
      "dtype: float64\n",
      "tn: 32, fp:19, fn:71, tp:71\n",
      "[[32 19]\n",
      " [71 71]]\n",
      "--- Test score\n",
      "balanced_accuracy      0.563725\n",
      "recall_0               0.627451\n",
      "precision_0            0.310680\n",
      "recall_1               0.500000\n",
      "precision_1            0.788889\n",
      "auc                    0.593897\n",
      "False_positive_rate    0.372549\n",
      "False_negative_rate    0.500000\n",
      "dtype: float64\n",
      "------------ Dimention 48\n",
      "---- Do parameter tuning\n",
      "Scoring parameter balanced_accuracy\n",
      "Fitting 5 folds for each of 25 candidates, totalling 125 fits\n"
     ]
    },
    {
     "name": "stderr",
     "output_type": "stream",
     "text": [
      "[Parallel(n_jobs=12)]: Using backend LokyBackend with 12 concurrent workers.\n",
      "[Parallel(n_jobs=12)]: Done   8 tasks      | elapsed:    0.7s\n",
      "[Parallel(n_jobs=12)]: Done 125 out of 125 | elapsed:    4.3s finished\n"
     ]
    },
    {
     "name": "stdout",
     "output_type": "stream",
     "text": [
      "\n",
      " Time taken: 0 hours 0 minutes and 5.01 seconds.\n",
      "Best Score: 70.380%\n",
      "{'n_estimators': 300, 'scale_pos_weight': 0.2, 'min_child_weight': 1, 'max_depth': 3, 'max_delta_step': 2, 'learning_rate': 0.07, 'gamma': 0.5, 'colsample_bytree': 0.8, 'subsample': 0.6}\n"
     ]
    },
    {
     "name": "stderr",
     "output_type": "stream",
     "text": [
      "[Parallel(n_jobs=-1)]: Using backend LokyBackend with 16 concurrent workers.\n",
      "[Parallel(n_jobs=-1)]: Done   5 out of   5 | elapsed:    0.6s finished\n"
     ]
    },
    {
     "name": "stdout",
     "output_type": "stream",
     "text": [
      "--- Validation score\n",
      "balanced_accuracy    0.703800\n",
      "recall_0             0.600000\n",
      "precision_0          0.535155\n",
      "recall_1             0.807599\n",
      "precision_1          0.846579\n",
      "auc                  0.755734\n",
      "dtype: float64\n",
      "tn: 32, fp:19, fn:83, tp:59\n",
      "[[32 19]\n",
      " [83 59]]\n",
      "--- Test score\n",
      "balanced_accuracy      0.521472\n",
      "recall_0               0.627451\n",
      "precision_0            0.278261\n",
      "recall_1               0.415493\n",
      "precision_1            0.756410\n",
      "auc                    0.529826\n",
      "False_positive_rate    0.372549\n",
      "False_negative_rate    0.584507\n",
      "dtype: float64\n",
      "------------ Dimention 49\n",
      "---- Do parameter tuning\n",
      "Scoring parameter balanced_accuracy\n",
      "Fitting 5 folds for each of 25 candidates, totalling 125 fits\n"
     ]
    },
    {
     "name": "stderr",
     "output_type": "stream",
     "text": [
      "[Parallel(n_jobs=12)]: Using backend LokyBackend with 12 concurrent workers.\n",
      "[Parallel(n_jobs=12)]: Done   8 tasks      | elapsed:    0.7s\n",
      "[Parallel(n_jobs=12)]: Done 125 out of 125 | elapsed:    4.4s finished\n"
     ]
    },
    {
     "name": "stdout",
     "output_type": "stream",
     "text": [
      "\n",
      " Time taken: 0 hours 0 minutes and 5.18 seconds.\n",
      "Best Score: 70.541%\n",
      "{'n_estimators': 400, 'scale_pos_weight': 0.36, 'min_child_weight': 3, 'max_depth': 6, 'max_delta_step': 5, 'learning_rate': 0.01, 'gamma': 1.5, 'colsample_bytree': 1.0, 'subsample': 0.6}\n"
     ]
    },
    {
     "name": "stderr",
     "output_type": "stream",
     "text": [
      "[Parallel(n_jobs=-1)]: Using backend LokyBackend with 16 concurrent workers.\n",
      "[Parallel(n_jobs=-1)]: Done   5 out of   5 | elapsed:    0.8s finished\n"
     ]
    },
    {
     "name": "stdout",
     "output_type": "stream",
     "text": [
      "--- Validation score\n",
      "balanced_accuracy    0.705408\n",
      "recall_0             0.600000\n",
      "precision_0          0.538732\n",
      "recall_1             0.810816\n",
      "precision_1          0.848015\n",
      "auc                  0.765517\n",
      "dtype: float64\n",
      "tn: 34, fp:17, fn:69, tp:73\n",
      "[[34 17]\n",
      " [69 73]]\n",
      "--- Test score\n",
      "balanced_accuracy      0.590376\n",
      "recall_0               0.666667\n",
      "precision_0            0.330097\n",
      "recall_1               0.514085\n",
      "precision_1            0.811111\n",
      "auc                    0.607153\n",
      "False_positive_rate    0.333333\n",
      "False_negative_rate    0.485915\n",
      "dtype: float64\n",
      "------------ Dimention 50\n",
      "---- Do parameter tuning\n",
      "Scoring parameter balanced_accuracy\n",
      "Fitting 5 folds for each of 25 candidates, totalling 125 fits\n"
     ]
    },
    {
     "name": "stderr",
     "output_type": "stream",
     "text": [
      "[Parallel(n_jobs=12)]: Using backend LokyBackend with 12 concurrent workers.\n",
      "[Parallel(n_jobs=12)]: Done   8 tasks      | elapsed:    0.7s\n",
      "[Parallel(n_jobs=12)]: Done 125 out of 125 | elapsed:    4.4s finished\n"
     ]
    },
    {
     "name": "stdout",
     "output_type": "stream",
     "text": [
      "\n",
      " Time taken: 0 hours 0 minutes and 5.48 seconds.\n",
      "Best Score: 69.781%\n",
      "{'n_estimators': 700, 'scale_pos_weight': 0.36, 'min_child_weight': 4, 'max_depth': 4, 'max_delta_step': 5, 'learning_rate': 0.02, 'gamma': 1, 'colsample_bytree': 0.8, 'subsample': 0.8}\n"
     ]
    },
    {
     "name": "stderr",
     "output_type": "stream",
     "text": [
      "[Parallel(n_jobs=-1)]: Using backend LokyBackend with 16 concurrent workers.\n",
      "[Parallel(n_jobs=-1)]: Done   5 out of   5 | elapsed:    0.9s finished\n"
     ]
    },
    {
     "name": "stdout",
     "output_type": "stream",
     "text": [
      "--- Validation score\n",
      "balanced_accuracy    0.697809\n",
      "recall_0             0.566667\n",
      "precision_0          0.550950\n",
      "recall_1             0.828951\n",
      "precision_1          0.839734\n",
      "auc                  0.747537\n",
      "dtype: float64\n",
      "tn: 28, fp:23, fn:74, tp:68\n",
      "[[28 23]\n",
      " [74 68]]\n",
      "--- Test score\n",
      "balanced_accuracy      0.513946\n",
      "recall_0               0.549020\n",
      "precision_0            0.274510\n",
      "recall_1               0.478873\n",
      "precision_1            0.747253\n",
      "auc                    0.540320\n",
      "False_positive_rate    0.450980\n",
      "False_negative_rate    0.521127\n",
      "dtype: float64\n",
      "------------ Dimention 51\n",
      "---- Do parameter tuning\n",
      "Scoring parameter balanced_accuracy\n",
      "Fitting 5 folds for each of 25 candidates, totalling 125 fits\n"
     ]
    },
    {
     "name": "stderr",
     "output_type": "stream",
     "text": [
      "[Parallel(n_jobs=12)]: Using backend LokyBackend with 12 concurrent workers.\n",
      "[Parallel(n_jobs=12)]: Done   8 tasks      | elapsed:    0.7s\n",
      "[Parallel(n_jobs=12)]: Done 125 out of 125 | elapsed:    4.5s finished\n"
     ]
    },
    {
     "name": "stdout",
     "output_type": "stream",
     "text": [
      "\n",
      " Time taken: 0 hours 0 minutes and 5.49 seconds.\n",
      "Best Score: 69.710%\n",
      "{'n_estimators': 700, 'scale_pos_weight': 0.2, 'min_child_weight': 3, 'max_depth': 4, 'max_delta_step': 3, 'learning_rate': 0.03, 'gamma': 1.5, 'colsample_bytree': 1.0, 'subsample': 0.6}\n"
     ]
    },
    {
     "name": "stderr",
     "output_type": "stream",
     "text": [
      "[Parallel(n_jobs=-1)]: Using backend LokyBackend with 16 concurrent workers.\n",
      "[Parallel(n_jobs=-1)]: Done   5 out of   5 | elapsed:    0.9s finished\n"
     ]
    },
    {
     "name": "stdout",
     "output_type": "stream",
     "text": [
      "--- Validation score\n",
      "balanced_accuracy    0.697104\n",
      "recall_0             0.675000\n",
      "precision_0          0.465578\n",
      "recall_1             0.719207\n",
      "precision_1          0.859803\n",
      "auc                  0.740546\n",
      "dtype: float64\n",
      "tn: 37, fp:14, fn:96, tp:46\n",
      "[[37 14]\n",
      " [96 46]]\n",
      "--- Test score\n",
      "balanced_accuracy      0.524717\n",
      "recall_0               0.725490\n",
      "precision_0            0.278195\n",
      "recall_1               0.323944\n",
      "precision_1            0.766667\n",
      "auc                    0.555510\n",
      "False_positive_rate    0.274510\n",
      "False_negative_rate    0.676056\n",
      "dtype: float64\n",
      "------------ Dimention 52\n",
      "---- Do parameter tuning\n",
      "Scoring parameter balanced_accuracy\n",
      "Fitting 5 folds for each of 25 candidates, totalling 125 fits\n"
     ]
    },
    {
     "name": "stderr",
     "output_type": "stream",
     "text": [
      "[Parallel(n_jobs=12)]: Using backend LokyBackend with 12 concurrent workers.\n",
      "[Parallel(n_jobs=12)]: Done   8 tasks      | elapsed:    0.7s\n",
      "[Parallel(n_jobs=12)]: Done 125 out of 125 | elapsed:    4.6s finished\n"
     ]
    },
    {
     "name": "stdout",
     "output_type": "stream",
     "text": [
      "\n",
      " Time taken: 0 hours 0 minutes and 5.43 seconds.\n",
      "Best Score: 69.861%\n",
      "{'n_estimators': 400, 'scale_pos_weight': 0.36, 'min_child_weight': 3, 'max_depth': 6, 'max_delta_step': 5, 'learning_rate': 0.01, 'gamma': 1.5, 'colsample_bytree': 1.0, 'subsample': 0.6}\n"
     ]
    },
    {
     "name": "stderr",
     "output_type": "stream",
     "text": [
      "[Parallel(n_jobs=-1)]: Using backend LokyBackend with 16 concurrent workers.\n",
      "[Parallel(n_jobs=-1)]: Done   5 out of   5 | elapsed:    0.5s finished\n"
     ]
    },
    {
     "name": "stdout",
     "output_type": "stream",
     "text": [
      "--- Validation score\n",
      "balanced_accuracy    0.698613\n",
      "recall_0             0.583333\n",
      "precision_0          0.531483\n",
      "recall_1             0.813893\n",
      "precision_1          0.843127\n",
      "auc                  0.761338\n",
      "dtype: float64\n",
      "tn: 34, fp:17, fn:73, tp:69\n",
      "[[34 17]\n",
      " [73 69]]\n",
      "--- Test score\n",
      "balanced_accuracy      0.576291\n",
      "recall_0               0.666667\n",
      "precision_0            0.317757\n",
      "recall_1               0.485915\n",
      "precision_1            0.802326\n",
      "auc                    0.597625\n",
      "False_positive_rate    0.333333\n",
      "False_negative_rate    0.514085\n",
      "dtype: float64\n",
      "------------ Dimention 53\n",
      "---- Do parameter tuning\n",
      "Scoring parameter balanced_accuracy\n",
      "Fitting 5 folds for each of 25 candidates, totalling 125 fits\n"
     ]
    },
    {
     "name": "stderr",
     "output_type": "stream",
     "text": [
      "[Parallel(n_jobs=12)]: Using backend LokyBackend with 12 concurrent workers.\n",
      "[Parallel(n_jobs=12)]: Done   8 tasks      | elapsed:    0.8s\n",
      "[Parallel(n_jobs=12)]: Done 125 out of 125 | elapsed:    4.6s finished\n"
     ]
    },
    {
     "name": "stdout",
     "output_type": "stream",
     "text": [
      "\n",
      " Time taken: 0 hours 0 minutes and 5.61 seconds.\n",
      "Best Score: 69.583%\n",
      "{'n_estimators': 700, 'scale_pos_weight': 0.2, 'min_child_weight': 2, 'max_depth': 3, 'max_delta_step': 5, 'learning_rate': 0.05, 'gamma': 2, 'colsample_bytree': 0.8, 'subsample': 1.0}\n"
     ]
    },
    {
     "name": "stderr",
     "output_type": "stream",
     "text": [
      "[Parallel(n_jobs=-1)]: Using backend LokyBackend with 16 concurrent workers.\n",
      "[Parallel(n_jobs=-1)]: Done   5 out of   5 | elapsed:    0.9s finished\n"
     ]
    },
    {
     "name": "stdout",
     "output_type": "stream",
     "text": [
      "--- Validation score\n",
      "balanced_accuracy    0.695828\n",
      "recall_0             0.766667\n",
      "precision_0          0.430028\n",
      "recall_1             0.624988\n",
      "precision_1          0.887110\n",
      "auc                  0.739108\n",
      "dtype: float64\n",
      "tn: 42, fp:9, fn:101, tp:41\n",
      "[[ 42   9]\n",
      " [101  41]]\n",
      "--- Test score\n",
      "balanced_accuracy      0.556131\n",
      "recall_0               0.823529\n",
      "precision_0            0.293706\n",
      "recall_1               0.288732\n",
      "precision_1            0.820000\n",
      "auc                    0.614264\n",
      "False_positive_rate    0.176471\n",
      "False_negative_rate    0.711268\n",
      "dtype: float64\n",
      "------------ Dimention 54\n",
      "---- Do parameter tuning\n",
      "Scoring parameter balanced_accuracy\n",
      "Fitting 5 folds for each of 25 candidates, totalling 125 fits\n"
     ]
    },
    {
     "name": "stderr",
     "output_type": "stream",
     "text": [
      "[Parallel(n_jobs=12)]: Using backend LokyBackend with 12 concurrent workers.\n",
      "[Parallel(n_jobs=12)]: Done   8 tasks      | elapsed:    0.8s\n",
      "[Parallel(n_jobs=12)]: Done 125 out of 125 | elapsed:    4.8s finished\n"
     ]
    },
    {
     "name": "stdout",
     "output_type": "stream",
     "text": [
      "\n",
      " Time taken: 0 hours 0 minutes and 5.75 seconds.\n",
      "Best Score: 69.914%\n",
      "{'n_estimators': 500, 'scale_pos_weight': 0.36, 'min_child_weight': 4, 'max_depth': 5, 'max_delta_step': 4, 'learning_rate': 0.02, 'gamma': 5, 'colsample_bytree': 1.0, 'subsample': 0.6}\n"
     ]
    },
    {
     "name": "stderr",
     "output_type": "stream",
     "text": [
      "[Parallel(n_jobs=-1)]: Using backend LokyBackend with 16 concurrent workers.\n",
      "[Parallel(n_jobs=-1)]: Done   5 out of   5 | elapsed:    0.8s finished\n"
     ]
    },
    {
     "name": "stdout",
     "output_type": "stream",
     "text": [
      "--- Validation score\n",
      "balanced_accuracy    0.699138\n",
      "recall_0             0.666667\n",
      "precision_0          0.475083\n",
      "recall_1             0.731608\n",
      "precision_1          0.858403\n",
      "auc                  0.756208\n",
      "dtype: float64\n",
      "tn: 37, fp:14, fn:82, tp:60\n",
      "[[37 14]\n",
      " [82 60]]\n",
      "--- Test score\n",
      "balanced_accuracy      0.574013\n",
      "recall_0               0.725490\n",
      "precision_0            0.310924\n",
      "recall_1               0.422535\n",
      "precision_1            0.810811\n",
      "auc                    0.595485\n",
      "False_positive_rate    0.274510\n",
      "False_negative_rate    0.577465\n",
      "dtype: float64\n",
      "------------ Dimention 55\n",
      "---- Do parameter tuning\n",
      "Scoring parameter balanced_accuracy\n",
      "Fitting 5 folds for each of 25 candidates, totalling 125 fits\n"
     ]
    },
    {
     "name": "stderr",
     "output_type": "stream",
     "text": [
      "[Parallel(n_jobs=12)]: Using backend LokyBackend with 12 concurrent workers.\n",
      "[Parallel(n_jobs=12)]: Done   8 tasks      | elapsed:    0.8s\n",
      "[Parallel(n_jobs=12)]: Done 125 out of 125 | elapsed:    4.7s finished\n"
     ]
    },
    {
     "name": "stdout",
     "output_type": "stream",
     "text": [
      "\n",
      " Time taken: 0 hours 0 minutes and 5.62 seconds.\n",
      "Best Score: 69.339%\n",
      "{'n_estimators': 300, 'scale_pos_weight': 0.36, 'min_child_weight': 2, 'max_depth': 6, 'max_delta_step': 2, 'learning_rate': 0.02, 'gamma': 5, 'colsample_bytree': 0.8, 'subsample': 0.8}\n"
     ]
    },
    {
     "name": "stderr",
     "output_type": "stream",
     "text": [
      "[Parallel(n_jobs=-1)]: Using backend LokyBackend with 16 concurrent workers.\n",
      "[Parallel(n_jobs=-1)]: Done   5 out of   5 | elapsed:    0.8s finished\n"
     ]
    },
    {
     "name": "stdout",
     "output_type": "stream",
     "text": [
      "--- Validation score\n",
      "balanced_accuracy    0.693386\n",
      "recall_0             0.658333\n",
      "precision_0          0.472829\n",
      "recall_1             0.728438\n",
      "precision_1          0.855292\n",
      "auc                  0.756416\n",
      "dtype: float64\n",
      "tn: 37, fp:14, fn:72, tp:70\n",
      "[[37 14]\n",
      " [72 70]]\n",
      "--- Test score\n",
      "balanced_accuracy      0.609224\n",
      "recall_0               0.725490\n",
      "precision_0            0.339450\n",
      "recall_1               0.492958\n",
      "precision_1            0.833333\n",
      "auc                    0.616750\n",
      "False_positive_rate    0.274510\n",
      "False_negative_rate    0.507042\n",
      "dtype: float64\n",
      "------------ Dimention 56\n",
      "---- Do parameter tuning\n",
      "Scoring parameter balanced_accuracy\n",
      "Fitting 5 folds for each of 25 candidates, totalling 125 fits\n"
     ]
    },
    {
     "name": "stderr",
     "output_type": "stream",
     "text": [
      "[Parallel(n_jobs=12)]: Using backend LokyBackend with 12 concurrent workers.\n",
      "[Parallel(n_jobs=12)]: Done   8 tasks      | elapsed:    0.7s\n",
      "[Parallel(n_jobs=12)]: Done 125 out of 125 | elapsed:    4.8s finished\n"
     ]
    },
    {
     "name": "stdout",
     "output_type": "stream",
     "text": [
      "\n",
      " Time taken: 0 hours 0 minutes and 5.69 seconds.\n",
      "Best Score: 69.836%\n",
      "{'n_estimators': 300, 'scale_pos_weight': 0.36, 'min_child_weight': 2, 'max_depth': 6, 'max_delta_step': 2, 'learning_rate': 0.02, 'gamma': 5, 'colsample_bytree': 0.8, 'subsample': 0.8}\n"
     ]
    },
    {
     "name": "stderr",
     "output_type": "stream",
     "text": [
      "[Parallel(n_jobs=-1)]: Using backend LokyBackend with 16 concurrent workers.\n",
      "[Parallel(n_jobs=-1)]: Done   5 out of   5 | elapsed:    0.8s finished\n"
     ]
    },
    {
     "name": "stdout",
     "output_type": "stream",
     "text": [
      "--- Validation score\n",
      "balanced_accuracy    0.698357\n",
      "recall_0             0.650000\n",
      "precision_0          0.485727\n",
      "recall_1             0.746713\n",
      "precision_1          0.854903\n",
      "auc                  0.761622\n",
      "dtype: float64\n",
      "tn: 39, fp:12, fn:71, tp:71\n",
      "[[39 12]\n",
      " [71 71]]\n",
      "--- Test score\n",
      "balanced_accuracy      0.632353\n",
      "recall_0               0.764706\n",
      "precision_0            0.354545\n",
      "recall_1               0.500000\n",
      "precision_1            0.855422\n",
      "auc                    0.608534\n",
      "False_positive_rate    0.235294\n",
      "False_negative_rate    0.500000\n",
      "dtype: float64\n",
      "------------ Dimention 57\n",
      "---- Do parameter tuning\n",
      "Scoring parameter balanced_accuracy\n",
      "Fitting 5 folds for each of 25 candidates, totalling 125 fits\n"
     ]
    },
    {
     "name": "stderr",
     "output_type": "stream",
     "text": [
      "[Parallel(n_jobs=12)]: Using backend LokyBackend with 12 concurrent workers.\n",
      "[Parallel(n_jobs=12)]: Done   8 tasks      | elapsed:    0.8s\n",
      "[Parallel(n_jobs=12)]: Done 125 out of 125 | elapsed:    5.1s finished\n"
     ]
    },
    {
     "name": "stdout",
     "output_type": "stream",
     "text": [
      "\n",
      " Time taken: 0 hours 0 minutes and 5.76 seconds.\n",
      "Best Score: 69.021%\n",
      "{'n_estimators': 300, 'scale_pos_weight': 0.2, 'min_child_weight': 1, 'max_depth': 3, 'max_delta_step': 2, 'learning_rate': 0.07, 'gamma': 0.5, 'colsample_bytree': 0.8, 'subsample': 0.6}\n"
     ]
    },
    {
     "name": "stderr",
     "output_type": "stream",
     "text": [
      "[Parallel(n_jobs=-1)]: Using backend LokyBackend with 16 concurrent workers.\n",
      "[Parallel(n_jobs=-1)]: Done   5 out of   5 | elapsed:    0.6s finished\n"
     ]
    },
    {
     "name": "stdout",
     "output_type": "stream",
     "text": [
      "--- Validation score\n",
      "balanced_accuracy    0.690210\n",
      "recall_0             0.566667\n",
      "precision_0          0.526722\n",
      "recall_1             0.813753\n",
      "precision_1          0.838082\n",
      "auc                  0.745913\n",
      "dtype: float64\n",
      "tn: 35, fp:16, fn:92, tp:50\n",
      "[[35 16]\n",
      " [92 50]]\n",
      "--- Test score\n",
      "balanced_accuracy      0.519194\n",
      "recall_0               0.686275\n",
      "precision_0            0.275591\n",
      "recall_1               0.352113\n",
      "precision_1            0.757576\n",
      "auc                    0.509528\n",
      "False_positive_rate    0.313725\n",
      "False_negative_rate    0.647887\n",
      "dtype: float64\n",
      "------------ Dimention 58\n",
      "---- Do parameter tuning\n",
      "Scoring parameter balanced_accuracy\n",
      "Fitting 5 folds for each of 25 candidates, totalling 125 fits\n"
     ]
    },
    {
     "name": "stderr",
     "output_type": "stream",
     "text": [
      "[Parallel(n_jobs=12)]: Using backend LokyBackend with 12 concurrent workers.\n",
      "[Parallel(n_jobs=12)]: Done   8 tasks      | elapsed:    0.7s\n",
      "[Parallel(n_jobs=12)]: Done 125 out of 125 | elapsed:    5.0s finished\n"
     ]
    },
    {
     "name": "stdout",
     "output_type": "stream",
     "text": [
      "\n",
      " Time taken: 0 hours 0 minutes and 5.95 seconds.\n",
      "Best Score: 70.276%\n",
      "{'n_estimators': 400, 'scale_pos_weight': 0.36, 'min_child_weight': 3, 'max_depth': 6, 'max_delta_step': 5, 'learning_rate': 0.01, 'gamma': 1.5, 'colsample_bytree': 1.0, 'subsample': 0.6}\n"
     ]
    },
    {
     "name": "stderr",
     "output_type": "stream",
     "text": [
      "[Parallel(n_jobs=-1)]: Using backend LokyBackend with 16 concurrent workers.\n",
      "[Parallel(n_jobs=-1)]: Done   5 out of   5 | elapsed:    0.9s finished\n"
     ]
    },
    {
     "name": "stdout",
     "output_type": "stream",
     "text": [
      "--- Validation score\n",
      "balanced_accuracy    0.702756\n",
      "recall_0             0.591667\n",
      "precision_0          0.536463\n",
      "recall_1             0.813846\n",
      "precision_1          0.846040\n",
      "auc                  0.762628\n",
      "dtype: float64\n",
      "tn: 34, fp:17, fn:77, tp:65\n",
      "[[34 17]\n",
      " [77 65]]\n",
      "--- Test score\n",
      "balanced_accuracy      0.562207\n",
      "recall_0               0.666667\n",
      "precision_0            0.306306\n",
      "recall_1               0.457746\n",
      "precision_1            0.792683\n",
      "auc                    0.600110\n",
      "False_positive_rate    0.333333\n",
      "False_negative_rate    0.542254\n",
      "dtype: float64\n",
      "------------ Dimention 59\n",
      "---- Do parameter tuning\n",
      "Scoring parameter balanced_accuracy\n",
      "Fitting 5 folds for each of 25 candidates, totalling 125 fits\n"
     ]
    },
    {
     "name": "stderr",
     "output_type": "stream",
     "text": [
      "[Parallel(n_jobs=12)]: Using backend LokyBackend with 12 concurrent workers.\n",
      "[Parallel(n_jobs=12)]: Done   8 tasks      | elapsed:    0.7s\n",
      "[Parallel(n_jobs=12)]: Done 125 out of 125 | elapsed:    5.0s finished\n"
     ]
    },
    {
     "name": "stdout",
     "output_type": "stream",
     "text": [
      "\n",
      " Time taken: 0 hours 0 minutes and 6.03 seconds.\n",
      "Best Score: 68.678%\n",
      "{'n_estimators': 400, 'scale_pos_weight': 0.36, 'min_child_weight': 3, 'max_depth': 6, 'max_delta_step': 5, 'learning_rate': 0.01, 'gamma': 1.5, 'colsample_bytree': 1.0, 'subsample': 0.6}\n"
     ]
    },
    {
     "name": "stderr",
     "output_type": "stream",
     "text": [
      "[Parallel(n_jobs=-1)]: Using backend LokyBackend with 16 concurrent workers.\n",
      "[Parallel(n_jobs=-1)]: Done   5 out of   5 | elapsed:    0.8s finished\n"
     ]
    },
    {
     "name": "stdout",
     "output_type": "stream",
     "text": [
      "--- Validation score\n",
      "balanced_accuracy    0.686777\n",
      "recall_0             0.575000\n",
      "precision_0          0.508147\n",
      "recall_1             0.798555\n",
      "precision_1          0.837998\n",
      "auc                  0.757411\n",
      "dtype: float64\n",
      "tn: 34, fp:17, fn:76, tp:66\n",
      "[[34 17]\n",
      " [76 66]]\n",
      "--- Test score\n",
      "balanced_accuracy      0.565728\n",
      "recall_0               0.666667\n",
      "precision_0            0.309091\n",
      "recall_1               0.464789\n",
      "precision_1            0.795181\n",
      "auc                    0.588650\n",
      "False_positive_rate    0.333333\n",
      "False_negative_rate    0.535211\n",
      "dtype: float64\n",
      "------------ Dimention 60\n",
      "---- Do parameter tuning\n",
      "Scoring parameter balanced_accuracy\n",
      "Fitting 5 folds for each of 25 candidates, totalling 125 fits\n"
     ]
    },
    {
     "name": "stderr",
     "output_type": "stream",
     "text": [
      "[Parallel(n_jobs=12)]: Using backend LokyBackend with 12 concurrent workers.\n",
      "[Parallel(n_jobs=12)]: Done   8 tasks      | elapsed:    0.8s\n",
      "[Parallel(n_jobs=12)]: Done 125 out of 125 | elapsed:    5.2s finished\n"
     ]
    },
    {
     "name": "stdout",
     "output_type": "stream",
     "text": [
      "\n",
      " Time taken: 0 hours 0 minutes and 5.95 seconds.\n",
      "Best Score: 69.961%\n",
      "{'n_estimators': 300, 'scale_pos_weight': 0.2, 'min_child_weight': 1, 'max_depth': 3, 'max_delta_step': 2, 'learning_rate': 0.07, 'gamma': 0.5, 'colsample_bytree': 0.8, 'subsample': 0.6}\n"
     ]
    },
    {
     "name": "stderr",
     "output_type": "stream",
     "text": [
      "[Parallel(n_jobs=-1)]: Using backend LokyBackend with 16 concurrent workers.\n",
      "[Parallel(n_jobs=-1)]: Done   5 out of   5 | elapsed:    0.7s finished\n"
     ]
    },
    {
     "name": "stdout",
     "output_type": "stream",
     "text": [
      "--- Validation score\n",
      "balanced_accuracy    0.699610\n",
      "recall_0             0.591667\n",
      "precision_0          0.528352\n",
      "recall_1             0.807552\n",
      "precision_1          0.844872\n",
      "auc                  0.742455\n",
      "dtype: float64\n",
      "tn: 33, fp:18, fn:83, tp:59\n",
      "[[33 18]\n",
      " [83 59]]\n",
      "--- Test score\n",
      "balanced_accuracy      0.531276\n",
      "recall_0               0.647059\n",
      "precision_0            0.284483\n",
      "recall_1               0.415493\n",
      "precision_1            0.766234\n",
      "auc                    0.525545\n",
      "False_positive_rate    0.352941\n",
      "False_negative_rate    0.584507\n",
      "dtype: float64\n",
      "------------ Dimention 61\n",
      "---- Do parameter tuning\n",
      "Scoring parameter balanced_accuracy\n",
      "Fitting 5 folds for each of 25 candidates, totalling 125 fits\n"
     ]
    },
    {
     "name": "stderr",
     "output_type": "stream",
     "text": [
      "[Parallel(n_jobs=12)]: Using backend LokyBackend with 12 concurrent workers.\n",
      "[Parallel(n_jobs=12)]: Done   8 tasks      | elapsed:    0.8s\n",
      "[Parallel(n_jobs=12)]: Done 125 out of 125 | elapsed:    5.2s finished\n"
     ]
    },
    {
     "name": "stdout",
     "output_type": "stream",
     "text": [
      "\n",
      " Time taken: 0 hours 0 minutes and 6.3 seconds.\n",
      "Best Score: 69.177%\n",
      "{'n_estimators': 400, 'scale_pos_weight': 0.36, 'min_child_weight': 3, 'max_depth': 6, 'max_delta_step': 5, 'learning_rate': 0.01, 'gamma': 1.5, 'colsample_bytree': 1.0, 'subsample': 0.6}\n"
     ]
    },
    {
     "name": "stderr",
     "output_type": "stream",
     "text": [
      "[Parallel(n_jobs=-1)]: Using backend LokyBackend with 16 concurrent workers.\n",
      "[Parallel(n_jobs=-1)]: Done   5 out of   5 | elapsed:    0.8s finished\n"
     ]
    },
    {
     "name": "stdout",
     "output_type": "stream",
     "text": [
      "--- Validation score\n",
      "balanced_accuracy    0.691772\n",
      "recall_0             0.566667\n",
      "precision_0          0.529034\n",
      "recall_1             0.816876\n",
      "precision_1          0.838688\n",
      "auc                  0.753706\n",
      "dtype: float64\n",
      "tn: 31, fp:20, fn:75, tp:67\n",
      "[[31 20]\n",
      " [75 67]]\n",
      "--- Test score\n",
      "balanced_accuracy      0.539837\n",
      "recall_0               0.607843\n",
      "precision_0            0.292453\n",
      "recall_1               0.471831\n",
      "precision_1            0.770115\n",
      "auc                    0.594863\n",
      "False_positive_rate    0.392157\n",
      "False_negative_rate    0.528169\n",
      "dtype: float64\n",
      "------------ Dimention 62\n",
      "---- Do parameter tuning\n",
      "Scoring parameter balanced_accuracy\n",
      "Fitting 5 folds for each of 25 candidates, totalling 125 fits\n"
     ]
    },
    {
     "name": "stderr",
     "output_type": "stream",
     "text": [
      "[Parallel(n_jobs=12)]: Using backend LokyBackend with 12 concurrent workers.\n",
      "[Parallel(n_jobs=12)]: Done   8 tasks      | elapsed:    0.8s\n",
      "[Parallel(n_jobs=12)]: Done 125 out of 125 | elapsed:    5.3s finished\n"
     ]
    },
    {
     "name": "stdout",
     "output_type": "stream",
     "text": [
      "\n",
      " Time taken: 0 hours 0 minutes and 6.05 seconds.\n",
      "Best Score: 69.128%\n",
      "{'n_estimators': 300, 'scale_pos_weight': 0.2, 'min_child_weight': 1, 'max_depth': 3, 'max_delta_step': 2, 'learning_rate': 0.07, 'gamma': 0.5, 'colsample_bytree': 0.8, 'subsample': 0.6}\n"
     ]
    },
    {
     "name": "stderr",
     "output_type": "stream",
     "text": [
      "[Parallel(n_jobs=-1)]: Using backend LokyBackend with 16 concurrent workers.\n",
      "[Parallel(n_jobs=-1)]: Done   5 out of   5 | elapsed:    0.7s finished\n"
     ]
    },
    {
     "name": "stdout",
     "output_type": "stream",
     "text": [
      "--- Validation score\n",
      "balanced_accuracy    0.691276\n",
      "recall_0             0.575000\n",
      "precision_0          0.524825\n",
      "recall_1             0.807552\n",
      "precision_1          0.839859\n",
      "auc                  0.745371\n",
      "dtype: float64\n",
      "tn: 36, fp:15, fn:90, tp:52\n",
      "[[36 15]\n",
      " [90 52]]\n",
      "--- Test score\n",
      "balanced_accuracy      0.536040\n",
      "recall_0               0.705882\n",
      "precision_0            0.285714\n",
      "recall_1               0.366197\n",
      "precision_1            0.776119\n",
      "auc                    0.541011\n",
      "False_positive_rate    0.294118\n",
      "False_negative_rate    0.633803\n",
      "dtype: float64\n",
      "------------ Dimention 63\n",
      "---- Do parameter tuning\n",
      "Scoring parameter balanced_accuracy\n",
      "Fitting 5 folds for each of 25 candidates, totalling 125 fits\n"
     ]
    },
    {
     "name": "stderr",
     "output_type": "stream",
     "text": [
      "[Parallel(n_jobs=12)]: Using backend LokyBackend with 12 concurrent workers.\n",
      "[Parallel(n_jobs=12)]: Done   8 tasks      | elapsed:    0.9s\n",
      "[Parallel(n_jobs=12)]: Done 125 out of 125 | elapsed:    5.4s finished\n"
     ]
    },
    {
     "name": "stdout",
     "output_type": "stream",
     "text": [
      "\n",
      " Time taken: 0 hours 0 minutes and 6.1 seconds.\n",
      "Best Score: 68.522%\n",
      "{'n_estimators': 300, 'scale_pos_weight': 0.2, 'min_child_weight': 1, 'max_depth': 3, 'max_delta_step': 2, 'learning_rate': 0.07, 'gamma': 0.5, 'colsample_bytree': 0.8, 'subsample': 0.6}\n"
     ]
    },
    {
     "name": "stderr",
     "output_type": "stream",
     "text": [
      "[Parallel(n_jobs=-1)]: Using backend LokyBackend with 16 concurrent workers.\n",
      "[Parallel(n_jobs=-1)]: Done   5 out of   5 | elapsed:    0.7s finished\n"
     ]
    },
    {
     "name": "stdout",
     "output_type": "stream",
     "text": [
      "--- Validation score\n",
      "balanced_accuracy    0.685216\n",
      "recall_0             0.575000\n",
      "precision_0          0.495313\n",
      "recall_1             0.795431\n",
      "precision_1          0.839458\n",
      "auc                  0.741552\n",
      "dtype: float64\n",
      "tn: 37, fp:14, fn:92, tp:50\n",
      "[[37 14]\n",
      " [92 50]]\n",
      "--- Test score\n",
      "balanced_accuracy      0.538801\n",
      "recall_0               0.725490\n",
      "precision_0            0.286822\n",
      "recall_1               0.352113\n",
      "precision_1            0.781250\n",
      "auc                    0.508423\n",
      "False_positive_rate    0.274510\n",
      "False_negative_rate    0.647887\n",
      "dtype: float64\n",
      "------------ Dimention 64\n",
      "---- Do parameter tuning\n",
      "Scoring parameter balanced_accuracy\n",
      "Fitting 5 folds for each of 25 candidates, totalling 125 fits\n"
     ]
    },
    {
     "name": "stderr",
     "output_type": "stream",
     "text": [
      "[Parallel(n_jobs=12)]: Using backend LokyBackend with 12 concurrent workers.\n",
      "[Parallel(n_jobs=12)]: Done   8 tasks      | elapsed:    0.8s\n",
      "[Parallel(n_jobs=12)]: Done 125 out of 125 | elapsed:    5.3s finished\n"
     ]
    },
    {
     "name": "stdout",
     "output_type": "stream",
     "text": [
      "\n",
      " Time taken: 0 hours 0 minutes and 6.27 seconds.\n",
      "Best Score: 69.172%\n",
      "{'n_estimators': 400, 'scale_pos_weight': 0.36, 'min_child_weight': 3, 'max_depth': 6, 'max_delta_step': 5, 'learning_rate': 0.01, 'gamma': 1.5, 'colsample_bytree': 1.0, 'subsample': 0.6}\n"
     ]
    },
    {
     "name": "stderr",
     "output_type": "stream",
     "text": [
      "[Parallel(n_jobs=-1)]: Using backend LokyBackend with 16 concurrent workers.\n",
      "[Parallel(n_jobs=-1)]: Done   5 out of   5 | elapsed:    0.9s finished\n"
     ]
    },
    {
     "name": "stdout",
     "output_type": "stream",
     "text": [
      "--- Validation score\n",
      "balanced_accuracy    0.691725\n",
      "recall_0             0.566667\n",
      "precision_0          0.530591\n",
      "recall_1             0.816783\n",
      "precision_1          0.838191\n",
      "auc                  0.757813\n",
      "dtype: float64\n",
      "tn: 32, fp:19, fn:82, tp:60\n",
      "[[32 19]\n",
      " [82 60]]\n",
      "--- Test score\n",
      "balanced_accuracy      0.524993\n",
      "recall_0               0.627451\n",
      "precision_0            0.280702\n",
      "recall_1               0.422535\n",
      "precision_1            0.759494\n",
      "auc                    0.587407\n",
      "False_positive_rate    0.372549\n",
      "False_negative_rate    0.577465\n",
      "dtype: float64\n",
      "------------ Dimention 65\n",
      "---- Do parameter tuning\n",
      "Scoring parameter balanced_accuracy\n",
      "Fitting 5 folds for each of 25 candidates, totalling 125 fits\n"
     ]
    },
    {
     "name": "stderr",
     "output_type": "stream",
     "text": [
      "[Parallel(n_jobs=12)]: Using backend LokyBackend with 12 concurrent workers.\n",
      "[Parallel(n_jobs=12)]: Done   8 tasks      | elapsed:    0.9s\n",
      "[Parallel(n_jobs=12)]: Done 125 out of 125 | elapsed:    5.6s finished\n"
     ]
    },
    {
     "name": "stdout",
     "output_type": "stream",
     "text": [
      "\n",
      " Time taken: 0 hours 0 minutes and 6.23 seconds.\n",
      "Best Score: 68.673%\n",
      "{'n_estimators': 300, 'scale_pos_weight': 0.2, 'min_child_weight': 1, 'max_depth': 3, 'max_delta_step': 2, 'learning_rate': 0.07, 'gamma': 0.5, 'colsample_bytree': 0.8, 'subsample': 0.6}\n"
     ]
    },
    {
     "name": "stderr",
     "output_type": "stream",
     "text": [
      "[Parallel(n_jobs=-1)]: Using backend LokyBackend with 16 concurrent workers.\n",
      "[Parallel(n_jobs=-1)]: Done   5 out of   5 | elapsed:    0.7s finished\n"
     ]
    },
    {
     "name": "stdout",
     "output_type": "stream",
     "text": [
      "--- Validation score\n",
      "balanced_accuracy    0.686731\n",
      "recall_0             0.575000\n",
      "precision_0          0.506674\n",
      "recall_1             0.798462\n",
      "precision_1          0.839353\n",
      "auc                  0.730126\n",
      "dtype: float64\n",
      "tn: 33, fp:18, fn:90, tp:52\n",
      "[[33 18]\n",
      " [90 52]]\n",
      "--- Test score\n",
      "balanced_accuracy      0.506628\n",
      "recall_0               0.647059\n",
      "precision_0            0.268293\n",
      "recall_1               0.366197\n",
      "precision_1            0.742857\n",
      "auc                    0.504004\n",
      "False_positive_rate    0.352941\n",
      "False_negative_rate    0.633803\n",
      "dtype: float64\n",
      "------------ Dimention 66\n",
      "---- Do parameter tuning\n",
      "Scoring parameter balanced_accuracy\n",
      "Fitting 5 folds for each of 25 candidates, totalling 125 fits\n"
     ]
    },
    {
     "name": "stderr",
     "output_type": "stream",
     "text": [
      "[Parallel(n_jobs=12)]: Using backend LokyBackend with 12 concurrent workers.\n",
      "[Parallel(n_jobs=12)]: Done   8 tasks      | elapsed:    0.9s\n",
      "[Parallel(n_jobs=12)]: Done 125 out of 125 | elapsed:    5.6s finished\n"
     ]
    },
    {
     "name": "stdout",
     "output_type": "stream",
     "text": [
      "\n",
      " Time taken: 0 hours 0 minutes and 6.65 seconds.\n",
      "Best Score: 69.325%\n",
      "{'n_estimators': 700, 'scale_pos_weight': 0.2, 'min_child_weight': 2, 'max_depth': 3, 'max_delta_step': 5, 'learning_rate': 0.05, 'gamma': 2, 'colsample_bytree': 0.8, 'subsample': 1.0}\n"
     ]
    },
    {
     "name": "stderr",
     "output_type": "stream",
     "text": [
      "[Parallel(n_jobs=-1)]: Using backend LokyBackend with 16 concurrent workers.\n",
      "[Parallel(n_jobs=-1)]: Done   5 out of   5 | elapsed:    1.0s finished\n"
     ]
    },
    {
     "name": "stdout",
     "output_type": "stream",
     "text": [
      "--- Validation score\n",
      "balanced_accuracy    0.693246\n",
      "recall_0             0.758333\n",
      "precision_0          0.429166\n",
      "recall_1             0.628159\n",
      "precision_1          0.880797\n",
      "auc                  0.745425\n",
      "dtype: float64\n",
      "tn: 43, fp:8, fn:111, tp:31\n",
      "[[ 43   8]\n",
      " [111  31]]\n",
      "--- Test score\n",
      "balanced_accuracy      0.530724\n",
      "recall_0               0.843137\n",
      "precision_0            0.279221\n",
      "recall_1               0.218310\n",
      "precision_1            0.794872\n",
      "auc                    0.602251\n",
      "False_positive_rate    0.156863\n",
      "False_negative_rate    0.781690\n",
      "dtype: float64\n",
      "------------ Dimention 67\n",
      "---- Do parameter tuning\n",
      "Scoring parameter balanced_accuracy\n",
      "Fitting 5 folds for each of 25 candidates, totalling 125 fits\n"
     ]
    },
    {
     "name": "stderr",
     "output_type": "stream",
     "text": [
      "[Parallel(n_jobs=12)]: Using backend LokyBackend with 12 concurrent workers.\n",
      "[Parallel(n_jobs=12)]: Done   8 tasks      | elapsed:    0.9s\n",
      "[Parallel(n_jobs=12)]: Done 125 out of 125 | elapsed:    5.6s finished\n"
     ]
    },
    {
     "name": "stdout",
     "output_type": "stream",
     "text": [
      "\n",
      " Time taken: 0 hours 0 minutes and 6.68 seconds.\n",
      "Best Score: 68.569%\n",
      "{'n_estimators': 400, 'scale_pos_weight': 0.36, 'min_child_weight': 3, 'max_depth': 6, 'max_delta_step': 5, 'learning_rate': 0.01, 'gamma': 1.5, 'colsample_bytree': 1.0, 'subsample': 0.6}\n"
     ]
    },
    {
     "name": "stderr",
     "output_type": "stream",
     "text": [
      "[Parallel(n_jobs=-1)]: Using backend LokyBackend with 16 concurrent workers.\n",
      "[Parallel(n_jobs=-1)]: Done   5 out of   5 | elapsed:    0.9s finished\n"
     ]
    },
    {
     "name": "stdout",
     "output_type": "stream",
     "text": [
      "--- Validation score\n",
      "balanced_accuracy    0.685688\n",
      "recall_0             0.566667\n",
      "precision_0          0.512032\n",
      "recall_1             0.804709\n",
      "precision_1          0.836728\n",
      "auc                  0.755744\n",
      "dtype: float64\n",
      "tn: 31, fp:20, fn:76, tp:66\n",
      "[[31 20]\n",
      " [76 66]]\n",
      "--- Test score\n",
      "balanced_accuracy      0.536316\n",
      "recall_0               0.607843\n",
      "precision_0            0.289720\n",
      "recall_1               0.464789\n",
      "precision_1            0.767442\n",
      "auc                    0.588788\n",
      "False_positive_rate    0.392157\n",
      "False_negative_rate    0.535211\n",
      "dtype: float64\n",
      "------------ Dimention 68\n",
      "---- Do parameter tuning\n",
      "Scoring parameter balanced_accuracy\n",
      "Fitting 5 folds for each of 25 candidates, totalling 125 fits\n"
     ]
    },
    {
     "name": "stderr",
     "output_type": "stream",
     "text": [
      "[Parallel(n_jobs=12)]: Using backend LokyBackend with 12 concurrent workers.\n",
      "[Parallel(n_jobs=12)]: Done   8 tasks      | elapsed:    0.9s\n",
      "[Parallel(n_jobs=12)]: Done 125 out of 125 | elapsed:    5.7s finished\n"
     ]
    },
    {
     "name": "stdout",
     "output_type": "stream",
     "text": [
      "\n",
      " Time taken: 0 hours 0 minutes and 6.71 seconds.\n",
      "Best Score: 69.244%\n",
      "{'n_estimators': 700, 'scale_pos_weight': 0.2, 'min_child_weight': 2, 'max_depth': 3, 'max_delta_step': 5, 'learning_rate': 0.05, 'gamma': 2, 'colsample_bytree': 0.8, 'subsample': 1.0}\n"
     ]
    },
    {
     "name": "stderr",
     "output_type": "stream",
     "text": [
      "[Parallel(n_jobs=-1)]: Using backend LokyBackend with 16 concurrent workers.\n",
      "[Parallel(n_jobs=-1)]: Done   5 out of   5 | elapsed:    1.0s finished\n"
     ]
    },
    {
     "name": "stdout",
     "output_type": "stream",
     "text": [
      "--- Validation score\n",
      "balanced_accuracy    0.692442\n",
      "recall_0             0.741667\n",
      "precision_0          0.433463\n",
      "recall_1             0.643217\n",
      "precision_1          0.874683\n",
      "auc                  0.737570\n",
      "dtype: float64\n",
      "tn: 44, fp:7, fn:106, tp:36\n",
      "[[ 44   7]\n",
      " [106  36]]\n",
      "--- Test score\n",
      "balanced_accuracy      0.558133\n",
      "recall_0               0.862745\n",
      "precision_0            0.293333\n",
      "recall_1               0.253521\n",
      "precision_1            0.837209\n",
      "auc                    0.604874\n",
      "False_positive_rate    0.137255\n",
      "False_negative_rate    0.746479\n",
      "dtype: float64\n",
      "------------ Dimention 69\n",
      "---- Do parameter tuning\n",
      "Scoring parameter balanced_accuracy\n",
      "Fitting 5 folds for each of 25 candidates, totalling 125 fits\n"
     ]
    },
    {
     "name": "stderr",
     "output_type": "stream",
     "text": [
      "[Parallel(n_jobs=12)]: Using backend LokyBackend with 12 concurrent workers.\n",
      "[Parallel(n_jobs=12)]: Done   8 tasks      | elapsed:    0.9s\n",
      "[Parallel(n_jobs=12)]: Done 125 out of 125 | elapsed:    5.8s finished\n"
     ]
    },
    {
     "name": "stdout",
     "output_type": "stream",
     "text": [
      "\n",
      " Time taken: 0 hours 0 minutes and 6.9 seconds.\n",
      "Best Score: 68.460%\n",
      "{'n_estimators': 400, 'scale_pos_weight': 0.36, 'min_child_weight': 3, 'max_depth': 6, 'max_delta_step': 5, 'learning_rate': 0.01, 'gamma': 1.5, 'colsample_bytree': 1.0, 'subsample': 0.6}\n"
     ]
    },
    {
     "name": "stderr",
     "output_type": "stream",
     "text": [
      "[Parallel(n_jobs=-1)]: Using backend LokyBackend with 16 concurrent workers.\n",
      "[Parallel(n_jobs=-1)]: Done   5 out of   5 | elapsed:    1.0s finished\n"
     ]
    },
    {
     "name": "stdout",
     "output_type": "stream",
     "text": [
      "--- Validation score\n",
      "balanced_accuracy    0.684598\n",
      "recall_0             0.558333\n",
      "precision_0          0.515346\n",
      "recall_1             0.810862\n",
      "precision_1          0.835776\n",
      "auc                  0.757178\n",
      "dtype: float64\n",
      "tn: 32, fp:19, fn:69, tp:73\n",
      "[[32 19]\n",
      " [69 73]]\n",
      "--- Test score\n",
      "balanced_accuracy      0.570768\n",
      "recall_0               0.627451\n",
      "precision_0            0.316832\n",
      "recall_1               0.514085\n",
      "precision_1            0.793478\n",
      "auc                    0.602320\n",
      "False_positive_rate    0.372549\n",
      "False_negative_rate    0.485915\n",
      "dtype: float64\n",
      "------------ Dimention 70\n",
      "---- Do parameter tuning\n",
      "Scoring parameter balanced_accuracy\n",
      "Fitting 5 folds for each of 25 candidates, totalling 125 fits\n"
     ]
    },
    {
     "name": "stderr",
     "output_type": "stream",
     "text": [
      "[Parallel(n_jobs=12)]: Using backend LokyBackend with 12 concurrent workers.\n",
      "[Parallel(n_jobs=12)]: Done   8 tasks      | elapsed:    1.0s\n",
      "[Parallel(n_jobs=12)]: Done 125 out of 125 | elapsed:    5.9s finished\n"
     ]
    },
    {
     "name": "stdout",
     "output_type": "stream",
     "text": [
      "\n",
      " Time taken: 0 hours 0 minutes and 7.14 seconds.\n",
      "Best Score: 69.242%\n",
      "{'n_estimators': 700, 'scale_pos_weight': 0.2, 'min_child_weight': 2, 'max_depth': 3, 'max_delta_step': 5, 'learning_rate': 0.05, 'gamma': 2, 'colsample_bytree': 0.8, 'subsample': 1.0}\n"
     ]
    },
    {
     "name": "stderr",
     "output_type": "stream",
     "text": [
      "[Parallel(n_jobs=-1)]: Using backend LokyBackend with 16 concurrent workers.\n",
      "[Parallel(n_jobs=-1)]: Done   5 out of   5 | elapsed:    1.1s finished\n"
     ]
    },
    {
     "name": "stdout",
     "output_type": "stream",
     "text": [
      "--- Validation score\n",
      "balanced_accuracy    0.692418\n",
      "recall_0             0.741667\n",
      "precision_0          0.434453\n",
      "recall_1             0.643170\n",
      "precision_1          0.873137\n",
      "auc                  0.743755\n",
      "dtype: float64\n",
      "tn: 43, fp:8, fn:102, tp:40\n",
      "[[ 43   8]\n",
      " [102  40]]\n",
      "--- Test score\n",
      "balanced_accuracy      0.562414\n",
      "recall_0               0.843137\n",
      "precision_0            0.296552\n",
      "recall_1               0.281690\n",
      "precision_1            0.833333\n",
      "auc                    0.620340\n",
      "False_positive_rate    0.156863\n",
      "False_negative_rate    0.718310\n",
      "dtype: float64\n",
      "------------ Dimention 71\n",
      "---- Do parameter tuning\n",
      "Scoring parameter balanced_accuracy\n",
      "Fitting 5 folds for each of 25 candidates, totalling 125 fits\n"
     ]
    },
    {
     "name": "stderr",
     "output_type": "stream",
     "text": [
      "[Parallel(n_jobs=12)]: Using backend LokyBackend with 12 concurrent workers.\n",
      "[Parallel(n_jobs=12)]: Done   8 tasks      | elapsed:    0.8s\n",
      "[Parallel(n_jobs=12)]: Done 125 out of 125 | elapsed:    5.8s finished\n"
     ]
    },
    {
     "name": "stdout",
     "output_type": "stream",
     "text": [
      "\n",
      " Time taken: 0 hours 0 minutes and 7.07 seconds.\n",
      "Best Score: 69.355%\n",
      "{'n_estimators': 700, 'scale_pos_weight': 0.2, 'min_child_weight': 2, 'max_depth': 3, 'max_delta_step': 5, 'learning_rate': 0.05, 'gamma': 2, 'colsample_bytree': 0.8, 'subsample': 1.0}\n"
     ]
    },
    {
     "name": "stderr",
     "output_type": "stream",
     "text": [
      "[Parallel(n_jobs=-1)]: Using backend LokyBackend with 16 concurrent workers.\n",
      "[Parallel(n_jobs=-1)]: Done   5 out of   5 | elapsed:    1.0s finished\n"
     ]
    },
    {
     "name": "stdout",
     "output_type": "stream",
     "text": [
      "--- Validation score\n",
      "balanced_accuracy    0.693555\n",
      "recall_0             0.750000\n",
      "precision_0          0.430108\n",
      "recall_1             0.637110\n",
      "precision_1          0.878174\n",
      "auc                  0.753980\n",
      "dtype: float64\n",
      "tn: 42, fp:9, fn:97, tp:45\n",
      "[[42  9]\n",
      " [97 45]]\n",
      "--- Test score\n",
      "balanced_accuracy      0.570215\n",
      "recall_0               0.823529\n",
      "precision_0            0.302158\n",
      "recall_1               0.316901\n",
      "precision_1            0.833333\n",
      "auc                    0.624137\n",
      "False_positive_rate    0.176471\n",
      "False_negative_rate    0.683099\n",
      "dtype: float64\n",
      "------------ Dimention 72\n",
      "---- Do parameter tuning\n",
      "Scoring parameter balanced_accuracy\n",
      "Fitting 5 folds for each of 25 candidates, totalling 125 fits\n"
     ]
    },
    {
     "name": "stderr",
     "output_type": "stream",
     "text": [
      "[Parallel(n_jobs=12)]: Using backend LokyBackend with 12 concurrent workers.\n",
      "[Parallel(n_jobs=12)]: Done   8 tasks      | elapsed:    0.9s\n",
      "[Parallel(n_jobs=12)]: Done 125 out of 125 | elapsed:    6.0s finished\n"
     ]
    },
    {
     "name": "stdout",
     "output_type": "stream",
     "text": [
      "\n",
      " Time taken: 0 hours 0 minutes and 7.1 seconds.\n",
      "Best Score: 70.042%\n",
      "{'n_estimators': 700, 'scale_pos_weight': 0.2, 'min_child_weight': 3, 'max_depth': 4, 'max_delta_step': 3, 'learning_rate': 0.03, 'gamma': 1.5, 'colsample_bytree': 1.0, 'subsample': 0.6}\n"
     ]
    },
    {
     "name": "stderr",
     "output_type": "stream",
     "text": [
      "[Parallel(n_jobs=-1)]: Using backend LokyBackend with 16 concurrent workers.\n",
      "[Parallel(n_jobs=-1)]: Done   5 out of   5 | elapsed:    1.0s finished\n"
     ]
    },
    {
     "name": "stdout",
     "output_type": "stream",
     "text": [
      "--- Validation score\n",
      "balanced_accuracy    0.700420\n",
      "recall_0             0.666667\n",
      "precision_0          0.487565\n",
      "recall_1             0.734172\n",
      "precision_1          0.855271\n",
      "auc                  0.755181\n",
      "dtype: float64\n",
      "tn: 37, fp:14, fn:94, tp:48\n",
      "[[37 14]\n",
      " [94 48]]\n",
      "--- Test score\n",
      "balanced_accuracy      0.531759\n",
      "recall_0               0.725490\n",
      "precision_0            0.282443\n",
      "recall_1               0.338028\n",
      "precision_1            0.774194\n",
      "auc                    0.587131\n",
      "False_positive_rate    0.274510\n",
      "False_negative_rate    0.661972\n",
      "dtype: float64\n",
      "------------ Dimention 73\n",
      "---- Do parameter tuning\n",
      "Scoring parameter balanced_accuracy\n",
      "Fitting 5 folds for each of 25 candidates, totalling 125 fits\n"
     ]
    },
    {
     "name": "stderr",
     "output_type": "stream",
     "text": [
      "[Parallel(n_jobs=12)]: Using backend LokyBackend with 12 concurrent workers.\n",
      "[Parallel(n_jobs=12)]: Done   8 tasks      | elapsed:    0.9s\n",
      "[Parallel(n_jobs=12)]: Done 125 out of 125 | elapsed:    5.9s finished\n"
     ]
    },
    {
     "name": "stdout",
     "output_type": "stream",
     "text": [
      "\n",
      " Time taken: 0 hours 0 minutes and 6.97 seconds.\n",
      "Best Score: 69.786%\n",
      "{'n_estimators': 400, 'scale_pos_weight': 0.36, 'min_child_weight': 3, 'max_depth': 6, 'max_delta_step': 5, 'learning_rate': 0.01, 'gamma': 1.5, 'colsample_bytree': 1.0, 'subsample': 0.6}\n"
     ]
    },
    {
     "name": "stderr",
     "output_type": "stream",
     "text": [
      "[Parallel(n_jobs=-1)]: Using backend LokyBackend with 16 concurrent workers.\n",
      "[Parallel(n_jobs=-1)]: Done   5 out of   5 | elapsed:    0.9s finished\n"
     ]
    },
    {
     "name": "stdout",
     "output_type": "stream",
     "text": [
      "--- Validation score\n",
      "balanced_accuracy    0.697855\n",
      "recall_0             0.566667\n",
      "precision_0          0.548893\n",
      "recall_1             0.829044\n",
      "precision_1          0.840172\n",
      "auc                  0.763407\n",
      "dtype: float64\n",
      "tn: 31, fp:20, fn:66, tp:76\n",
      "[[31 20]\n",
      " [66 76]]\n",
      "--- Test score\n",
      "balanced_accuracy      0.571527\n",
      "recall_0               0.607843\n",
      "precision_0            0.319588\n",
      "recall_1               0.535211\n",
      "precision_1            0.791667\n",
      "auc                    0.620271\n",
      "False_positive_rate    0.392157\n",
      "False_negative_rate    0.464789\n",
      "dtype: float64\n",
      "------------ Dimention 74\n",
      "---- Do parameter tuning\n",
      "Scoring parameter balanced_accuracy\n",
      "Fitting 5 folds for each of 25 candidates, totalling 125 fits\n"
     ]
    },
    {
     "name": "stderr",
     "output_type": "stream",
     "text": [
      "[Parallel(n_jobs=12)]: Using backend LokyBackend with 12 concurrent workers.\n",
      "[Parallel(n_jobs=12)]: Done   8 tasks      | elapsed:    0.9s\n",
      "[Parallel(n_jobs=12)]: Done 125 out of 125 | elapsed:    6.0s finished\n"
     ]
    },
    {
     "name": "stdout",
     "output_type": "stream",
     "text": [
      "\n",
      " Time taken: 0 hours 0 minutes and 7.18 seconds.\n",
      "Best Score: 69.507%\n",
      "{'n_estimators': 700, 'scale_pos_weight': 0.2, 'min_child_weight': 2, 'max_depth': 3, 'max_delta_step': 5, 'learning_rate': 0.05, 'gamma': 2, 'colsample_bytree': 0.8, 'subsample': 1.0}\n"
     ]
    },
    {
     "name": "stderr",
     "output_type": "stream",
     "text": [
      "[Parallel(n_jobs=-1)]: Using backend LokyBackend with 16 concurrent workers.\n",
      "[Parallel(n_jobs=-1)]: Done   5 out of   5 | elapsed:    1.0s finished\n"
     ]
    },
    {
     "name": "stdout",
     "output_type": "stream",
     "text": [
      "--- Validation score\n",
      "balanced_accuracy    0.695070\n",
      "recall_0             0.750000\n",
      "precision_0          0.433658\n",
      "recall_1             0.640140\n",
      "precision_1          0.878670\n",
      "auc                  0.753390\n",
      "dtype: float64\n",
      "tn: 40, fp:11, fn:94, tp:48\n",
      "[[40 11]\n",
      " [94 48]]\n",
      "--- Test score\n",
      "balanced_accuracy      0.561171\n",
      "recall_0               0.784314\n",
      "precision_0            0.298507\n",
      "recall_1               0.338028\n",
      "precision_1            0.813559\n",
      "auc                    0.618545\n",
      "False_positive_rate    0.215686\n",
      "False_negative_rate    0.661972\n",
      "dtype: float64\n",
      "------------ Dimention 75\n",
      "---- Do parameter tuning\n",
      "Scoring parameter balanced_accuracy\n",
      "Fitting 5 folds for each of 25 candidates, totalling 125 fits\n"
     ]
    },
    {
     "name": "stderr",
     "output_type": "stream",
     "text": [
      "[Parallel(n_jobs=12)]: Using backend LokyBackend with 12 concurrent workers.\n",
      "[Parallel(n_jobs=12)]: Done   8 tasks      | elapsed:    0.9s\n",
      "[Parallel(n_jobs=12)]: Done 125 out of 125 | elapsed:    6.2s finished\n"
     ]
    },
    {
     "name": "stdout",
     "output_type": "stream",
     "text": [
      "\n",
      " Time taken: 0 hours 0 minutes and 7.4 seconds.\n",
      "Best Score: 69.739%\n",
      "{'n_estimators': 700, 'scale_pos_weight': 0.2, 'min_child_weight': 3, 'max_depth': 4, 'max_delta_step': 3, 'learning_rate': 0.03, 'gamma': 1.5, 'colsample_bytree': 1.0, 'subsample': 0.6}\n"
     ]
    },
    {
     "name": "stderr",
     "output_type": "stream",
     "text": [
      "[Parallel(n_jobs=-1)]: Using backend LokyBackend with 16 concurrent workers.\n",
      "[Parallel(n_jobs=-1)]: Done   5 out of   5 | elapsed:    1.0s finished\n"
     ]
    },
    {
     "name": "stdout",
     "output_type": "stream",
     "text": [
      "--- Validation score\n",
      "balanced_accuracy    0.697389\n",
      "recall_0             0.666667\n",
      "precision_0          0.481429\n",
      "recall_1             0.728112\n",
      "precision_1          0.854699\n",
      "auc                  0.754322\n",
      "dtype: float64\n",
      "tn: 35, fp:16, fn:88, tp:54\n",
      "[[35 16]\n",
      " [88 54]]\n",
      "--- Test score\n",
      "balanced_accuracy      0.533278\n",
      "recall_0               0.686275\n",
      "precision_0            0.284553\n",
      "recall_1               0.380282\n",
      "precision_1            0.771429\n",
      "auc                    0.599558\n",
      "False_positive_rate    0.313725\n",
      "False_negative_rate    0.619718\n",
      "dtype: float64\n",
      "------------ Dimention 76\n",
      "---- Do parameter tuning\n",
      "Scoring parameter balanced_accuracy\n",
      "Fitting 5 folds for each of 25 candidates, totalling 125 fits\n"
     ]
    },
    {
     "name": "stderr",
     "output_type": "stream",
     "text": [
      "[Parallel(n_jobs=12)]: Using backend LokyBackend with 12 concurrent workers.\n",
      "[Parallel(n_jobs=12)]: Done   8 tasks      | elapsed:    1.0s\n",
      "[Parallel(n_jobs=12)]: Done 125 out of 125 | elapsed:    6.1s finished\n"
     ]
    },
    {
     "name": "stdout",
     "output_type": "stream",
     "text": [
      "\n",
      " Time taken: 0 hours 0 minutes and 7.39 seconds.\n",
      "Best Score: 70.473%\n",
      "{'n_estimators': 700, 'scale_pos_weight': 0.2, 'min_child_weight': 3, 'max_depth': 4, 'max_delta_step': 3, 'learning_rate': 0.03, 'gamma': 1.5, 'colsample_bytree': 1.0, 'subsample': 0.6}\n"
     ]
    },
    {
     "name": "stderr",
     "output_type": "stream",
     "text": [
      "[Parallel(n_jobs=-1)]: Using backend LokyBackend with 16 concurrent workers.\n",
      "[Parallel(n_jobs=-1)]: Done   5 out of   5 | elapsed:    1.1s finished\n"
     ]
    },
    {
     "name": "stdout",
     "output_type": "stream",
     "text": [
      "--- Validation score\n",
      "balanced_accuracy    0.704726\n",
      "recall_0             0.675000\n",
      "precision_0          0.479147\n",
      "recall_1             0.734452\n",
      "precision_1          0.861707\n",
      "auc                  0.747970\n",
      "dtype: float64\n",
      "tn: 32, fp:19, fn:89, tp:53\n",
      "[[32 19]\n",
      " [89 53]]\n",
      "--- Test score\n",
      "balanced_accuracy      0.500345\n",
      "recall_0               0.627451\n",
      "precision_0            0.264463\n",
      "recall_1               0.373239\n",
      "precision_1            0.736111\n",
      "auc                    0.587821\n",
      "False_positive_rate    0.372549\n",
      "False_negative_rate    0.626761\n",
      "dtype: float64\n",
      "------------ Dimention 77\n",
      "---- Do parameter tuning\n",
      "Scoring parameter balanced_accuracy\n",
      "Fitting 5 folds for each of 25 candidates, totalling 125 fits\n"
     ]
    },
    {
     "name": "stderr",
     "output_type": "stream",
     "text": [
      "[Parallel(n_jobs=12)]: Using backend LokyBackend with 12 concurrent workers.\n",
      "[Parallel(n_jobs=12)]: Done   8 tasks      | elapsed:    1.1s\n",
      "[Parallel(n_jobs=12)]: Done 125 out of 125 | elapsed:    6.3s finished\n"
     ]
    },
    {
     "name": "stdout",
     "output_type": "stream",
     "text": [
      "\n",
      " Time taken: 0 hours 0 minutes and 7.58 seconds.\n",
      "Best Score: 69.788%\n",
      "{'n_estimators': 700, 'scale_pos_weight': 0.2, 'min_child_weight': 3, 'max_depth': 4, 'max_delta_step': 3, 'learning_rate': 0.03, 'gamma': 1.5, 'colsample_bytree': 1.0, 'subsample': 0.6}\n"
     ]
    },
    {
     "name": "stderr",
     "output_type": "stream",
     "text": [
      "[Parallel(n_jobs=-1)]: Using backend LokyBackend with 16 concurrent workers.\n",
      "[Parallel(n_jobs=-1)]: Done   5 out of   5 | elapsed:    1.1s finished\n"
     ]
    },
    {
     "name": "stdout",
     "output_type": "stream",
     "text": [
      "--- Validation score\n",
      "balanced_accuracy    0.697885\n",
      "recall_0             0.658333\n",
      "precision_0          0.479805\n",
      "recall_1             0.737436\n",
      "precision_1          0.855828\n",
      "auc                  0.744013\n",
      "dtype: float64\n",
      "tn: 36, fp:15, fn:88, tp:54\n",
      "[[36 15]\n",
      " [88 54]]\n",
      "--- Test score\n",
      "balanced_accuracy      0.543082\n",
      "recall_0               0.705882\n",
      "precision_0            0.290323\n",
      "recall_1               0.380282\n",
      "precision_1            0.782609\n",
      "auc                    0.579398\n",
      "False_positive_rate    0.294118\n",
      "False_negative_rate    0.619718\n",
      "dtype: float64\n",
      "------------ Dimention 78\n",
      "---- Do parameter tuning\n",
      "Scoring parameter balanced_accuracy\n",
      "Fitting 5 folds for each of 25 candidates, totalling 125 fits\n"
     ]
    },
    {
     "name": "stderr",
     "output_type": "stream",
     "text": [
      "[Parallel(n_jobs=12)]: Using backend LokyBackend with 12 concurrent workers.\n",
      "[Parallel(n_jobs=12)]: Done   8 tasks      | elapsed:    0.9s\n",
      "[Parallel(n_jobs=12)]: Done 125 out of 125 | elapsed:    6.3s finished\n"
     ]
    },
    {
     "name": "stdout",
     "output_type": "stream",
     "text": [
      "\n",
      " Time taken: 0 hours 0 minutes and 7.35 seconds.\n",
      "Best Score: 70.133%\n",
      "{'n_estimators': 400, 'scale_pos_weight': 0.36, 'min_child_weight': 3, 'max_depth': 6, 'max_delta_step': 5, 'learning_rate': 0.01, 'gamma': 1.5, 'colsample_bytree': 1.0, 'subsample': 0.6}\n"
     ]
    },
    {
     "name": "stderr",
     "output_type": "stream",
     "text": [
      "[Parallel(n_jobs=-1)]: Using backend LokyBackend with 16 concurrent workers.\n",
      "[Parallel(n_jobs=-1)]: Done   5 out of   5 | elapsed:    1.0s finished\n"
     ]
    },
    {
     "name": "stdout",
     "output_type": "stream",
     "text": [
      "--- Validation score\n",
      "balanced_accuracy    0.701334\n",
      "recall_0             0.558333\n",
      "precision_0          0.564573\n",
      "recall_1             0.844336\n",
      "precision_1          0.840318\n",
      "auc                  0.767908\n",
      "dtype: float64\n",
      "tn: 29, fp:22, fn:67, tp:75\n",
      "[[29 22]\n",
      " [67 75]]\n",
      "--- Test score\n",
      "balanced_accuracy      0.548398\n",
      "recall_0               0.568627\n",
      "precision_0            0.302083\n",
      "recall_1               0.528169\n",
      "precision_1            0.773196\n",
      "auc                    0.600525\n",
      "False_positive_rate    0.431373\n",
      "False_negative_rate    0.471831\n",
      "dtype: float64\n",
      "------------ Dimention 79\n",
      "---- Do parameter tuning\n",
      "Scoring parameter balanced_accuracy\n",
      "Fitting 5 folds for each of 25 candidates, totalling 125 fits\n"
     ]
    },
    {
     "name": "stderr",
     "output_type": "stream",
     "text": [
      "[Parallel(n_jobs=12)]: Using backend LokyBackend with 12 concurrent workers.\n",
      "[Parallel(n_jobs=12)]: Done   8 tasks      | elapsed:    0.9s\n",
      "[Parallel(n_jobs=12)]: Done 125 out of 125 | elapsed:    6.5s finished\n"
     ]
    },
    {
     "name": "stdout",
     "output_type": "stream",
     "text": [
      "\n",
      " Time taken: 0 hours 0 minutes and 7.52 seconds.\n",
      "Best Score: 68.931%\n",
      "{'n_estimators': 300, 'scale_pos_weight': 0.36, 'min_child_weight': 2, 'max_depth': 6, 'max_delta_step': 2, 'learning_rate': 0.02, 'gamma': 5, 'colsample_bytree': 0.8, 'subsample': 0.8}\n"
     ]
    },
    {
     "name": "stderr",
     "output_type": "stream",
     "text": [
      "[Parallel(n_jobs=-1)]: Using backend LokyBackend with 16 concurrent workers.\n",
      "[Parallel(n_jobs=-1)]: Done   5 out of   5 | elapsed:    0.9s finished\n"
     ]
    },
    {
     "name": "stdout",
     "output_type": "stream",
     "text": [
      "--- Validation score\n",
      "balanced_accuracy    0.689312\n",
      "recall_0             0.616667\n",
      "precision_0          0.494522\n",
      "recall_1             0.761958\n",
      "precision_1          0.843539\n",
      "auc                  0.763765\n",
      "dtype: float64\n",
      "tn: 39, fp:12, fn:64, tp:78\n",
      "[[39 12]\n",
      " [64 78]]\n",
      "--- Test score\n",
      "balanced_accuracy      0.657001\n",
      "recall_0               0.764706\n",
      "precision_0            0.378641\n",
      "recall_1               0.549296\n",
      "precision_1            0.866667\n",
      "auc                    0.642088\n",
      "False_positive_rate    0.235294\n",
      "False_negative_rate    0.450704\n",
      "dtype: float64\n",
      "------------ Dimention 80\n",
      "---- Do parameter tuning\n",
      "Scoring parameter balanced_accuracy\n",
      "Fitting 5 folds for each of 25 candidates, totalling 125 fits\n"
     ]
    },
    {
     "name": "stderr",
     "output_type": "stream",
     "text": [
      "[Parallel(n_jobs=12)]: Using backend LokyBackend with 12 concurrent workers.\n",
      "[Parallel(n_jobs=12)]: Done   8 tasks      | elapsed:    1.1s\n",
      "[Parallel(n_jobs=12)]: Done 125 out of 125 | elapsed:    6.5s finished\n"
     ]
    },
    {
     "name": "stdout",
     "output_type": "stream",
     "text": [
      "\n",
      " Time taken: 0 hours 0 minutes and 7.61 seconds.\n",
      "Best Score: 68.207%\n",
      "{'n_estimators': 300, 'scale_pos_weight': 0.36, 'min_child_weight': 2, 'max_depth': 6, 'max_delta_step': 2, 'learning_rate': 0.02, 'gamma': 5, 'colsample_bytree': 0.8, 'subsample': 0.8}\n"
     ]
    },
    {
     "name": "stderr",
     "output_type": "stream",
     "text": [
      "[Parallel(n_jobs=-1)]: Using backend LokyBackend with 16 concurrent workers.\n",
      "[Parallel(n_jobs=-1)]: Done   5 out of   5 | elapsed:    0.9s finished\n"
     ]
    },
    {
     "name": "stdout",
     "output_type": "stream",
     "text": [
      "--- Validation score\n",
      "balanced_accuracy    0.682069\n",
      "recall_0             0.608333\n",
      "precision_0          0.487118\n",
      "recall_1             0.755804\n",
      "precision_1          0.839401\n",
      "auc                  0.755625\n",
      "dtype: float64\n",
      "tn: 39, fp:12, fn:69, tp:73\n",
      "[[39 12]\n",
      " [69 73]]\n",
      "--- Test score\n",
      "balanced_accuracy      0.639395\n",
      "recall_0               0.764706\n",
      "precision_0            0.361111\n",
      "recall_1               0.514085\n",
      "precision_1            0.858824\n",
      "auc                    0.640293\n",
      "False_positive_rate    0.235294\n",
      "False_negative_rate    0.485915\n",
      "dtype: float64\n",
      "------------ Dimention 81\n",
      "---- Do parameter tuning\n",
      "Scoring parameter balanced_accuracy\n",
      "Fitting 5 folds for each of 25 candidates, totalling 125 fits\n"
     ]
    },
    {
     "name": "stderr",
     "output_type": "stream",
     "text": [
      "[Parallel(n_jobs=12)]: Using backend LokyBackend with 12 concurrent workers.\n",
      "[Parallel(n_jobs=12)]: Done   8 tasks      | elapsed:    0.8s\n",
      "[Parallel(n_jobs=12)]: Done 125 out of 125 | elapsed:    6.5s finished\n"
     ]
    },
    {
     "name": "stdout",
     "output_type": "stream",
     "text": [
      "\n",
      " Time taken: 0 hours 0 minutes and 7.61 seconds.\n",
      "Best Score: 68.773%\n",
      "{'n_estimators': 300, 'scale_pos_weight': 0.36, 'min_child_weight': 2, 'max_depth': 6, 'max_delta_step': 2, 'learning_rate': 0.02, 'gamma': 5, 'colsample_bytree': 0.8, 'subsample': 0.8}\n"
     ]
    },
    {
     "name": "stderr",
     "output_type": "stream",
     "text": [
      "[Parallel(n_jobs=-1)]: Using backend LokyBackend with 16 concurrent workers.\n",
      "[Parallel(n_jobs=-1)]: Done   5 out of   5 | elapsed:    0.9s finished\n"
     ]
    },
    {
     "name": "stdout",
     "output_type": "stream",
     "text": [
      "--- Validation score\n",
      "balanced_accuracy    0.687727\n",
      "recall_0             0.616667\n",
      "precision_0          0.490159\n",
      "recall_1             0.758788\n",
      "precision_1          0.843380\n",
      "auc                  0.757016\n",
      "dtype: float64\n",
      "tn: 37, fp:14, fn:65, tp:77\n",
      "[[37 14]\n",
      " [65 77]]\n",
      "--- Test score\n",
      "balanced_accuracy      0.633872\n",
      "recall_0               0.725490\n",
      "precision_0            0.362745\n",
      "recall_1               0.542254\n",
      "precision_1            0.846154\n",
      "auc                    0.622618\n",
      "False_positive_rate    0.274510\n",
      "False_negative_rate    0.457746\n",
      "dtype: float64\n",
      "------------ Dimention 82\n",
      "---- Do parameter tuning\n",
      "Scoring parameter balanced_accuracy\n",
      "Fitting 5 folds for each of 25 candidates, totalling 125 fits\n"
     ]
    },
    {
     "name": "stderr",
     "output_type": "stream",
     "text": [
      "[Parallel(n_jobs=12)]: Using backend LokyBackend with 12 concurrent workers.\n",
      "[Parallel(n_jobs=12)]: Done   8 tasks      | elapsed:    1.1s\n",
      "[Parallel(n_jobs=12)]: Done 125 out of 125 | elapsed:    6.7s finished\n"
     ]
    },
    {
     "name": "stdout",
     "output_type": "stream",
     "text": [
      "\n",
      " Time taken: 0 hours 0 minutes and 7.82 seconds.\n",
      "Best Score: 68.915%\n",
      "{'n_estimators': 700, 'scale_pos_weight': 0.2, 'min_child_weight': 3, 'max_depth': 4, 'max_delta_step': 3, 'learning_rate': 0.03, 'gamma': 1.5, 'colsample_bytree': 1.0, 'subsample': 0.6}\n"
     ]
    },
    {
     "name": "stderr",
     "output_type": "stream",
     "text": [
      "[Parallel(n_jobs=-1)]: Using backend LokyBackend with 16 concurrent workers.\n",
      "[Parallel(n_jobs=-1)]: Done   5 out of   5 | elapsed:    1.1s finished\n"
     ]
    },
    {
     "name": "stdout",
     "output_type": "stream",
     "text": [
      "--- Validation score\n",
      "balanced_accuracy    0.689149\n",
      "recall_0             0.650000\n",
      "precision_0          0.470663\n",
      "recall_1             0.728298\n",
      "precision_1          0.849770\n",
      "auc                  0.748151\n",
      "dtype: float64\n",
      "tn: 36, fp:15, fn:92, tp:50\n",
      "[[36 15]\n",
      " [92 50]]\n",
      "--- Test score\n",
      "balanced_accuracy      0.528998\n",
      "recall_0               0.705882\n",
      "precision_0            0.281250\n",
      "recall_1               0.352113\n",
      "precision_1            0.769231\n",
      "auc                    0.586993\n",
      "False_positive_rate    0.294118\n",
      "False_negative_rate    0.647887\n",
      "dtype: float64\n",
      "------------ Dimention 83\n",
      "---- Do parameter tuning\n",
      "Scoring parameter balanced_accuracy\n",
      "Fitting 5 folds for each of 25 candidates, totalling 125 fits\n"
     ]
    },
    {
     "name": "stderr",
     "output_type": "stream",
     "text": [
      "[Parallel(n_jobs=12)]: Using backend LokyBackend with 12 concurrent workers.\n",
      "[Parallel(n_jobs=12)]: Done   8 tasks      | elapsed:    1.1s\n",
      "[Parallel(n_jobs=12)]: Done 125 out of 125 | elapsed:    6.7s finished\n"
     ]
    },
    {
     "name": "stdout",
     "output_type": "stream",
     "text": [
      "\n",
      " Time taken: 0 hours 0 minutes and 7.93 seconds.\n",
      "Best Score: 69.017%\n",
      "{'n_estimators': 700, 'scale_pos_weight': 0.2, 'min_child_weight': 2, 'max_depth': 3, 'max_delta_step': 5, 'learning_rate': 0.05, 'gamma': 2, 'colsample_bytree': 0.8, 'subsample': 1.0}\n"
     ]
    },
    {
     "name": "stderr",
     "output_type": "stream",
     "text": [
      "[Parallel(n_jobs=-1)]: Using backend LokyBackend with 16 concurrent workers.\n",
      "[Parallel(n_jobs=-1)]: Done   5 out of   5 | elapsed:    1.1s finished\n"
     ]
    },
    {
     "name": "stdout",
     "output_type": "stream",
     "text": [
      "--- Validation score\n",
      "balanced_accuracy    0.690169\n",
      "recall_0             0.725000\n",
      "precision_0          0.436833\n",
      "recall_1             0.655338\n",
      "precision_1          0.868114\n",
      "auc                  0.747325\n",
      "dtype: float64\n",
      "tn: 41, fp:10, fn:92, tp:50\n",
      "[[41 10]\n",
      " [92 50]]\n",
      "--- Test score\n",
      "balanced_accuracy      0.578017\n",
      "recall_0               0.803922\n",
      "precision_0            0.308271\n",
      "recall_1               0.352113\n",
      "precision_1            0.833333\n",
      "auc                    0.611502\n",
      "False_positive_rate    0.196078\n",
      "False_negative_rate    0.647887\n",
      "dtype: float64\n",
      "------------ Dimention 84\n",
      "---- Do parameter tuning\n",
      "Scoring parameter balanced_accuracy\n",
      "Fitting 5 folds for each of 25 candidates, totalling 125 fits\n"
     ]
    },
    {
     "name": "stderr",
     "output_type": "stream",
     "text": [
      "[Parallel(n_jobs=12)]: Using backend LokyBackend with 12 concurrent workers.\n",
      "[Parallel(n_jobs=12)]: Done   8 tasks      | elapsed:    1.0s\n",
      "[Parallel(n_jobs=12)]: Done 125 out of 125 | elapsed:    6.7s finished\n"
     ]
    },
    {
     "name": "stdout",
     "output_type": "stream",
     "text": [
      "\n",
      " Time taken: 0 hours 0 minutes and 7.87 seconds.\n",
      "Best Score: 67.992%\n",
      "{'n_estimators': 700, 'scale_pos_weight': 0.2, 'min_child_weight': 2, 'max_depth': 3, 'max_delta_step': 5, 'learning_rate': 0.05, 'gamma': 2, 'colsample_bytree': 0.8, 'subsample': 1.0}\n"
     ]
    },
    {
     "name": "stderr",
     "output_type": "stream",
     "text": [
      "[Parallel(n_jobs=-1)]: Using backend LokyBackend with 16 concurrent workers.\n",
      "[Parallel(n_jobs=-1)]: Done   5 out of   5 | elapsed:    1.1s finished\n"
     ]
    },
    {
     "name": "stdout",
     "output_type": "stream",
     "text": [
      "--- Validation score\n",
      "balanced_accuracy    0.679918\n",
      "recall_0             0.716667\n",
      "precision_0          0.424072\n",
      "recall_1             0.643170\n",
      "precision_1          0.864016\n",
      "auc                  0.742990\n",
      "dtype: float64\n",
      "tn: 41, fp:10, fn:93, tp:49\n",
      "[[41 10]\n",
      " [93 49]]\n",
      "--- Test score\n",
      "balanced_accuracy      0.574496\n",
      "recall_0               0.803922\n",
      "precision_0            0.305970\n",
      "recall_1               0.345070\n",
      "precision_1            0.830508\n",
      "auc                    0.625725\n",
      "False_positive_rate    0.196078\n",
      "False_negative_rate    0.654930\n",
      "dtype: float64\n",
      "------------ Dimention 85\n",
      "---- Do parameter tuning\n",
      "Scoring parameter balanced_accuracy\n",
      "Fitting 5 folds for each of 25 candidates, totalling 125 fits\n"
     ]
    },
    {
     "name": "stderr",
     "output_type": "stream",
     "text": [
      "[Parallel(n_jobs=12)]: Using backend LokyBackend with 12 concurrent workers.\n",
      "[Parallel(n_jobs=12)]: Done   8 tasks      | elapsed:    1.1s\n",
      "[Parallel(n_jobs=12)]: Done 125 out of 125 | elapsed:    7.0s finished\n"
     ]
    },
    {
     "name": "stdout",
     "output_type": "stream",
     "text": [
      "\n",
      " Time taken: 0 hours 0 minutes and 8.05 seconds.\n",
      "Best Score: 68.446%\n",
      "{'n_estimators': 300, 'scale_pos_weight': 0.36, 'min_child_weight': 2, 'max_depth': 6, 'max_delta_step': 2, 'learning_rate': 0.02, 'gamma': 5, 'colsample_bytree': 0.8, 'subsample': 0.8}\n"
     ]
    },
    {
     "name": "stderr",
     "output_type": "stream",
     "text": [
      "[Parallel(n_jobs=-1)]: Using backend LokyBackend with 16 concurrent workers.\n",
      "[Parallel(n_jobs=-1)]: Done   5 out of   5 | elapsed:    1.0s finished\n"
     ]
    },
    {
     "name": "stdout",
     "output_type": "stream",
     "text": [
      "--- Validation score\n",
      "balanced_accuracy    0.684458\n",
      "recall_0             0.591667\n",
      "precision_0          0.501336\n",
      "recall_1             0.777249\n",
      "precision_1          0.838075\n",
      "auc                  0.751416\n",
      "dtype: float64\n",
      "tn: 36, fp:15, fn:66, tp:76\n",
      "[[36 15]\n",
      " [66 76]]\n",
      "--- Test score\n",
      "balanced_accuracy      0.620547\n",
      "recall_0               0.705882\n",
      "precision_0            0.352941\n",
      "recall_1               0.535211\n",
      "precision_1            0.835165\n",
      "auc                    0.623447\n",
      "False_positive_rate    0.294118\n",
      "False_negative_rate    0.464789\n",
      "dtype: float64\n",
      "------------ Dimention 86\n",
      "---- Do parameter tuning\n",
      "Scoring parameter balanced_accuracy\n",
      "Fitting 5 folds for each of 25 candidates, totalling 125 fits\n"
     ]
    },
    {
     "name": "stderr",
     "output_type": "stream",
     "text": [
      "[Parallel(n_jobs=12)]: Using backend LokyBackend with 12 concurrent workers.\n",
      "[Parallel(n_jobs=12)]: Done   8 tasks      | elapsed:    1.0s\n",
      "[Parallel(n_jobs=12)]: Done 125 out of 125 | elapsed:    6.9s finished\n"
     ]
    },
    {
     "name": "stdout",
     "output_type": "stream",
     "text": [
      "\n",
      " Time taken: 0 hours 0 minutes and 8.13 seconds.\n",
      "Best Score: 69.097%\n",
      "{'n_estimators': 400, 'scale_pos_weight': 0.36, 'min_child_weight': 3, 'max_depth': 6, 'max_delta_step': 5, 'learning_rate': 0.01, 'gamma': 1.5, 'colsample_bytree': 1.0, 'subsample': 0.6}\n"
     ]
    },
    {
     "name": "stderr",
     "output_type": "stream",
     "text": [
      "[Parallel(n_jobs=-1)]: Using backend LokyBackend with 16 concurrent workers.\n",
      "[Parallel(n_jobs=-1)]: Done   5 out of   5 | elapsed:    1.0s finished\n"
     ]
    },
    {
     "name": "stdout",
     "output_type": "stream",
     "text": [
      "--- Validation score\n",
      "balanced_accuracy    0.690967\n",
      "recall_0             0.550000\n",
      "precision_0          0.553953\n",
      "recall_1             0.831935\n",
      "precision_1          0.834972\n",
      "auc                  0.766634\n",
      "dtype: float64\n",
      "tn: 29, fp:22, fn:60, tp:82\n",
      "[[29 22]\n",
      " [60 82]]\n",
      "--- Test score\n",
      "balanced_accuracy      0.573046\n",
      "recall_0               0.568627\n",
      "precision_0            0.325843\n",
      "recall_1               0.577465\n",
      "precision_1            0.788462\n",
      "auc                    0.619028\n",
      "False_positive_rate    0.431373\n",
      "False_negative_rate    0.422535\n",
      "dtype: float64\n",
      "------------ Dimention 87\n",
      "---- Do parameter tuning\n",
      "Scoring parameter balanced_accuracy\n",
      "Fitting 5 folds for each of 25 candidates, totalling 125 fits\n"
     ]
    },
    {
     "name": "stderr",
     "output_type": "stream",
     "text": [
      "[Parallel(n_jobs=12)]: Using backend LokyBackend with 12 concurrent workers.\n",
      "[Parallel(n_jobs=12)]: Done   8 tasks      | elapsed:    1.0s\n",
      "[Parallel(n_jobs=12)]: Done 125 out of 125 | elapsed:    7.0s finished\n"
     ]
    },
    {
     "name": "stdout",
     "output_type": "stream",
     "text": [
      "\n",
      " Time taken: 0 hours 0 minutes and 8.09 seconds.\n",
      "Best Score: 68.811%\n",
      "{'n_estimators': 300, 'scale_pos_weight': 0.36, 'min_child_weight': 2, 'max_depth': 6, 'max_delta_step': 2, 'learning_rate': 0.02, 'gamma': 5, 'colsample_bytree': 0.8, 'subsample': 0.8}\n"
     ]
    },
    {
     "name": "stderr",
     "output_type": "stream",
     "text": [
      "[Parallel(n_jobs=-1)]: Using backend LokyBackend with 16 concurrent workers.\n",
      "[Parallel(n_jobs=-1)]: Done   5 out of   5 | elapsed:    1.0s finished\n"
     ]
    },
    {
     "name": "stdout",
     "output_type": "stream",
     "text": [
      "--- Validation score\n",
      "balanced_accuracy    0.688106\n",
      "recall_0             0.608333\n",
      "precision_0          0.496634\n",
      "recall_1             0.767879\n",
      "precision_1          0.841432\n",
      "auc                  0.765456\n",
      "dtype: float64\n",
      "tn: 36, fp:15, fn:66, tp:76\n",
      "[[36 15]\n",
      " [66 76]]\n",
      "--- Test score\n",
      "balanced_accuracy      0.620547\n",
      "recall_0               0.705882\n",
      "precision_0            0.352941\n",
      "recall_1               0.535211\n",
      "precision_1            0.835165\n",
      "auc                    0.630627\n",
      "False_positive_rate    0.294118\n",
      "False_negative_rate    0.464789\n",
      "dtype: float64\n",
      "------------ Dimention 88\n",
      "---- Do parameter tuning\n",
      "Scoring parameter balanced_accuracy\n",
      "Fitting 5 folds for each of 25 candidates, totalling 125 fits\n"
     ]
    },
    {
     "name": "stderr",
     "output_type": "stream",
     "text": [
      "[Parallel(n_jobs=12)]: Using backend LokyBackend with 12 concurrent workers.\n",
      "[Parallel(n_jobs=12)]: Done   8 tasks      | elapsed:    1.1s\n",
      "[Parallel(n_jobs=12)]: Done 125 out of 125 | elapsed:    7.1s finished\n"
     ]
    },
    {
     "name": "stdout",
     "output_type": "stream",
     "text": [
      "\n",
      " Time taken: 0 hours 0 minutes and 8.37 seconds.\n",
      "Best Score: 68.072%\n",
      "{'n_estimators': 700, 'scale_pos_weight': 0.2, 'min_child_weight': 2, 'max_depth': 3, 'max_delta_step': 5, 'learning_rate': 0.05, 'gamma': 2, 'colsample_bytree': 0.8, 'subsample': 1.0}\n"
     ]
    },
    {
     "name": "stderr",
     "output_type": "stream",
     "text": [
      "[Parallel(n_jobs=-1)]: Using backend LokyBackend with 16 concurrent workers.\n",
      "[Parallel(n_jobs=-1)]: Done   5 out of   5 | elapsed:    1.1s finished\n"
     ]
    },
    {
     "name": "stdout",
     "output_type": "stream",
     "text": [
      "--- Validation score\n",
      "balanced_accuracy    0.680723\n",
      "recall_0             0.700000\n",
      "precision_0          0.433255\n",
      "recall_1             0.661445\n",
      "precision_1          0.858083\n",
      "auc                  0.746447\n",
      "dtype: float64\n",
      "tn: 40, fp:11, fn:91, tp:51\n",
      "[[40 11]\n",
      " [91 51]]\n",
      "--- Test score\n",
      "balanced_accuracy      0.571734\n",
      "recall_0               0.784314\n",
      "precision_0            0.305344\n",
      "recall_1               0.359155\n",
      "precision_1            0.822581\n",
      "auc                    0.619718\n",
      "False_positive_rate    0.215686\n",
      "False_negative_rate    0.640845\n",
      "dtype: float64\n",
      "------------ Dimention 89\n",
      "---- Do parameter tuning\n",
      "Scoring parameter balanced_accuracy\n",
      "Fitting 5 folds for each of 25 candidates, totalling 125 fits\n"
     ]
    },
    {
     "name": "stderr",
     "output_type": "stream",
     "text": [
      "[Parallel(n_jobs=12)]: Using backend LokyBackend with 12 concurrent workers.\n",
      "[Parallel(n_jobs=12)]: Done   8 tasks      | elapsed:    1.2s\n",
      "[Parallel(n_jobs=12)]: Done 125 out of 125 | elapsed:    7.1s finished\n"
     ]
    },
    {
     "name": "stdout",
     "output_type": "stream",
     "text": [
      "\n",
      " Time taken: 0 hours 0 minutes and 8.31 seconds.\n",
      "Best Score: 69.258%\n",
      "{'n_estimators': 400, 'scale_pos_weight': 0.36, 'min_child_weight': 3, 'max_depth': 6, 'max_delta_step': 5, 'learning_rate': 0.01, 'gamma': 1.5, 'colsample_bytree': 1.0, 'subsample': 0.6}\n"
     ]
    },
    {
     "name": "stderr",
     "output_type": "stream",
     "text": [
      "[Parallel(n_jobs=-1)]: Using backend LokyBackend with 16 concurrent workers.\n",
      "[Parallel(n_jobs=-1)]: Done   5 out of   5 | elapsed:    1.1s finished\n"
     ]
    },
    {
     "name": "stdout",
     "output_type": "stream",
     "text": [
      "--- Validation score\n",
      "balanced_accuracy    0.692576\n",
      "recall_0             0.550000\n",
      "precision_0          0.550684\n",
      "recall_1             0.835152\n",
      "precision_1          0.836042\n",
      "auc                  0.761991\n",
      "dtype: float64\n",
      "tn: 28, fp:23, fn:57, tp:85\n",
      "[[28 23]\n",
      " [57 85]]\n",
      "--- Test score\n",
      "balanced_accuracy      0.573806\n",
      "recall_0               0.549020\n",
      "precision_0            0.329412\n",
      "recall_1               0.598592\n",
      "precision_1            0.787037\n",
      "auc                    0.618061\n",
      "False_positive_rate    0.450980\n",
      "False_negative_rate    0.401408\n",
      "dtype: float64\n",
      "------------ Dimention 90\n",
      "---- Do parameter tuning\n",
      "Scoring parameter balanced_accuracy\n",
      "Fitting 5 folds for each of 25 candidates, totalling 125 fits\n"
     ]
    },
    {
     "name": "stderr",
     "output_type": "stream",
     "text": [
      "[Parallel(n_jobs=12)]: Using backend LokyBackend with 12 concurrent workers.\n",
      "[Parallel(n_jobs=12)]: Done   8 tasks      | elapsed:    1.0s\n",
      "[Parallel(n_jobs=12)]: Done 125 out of 125 | elapsed:    7.2s finished\n"
     ]
    },
    {
     "name": "stdout",
     "output_type": "stream",
     "text": [
      "\n",
      " Time taken: 0 hours 0 minutes and 8.55 seconds.\n",
      "Best Score: 68.188%\n",
      "{'n_estimators': 700, 'scale_pos_weight': 0.2, 'min_child_weight': 2, 'max_depth': 3, 'max_delta_step': 5, 'learning_rate': 0.05, 'gamma': 2, 'colsample_bytree': 0.8, 'subsample': 1.0}\n"
     ]
    },
    {
     "name": "stderr",
     "output_type": "stream",
     "text": [
      "[Parallel(n_jobs=-1)]: Using backend LokyBackend with 16 concurrent workers.\n",
      "[Parallel(n_jobs=-1)]: Done   5 out of   5 | elapsed:    1.2s finished\n"
     ]
    },
    {
     "name": "stdout",
     "output_type": "stream",
     "text": [
      "--- Validation score\n",
      "balanced_accuracy    0.681882\n",
      "recall_0             0.708333\n",
      "precision_0          0.432360\n",
      "recall_1             0.655431\n",
      "precision_1          0.860122\n",
      "auc                  0.741653\n",
      "dtype: float64\n",
      "tn: 41, fp:10, fn:89, tp:53\n",
      "[[41 10]\n",
      " [89 53]]\n",
      "--- Test score\n",
      "balanced_accuracy      0.588581\n",
      "recall_0               0.803922\n",
      "precision_0            0.315385\n",
      "recall_1               0.373239\n",
      "precision_1            0.841270\n",
      "auc                    0.639948\n",
      "False_positive_rate    0.196078\n",
      "False_negative_rate    0.626761\n",
      "dtype: float64\n",
      "------------ Dimention 91\n",
      "---- Do parameter tuning\n",
      "Scoring parameter balanced_accuracy\n",
      "Fitting 5 folds for each of 25 candidates, totalling 125 fits\n"
     ]
    },
    {
     "name": "stderr",
     "output_type": "stream",
     "text": [
      "[Parallel(n_jobs=12)]: Using backend LokyBackend with 12 concurrent workers.\n",
      "[Parallel(n_jobs=12)]: Done   8 tasks      | elapsed:    1.1s\n",
      "[Parallel(n_jobs=12)]: Done 125 out of 125 | elapsed:    7.2s finished\n"
     ]
    },
    {
     "name": "stdout",
     "output_type": "stream",
     "text": [
      "\n",
      " Time taken: 0 hours 0 minutes and 8.32 seconds.\n",
      "Best Score: 68.593%\n",
      "{'n_estimators': 300, 'scale_pos_weight': 0.36, 'min_child_weight': 2, 'max_depth': 6, 'max_delta_step': 2, 'learning_rate': 0.02, 'gamma': 5, 'colsample_bytree': 0.8, 'subsample': 0.8}\n"
     ]
    },
    {
     "name": "stderr",
     "output_type": "stream",
     "text": [
      "[Parallel(n_jobs=-1)]: Using backend LokyBackend with 16 concurrent workers.\n",
      "[Parallel(n_jobs=-1)]: Done   5 out of   5 | elapsed:    1.0s finished\n"
     ]
    },
    {
     "name": "stdout",
     "output_type": "stream",
     "text": [
      "--- Validation score\n",
      "balanced_accuracy    0.685927\n",
      "recall_0             0.591667\n",
      "precision_0          0.499956\n",
      "recall_1             0.780186\n",
      "precision_1          0.838954\n",
      "auc                  0.754382\n",
      "dtype: float64\n",
      "tn: 38, fp:13, fn:61, tp:81\n",
      "[[38 13]\n",
      " [61 81]]\n",
      "--- Test score\n",
      "balanced_accuracy      0.657760\n",
      "recall_0               0.745098\n",
      "precision_0            0.383838\n",
      "recall_1               0.570423\n",
      "precision_1            0.861702\n",
      "auc                    0.656172\n",
      "False_positive_rate    0.254902\n",
      "False_negative_rate    0.429577\n",
      "dtype: float64\n",
      "------------ Dimention 92\n",
      "---- Do parameter tuning\n",
      "Scoring parameter balanced_accuracy\n",
      "Fitting 5 folds for each of 25 candidates, totalling 125 fits\n"
     ]
    },
    {
     "name": "stderr",
     "output_type": "stream",
     "text": [
      "[Parallel(n_jobs=12)]: Using backend LokyBackend with 12 concurrent workers.\n",
      "[Parallel(n_jobs=12)]: Done   8 tasks      | elapsed:    1.1s\n",
      "[Parallel(n_jobs=12)]: Done 125 out of 125 | elapsed:    7.4s finished\n"
     ]
    },
    {
     "name": "stdout",
     "output_type": "stream",
     "text": [
      "\n",
      " Time taken: 0 hours 0 minutes and 8.67 seconds.\n",
      "Best Score: 67.742%\n",
      "{'n_estimators': 700, 'scale_pos_weight': 0.36, 'min_child_weight': 4, 'max_depth': 4, 'max_delta_step': 5, 'learning_rate': 0.02, 'gamma': 1, 'colsample_bytree': 0.8, 'subsample': 0.8}\n"
     ]
    },
    {
     "name": "stderr",
     "output_type": "stream",
     "text": [
      "[Parallel(n_jobs=-1)]: Using backend LokyBackend with 16 concurrent workers.\n",
      "[Parallel(n_jobs=-1)]: Done   5 out of   5 | elapsed:    1.2s finished\n"
     ]
    },
    {
     "name": "stdout",
     "output_type": "stream",
     "text": [
      "--- Validation score\n",
      "balanced_accuracy    0.677424\n",
      "recall_0             0.516667\n",
      "precision_0          0.538757\n",
      "recall_1             0.838182\n",
      "precision_1          0.825984\n",
      "auc                  0.741486\n",
      "dtype: float64\n",
      "tn: 24, fp:27, fn:57, tp:85\n",
      "[[24 27]\n",
      " [57 85]]\n",
      "--- Test score\n",
      "balanced_accuracy      0.534590\n",
      "recall_0               0.470588\n",
      "precision_0            0.296296\n",
      "recall_1               0.598592\n",
      "precision_1            0.758929\n",
      "auc                    0.593206\n",
      "False_positive_rate    0.529412\n",
      "False_negative_rate    0.401408\n",
      "dtype: float64\n",
      "------------ Dimention 93\n",
      "---- Do parameter tuning\n",
      "Scoring parameter balanced_accuracy\n",
      "Fitting 5 folds for each of 25 candidates, totalling 125 fits\n"
     ]
    },
    {
     "name": "stderr",
     "output_type": "stream",
     "text": [
      "[Parallel(n_jobs=12)]: Using backend LokyBackend with 12 concurrent workers.\n",
      "[Parallel(n_jobs=12)]: Done   8 tasks      | elapsed:    1.1s\n",
      "[Parallel(n_jobs=12)]: Done 125 out of 125 | elapsed:    7.3s finished\n"
     ]
    },
    {
     "name": "stdout",
     "output_type": "stream",
     "text": [
      "\n",
      " Time taken: 0 hours 0 minutes and 8.64 seconds.\n",
      "Best Score: 69.280%\n",
      "{'n_estimators': 700, 'scale_pos_weight': 0.2, 'min_child_weight': 2, 'max_depth': 3, 'max_delta_step': 5, 'learning_rate': 0.05, 'gamma': 2, 'colsample_bytree': 0.8, 'subsample': 1.0}\n"
     ]
    },
    {
     "name": "stderr",
     "output_type": "stream",
     "text": [
      "[Parallel(n_jobs=-1)]: Using backend LokyBackend with 16 concurrent workers.\n",
      "[Parallel(n_jobs=-1)]: Done   5 out of   5 | elapsed:    1.2s finished\n"
     ]
    },
    {
     "name": "stdout",
     "output_type": "stream",
     "text": [
      "--- Validation score\n",
      "balanced_accuracy    0.692797\n",
      "recall_0             0.733333\n",
      "precision_0          0.442853\n",
      "recall_1             0.652261\n",
      "precision_1          0.869438\n",
      "auc                  0.745328\n",
      "dtype: float64\n",
      "tn: 42, fp:9, fn:87, tp:55\n",
      "[[42  9]\n",
      " [87 55]]\n",
      "--- Test score\n",
      "balanced_accuracy      0.605427\n",
      "recall_0               0.823529\n",
      "precision_0            0.325581\n",
      "recall_1               0.387324\n",
      "precision_1            0.859375\n",
      "auc                    0.633320\n",
      "False_positive_rate    0.176471\n",
      "False_negative_rate    0.612676\n",
      "dtype: float64\n",
      "------------ Dimention 94\n",
      "---- Do parameter tuning\n",
      "Scoring parameter balanced_accuracy\n",
      "Fitting 5 folds for each of 25 candidates, totalling 125 fits\n"
     ]
    },
    {
     "name": "stderr",
     "output_type": "stream",
     "text": [
      "[Parallel(n_jobs=12)]: Using backend LokyBackend with 12 concurrent workers.\n",
      "[Parallel(n_jobs=12)]: Done   8 tasks      | elapsed:    1.2s\n",
      "[Parallel(n_jobs=12)]: Done 125 out of 125 | elapsed:    7.5s finished\n"
     ]
    },
    {
     "name": "stdout",
     "output_type": "stream",
     "text": [
      "\n",
      " Time taken: 0 hours 0 minutes and 8.66 seconds.\n",
      "Best Score: 68.510%\n",
      "{'n_estimators': 300, 'scale_pos_weight': 0.36, 'min_child_weight': 2, 'max_depth': 6, 'max_delta_step': 2, 'learning_rate': 0.02, 'gamma': 5, 'colsample_bytree': 0.8, 'subsample': 0.8}\n"
     ]
    },
    {
     "name": "stderr",
     "output_type": "stream",
     "text": [
      "[Parallel(n_jobs=-1)]: Using backend LokyBackend with 16 concurrent workers.\n",
      "[Parallel(n_jobs=-1)]: Done   5 out of   5 | elapsed:    1.0s finished\n"
     ]
    },
    {
     "name": "stdout",
     "output_type": "stream",
     "text": [
      "--- Validation score\n",
      "balanced_accuracy    0.685099\n",
      "recall_0             0.608333\n",
      "precision_0          0.488111\n",
      "recall_1             0.761865\n",
      "precision_1          0.841111\n",
      "auc                  0.758959\n",
      "dtype: float64\n",
      "tn: 36, fp:15, fn:66, tp:76\n",
      "[[36 15]\n",
      " [66 76]]\n",
      "--- Test score\n",
      "balanced_accuracy      0.620547\n",
      "recall_0               0.705882\n",
      "precision_0            0.352941\n",
      "recall_1               0.535211\n",
      "precision_1            0.835165\n",
      "auc                    0.638083\n",
      "False_positive_rate    0.294118\n",
      "False_negative_rate    0.464789\n",
      "dtype: float64\n",
      "------------ Dimention 95\n",
      "---- Do parameter tuning\n",
      "Scoring parameter balanced_accuracy\n",
      "Fitting 5 folds for each of 25 candidates, totalling 125 fits\n"
     ]
    },
    {
     "name": "stderr",
     "output_type": "stream",
     "text": [
      "[Parallel(n_jobs=12)]: Using backend LokyBackend with 12 concurrent workers.\n",
      "[Parallel(n_jobs=12)]: Done   8 tasks      | elapsed:    1.2s\n",
      "[Parallel(n_jobs=12)]: Done 125 out of 125 | elapsed:    7.6s finished\n"
     ]
    },
    {
     "name": "stdout",
     "output_type": "stream",
     "text": [
      "\n",
      " Time taken: 0 hours 0 minutes and 8.74 seconds.\n",
      "Best Score: 68.588%\n",
      "{'n_estimators': 700, 'scale_pos_weight': 0.2, 'min_child_weight': 5, 'max_depth': 3, 'max_delta_step': 4, 'learning_rate': 0.07, 'gamma': 1, 'colsample_bytree': 0.8, 'subsample': 0.8}\n"
     ]
    },
    {
     "name": "stderr",
     "output_type": "stream",
     "text": [
      "[Parallel(n_jobs=-1)]: Using backend LokyBackend with 16 concurrent workers.\n",
      "[Parallel(n_jobs=-1)]: Done   5 out of   5 | elapsed:    0.9s finished\n"
     ]
    },
    {
     "name": "stdout",
     "output_type": "stream",
     "text": [
      "--- Validation score\n",
      "balanced_accuracy    0.685880\n",
      "recall_0             0.625000\n",
      "precision_0          0.472660\n",
      "recall_1             0.746760\n",
      "precision_1          0.845401\n",
      "auc                  0.714252\n",
      "dtype: float64\n",
      "tn: 30, fp:21, fn:66, tp:76\n",
      "[[30 21]\n",
      " [66 76]]\n",
      "--- Test score\n",
      "balanced_accuracy      0.561723\n",
      "recall_0               0.588235\n",
      "precision_0            0.312500\n",
      "recall_1               0.535211\n",
      "precision_1            0.783505\n",
      "auc                    0.608119\n",
      "False_positive_rate    0.411765\n",
      "False_negative_rate    0.464789\n",
      "dtype: float64\n",
      "------------ Dimention 96\n",
      "---- Do parameter tuning\n",
      "Scoring parameter balanced_accuracy\n",
      "Fitting 5 folds for each of 25 candidates, totalling 125 fits\n"
     ]
    },
    {
     "name": "stderr",
     "output_type": "stream",
     "text": [
      "[Parallel(n_jobs=12)]: Using backend LokyBackend with 12 concurrent workers.\n",
      "[Parallel(n_jobs=12)]: Done   8 tasks      | elapsed:    1.1s\n",
      "[Parallel(n_jobs=12)]: Done 125 out of 125 | elapsed:    7.5s finished\n"
     ]
    },
    {
     "name": "stdout",
     "output_type": "stream",
     "text": [
      "\n",
      " Time taken: 0 hours 0 minutes and 8.67 seconds.\n",
      "Best Score: 67.868%\n",
      "{'n_estimators': 500, 'scale_pos_weight': 0.2, 'min_child_weight': 5, 'max_depth': 5, 'max_delta_step': 4, 'learning_rate': 0.07, 'gamma': 1.5, 'colsample_bytree': 1.0, 'subsample': 0.8}\n"
     ]
    },
    {
     "name": "stderr",
     "output_type": "stream",
     "text": [
      "[Parallel(n_jobs=-1)]: Using backend LokyBackend with 16 concurrent workers.\n",
      "[Parallel(n_jobs=-1)]: Done   5 out of   5 | elapsed:    0.9s finished\n"
     ]
    },
    {
     "name": "stdout",
     "output_type": "stream",
     "text": [
      "--- Validation score\n",
      "balanced_accuracy    0.678683\n",
      "recall_0             0.616667\n",
      "precision_0          0.463786\n",
      "recall_1             0.740699\n",
      "precision_1          0.841445\n",
      "auc                  0.735804\n",
      "dtype: float64\n",
      "tn: 38, fp:13, fn:80, tp:62\n",
      "[[38 13]\n",
      " [80 62]]\n",
      "--- Test score\n",
      "balanced_accuracy      0.590859\n",
      "recall_0               0.745098\n",
      "precision_0            0.322034\n",
      "recall_1               0.436620\n",
      "precision_1            0.826667\n",
      "auc                    0.607291\n",
      "False_positive_rate    0.254902\n",
      "False_negative_rate    0.563380\n",
      "dtype: float64\n",
      "------------ Dimention 97\n",
      "---- Do parameter tuning\n",
      "Scoring parameter balanced_accuracy\n",
      "Fitting 5 folds for each of 25 candidates, totalling 125 fits\n"
     ]
    },
    {
     "name": "stderr",
     "output_type": "stream",
     "text": [
      "[Parallel(n_jobs=12)]: Using backend LokyBackend with 12 concurrent workers.\n",
      "[Parallel(n_jobs=12)]: Done   8 tasks      | elapsed:    1.2s\n",
      "[Parallel(n_jobs=12)]: Done 125 out of 125 | elapsed:    7.6s finished\n"
     ]
    },
    {
     "name": "stdout",
     "output_type": "stream",
     "text": [
      "\n",
      " Time taken: 0 hours 0 minutes and 8.36 seconds.\n",
      "Best Score: 69.473%\n",
      "{'n_estimators': 300, 'scale_pos_weight': 0.2, 'min_child_weight': 1, 'max_depth': 3, 'max_delta_step': 2, 'learning_rate': 0.07, 'gamma': 0.5, 'colsample_bytree': 0.8, 'subsample': 0.6}\n"
     ]
    },
    {
     "name": "stderr",
     "output_type": "stream",
     "text": [
      "[Parallel(n_jobs=-1)]: Using backend LokyBackend with 16 concurrent workers.\n",
      "[Parallel(n_jobs=-1)]: Done   5 out of   5 | elapsed:    0.8s finished\n"
     ]
    },
    {
     "name": "stdout",
     "output_type": "stream",
     "text": [
      "--- Validation score\n",
      "balanced_accuracy    0.694732\n",
      "recall_0             0.566667\n",
      "precision_0          0.543193\n",
      "recall_1             0.822797\n",
      "precision_1          0.838223\n",
      "auc                  0.754885\n",
      "dtype: float64\n",
      "tn: 34, fp:17, fn:75, tp:67\n",
      "[[34 17]\n",
      " [75 67]]\n",
      "--- Test score\n",
      "balanced_accuracy      0.569249\n",
      "recall_0               0.666667\n",
      "precision_0            0.311927\n",
      "recall_1               0.471831\n",
      "precision_1            0.797619\n",
      "auc                    0.590583\n",
      "False_positive_rate    0.333333\n",
      "False_negative_rate    0.528169\n",
      "dtype: float64\n",
      "------------ Dimention 98\n",
      "---- Do parameter tuning\n",
      "Scoring parameter balanced_accuracy\n",
      "Fitting 5 folds for each of 25 candidates, totalling 125 fits\n"
     ]
    },
    {
     "name": "stderr",
     "output_type": "stream",
     "text": [
      "[Parallel(n_jobs=12)]: Using backend LokyBackend with 12 concurrent workers.\n",
      "[Parallel(n_jobs=12)]: Done   8 tasks      | elapsed:    1.1s\n",
      "[Parallel(n_jobs=12)]: Done 125 out of 125 | elapsed:    7.7s finished\n"
     ]
    },
    {
     "name": "stdout",
     "output_type": "stream",
     "text": [
      "\n",
      " Time taken: 0 hours 0 minutes and 8.87 seconds.\n",
      "Best Score: 69.057%\n",
      "{'n_estimators': 400, 'scale_pos_weight': 0.36, 'min_child_weight': 3, 'max_depth': 6, 'max_delta_step': 5, 'learning_rate': 0.01, 'gamma': 1.5, 'colsample_bytree': 1.0, 'subsample': 0.6}\n"
     ]
    },
    {
     "name": "stderr",
     "output_type": "stream",
     "text": [
      "[Parallel(n_jobs=-1)]: Using backend LokyBackend with 16 concurrent workers.\n",
      "[Parallel(n_jobs=-1)]: Done   5 out of   5 | elapsed:    1.1s finished\n"
     ]
    },
    {
     "name": "stdout",
     "output_type": "stream",
     "text": [
      "--- Validation score\n",
      "balanced_accuracy    0.690565\n",
      "recall_0             0.558333\n",
      "precision_0          0.542207\n",
      "recall_1             0.822797\n",
      "precision_1          0.835114\n",
      "auc                  0.767348\n",
      "dtype: float64\n",
      "tn: 29, fp:22, fn:62, tp:80\n",
      "[[29 22]\n",
      " [62 80]]\n",
      "--- Test score\n",
      "balanced_accuracy      0.566004\n",
      "recall_0               0.568627\n",
      "precision_0            0.318681\n",
      "recall_1               0.563380\n",
      "precision_1            0.784314\n",
      "auc                    0.627589\n",
      "False_positive_rate    0.431373\n",
      "False_negative_rate    0.436620\n",
      "dtype: float64\n",
      "------------ Dimention 99\n",
      "---- Do parameter tuning\n",
      "Scoring parameter balanced_accuracy\n",
      "Fitting 5 folds for each of 25 candidates, totalling 125 fits\n"
     ]
    },
    {
     "name": "stderr",
     "output_type": "stream",
     "text": [
      "[Parallel(n_jobs=12)]: Using backend LokyBackend with 12 concurrent workers.\n",
      "[Parallel(n_jobs=12)]: Done   8 tasks      | elapsed:    1.2s\n",
      "[Parallel(n_jobs=12)]: Done 125 out of 125 | elapsed:    7.9s finished\n"
     ]
    },
    {
     "name": "stdout",
     "output_type": "stream",
     "text": [
      "\n",
      " Time taken: 0 hours 0 minutes and 8.55 seconds.\n",
      "Best Score: 69.781%\n",
      "{'n_estimators': 300, 'scale_pos_weight': 0.2, 'min_child_weight': 1, 'max_depth': 3, 'max_delta_step': 2, 'learning_rate': 0.07, 'gamma': 0.5, 'colsample_bytree': 0.8, 'subsample': 0.6}\n"
     ]
    },
    {
     "name": "stderr",
     "output_type": "stream",
     "text": [
      "[Parallel(n_jobs=-1)]: Using backend LokyBackend with 16 concurrent workers.\n",
      "[Parallel(n_jobs=-1)]: Done   5 out of   5 | elapsed:    0.8s finished\n"
     ]
    },
    {
     "name": "stdout",
     "output_type": "stream",
     "text": [
      "--- Validation score\n",
      "balanced_accuracy    0.697809\n",
      "recall_0             0.566667\n",
      "precision_0          0.549116\n",
      "recall_1             0.828951\n",
      "precision_1          0.839979\n",
      "auc                  0.758619\n",
      "dtype: float64\n",
      "tn: 32, fp:19, fn:83, tp:59\n",
      "[[32 19]\n",
      " [83 59]]\n",
      "--- Test score\n",
      "balanced_accuracy      0.521472\n",
      "recall_0               0.627451\n",
      "precision_0            0.278261\n",
      "recall_1               0.415493\n",
      "precision_1            0.756410\n",
      "auc                    0.574703\n",
      "False_positive_rate    0.372549\n",
      "False_negative_rate    0.584507\n",
      "dtype: float64\n",
      "------------ Dimention 100\n",
      "---- Do parameter tuning\n",
      "Scoring parameter balanced_accuracy\n",
      "Fitting 5 folds for each of 25 candidates, totalling 125 fits\n"
     ]
    },
    {
     "name": "stderr",
     "output_type": "stream",
     "text": [
      "[Parallel(n_jobs=12)]: Using backend LokyBackend with 12 concurrent workers.\n",
      "[Parallel(n_jobs=12)]: Done   8 tasks      | elapsed:    1.0s\n",
      "[Parallel(n_jobs=12)]: Done 125 out of 125 | elapsed:    7.9s finished\n"
     ]
    },
    {
     "name": "stdout",
     "output_type": "stream",
     "text": [
      "\n",
      " Time taken: 0 hours 0 minutes and 9.12 seconds.\n",
      "Best Score: 69.083%\n",
      "{'n_estimators': 300, 'scale_pos_weight': 0.36, 'min_child_weight': 2, 'max_depth': 6, 'max_delta_step': 2, 'learning_rate': 0.02, 'gamma': 5, 'colsample_bytree': 0.8, 'subsample': 0.8}\n"
     ]
    },
    {
     "name": "stderr",
     "output_type": "stream",
     "text": [
      "[Parallel(n_jobs=-1)]: Using backend LokyBackend with 16 concurrent workers.\n",
      "[Parallel(n_jobs=-1)]: Done   5 out of   5 | elapsed:    1.0s finished\n"
     ]
    },
    {
     "name": "stdout",
     "output_type": "stream",
     "text": [
      "--- Validation score\n",
      "balanced_accuracy    0.690828\n",
      "recall_0             0.616667\n",
      "precision_0          0.493512\n",
      "recall_1             0.764988\n",
      "precision_1          0.844240\n",
      "auc                  0.765754\n",
      "dtype: float64\n",
      "tn: 34, fp:17, fn:63, tp:79\n",
      "[[34 17]\n",
      " [63 79]]\n",
      "--- Test score\n",
      "balanced_accuracy      0.611502\n",
      "recall_0               0.666667\n",
      "precision_0            0.350515\n",
      "recall_1               0.556338\n",
      "precision_1            0.822917\n",
      "auc                    0.639740\n",
      "False_positive_rate    0.333333\n",
      "False_negative_rate    0.443662\n",
      "dtype: float64\n",
      "------------ Dimention 101\n",
      "---- Do parameter tuning\n",
      "Scoring parameter balanced_accuracy\n",
      "Fitting 5 folds for each of 25 candidates, totalling 125 fits\n"
     ]
    },
    {
     "name": "stderr",
     "output_type": "stream",
     "text": [
      "[Parallel(n_jobs=12)]: Using backend LokyBackend with 12 concurrent workers.\n",
      "[Parallel(n_jobs=12)]: Done   8 tasks      | elapsed:    1.3s\n",
      "[Parallel(n_jobs=12)]: Done 125 out of 125 | elapsed:    7.9s finished\n"
     ]
    },
    {
     "name": "stdout",
     "output_type": "stream",
     "text": [
      "\n",
      " Time taken: 0 hours 0 minutes and 9.38 seconds.\n",
      "Best Score: 69.284%\n",
      "{'n_estimators': 700, 'scale_pos_weight': 0.2, 'min_child_weight': 3, 'max_depth': 4, 'max_delta_step': 3, 'learning_rate': 0.03, 'gamma': 1.5, 'colsample_bytree': 1.0, 'subsample': 0.6}\n"
     ]
    },
    {
     "name": "stderr",
     "output_type": "stream",
     "text": [
      "[Parallel(n_jobs=-1)]: Using backend LokyBackend with 16 concurrent workers.\n",
      "[Parallel(n_jobs=-1)]: Done   5 out of   5 | elapsed:    1.2s finished\n"
     ]
    },
    {
     "name": "stdout",
     "output_type": "stream",
     "text": [
      "--- Validation score\n",
      "balanced_accuracy    0.692844\n",
      "recall_0             0.666667\n",
      "precision_0          0.469942\n",
      "recall_1             0.719021\n",
      "precision_1          0.854047\n",
      "auc                  0.745025\n",
      "dtype: float64\n",
      "tn: 33, fp:18, fn:75, tp:67\n",
      "[[33 18]\n",
      " [75 67]]\n",
      "--- Test score\n",
      "balanced_accuracy      0.559445\n",
      "recall_0               0.647059\n",
      "precision_0            0.305556\n",
      "recall_1               0.471831\n",
      "precision_1            0.788235\n",
      "auc                    0.602596\n",
      "False_positive_rate    0.352941\n",
      "False_negative_rate    0.528169\n",
      "dtype: float64\n",
      "------------ Dimention 102\n",
      "---- Do parameter tuning\n",
      "Scoring parameter balanced_accuracy\n",
      "Fitting 5 folds for each of 25 candidates, totalling 125 fits\n"
     ]
    },
    {
     "name": "stderr",
     "output_type": "stream",
     "text": [
      "[Parallel(n_jobs=12)]: Using backend LokyBackend with 12 concurrent workers.\n",
      "[Parallel(n_jobs=12)]: Done   8 tasks      | elapsed:    1.2s\n",
      "[Parallel(n_jobs=12)]: Done 125 out of 125 | elapsed:    7.9s finished\n"
     ]
    },
    {
     "name": "stdout",
     "output_type": "stream",
     "text": [
      "\n",
      " Time taken: 0 hours 0 minutes and 9.09 seconds.\n",
      "Best Score: 68.510%\n",
      "{'n_estimators': 300, 'scale_pos_weight': 0.36, 'min_child_weight': 2, 'max_depth': 6, 'max_delta_step': 2, 'learning_rate': 0.02, 'gamma': 5, 'colsample_bytree': 0.8, 'subsample': 0.8}\n"
     ]
    },
    {
     "name": "stderr",
     "output_type": "stream",
     "text": [
      "[Parallel(n_jobs=-1)]: Using backend LokyBackend with 16 concurrent workers.\n",
      "[Parallel(n_jobs=-1)]: Done   5 out of   5 | elapsed:    1.1s finished\n"
     ]
    },
    {
     "name": "stdout",
     "output_type": "stream",
     "text": [
      "--- Validation score\n",
      "balanced_accuracy    0.685099\n",
      "recall_0             0.608333\n",
      "precision_0          0.489239\n",
      "recall_1             0.761865\n",
      "precision_1          0.840664\n",
      "auc                  0.755350\n",
      "dtype: float64\n",
      "tn: 34, fp:17, fn:59, tp:83\n",
      "[[34 17]\n",
      " [59 83]]\n",
      "--- Test score\n",
      "balanced_accuracy      0.625587\n",
      "recall_0               0.666667\n",
      "precision_0            0.365591\n",
      "recall_1               0.584507\n",
      "precision_1            0.830000\n",
      "auc                    0.649130\n",
      "False_positive_rate    0.333333\n",
      "False_negative_rate    0.415493\n",
      "dtype: float64\n",
      "------------ Dimention 103\n",
      "---- Do parameter tuning\n",
      "Scoring parameter balanced_accuracy\n",
      "Fitting 5 folds for each of 25 candidates, totalling 125 fits\n"
     ]
    },
    {
     "name": "stderr",
     "output_type": "stream",
     "text": [
      "[Parallel(n_jobs=12)]: Using backend LokyBackend with 12 concurrent workers.\n",
      "[Parallel(n_jobs=12)]: Done   8 tasks      | elapsed:    1.2s\n",
      "[Parallel(n_jobs=12)]: Done 125 out of 125 | elapsed:    8.0s finished\n"
     ]
    },
    {
     "name": "stdout",
     "output_type": "stream",
     "text": [
      "\n",
      " Time taken: 0 hours 0 minutes and 8.7 seconds.\n",
      "Best Score: 68.789%\n",
      "{'n_estimators': 300, 'scale_pos_weight': 0.2, 'min_child_weight': 1, 'max_depth': 3, 'max_delta_step': 2, 'learning_rate': 0.07, 'gamma': 0.5, 'colsample_bytree': 0.8, 'subsample': 0.6}\n"
     ]
    },
    {
     "name": "stderr",
     "output_type": "stream",
     "text": [
      "[Parallel(n_jobs=-1)]: Using backend LokyBackend with 16 concurrent workers.\n",
      "[Parallel(n_jobs=-1)]: Done   5 out of   5 | elapsed:    0.8s finished\n"
     ]
    },
    {
     "name": "stdout",
     "output_type": "stream",
     "text": [
      "--- Validation score\n",
      "balanced_accuracy    0.687890\n",
      "recall_0             0.550000\n",
      "precision_0          0.540360\n",
      "recall_1             0.825781\n",
      "precision_1          0.833229\n",
      "auc                  0.759122\n",
      "dtype: float64\n",
      "tn: 31, fp:20, fn:71, tp:71\n",
      "[[31 20]\n",
      " [71 71]]\n",
      "--- Test score\n",
      "balanced_accuracy      0.553922\n",
      "recall_0               0.607843\n",
      "precision_0            0.303922\n",
      "recall_1               0.500000\n",
      "precision_1            0.780220\n",
      "auc                    0.598453\n",
      "False_positive_rate    0.392157\n",
      "False_negative_rate    0.500000\n",
      "dtype: float64\n",
      "------------ Dimention 104\n",
      "---- Do parameter tuning\n",
      "Scoring parameter balanced_accuracy\n",
      "Fitting 5 folds for each of 25 candidates, totalling 125 fits\n"
     ]
    },
    {
     "name": "stderr",
     "output_type": "stream",
     "text": [
      "[Parallel(n_jobs=12)]: Using backend LokyBackend with 12 concurrent workers.\n",
      "[Parallel(n_jobs=12)]: Done   8 tasks      | elapsed:    1.2s\n",
      "[Parallel(n_jobs=12)]: Done 125 out of 125 | elapsed:    8.1s finished\n"
     ]
    },
    {
     "name": "stdout",
     "output_type": "stream",
     "text": [
      "\n",
      " Time taken: 0 hours 0 minutes and 9.06 seconds.\n",
      "Best Score: 68.903%\n",
      "{'n_estimators': 400, 'scale_pos_weight': 0.36, 'min_child_weight': 1, 'max_depth': 3, 'max_delta_step': 5, 'learning_rate': 0.01, 'gamma': 1.5, 'colsample_bytree': 0.6, 'subsample': 1.0}\n"
     ]
    },
    {
     "name": "stderr",
     "output_type": "stream",
     "text": [
      "[Parallel(n_jobs=-1)]: Using backend LokyBackend with 16 concurrent workers.\n",
      "[Parallel(n_jobs=-1)]: Done   5 out of   5 | elapsed:    0.9s finished\n"
     ]
    },
    {
     "name": "stdout",
     "output_type": "stream",
     "text": [
      "--- Validation score\n",
      "balanced_accuracy    0.689027\n",
      "recall_0             0.558333\n",
      "precision_0          0.533310\n",
      "recall_1             0.819720\n",
      "precision_1          0.835978\n",
      "auc                  0.754163\n",
      "dtype: float64\n",
      "tn: 31, fp:20, fn:57, tp:85\n",
      "[[31 20]\n",
      " [57 85]]\n",
      "--- Test score\n",
      "balanced_accuracy      0.603217\n",
      "recall_0               0.607843\n",
      "precision_0            0.352273\n",
      "recall_1               0.598592\n",
      "precision_1            0.809524\n",
      "auc                    0.641397\n",
      "False_positive_rate    0.392157\n",
      "False_negative_rate    0.401408\n",
      "dtype: float64\n",
      "------------ Dimention 105\n",
      "---- Do parameter tuning\n",
      "Scoring parameter balanced_accuracy\n",
      "Fitting 5 folds for each of 25 candidates, totalling 125 fits\n"
     ]
    },
    {
     "name": "stderr",
     "output_type": "stream",
     "text": [
      "[Parallel(n_jobs=12)]: Using backend LokyBackend with 12 concurrent workers.\n",
      "[Parallel(n_jobs=12)]: Done   8 tasks      | elapsed:    1.3s\n",
      "[Parallel(n_jobs=12)]: Done 125 out of 125 | elapsed:    8.3s finished\n"
     ]
    },
    {
     "name": "stdout",
     "output_type": "stream",
     "text": [
      "\n",
      " Time taken: 0 hours 0 minutes and 9.14 seconds.\n",
      "Best Score: 68.716%\n",
      "{'n_estimators': 400, 'scale_pos_weight': 0.36, 'min_child_weight': 1, 'max_depth': 3, 'max_delta_step': 5, 'learning_rate': 0.01, 'gamma': 1.5, 'colsample_bytree': 0.6, 'subsample': 1.0}\n"
     ]
    },
    {
     "name": "stderr",
     "output_type": "stream",
     "text": [
      "[Parallel(n_jobs=-1)]: Using backend LokyBackend with 16 concurrent workers.\n",
      "[Parallel(n_jobs=-1)]: Done   5 out of   5 | elapsed:    0.9s finished\n"
     ]
    },
    {
     "name": "stdout",
     "output_type": "stream",
     "text": [
      "--- Validation score\n",
      "balanced_accuracy    0.687156\n",
      "recall_0             0.566667\n",
      "precision_0          0.516957\n",
      "recall_1             0.807646\n",
      "precision_1          0.836727\n",
      "auc                  0.756245\n",
      "dtype: float64\n",
      "tn: 30, fp:21, fn:57, tp:85\n",
      "[[30 21]\n",
      " [57 85]]\n",
      "--- Test score\n",
      "balanced_accuracy      0.593413\n",
      "recall_0               0.588235\n",
      "precision_0            0.344828\n",
      "recall_1               0.598592\n",
      "precision_1            0.801887\n",
      "auc                    0.640707\n",
      "False_positive_rate    0.411765\n",
      "False_negative_rate    0.401408\n",
      "dtype: float64\n",
      "------------ Dimention 106\n",
      "---- Do parameter tuning\n",
      "Scoring parameter balanced_accuracy\n",
      "Fitting 5 folds for each of 25 candidates, totalling 125 fits\n"
     ]
    },
    {
     "name": "stderr",
     "output_type": "stream",
     "text": [
      "[Parallel(n_jobs=12)]: Using backend LokyBackend with 12 concurrent workers.\n",
      "[Parallel(n_jobs=12)]: Done   8 tasks      | elapsed:    1.2s\n",
      "[Parallel(n_jobs=12)]: Done 125 out of 125 | elapsed:    8.2s finished\n"
     ]
    },
    {
     "name": "stdout",
     "output_type": "stream",
     "text": [
      "\n",
      " Time taken: 0 hours 0 minutes and 9.38 seconds.\n",
      "Best Score: 68.815%\n",
      "{'n_estimators': 300, 'scale_pos_weight': 0.36, 'min_child_weight': 2, 'max_depth': 6, 'max_delta_step': 2, 'learning_rate': 0.02, 'gamma': 5, 'colsample_bytree': 0.8, 'subsample': 0.8}\n"
     ]
    },
    {
     "name": "stderr",
     "output_type": "stream",
     "text": [
      "[Parallel(n_jobs=-1)]: Using backend LokyBackend with 16 concurrent workers.\n",
      "[Parallel(n_jobs=-1)]: Done   5 out of   5 | elapsed:    1.1s finished\n"
     ]
    },
    {
     "name": "stdout",
     "output_type": "stream",
     "text": [
      "--- Validation score\n",
      "balanced_accuracy    0.688153\n",
      "recall_0             0.608333\n",
      "precision_0          0.491228\n",
      "recall_1             0.767972\n",
      "precision_1          0.842605\n",
      "auc                  0.758427\n",
      "dtype: float64\n",
      "tn: 36, fp:15, fn:66, tp:76\n",
      "[[36 15]\n",
      " [66 76]]\n",
      "--- Test score\n",
      "balanced_accuracy      0.620547\n",
      "recall_0               0.705882\n",
      "precision_0            0.352941\n",
      "recall_1               0.535211\n",
      "precision_1            0.835165\n",
      "auc                    0.623723\n",
      "False_positive_rate    0.294118\n",
      "False_negative_rate    0.464789\n",
      "dtype: float64\n",
      "------------ Dimention 107\n",
      "---- Do parameter tuning\n",
      "Scoring parameter balanced_accuracy\n",
      "Fitting 5 folds for each of 25 candidates, totalling 125 fits\n"
     ]
    },
    {
     "name": "stderr",
     "output_type": "stream",
     "text": [
      "[Parallel(n_jobs=12)]: Using backend LokyBackend with 12 concurrent workers.\n",
      "[Parallel(n_jobs=12)]: Done   8 tasks      | elapsed:    1.2s\n",
      "[Parallel(n_jobs=12)]: Done 125 out of 125 | elapsed:    8.3s finished\n"
     ]
    },
    {
     "name": "stdout",
     "output_type": "stream",
     "text": [
      "\n",
      " Time taken: 0 hours 0 minutes and 9.11 seconds.\n",
      "Best Score: 69.568%\n",
      "{'n_estimators': 300, 'scale_pos_weight': 0.2, 'min_child_weight': 1, 'max_depth': 3, 'max_delta_step': 2, 'learning_rate': 0.07, 'gamma': 0.5, 'colsample_bytree': 0.8, 'subsample': 0.6}\n"
     ]
    },
    {
     "name": "stderr",
     "output_type": "stream",
     "text": [
      "[Parallel(n_jobs=-1)]: Using backend LokyBackend with 16 concurrent workers.\n",
      "[Parallel(n_jobs=-1)]: Done   5 out of   5 | elapsed:    0.8s finished\n"
     ]
    },
    {
     "name": "stdout",
     "output_type": "stream",
     "text": [
      "--- Validation score\n",
      "balanced_accuracy    0.695676\n",
      "recall_0             0.550000\n",
      "precision_0          0.552663\n",
      "recall_1             0.841352\n",
      "precision_1          0.837728\n",
      "auc                  0.749749\n",
      "dtype: float64\n",
      "tn: 33, fp:18, fn:78, tp:64\n",
      "[[33 18]\n",
      " [78 64]]\n",
      "--- Test score\n",
      "balanced_accuracy      0.548882\n",
      "recall_0               0.647059\n",
      "precision_0            0.297297\n",
      "recall_1               0.450704\n",
      "precision_1            0.780488\n",
      "auc                    0.555095\n",
      "False_positive_rate    0.352941\n",
      "False_negative_rate    0.549296\n",
      "dtype: float64\n",
      "------------ Dimention 108\n",
      "---- Do parameter tuning\n",
      "Scoring parameter balanced_accuracy\n",
      "Fitting 5 folds for each of 25 candidates, totalling 125 fits\n"
     ]
    },
    {
     "name": "stderr",
     "output_type": "stream",
     "text": [
      "[Parallel(n_jobs=12)]: Using backend LokyBackend with 12 concurrent workers.\n",
      "[Parallel(n_jobs=12)]: Done   8 tasks      | elapsed:    1.2s\n",
      "[Parallel(n_jobs=12)]: Done 125 out of 125 | elapsed:    8.4s finished\n"
     ]
    },
    {
     "name": "stdout",
     "output_type": "stream",
     "text": [
      "\n",
      " Time taken: 0 hours 0 minutes and 9.62 seconds.\n",
      "Best Score: 69.083%\n",
      "{'n_estimators': 300, 'scale_pos_weight': 0.36, 'min_child_weight': 2, 'max_depth': 6, 'max_delta_step': 2, 'learning_rate': 0.02, 'gamma': 5, 'colsample_bytree': 0.8, 'subsample': 0.8}\n"
     ]
    },
    {
     "name": "stderr",
     "output_type": "stream",
     "text": [
      "[Parallel(n_jobs=-1)]: Using backend LokyBackend with 16 concurrent workers.\n",
      "[Parallel(n_jobs=-1)]: Done   5 out of   5 | elapsed:    1.1s finished\n"
     ]
    },
    {
     "name": "stdout",
     "output_type": "stream",
     "text": [
      "--- Validation score\n",
      "balanced_accuracy    0.690828\n",
      "recall_0             0.616667\n",
      "precision_0          0.492120\n",
      "recall_1             0.764988\n",
      "precision_1          0.844710\n",
      "auc                  0.763848\n",
      "dtype: float64\n",
      "tn: 33, fp:18, fn:63, tp:79\n",
      "[[33 18]\n",
      " [63 79]]\n",
      "--- Test score\n",
      "balanced_accuracy      0.601698\n",
      "recall_0               0.647059\n",
      "precision_0            0.343750\n",
      "recall_1               0.556338\n",
      "precision_1            0.814433\n",
      "auc                    0.651063\n",
      "False_positive_rate    0.352941\n",
      "False_negative_rate    0.443662\n",
      "dtype: float64\n",
      "------------ Dimention 109\n",
      "---- Do parameter tuning\n",
      "Scoring parameter balanced_accuracy\n",
      "Fitting 5 folds for each of 25 candidates, totalling 125 fits\n"
     ]
    },
    {
     "name": "stderr",
     "output_type": "stream",
     "text": [
      "[Parallel(n_jobs=12)]: Using backend LokyBackend with 12 concurrent workers.\n",
      "[Parallel(n_jobs=12)]: Done   8 tasks      | elapsed:    1.3s\n",
      "[Parallel(n_jobs=12)]: Done 125 out of 125 | elapsed:    8.4s finished\n"
     ]
    },
    {
     "name": "stdout",
     "output_type": "stream",
     "text": [
      "\n",
      " Time taken: 0 hours 0 minutes and 9.47 seconds.\n",
      "Best Score: 69.734%\n",
      "{'n_estimators': 400, 'scale_pos_weight': 0.36, 'min_child_weight': 1, 'max_depth': 3, 'max_delta_step': 5, 'learning_rate': 0.01, 'gamma': 1.5, 'colsample_bytree': 0.6, 'subsample': 1.0}\n"
     ]
    },
    {
     "name": "stderr",
     "output_type": "stream",
     "text": [
      "[Parallel(n_jobs=-1)]: Using backend LokyBackend with 16 concurrent workers.\n",
      "[Parallel(n_jobs=-1)]: Done   5 out of   5 | elapsed:    1.0s finished\n"
     ]
    },
    {
     "name": "stdout",
     "output_type": "stream",
     "text": [
      "--- Validation score\n",
      "balanced_accuracy    0.697337\n",
      "recall_0             0.575000\n",
      "precision_0          0.544475\n",
      "recall_1             0.819674\n",
      "precision_1          0.840784\n",
      "auc                  0.751402\n",
      "dtype: float64\n",
      "tn: 34, fp:17, fn:59, tp:83\n",
      "[[34 17]\n",
      " [59 83]]\n",
      "--- Test score\n",
      "balanced_accuracy      0.625587\n",
      "recall_0               0.666667\n",
      "precision_0            0.365591\n",
      "recall_1               0.584507\n",
      "precision_1            0.830000\n",
      "auc                    0.648716\n",
      "False_positive_rate    0.333333\n",
      "False_negative_rate    0.415493\n",
      "dtype: float64\n",
      "------------ Dimention 110\n",
      "---- Do parameter tuning\n",
      "Scoring parameter balanced_accuracy\n",
      "Fitting 5 folds for each of 25 candidates, totalling 125 fits\n"
     ]
    },
    {
     "name": "stderr",
     "output_type": "stream",
     "text": [
      "[Parallel(n_jobs=12)]: Using backend LokyBackend with 12 concurrent workers.\n",
      "[Parallel(n_jobs=12)]: Done   8 tasks      | elapsed:    1.3s\n",
      "[Parallel(n_jobs=12)]: Done 125 out of 125 | elapsed:    8.6s finished\n"
     ]
    },
    {
     "name": "stdout",
     "output_type": "stream",
     "text": [
      "\n",
      " Time taken: 0 hours 0 minutes and 9.53 seconds.\n",
      "Best Score: 68.858%\n",
      "{'n_estimators': 400, 'scale_pos_weight': 0.36, 'min_child_weight': 1, 'max_depth': 3, 'max_delta_step': 5, 'learning_rate': 0.01, 'gamma': 1.5, 'colsample_bytree': 0.6, 'subsample': 1.0}\n"
     ]
    },
    {
     "name": "stderr",
     "output_type": "stream",
     "text": [
      "[Parallel(n_jobs=-1)]: Using backend LokyBackend with 16 concurrent workers.\n",
      "[Parallel(n_jobs=-1)]: Done   5 out of   5 | elapsed:    0.9s finished\n"
     ]
    },
    {
     "name": "stdout",
     "output_type": "stream",
     "text": [
      "--- Validation score\n",
      "balanced_accuracy    0.688578\n",
      "recall_0             0.566667\n",
      "precision_0          0.529661\n",
      "recall_1             0.810490\n",
      "precision_1          0.835933\n",
      "auc                  0.745066\n",
      "dtype: float64\n",
      "tn: 33, fp:18, fn:62, tp:80\n",
      "[[33 18]\n",
      " [62 80]]\n",
      "--- Test score\n",
      "balanced_accuracy      0.605220\n",
      "recall_0               0.647059\n",
      "precision_0            0.347368\n",
      "recall_1               0.563380\n",
      "precision_1            0.816327\n",
      "auc                    0.652582\n",
      "False_positive_rate    0.352941\n",
      "False_negative_rate    0.436620\n",
      "dtype: float64\n",
      "------------ Dimention 111\n",
      "---- Do parameter tuning\n",
      "Scoring parameter balanced_accuracy\n",
      "Fitting 5 folds for each of 25 candidates, totalling 125 fits\n"
     ]
    },
    {
     "name": "stderr",
     "output_type": "stream",
     "text": [
      "[Parallel(n_jobs=12)]: Using backend LokyBackend with 12 concurrent workers.\n",
      "[Parallel(n_jobs=12)]: Done   8 tasks      | elapsed:    1.2s\n",
      "[Parallel(n_jobs=12)]: Done 125 out of 125 | elapsed:    8.5s finished\n"
     ]
    },
    {
     "name": "stdout",
     "output_type": "stream",
     "text": [
      "\n",
      " Time taken: 0 hours 0 minutes and 9.68 seconds.\n",
      "Best Score: 68.287%\n",
      "{'n_estimators': 300, 'scale_pos_weight': 0.36, 'min_child_weight': 2, 'max_depth': 6, 'max_delta_step': 2, 'learning_rate': 0.02, 'gamma': 5, 'colsample_bytree': 0.8, 'subsample': 0.8}\n"
     ]
    },
    {
     "name": "stderr",
     "output_type": "stream",
     "text": [
      "[Parallel(n_jobs=-1)]: Using backend LokyBackend with 16 concurrent workers.\n",
      "[Parallel(n_jobs=-1)]: Done   5 out of   5 | elapsed:    1.1s finished\n"
     ]
    },
    {
     "name": "stdout",
     "output_type": "stream",
     "text": [
      "--- Validation score\n",
      "balanced_accuracy    0.682873\n",
      "recall_0             0.591667\n",
      "precision_0          0.495054\n",
      "recall_1             0.774079\n",
      "precision_1          0.837748\n",
      "auc                  0.757545\n",
      "dtype: float64\n",
      "tn: 36, fp:15, fn:63, tp:79\n",
      "[[36 15]\n",
      " [63 79]]\n",
      "--- Test score\n",
      "balanced_accuracy      0.631110\n",
      "recall_0               0.705882\n",
      "precision_0            0.363636\n",
      "recall_1               0.556338\n",
      "precision_1            0.840426\n",
      "auc                    0.644159\n",
      "False_positive_rate    0.294118\n",
      "False_negative_rate    0.443662\n",
      "dtype: float64\n",
      "------------ Dimention 112\n",
      "---- Do parameter tuning\n",
      "Scoring parameter balanced_accuracy\n",
      "Fitting 5 folds for each of 25 candidates, totalling 125 fits\n"
     ]
    },
    {
     "name": "stderr",
     "output_type": "stream",
     "text": [
      "[Parallel(n_jobs=12)]: Using backend LokyBackend with 12 concurrent workers.\n",
      "[Parallel(n_jobs=12)]: Done   8 tasks      | elapsed:    1.1s\n",
      "[Parallel(n_jobs=12)]: Done 125 out of 125 | elapsed:    8.7s finished\n"
     ]
    },
    {
     "name": "stdout",
     "output_type": "stream",
     "text": [
      "\n",
      " Time taken: 0 hours 0 minutes and 10.16 seconds.\n",
      "Best Score: 68.640%\n",
      "{'n_estimators': 700, 'scale_pos_weight': 0.2, 'min_child_weight': 2, 'max_depth': 3, 'max_delta_step': 5, 'learning_rate': 0.05, 'gamma': 2, 'colsample_bytree': 0.8, 'subsample': 1.0}\n"
     ]
    },
    {
     "name": "stderr",
     "output_type": "stream",
     "text": [
      "[Parallel(n_jobs=-1)]: Using backend LokyBackend with 16 concurrent workers.\n",
      "[Parallel(n_jobs=-1)]: Done   5 out of   5 | elapsed:    1.3s finished\n"
     ]
    },
    {
     "name": "stdout",
     "output_type": "stream",
     "text": [
      "--- Validation score\n",
      "balanced_accuracy    0.686404\n",
      "recall_0             0.708333\n",
      "precision_0          0.436490\n",
      "recall_1             0.664476\n",
      "precision_1          0.862445\n",
      "auc                  0.751140\n",
      "dtype: float64\n",
      "tn: 42, fp:9, fn:82, tp:60\n",
      "[[42  9]\n",
      " [82 60]]\n",
      "--- Test score\n",
      "balanced_accuracy      0.623032\n",
      "recall_0               0.823529\n",
      "precision_0            0.338710\n",
      "recall_1               0.422535\n",
      "precision_1            0.869565\n",
      "auc                    0.628418\n",
      "False_positive_rate    0.176471\n",
      "False_negative_rate    0.577465\n",
      "dtype: float64\n",
      "------------ Dimention 113\n",
      "---- Do parameter tuning\n",
      "Scoring parameter balanced_accuracy\n",
      "Fitting 5 folds for each of 25 candidates, totalling 125 fits\n"
     ]
    },
    {
     "name": "stderr",
     "output_type": "stream",
     "text": [
      "[Parallel(n_jobs=12)]: Using backend LokyBackend with 12 concurrent workers.\n",
      "[Parallel(n_jobs=12)]: Done   8 tasks      | elapsed:    1.3s\n",
      "[Parallel(n_jobs=12)]: Done 125 out of 125 | elapsed:    8.8s finished\n"
     ]
    },
    {
     "name": "stdout",
     "output_type": "stream",
     "text": [
      "\n",
      " Time taken: 0 hours 0 minutes and 10.06 seconds.\n",
      "Best Score: 69.455%\n",
      "{'n_estimators': 300, 'scale_pos_weight': 0.36, 'min_child_weight': 2, 'max_depth': 6, 'max_delta_step': 2, 'learning_rate': 0.02, 'gamma': 5, 'colsample_bytree': 0.8, 'subsample': 0.8}\n"
     ]
    },
    {
     "name": "stderr",
     "output_type": "stream",
     "text": [
      "[Parallel(n_jobs=-1)]: Using backend LokyBackend with 16 concurrent workers.\n",
      "[Parallel(n_jobs=-1)]: Done   5 out of   5 | elapsed:    1.2s finished\n"
     ]
    },
    {
     "name": "stdout",
     "output_type": "stream",
     "text": [
      "--- Validation score\n",
      "balanced_accuracy    0.694545\n",
      "recall_0             0.633333\n",
      "precision_0          0.491489\n",
      "recall_1             0.755758\n",
      "precision_1          0.848023\n",
      "auc                  0.756459\n",
      "dtype: float64\n",
      "tn: 35, fp:16, fn:61, tp:81\n",
      "[[35 16]\n",
      " [61 81]]\n",
      "--- Test score\n",
      "balanced_accuracy      0.628349\n",
      "recall_0               0.686275\n",
      "precision_0            0.364583\n",
      "recall_1               0.570423\n",
      "precision_1            0.835052\n",
      "auc                    0.648025\n",
      "False_positive_rate    0.313725\n",
      "False_negative_rate    0.429577\n",
      "dtype: float64\n",
      "------------ Dimention 114\n",
      "---- Do parameter tuning\n",
      "Scoring parameter balanced_accuracy\n",
      "Fitting 5 folds for each of 25 candidates, totalling 125 fits\n"
     ]
    },
    {
     "name": "stderr",
     "output_type": "stream",
     "text": [
      "[Parallel(n_jobs=12)]: Using backend LokyBackend with 12 concurrent workers.\n",
      "[Parallel(n_jobs=12)]: Done   8 tasks      | elapsed:    1.4s\n",
      "[Parallel(n_jobs=12)]: Done 125 out of 125 | elapsed:    8.8s finished\n"
     ]
    },
    {
     "name": "stdout",
     "output_type": "stream",
     "text": [
      "\n",
      " Time taken: 0 hours 0 minutes and 9.85 seconds.\n",
      "Best Score: 68.069%\n",
      "{'n_estimators': 400, 'scale_pos_weight': 0.36, 'min_child_weight': 1, 'max_depth': 3, 'max_delta_step': 5, 'learning_rate': 0.01, 'gamma': 1.5, 'colsample_bytree': 0.6, 'subsample': 1.0}\n"
     ]
    },
    {
     "name": "stderr",
     "output_type": "stream",
     "text": [
      "[Parallel(n_jobs=-1)]: Using backend LokyBackend with 16 concurrent workers.\n",
      "[Parallel(n_jobs=-1)]: Done   5 out of   5 | elapsed:    0.9s finished\n"
     ]
    },
    {
     "name": "stdout",
     "output_type": "stream",
     "text": [
      "--- Validation score\n",
      "balanced_accuracy    0.680693\n",
      "recall_0             0.541667\n",
      "precision_0          0.529022\n",
      "recall_1             0.819720\n",
      "precision_1          0.830690\n",
      "auc                  0.747343\n",
      "dtype: float64\n",
      "tn: 33, fp:18, fn:60, tp:82\n",
      "[[33 18]\n",
      " [60 82]]\n",
      "--- Test score\n",
      "balanced_accuracy      0.612262\n",
      "recall_0               0.647059\n",
      "precision_0            0.354839\n",
      "recall_1               0.577465\n",
      "precision_1            0.820000\n",
      "auc                    0.646645\n",
      "False_positive_rate    0.352941\n",
      "False_negative_rate    0.422535\n",
      "dtype: float64\n",
      "------------ Dimention 115\n",
      "---- Do parameter tuning\n",
      "Scoring parameter balanced_accuracy\n",
      "Fitting 5 folds for each of 25 candidates, totalling 125 fits\n"
     ]
    },
    {
     "name": "stderr",
     "output_type": "stream",
     "text": [
      "[Parallel(n_jobs=12)]: Using backend LokyBackend with 12 concurrent workers.\n",
      "[Parallel(n_jobs=12)]: Done   8 tasks      | elapsed:    1.3s\n",
      "[Parallel(n_jobs=12)]: Done 125 out of 125 | elapsed:    8.8s finished\n"
     ]
    },
    {
     "name": "stdout",
     "output_type": "stream",
     "text": [
      "\n",
      " Time taken: 0 hours 0 minutes and 10.1 seconds.\n",
      "Best Score: 68.549%\n",
      "{'n_estimators': 700, 'scale_pos_weight': 0.2, 'min_child_weight': 4, 'max_depth': 6, 'max_delta_step': 5, 'learning_rate': 0.02, 'gamma': 5, 'colsample_bytree': 0.6, 'subsample': 0.8}\n"
     ]
    },
    {
     "name": "stderr",
     "output_type": "stream",
     "text": [
      "[Parallel(n_jobs=-1)]: Using backend LokyBackend with 16 concurrent workers.\n",
      "[Parallel(n_jobs=-1)]: Done   5 out of   5 | elapsed:    1.1s finished\n"
     ]
    },
    {
     "name": "stdout",
     "output_type": "stream",
     "text": [
      "--- Validation score\n",
      "balanced_accuracy    0.685490\n",
      "recall_0             0.883333\n",
      "precision_0          0.387248\n",
      "recall_1             0.487646\n",
      "precision_1          0.919614\n",
      "auc                  0.752387\n",
      "dtype: float64\n",
      "tn: 48, fp:3, fn:118, tp:24\n",
      "[[ 48   3]\n",
      " [118  24]]\n",
      "--- Test score\n",
      "balanced_accuracy      0.555095\n",
      "recall_0               0.941176\n",
      "precision_0            0.289157\n",
      "recall_1               0.169014\n",
      "precision_1            0.888889\n",
      "auc                    0.661212\n",
      "False_positive_rate    0.058824\n",
      "False_negative_rate    0.830986\n",
      "dtype: float64\n",
      "------------ Dimention 116\n",
      "---- Do parameter tuning\n",
      "Scoring parameter balanced_accuracy\n",
      "Fitting 5 folds for each of 25 candidates, totalling 125 fits\n"
     ]
    },
    {
     "name": "stderr",
     "output_type": "stream",
     "text": [
      "[Parallel(n_jobs=12)]: Using backend LokyBackend with 12 concurrent workers.\n",
      "[Parallel(n_jobs=12)]: Done   8 tasks      | elapsed:    1.2s\n",
      "[Parallel(n_jobs=12)]: Done 125 out of 125 | elapsed:    8.8s finished\n"
     ]
    },
    {
     "name": "stdout",
     "output_type": "stream",
     "text": [
      "\n",
      " Time taken: 0 hours 0 minutes and 9.76 seconds.\n",
      "Best Score: 68.448%\n",
      "{'n_estimators': 400, 'scale_pos_weight': 0.36, 'min_child_weight': 1, 'max_depth': 3, 'max_delta_step': 5, 'learning_rate': 0.01, 'gamma': 1.5, 'colsample_bytree': 0.6, 'subsample': 1.0}\n"
     ]
    },
    {
     "name": "stderr",
     "output_type": "stream",
     "text": [
      "[Parallel(n_jobs=-1)]: Using backend LokyBackend with 16 concurrent workers.\n",
      "[Parallel(n_jobs=-1)]: Done   5 out of   5 | elapsed:    1.0s finished\n"
     ]
    },
    {
     "name": "stdout",
     "output_type": "stream",
     "text": [
      "--- Validation score\n",
      "balanced_accuracy    0.684481\n",
      "recall_0             0.558333\n",
      "precision_0          0.517730\n",
      "recall_1             0.810629\n",
      "precision_1          0.834121\n",
      "auc                  0.744965\n",
      "dtype: float64\n",
      "tn: 31, fp:20, fn:59, tp:83\n",
      "[[31 20]\n",
      " [59 83]]\n",
      "--- Test score\n",
      "balanced_accuracy      0.596175\n",
      "recall_0               0.607843\n",
      "precision_0            0.344444\n",
      "recall_1               0.584507\n",
      "precision_1            0.805825\n",
      "auc                    0.643054\n",
      "False_positive_rate    0.392157\n",
      "False_negative_rate    0.415493\n",
      "dtype: float64\n",
      "------------ Dimention 117\n",
      "---- Do parameter tuning\n",
      "Scoring parameter balanced_accuracy\n",
      "Fitting 5 folds for each of 25 candidates, totalling 125 fits\n"
     ]
    },
    {
     "name": "stderr",
     "output_type": "stream",
     "text": [
      "[Parallel(n_jobs=12)]: Using backend LokyBackend with 12 concurrent workers.\n",
      "[Parallel(n_jobs=12)]: Done   8 tasks      | elapsed:    1.3s\n",
      "[Parallel(n_jobs=12)]: Done 125 out of 125 | elapsed:    9.1s finished\n"
     ]
    },
    {
     "name": "stdout",
     "output_type": "stream",
     "text": [
      "\n",
      " Time taken: 0 hours 0 minutes and 9.96 seconds.\n",
      "Best Score: 69.473%\n",
      "{'n_estimators': 300, 'scale_pos_weight': 0.2, 'min_child_weight': 1, 'max_depth': 3, 'max_delta_step': 2, 'learning_rate': 0.07, 'gamma': 0.5, 'colsample_bytree': 0.8, 'subsample': 0.6}\n"
     ]
    },
    {
     "name": "stderr",
     "output_type": "stream",
     "text": [
      "[Parallel(n_jobs=-1)]: Using backend LokyBackend with 16 concurrent workers.\n",
      "[Parallel(n_jobs=-1)]: Done   5 out of   5 | elapsed:    0.8s finished\n"
     ]
    },
    {
     "name": "stdout",
     "output_type": "stream",
     "text": [
      "--- Validation score\n",
      "balanced_accuracy    0.694732\n",
      "recall_0             0.566667\n",
      "precision_0          0.543003\n",
      "recall_1             0.822797\n",
      "precision_1          0.838028\n",
      "auc                  0.756449\n",
      "dtype: float64\n",
      "tn: 36, fp:15, fn:76, tp:66\n",
      "[[36 15]\n",
      " [76 66]]\n",
      "--- Test score\n",
      "balanced_accuracy      0.585336\n",
      "recall_0               0.705882\n",
      "precision_0            0.321429\n",
      "recall_1               0.464789\n",
      "precision_1            0.814815\n",
      "auc                    0.598315\n",
      "False_positive_rate    0.294118\n",
      "False_negative_rate    0.535211\n",
      "dtype: float64\n",
      "------------ Dimention 118\n",
      "---- Do parameter tuning\n",
      "Scoring parameter balanced_accuracy\n",
      "Fitting 5 folds for each of 25 candidates, totalling 125 fits\n"
     ]
    },
    {
     "name": "stderr",
     "output_type": "stream",
     "text": [
      "[Parallel(n_jobs=12)]: Using backend LokyBackend with 12 concurrent workers.\n",
      "[Parallel(n_jobs=12)]: Done   8 tasks      | elapsed:    1.2s\n",
      "[Parallel(n_jobs=12)]: Done 125 out of 125 | elapsed:    9.0s finished\n"
     ]
    },
    {
     "name": "stdout",
     "output_type": "stream",
     "text": [
      "\n",
      " Time taken: 0 hours 0 minutes and 10.16 seconds.\n",
      "Best Score: 68.907%\n",
      "{'n_estimators': 400, 'scale_pos_weight': 0.36, 'min_child_weight': 1, 'max_depth': 3, 'max_delta_step': 5, 'learning_rate': 0.01, 'gamma': 1.5, 'colsample_bytree': 0.6, 'subsample': 1.0}\n"
     ]
    },
    {
     "name": "stderr",
     "output_type": "stream",
     "text": [
      "[Parallel(n_jobs=-1)]: Using backend LokyBackend with 16 concurrent workers.\n",
      "[Parallel(n_jobs=-1)]: Done   5 out of   5 | elapsed:    1.0s finished\n"
     ]
    },
    {
     "name": "stdout",
     "output_type": "stream",
     "text": [
      "--- Validation score\n",
      "balanced_accuracy    0.689073\n",
      "recall_0             0.558333\n",
      "precision_0          0.531342\n",
      "recall_1             0.819814\n",
      "precision_1          0.836106\n",
      "auc                  0.745338\n",
      "dtype: float64\n",
      "tn: 32, fp:19, fn:58, tp:84\n",
      "[[32 19]\n",
      " [58 84]]\n",
      "--- Test score\n",
      "balanced_accuracy      0.609500\n",
      "recall_0               0.627451\n",
      "precision_0            0.355556\n",
      "recall_1               0.591549\n",
      "precision_1            0.815534\n",
      "auc                    0.638912\n",
      "False_positive_rate    0.372549\n",
      "False_negative_rate    0.408451\n",
      "dtype: float64\n",
      "------------ Dimention 119\n",
      "---- Do parameter tuning\n",
      "Scoring parameter balanced_accuracy\n",
      "Fitting 5 folds for each of 25 candidates, totalling 125 fits\n"
     ]
    },
    {
     "name": "stderr",
     "output_type": "stream",
     "text": [
      "[Parallel(n_jobs=12)]: Using backend LokyBackend with 12 concurrent workers.\n",
      "[Parallel(n_jobs=12)]: Done   8 tasks      | elapsed:    1.4s\n",
      "[Parallel(n_jobs=12)]: Done 125 out of 125 | elapsed:    9.1s finished\n"
     ]
    },
    {
     "name": "stdout",
     "output_type": "stream",
     "text": [
      "\n",
      " Time taken: 0 hours 0 minutes and 10.1 seconds.\n",
      "Best Score: 69.057%\n",
      "{'n_estimators': 400, 'scale_pos_weight': 0.36, 'min_child_weight': 1, 'max_depth': 3, 'max_delta_step': 5, 'learning_rate': 0.01, 'gamma': 1.5, 'colsample_bytree': 0.6, 'subsample': 1.0}\n"
     ]
    },
    {
     "name": "stderr",
     "output_type": "stream",
     "text": [
      "[Parallel(n_jobs=-1)]: Using backend LokyBackend with 16 concurrent workers.\n",
      "[Parallel(n_jobs=-1)]: Done   5 out of   5 | elapsed:    1.0s finished\n"
     ]
    },
    {
     "name": "stdout",
     "output_type": "stream",
     "text": [
      "--- Validation score\n",
      "balanced_accuracy    0.690565\n",
      "recall_0             0.558333\n",
      "precision_0          0.537889\n",
      "recall_1             0.822797\n",
      "precision_1          0.836626\n",
      "auc                  0.747461\n",
      "dtype: float64\n",
      "tn: 34, fp:17, fn:58, tp:84\n",
      "[[34 17]\n",
      " [58 84]]\n",
      "--- Test score\n",
      "balanced_accuracy      0.629108\n",
      "recall_0               0.666667\n",
      "precision_0            0.369565\n",
      "recall_1               0.591549\n",
      "precision_1            0.831683\n",
      "auc                    0.651063\n",
      "False_positive_rate    0.333333\n",
      "False_negative_rate    0.408451\n",
      "dtype: float64\n",
      "------------ Dimention 120\n",
      "---- Do parameter tuning\n",
      "Scoring parameter balanced_accuracy\n",
      "Fitting 5 folds for each of 25 candidates, totalling 125 fits\n"
     ]
    },
    {
     "name": "stderr",
     "output_type": "stream",
     "text": [
      "[Parallel(n_jobs=12)]: Using backend LokyBackend with 12 concurrent workers.\n",
      "[Parallel(n_jobs=12)]: Done   8 tasks      | elapsed:    1.2s\n",
      "[Parallel(n_jobs=12)]: Done 125 out of 125 | elapsed:    9.2s finished\n"
     ]
    },
    {
     "name": "stdout",
     "output_type": "stream",
     "text": [
      "\n",
      " Time taken: 0 hours 0 minutes and 10.58 seconds.\n",
      "Best Score: 69.047%\n",
      "{'n_estimators': 300, 'scale_pos_weight': 0.36, 'min_child_weight': 2, 'max_depth': 6, 'max_delta_step': 2, 'learning_rate': 0.02, 'gamma': 5, 'colsample_bytree': 0.8, 'subsample': 0.8}\n"
     ]
    },
    {
     "name": "stderr",
     "output_type": "stream",
     "text": [
      "[Parallel(n_jobs=-1)]: Using backend LokyBackend with 16 concurrent workers.\n",
      "[Parallel(n_jobs=-1)]: Done   5 out of   5 | elapsed:    1.2s finished\n"
     ]
    },
    {
     "name": "stdout",
     "output_type": "stream",
     "text": [
      "--- Validation score\n",
      "balanced_accuracy    0.690472\n",
      "recall_0             0.625000\n",
      "precision_0          0.482291\n",
      "recall_1             0.755944\n",
      "precision_1          0.847089\n",
      "auc                  0.760080\n",
      "dtype: float64\n",
      "tn: 38, fp:13, fn:65, tp:77\n",
      "[[38 13]\n",
      " [65 77]]\n",
      "--- Test score\n",
      "balanced_accuracy      0.643676\n",
      "recall_0               0.745098\n",
      "precision_0            0.368932\n",
      "recall_1               0.542254\n",
      "precision_1            0.855556\n",
      "auc                    0.641259\n",
      "False_positive_rate    0.254902\n",
      "False_negative_rate    0.457746\n",
      "dtype: float64\n",
      "------------ Dimention 121\n",
      "---- Do parameter tuning\n",
      "Scoring parameter balanced_accuracy\n",
      "Fitting 5 folds for each of 25 candidates, totalling 125 fits\n"
     ]
    },
    {
     "name": "stderr",
     "output_type": "stream",
     "text": [
      "[Parallel(n_jobs=12)]: Using backend LokyBackend with 12 concurrent workers.\n",
      "[Parallel(n_jobs=12)]: Done   8 tasks      | elapsed:    1.4s\n",
      "[Parallel(n_jobs=12)]: Done 125 out of 125 | elapsed:    9.2s finished\n"
     ]
    },
    {
     "name": "stdout",
     "output_type": "stream",
     "text": [
      "\n",
      " Time taken: 0 hours 0 minutes and 10.77 seconds.\n",
      "Best Score: 68.628%\n",
      "{'n_estimators': 500, 'scale_pos_weight': 0.36, 'min_child_weight': 4, 'max_depth': 5, 'max_delta_step': 4, 'learning_rate': 0.02, 'gamma': 5, 'colsample_bytree': 1.0, 'subsample': 0.6}\n"
     ]
    },
    {
     "name": "stderr",
     "output_type": "stream",
     "text": [
      "[Parallel(n_jobs=-1)]: Using backend LokyBackend with 16 concurrent workers.\n",
      "[Parallel(n_jobs=-1)]: Done   5 out of   5 | elapsed:    1.3s finished\n"
     ]
    },
    {
     "name": "stdout",
     "output_type": "stream",
     "text": [
      "--- Validation score\n",
      "balanced_accuracy    0.686282\n",
      "recall_0             0.616667\n",
      "precision_0          0.481582\n",
      "recall_1             0.755897\n",
      "precision_1          0.843474\n",
      "auc                  0.758596\n",
      "dtype: float64\n",
      "tn: 31, fp:20, fn:70, tp:72\n",
      "[[31 20]\n",
      " [70 72]]\n",
      "--- Test score\n",
      "balanced_accuracy      0.557443\n",
      "recall_0               0.607843\n",
      "precision_0            0.306931\n",
      "recall_1               0.507042\n",
      "precision_1            0.782609\n",
      "auc                    0.614471\n",
      "False_positive_rate    0.392157\n",
      "False_negative_rate    0.492958\n",
      "dtype: float64\n",
      "------------ Dimention 122\n",
      "---- Do parameter tuning\n",
      "Scoring parameter balanced_accuracy\n",
      "Fitting 5 folds for each of 25 candidates, totalling 125 fits\n"
     ]
    },
    {
     "name": "stderr",
     "output_type": "stream",
     "text": [
      "[Parallel(n_jobs=12)]: Using backend LokyBackend with 12 concurrent workers.\n",
      "[Parallel(n_jobs=12)]: Done   8 tasks      | elapsed:    1.1s\n",
      "[Parallel(n_jobs=12)]: Done 125 out of 125 | elapsed:    9.2s finished\n"
     ]
    },
    {
     "name": "stdout",
     "output_type": "stream",
     "text": [
      "\n",
      " Time taken: 0 hours 0 minutes and 10.55 seconds.\n",
      "Best Score: 68.517%\n",
      "{'n_estimators': 300, 'scale_pos_weight': 0.36, 'min_child_weight': 2, 'max_depth': 6, 'max_delta_step': 2, 'learning_rate': 0.02, 'gamma': 5, 'colsample_bytree': 0.8, 'subsample': 0.8}\n"
     ]
    },
    {
     "name": "stderr",
     "output_type": "stream",
     "text": [
      "[Parallel(n_jobs=-1)]: Using backend LokyBackend with 16 concurrent workers.\n",
      "[Parallel(n_jobs=-1)]: Done   5 out of   5 | elapsed:    1.1s finished\n"
     ]
    },
    {
     "name": "stdout",
     "output_type": "stream",
     "text": [
      "--- Validation score\n",
      "balanced_accuracy    0.685169\n",
      "recall_0             0.608333\n",
      "precision_0          0.482153\n",
      "recall_1             0.762005\n",
      "precision_1          0.842359\n",
      "auc                  0.755938\n",
      "dtype: float64\n",
      "tn: 37, fp:14, fn:62, tp:80\n",
      "[[37 14]\n",
      " [62 80]]\n",
      "--- Test score\n",
      "balanced_accuracy      0.644435\n",
      "recall_0               0.725490\n",
      "precision_0            0.373737\n",
      "recall_1               0.563380\n",
      "precision_1            0.851064\n",
      "auc                    0.623308\n",
      "False_positive_rate    0.274510\n",
      "False_negative_rate    0.436620\n",
      "dtype: float64\n",
      "------------ Dimention 123\n",
      "---- Do parameter tuning\n",
      "Scoring parameter balanced_accuracy\n",
      "Fitting 5 folds for each of 25 candidates, totalling 125 fits\n"
     ]
    },
    {
     "name": "stderr",
     "output_type": "stream",
     "text": [
      "[Parallel(n_jobs=12)]: Using backend LokyBackend with 12 concurrent workers.\n",
      "[Parallel(n_jobs=12)]: Done   8 tasks      | elapsed:    1.4s\n",
      "[Parallel(n_jobs=12)]: Done 125 out of 125 | elapsed:    9.5s finished\n"
     ]
    },
    {
     "name": "stdout",
     "output_type": "stream",
     "text": [
      "\n",
      " Time taken: 0 hours 0 minutes and 10.53 seconds.\n",
      "Best Score: 68.488%\n",
      "{'n_estimators': 400, 'scale_pos_weight': 0.36, 'min_child_weight': 1, 'max_depth': 3, 'max_delta_step': 5, 'learning_rate': 0.01, 'gamma': 1.5, 'colsample_bytree': 0.6, 'subsample': 1.0}\n"
     ]
    },
    {
     "name": "stderr",
     "output_type": "stream",
     "text": [
      "[Parallel(n_jobs=-1)]: Using backend LokyBackend with 16 concurrent workers.\n",
      "[Parallel(n_jobs=-1)]: Done   5 out of   5 | elapsed:    1.0s finished\n"
     ]
    },
    {
     "name": "stdout",
     "output_type": "stream",
     "text": [
      "--- Validation score\n",
      "balanced_accuracy    0.684883\n",
      "recall_0             0.550000\n",
      "precision_0          0.530390\n",
      "recall_1             0.819767\n",
      "precision_1          0.833213\n",
      "auc                  0.742819\n",
      "dtype: float64\n",
      "tn: 31, fp:20, fn:55, tp:87\n",
      "[[31 20]\n",
      " [55 87]]\n",
      "--- Test score\n",
      "balanced_accuracy      0.610260\n",
      "recall_0               0.607843\n",
      "precision_0            0.360465\n",
      "recall_1               0.612676\n",
      "precision_1            0.813084\n",
      "auc                    0.653549\n",
      "False_positive_rate    0.392157\n",
      "False_negative_rate    0.387324\n",
      "dtype: float64\n",
      "------------ Dimention 124\n",
      "---- Do parameter tuning\n",
      "Scoring parameter balanced_accuracy\n",
      "Fitting 5 folds for each of 25 candidates, totalling 125 fits\n"
     ]
    },
    {
     "name": "stderr",
     "output_type": "stream",
     "text": [
      "[Parallel(n_jobs=12)]: Using backend LokyBackend with 12 concurrent workers.\n",
      "[Parallel(n_jobs=12)]: Done   8 tasks      | elapsed:    1.3s\n",
      "[Parallel(n_jobs=12)]: Done 125 out of 125 | elapsed:    9.5s finished\n"
     ]
    },
    {
     "name": "stdout",
     "output_type": "stream",
     "text": [
      "\n",
      " Time taken: 0 hours 0 minutes and 10.46 seconds.\n",
      "Best Score: 68.983%\n",
      "{'n_estimators': 400, 'scale_pos_weight': 0.36, 'min_child_weight': 1, 'max_depth': 3, 'max_delta_step': 5, 'learning_rate': 0.01, 'gamma': 1.5, 'colsample_bytree': 0.6, 'subsample': 1.0}\n"
     ]
    },
    {
     "name": "stderr",
     "output_type": "stream",
     "text": [
      "[Parallel(n_jobs=-1)]: Using backend LokyBackend with 16 concurrent workers.\n",
      "[Parallel(n_jobs=-1)]: Done   5 out of   5 | elapsed:    1.0s finished\n"
     ]
    },
    {
     "name": "stdout",
     "output_type": "stream",
     "text": [
      "--- Validation score\n",
      "balanced_accuracy    0.689831\n",
      "recall_0             0.541667\n",
      "precision_0          0.552072\n",
      "recall_1             0.837995\n",
      "precision_1          0.833617\n",
      "auc                  0.743936\n",
      "dtype: float64\n",
      "tn: 33, fp:18, fn:57, tp:85\n",
      "[[33 18]\n",
      " [57 85]]\n",
      "--- Test score\n",
      "balanced_accuracy      0.622825\n",
      "recall_0               0.647059\n",
      "precision_0            0.366667\n",
      "recall_1               0.598592\n",
      "precision_1            0.825243\n",
      "auc                    0.642778\n",
      "False_positive_rate    0.352941\n",
      "False_negative_rate    0.401408\n",
      "dtype: float64\n",
      "------------ Dimention 125\n",
      "---- Do parameter tuning\n",
      "Scoring parameter balanced_accuracy\n",
      "Fitting 5 folds for each of 25 candidates, totalling 125 fits\n"
     ]
    },
    {
     "name": "stderr",
     "output_type": "stream",
     "text": [
      "[Parallel(n_jobs=12)]: Using backend LokyBackend with 12 concurrent workers.\n",
      "[Parallel(n_jobs=12)]: Done   8 tasks      | elapsed:    1.3s\n",
      "[Parallel(n_jobs=12)]: Done 125 out of 125 | elapsed:    9.6s finished\n"
     ]
    },
    {
     "name": "stdout",
     "output_type": "stream",
     "text": [
      "\n",
      " Time taken: 0 hours 0 minutes and 10.65 seconds.\n",
      "Best Score: 70.235%\n",
      "{'n_estimators': 400, 'scale_pos_weight': 0.36, 'min_child_weight': 1, 'max_depth': 3, 'max_delta_step': 5, 'learning_rate': 0.01, 'gamma': 1.5, 'colsample_bytree': 0.6, 'subsample': 1.0}\n"
     ]
    },
    {
     "name": "stderr",
     "output_type": "stream",
     "text": [
      "[Parallel(n_jobs=-1)]: Using backend LokyBackend with 16 concurrent workers.\n",
      "[Parallel(n_jobs=-1)]: Done   5 out of   5 | elapsed:    1.0s finished\n"
     ]
    },
    {
     "name": "stdout",
     "output_type": "stream",
     "text": [
      "--- Validation score\n",
      "balanced_accuracy    0.702354\n",
      "recall_0             0.566667\n",
      "precision_0          0.562381\n",
      "recall_1             0.838042\n",
      "precision_1          0.841451\n",
      "auc                  0.749658\n",
      "dtype: float64\n",
      "tn: 35, fp:16, fn:60, tp:82\n",
      "[[35 16]\n",
      " [60 82]]\n",
      "--- Test score\n",
      "balanced_accuracy      0.631870\n",
      "recall_0               0.686275\n",
      "precision_0            0.368421\n",
      "recall_1               0.577465\n",
      "precision_1            0.836735\n",
      "auc                    0.648854\n",
      "False_positive_rate    0.313725\n",
      "False_negative_rate    0.422535\n",
      "dtype: float64\n",
      "------------ Dimention 126\n",
      "---- Do parameter tuning\n",
      "Scoring parameter balanced_accuracy\n",
      "Fitting 5 folds for each of 25 candidates, totalling 125 fits\n"
     ]
    },
    {
     "name": "stderr",
     "output_type": "stream",
     "text": [
      "[Parallel(n_jobs=12)]: Using backend LokyBackend with 12 concurrent workers.\n",
      "[Parallel(n_jobs=12)]: Done   8 tasks      | elapsed:    1.5s\n",
      "[Parallel(n_jobs=12)]: Done 125 out of 125 | elapsed:    9.5s finished\n"
     ]
    },
    {
     "name": "stdout",
     "output_type": "stream",
     "text": [
      "\n",
      " Time taken: 0 hours 0 minutes and 10.5 seconds.\n",
      "Best Score: 68.529%\n",
      "{'n_estimators': 400, 'scale_pos_weight': 0.36, 'min_child_weight': 1, 'max_depth': 3, 'max_delta_step': 5, 'learning_rate': 0.01, 'gamma': 1.5, 'colsample_bytree': 0.6, 'subsample': 1.0}\n"
     ]
    },
    {
     "name": "stderr",
     "output_type": "stream",
     "text": [
      "[Parallel(n_jobs=-1)]: Using backend LokyBackend with 16 concurrent workers.\n",
      "[Parallel(n_jobs=-1)]: Done   5 out of   5 | elapsed:    1.0s finished\n"
     ]
    },
    {
     "name": "stdout",
     "output_type": "stream",
     "text": [
      "--- Validation score\n",
      "balanced_accuracy    0.685286\n",
      "recall_0             0.541667\n",
      "precision_0          0.539361\n",
      "recall_1             0.828904\n",
      "precision_1          0.832169\n",
      "auc                  0.748980\n",
      "dtype: float64\n",
      "tn: 33, fp:18, fn:57, tp:85\n",
      "[[33 18]\n",
      " [57 85]]\n",
      "--- Test score\n",
      "balanced_accuracy      0.622825\n",
      "recall_0               0.647059\n",
      "precision_0            0.366667\n",
      "recall_1               0.598592\n",
      "precision_1            0.825243\n",
      "auc                    0.642088\n",
      "False_positive_rate    0.352941\n",
      "False_negative_rate    0.401408\n",
      "dtype: float64\n",
      "------------ Dimention 127\n",
      "---- Do parameter tuning\n",
      "Scoring parameter balanced_accuracy\n",
      "Fitting 5 folds for each of 25 candidates, totalling 125 fits\n"
     ]
    },
    {
     "name": "stderr",
     "output_type": "stream",
     "text": [
      "[Parallel(n_jobs=12)]: Using backend LokyBackend with 12 concurrent workers.\n",
      "[Parallel(n_jobs=12)]: Done   8 tasks      | elapsed:    1.4s\n",
      "[Parallel(n_jobs=12)]: Done 125 out of 125 | elapsed:    9.6s finished\n"
     ]
    },
    {
     "name": "stdout",
     "output_type": "stream",
     "text": [
      "\n",
      " Time taken: 0 hours 0 minutes and 10.78 seconds.\n",
      "Best Score: 69.779%\n",
      "{'n_estimators': 400, 'scale_pos_weight': 0.36, 'min_child_weight': 1, 'max_depth': 3, 'max_delta_step': 5, 'learning_rate': 0.01, 'gamma': 1.5, 'colsample_bytree': 0.6, 'subsample': 1.0}\n"
     ]
    },
    {
     "name": "stderr",
     "output_type": "stream",
     "text": [
      "[Parallel(n_jobs=-1)]: Using backend LokyBackend with 16 concurrent workers.\n",
      "[Parallel(n_jobs=-1)]: Done   5 out of   5 | elapsed:    1.0s finished\n"
     ]
    },
    {
     "name": "stdout",
     "output_type": "stream",
     "text": [
      "--- Validation score\n",
      "balanced_accuracy    0.697786\n",
      "recall_0             0.566667\n",
      "precision_0          0.549796\n",
      "recall_1             0.828904\n",
      "precision_1          0.839728\n",
      "auc                  0.750680\n",
      "dtype: float64\n",
      "tn: 33, fp:18, fn:53, tp:89\n",
      "[[33 18]\n",
      " [53 89]]\n",
      "--- Test score\n",
      "balanced_accuracy      0.636910\n",
      "recall_0               0.647059\n",
      "precision_0            0.383721\n",
      "recall_1               0.626761\n",
      "precision_1            0.831776\n",
      "auc                    0.648302\n",
      "False_positive_rate    0.352941\n",
      "False_negative_rate    0.373239\n",
      "dtype: float64\n",
      "------------ Dimention 128\n",
      "---- Do parameter tuning\n",
      "Scoring parameter balanced_accuracy\n",
      "Fitting 5 folds for each of 25 candidates, totalling 125 fits\n"
     ]
    },
    {
     "name": "stderr",
     "output_type": "stream",
     "text": [
      "[Parallel(n_jobs=12)]: Using backend LokyBackend with 12 concurrent workers.\n",
      "[Parallel(n_jobs=12)]: Done   8 tasks      | elapsed:    1.5s\n",
      "[Parallel(n_jobs=12)]: Done 125 out of 125 | elapsed:    9.7s finished\n"
     ]
    },
    {
     "name": "stdout",
     "output_type": "stream",
     "text": [
      "\n",
      " Time taken: 0 hours 0 minutes and 10.86 seconds.\n",
      "Best Score: 69.779%\n",
      "{'n_estimators': 400, 'scale_pos_weight': 0.36, 'min_child_weight': 1, 'max_depth': 3, 'max_delta_step': 5, 'learning_rate': 0.01, 'gamma': 1.5, 'colsample_bytree': 0.6, 'subsample': 1.0}\n"
     ]
    },
    {
     "name": "stderr",
     "output_type": "stream",
     "text": [
      "[Parallel(n_jobs=-1)]: Using backend LokyBackend with 16 concurrent workers.\n",
      "[Parallel(n_jobs=-1)]: Done   5 out of   5 | elapsed:    1.0s finished\n"
     ]
    },
    {
     "name": "stdout",
     "output_type": "stream",
     "text": [
      "--- Validation score\n",
      "balanced_accuracy    0.697786\n",
      "recall_0             0.566667\n",
      "precision_0          0.545128\n",
      "recall_1             0.828904\n",
      "precision_1          0.840141\n",
      "auc                  0.748747\n",
      "dtype: float64\n",
      "tn: 32, fp:19, fn:58, tp:84\n",
      "[[32 19]\n",
      " [58 84]]\n",
      "--- Test score\n",
      "balanced_accuracy      0.609500\n",
      "recall_0               0.627451\n",
      "precision_0            0.355556\n",
      "recall_1               0.591549\n",
      "precision_1            0.815534\n",
      "auc                    0.641950\n",
      "False_positive_rate    0.372549\n",
      "False_negative_rate    0.408451\n",
      "dtype: float64\n",
      "------------ Dimention 129\n",
      "---- Do parameter tuning\n",
      "Scoring parameter balanced_accuracy\n",
      "Fitting 5 folds for each of 25 candidates, totalling 125 fits\n"
     ]
    },
    {
     "name": "stderr",
     "output_type": "stream",
     "text": [
      "[Parallel(n_jobs=12)]: Using backend LokyBackend with 12 concurrent workers.\n",
      "[Parallel(n_jobs=12)]: Done   8 tasks      | elapsed:    1.4s\n",
      "[Parallel(n_jobs=12)]: Done 125 out of 125 | elapsed:    9.8s finished\n"
     ]
    },
    {
     "name": "stdout",
     "output_type": "stream",
     "text": [
      "\n",
      " Time taken: 0 hours 0 minutes and 11.19 seconds.\n",
      "Best Score: 69.693%\n",
      "{'n_estimators': 300, 'scale_pos_weight': 0.36, 'min_child_weight': 2, 'max_depth': 6, 'max_delta_step': 2, 'learning_rate': 0.02, 'gamma': 5, 'colsample_bytree': 0.8, 'subsample': 0.8}\n"
     ]
    },
    {
     "name": "stderr",
     "output_type": "stream",
     "text": [
      "[Parallel(n_jobs=-1)]: Using backend LokyBackend with 16 concurrent workers.\n",
      "[Parallel(n_jobs=-1)]: Done   5 out of   5 | elapsed:    1.2s finished\n"
     ]
    },
    {
     "name": "stdout",
     "output_type": "stream",
     "text": [
      "--- Validation score\n",
      "balanced_accuracy    0.696935\n",
      "recall_0             0.616667\n",
      "precision_0          0.506407\n",
      "recall_1             0.777203\n",
      "precision_1          0.846999\n",
      "auc                  0.756692\n",
      "dtype: float64\n",
      "tn: 34, fp:17, fn:58, tp:84\n",
      "[[34 17]\n",
      " [58 84]]\n",
      "--- Test score\n",
      "balanced_accuracy      0.629108\n",
      "recall_0               0.666667\n",
      "precision_0            0.369565\n",
      "recall_1               0.591549\n",
      "precision_1            0.831683\n",
      "auc                    0.639050\n",
      "False_positive_rate    0.333333\n",
      "False_negative_rate    0.408451\n",
      "dtype: float64\n",
      "------------ Dimention 130\n",
      "---- Do parameter tuning\n",
      "Scoring parameter balanced_accuracy\n",
      "Fitting 5 folds for each of 25 candidates, totalling 125 fits\n"
     ]
    },
    {
     "name": "stderr",
     "output_type": "stream",
     "text": [
      "[Parallel(n_jobs=12)]: Using backend LokyBackend with 12 concurrent workers.\n",
      "[Parallel(n_jobs=12)]: Done   8 tasks      | elapsed:    1.4s\n",
      "[Parallel(n_jobs=12)]: Done 125 out of 125 | elapsed:    9.9s finished\n"
     ]
    },
    {
     "name": "stdout",
     "output_type": "stream",
     "text": [
      "\n",
      " Time taken: 0 hours 0 minutes and 11.05 seconds.\n",
      "Best Score: 68.579%\n",
      "{'n_estimators': 500, 'scale_pos_weight': 0.2, 'min_child_weight': 5, 'max_depth': 5, 'max_delta_step': 4, 'learning_rate': 0.07, 'gamma': 1.5, 'colsample_bytree': 1.0, 'subsample': 0.8}\n"
     ]
    },
    {
     "name": "stderr",
     "output_type": "stream",
     "text": [
      "[Parallel(n_jobs=-1)]: Using backend LokyBackend with 16 concurrent workers.\n",
      "[Parallel(n_jobs=-1)]: Done   5 out of   5 | elapsed:    1.0s finished\n"
     ]
    },
    {
     "name": "stdout",
     "output_type": "stream",
     "text": [
      "--- Validation score\n",
      "balanced_accuracy    0.685787\n",
      "recall_0             0.625000\n",
      "precision_0          0.478529\n",
      "recall_1             0.746573\n",
      "precision_1          0.844013\n",
      "auc                  0.717471\n",
      "dtype: float64\n",
      "tn: 34, fp:17, fn:77, tp:65\n",
      "[[34 17]\n",
      " [77 65]]\n",
      "--- Test score\n",
      "balanced_accuracy      0.562207\n",
      "recall_0               0.666667\n",
      "precision_0            0.306306\n",
      "recall_1               0.457746\n",
      "precision_1            0.792683\n",
      "auc                    0.617371\n",
      "False_positive_rate    0.333333\n",
      "False_negative_rate    0.542254\n",
      "dtype: float64\n",
      "------------ Dimention 131\n",
      "---- Do parameter tuning\n",
      "Scoring parameter balanced_accuracy\n",
      "Fitting 5 folds for each of 25 candidates, totalling 125 fits\n"
     ]
    },
    {
     "name": "stderr",
     "output_type": "stream",
     "text": [
      "[Parallel(n_jobs=12)]: Using backend LokyBackend with 12 concurrent workers.\n",
      "[Parallel(n_jobs=12)]: Done   8 tasks      | elapsed:    1.4s\n",
      "[Parallel(n_jobs=12)]: Done 125 out of 125 | elapsed:    9.9s finished\n"
     ]
    },
    {
     "name": "stdout",
     "output_type": "stream",
     "text": [
      "\n",
      " Time taken: 0 hours 0 minutes and 11.29 seconds.\n",
      "Best Score: 68.867%\n",
      "{'n_estimators': 300, 'scale_pos_weight': 0.36, 'min_child_weight': 2, 'max_depth': 6, 'max_delta_step': 2, 'learning_rate': 0.02, 'gamma': 5, 'colsample_bytree': 0.8, 'subsample': 0.8}\n"
     ]
    },
    {
     "name": "stderr",
     "output_type": "stream",
     "text": [
      "[Parallel(n_jobs=-1)]: Using backend LokyBackend with 16 concurrent workers.\n",
      "[Parallel(n_jobs=-1)]: Done   5 out of   5 | elapsed:    1.2s finished\n"
     ]
    },
    {
     "name": "stdout",
     "output_type": "stream",
     "text": [
      "--- Validation score\n",
      "balanced_accuracy    0.688671\n",
      "recall_0             0.600000\n",
      "precision_0          0.499981\n",
      "recall_1             0.777343\n",
      "precision_1          0.841700\n",
      "auc                  0.748007\n",
      "dtype: float64\n",
      "tn: 36, fp:15, fn:64, tp:78\n",
      "[[36 15]\n",
      " [64 78]]\n",
      "--- Test score\n",
      "balanced_accuracy      0.627589\n",
      "recall_0               0.705882\n",
      "precision_0            0.360000\n",
      "recall_1               0.549296\n",
      "precision_1            0.838710\n",
      "auc                    0.655068\n",
      "False_positive_rate    0.294118\n",
      "False_negative_rate    0.450704\n",
      "dtype: float64\n",
      "------------ Dimention 132\n",
      "---- Do parameter tuning\n",
      "Scoring parameter balanced_accuracy\n",
      "Fitting 5 folds for each of 25 candidates, totalling 125 fits\n"
     ]
    },
    {
     "name": "stderr",
     "output_type": "stream",
     "text": [
      "[Parallel(n_jobs=12)]: Using backend LokyBackend with 12 concurrent workers.\n",
      "[Parallel(n_jobs=12)]: Done   8 tasks      | elapsed:    1.5s\n",
      "[Parallel(n_jobs=12)]: Done 125 out of 125 | elapsed:   10.0s finished\n"
     ]
    },
    {
     "name": "stdout",
     "output_type": "stream",
     "text": [
      "\n",
      " Time taken: 0 hours 0 minutes and 11.65 seconds.\n",
      "Best Score: 68.181%\n",
      "{'n_estimators': 700, 'scale_pos_weight': 0.2, 'min_child_weight': 2, 'max_depth': 3, 'max_delta_step': 5, 'learning_rate': 0.05, 'gamma': 2, 'colsample_bytree': 0.8, 'subsample': 1.0}\n"
     ]
    },
    {
     "name": "stderr",
     "output_type": "stream",
     "text": [
      "[Parallel(n_jobs=-1)]: Using backend LokyBackend with 16 concurrent workers.\n",
      "[Parallel(n_jobs=-1)]: Done   5 out of   5 | elapsed:    1.5s finished\n"
     ]
    },
    {
     "name": "stdout",
     "output_type": "stream",
     "text": [
      "--- Validation score\n",
      "balanced_accuracy    0.681812\n",
      "recall_0             0.708333\n",
      "precision_0          0.429233\n",
      "recall_1             0.655291\n",
      "precision_1          0.860581\n",
      "auc                  0.743801\n",
      "dtype: float64\n",
      "tn: 40, fp:11, fn:84, tp:58\n",
      "[[40 11]\n",
      " [84 58]]\n",
      "--- Test score\n",
      "balanced_accuracy      0.596382\n",
      "recall_0               0.784314\n",
      "precision_0            0.322581\n",
      "recall_1               0.408451\n",
      "precision_1            0.840580\n",
      "auc                    0.632215\n",
      "False_positive_rate    0.215686\n",
      "False_negative_rate    0.591549\n",
      "dtype: float64\n",
      "------------ Dimention 133\n",
      "---- Do parameter tuning\n",
      "Scoring parameter balanced_accuracy\n",
      "Fitting 5 folds for each of 25 candidates, totalling 125 fits\n"
     ]
    },
    {
     "name": "stderr",
     "output_type": "stream",
     "text": [
      "[Parallel(n_jobs=12)]: Using backend LokyBackend with 12 concurrent workers.\n",
      "[Parallel(n_jobs=12)]: Done   8 tasks      | elapsed:    1.4s\n",
      "[Parallel(n_jobs=12)]: Done 125 out of 125 | elapsed:   10.1s finished\n"
     ]
    },
    {
     "name": "stdout",
     "output_type": "stream",
     "text": [
      "\n",
      " Time taken: 0 hours 0 minutes and 11.15 seconds.\n",
      "Best Score: 68.223%\n",
      "{'n_estimators': 400, 'scale_pos_weight': 0.36, 'min_child_weight': 1, 'max_depth': 3, 'max_delta_step': 5, 'learning_rate': 0.01, 'gamma': 1.5, 'colsample_bytree': 0.6, 'subsample': 1.0}\n"
     ]
    },
    {
     "name": "stderr",
     "output_type": "stream",
     "text": [
      "[Parallel(n_jobs=-1)]: Using backend LokyBackend with 16 concurrent workers.\n",
      "[Parallel(n_jobs=-1)]: Done   5 out of   5 | elapsed:    1.0s finished\n"
     ]
    },
    {
     "name": "stdout",
     "output_type": "stream",
     "text": [
      "--- Validation score\n",
      "balanced_accuracy    0.682232\n",
      "recall_0             0.541667\n",
      "precision_0          0.526951\n",
      "recall_1             0.822797\n",
      "precision_1          0.831203\n",
      "auc                  0.747356\n",
      "dtype: float64\n",
      "tn: 31, fp:20, fn:55, tp:87\n",
      "[[31 20]\n",
      " [55 87]]\n",
      "--- Test score\n",
      "balanced_accuracy      0.610260\n",
      "recall_0               0.607843\n",
      "precision_0            0.360465\n",
      "recall_1               0.612676\n",
      "precision_1            0.813084\n",
      "auc                    0.642364\n",
      "False_positive_rate    0.392157\n",
      "False_negative_rate    0.387324\n",
      "dtype: float64\n",
      "------------ Dimention 134\n",
      "---- Do parameter tuning\n",
      "Scoring parameter balanced_accuracy\n",
      "Fitting 5 folds for each of 25 candidates, totalling 125 fits\n"
     ]
    },
    {
     "name": "stderr",
     "output_type": "stream",
     "text": [
      "[Parallel(n_jobs=12)]: Using backend LokyBackend with 12 concurrent workers.\n",
      "[Parallel(n_jobs=12)]: Done   8 tasks      | elapsed:    1.7s\n",
      "[Parallel(n_jobs=12)]: Done 125 out of 125 | elapsed:   10.2s finished\n"
     ]
    },
    {
     "name": "stdout",
     "output_type": "stream",
     "text": [
      "\n",
      " Time taken: 0 hours 0 minutes and 11.37 seconds.\n",
      "Best Score: 68.114%\n",
      "{'n_estimators': 400, 'scale_pos_weight': 0.36, 'min_child_weight': 1, 'max_depth': 3, 'max_delta_step': 5, 'learning_rate': 0.01, 'gamma': 1.5, 'colsample_bytree': 0.6, 'subsample': 1.0}\n"
     ]
    },
    {
     "name": "stderr",
     "output_type": "stream",
     "text": [
      "[Parallel(n_jobs=-1)]: Using backend LokyBackend with 16 concurrent workers.\n",
      "[Parallel(n_jobs=-1)]: Done   5 out of   5 | elapsed:    1.0s finished\n"
     ]
    },
    {
     "name": "stdout",
     "output_type": "stream",
     "text": [
      "--- Validation score\n",
      "balanced_accuracy    0.681142\n",
      "recall_0             0.533333\n",
      "precision_0          0.530457\n",
      "recall_1             0.828951\n",
      "precision_1          0.829780\n",
      "auc                  0.744821\n",
      "dtype: float64\n",
      "tn: 28, fp:23, fn:53, tp:89\n",
      "[[28 23]\n",
      " [53 89]]\n",
      "--- Test score\n",
      "balanced_accuracy      0.587890\n",
      "recall_0               0.549020\n",
      "precision_0            0.345679\n",
      "recall_1               0.626761\n",
      "precision_1            0.794643\n",
      "auc                    0.636841\n",
      "False_positive_rate    0.450980\n",
      "False_negative_rate    0.373239\n",
      "dtype: float64\n",
      "------------ Dimention 135\n",
      "---- Do parameter tuning\n",
      "Scoring parameter balanced_accuracy\n",
      "Fitting 5 folds for each of 25 candidates, totalling 125 fits\n"
     ]
    },
    {
     "name": "stderr",
     "output_type": "stream",
     "text": [
      "[Parallel(n_jobs=12)]: Using backend LokyBackend with 12 concurrent workers.\n",
      "[Parallel(n_jobs=12)]: Done   8 tasks      | elapsed:    1.5s\n",
      "[Parallel(n_jobs=12)]: Done 125 out of 125 | elapsed:   10.3s finished\n"
     ]
    },
    {
     "name": "stdout",
     "output_type": "stream",
     "text": [
      "\n",
      " Time taken: 0 hours 0 minutes and 11.46 seconds.\n",
      "Best Score: 68.938%\n",
      "{'n_estimators': 400, 'scale_pos_weight': 0.36, 'min_child_weight': 1, 'max_depth': 3, 'max_delta_step': 5, 'learning_rate': 0.01, 'gamma': 1.5, 'colsample_bytree': 0.6, 'subsample': 1.0}\n"
     ]
    },
    {
     "name": "stderr",
     "output_type": "stream",
     "text": [
      "[Parallel(n_jobs=-1)]: Using backend LokyBackend with 16 concurrent workers.\n",
      "[Parallel(n_jobs=-1)]: Done   5 out of   5 | elapsed:    1.0s finished\n"
     ]
    },
    {
     "name": "stdout",
     "output_type": "stream",
     "text": [
      "--- Validation score\n",
      "balanced_accuracy    0.689382\n",
      "recall_0             0.550000\n",
      "precision_0          0.548810\n",
      "recall_1             0.828765\n",
      "precision_1          0.833629\n",
      "auc                  0.743780\n",
      "dtype: float64\n",
      "tn: 30, fp:21, fn:54, tp:88\n",
      "[[30 21]\n",
      " [54 88]]\n",
      "--- Test score\n",
      "balanced_accuracy      0.603977\n",
      "recall_0               0.588235\n",
      "precision_0            0.357143\n",
      "recall_1               0.619718\n",
      "precision_1            0.807339\n",
      "auc                    0.639326\n",
      "False_positive_rate    0.411765\n",
      "False_negative_rate    0.380282\n",
      "dtype: float64\n",
      "------------ Dimention 136\n",
      "---- Do parameter tuning\n",
      "Scoring parameter balanced_accuracy\n",
      "Fitting 5 folds for each of 25 candidates, totalling 125 fits\n"
     ]
    },
    {
     "name": "stderr",
     "output_type": "stream",
     "text": [
      "[Parallel(n_jobs=12)]: Using backend LokyBackend with 12 concurrent workers.\n",
      "[Parallel(n_jobs=12)]: Done   8 tasks      | elapsed:    1.5s\n",
      "[Parallel(n_jobs=12)]: Done 125 out of 125 | elapsed:   10.2s finished\n"
     ]
    },
    {
     "name": "stdout",
     "output_type": "stream",
     "text": [
      "\n",
      " Time taken: 0 hours 0 minutes and 11.29 seconds.\n",
      "Best Score: 68.413%\n",
      "{'n_estimators': 400, 'scale_pos_weight': 0.36, 'min_child_weight': 1, 'max_depth': 3, 'max_delta_step': 5, 'learning_rate': 0.01, 'gamma': 1.5, 'colsample_bytree': 0.6, 'subsample': 1.0}\n"
     ]
    },
    {
     "name": "stderr",
     "output_type": "stream",
     "text": [
      "[Parallel(n_jobs=-1)]: Using backend LokyBackend with 16 concurrent workers.\n",
      "[Parallel(n_jobs=-1)]: Done   5 out of   5 | elapsed:    1.0s finished\n"
     ]
    },
    {
     "name": "stdout",
     "output_type": "stream",
     "text": [
      "--- Validation score\n",
      "balanced_accuracy    0.684126\n",
      "recall_0             0.533333\n",
      "precision_0          0.544560\n",
      "recall_1             0.834918\n",
      "precision_1          0.830679\n",
      "auc                  0.747253\n",
      "dtype: float64\n",
      "tn: 30, fp:21, fn:52, tp:90\n",
      "[[30 21]\n",
      " [52 90]]\n",
      "--- Test score\n",
      "balanced_accuracy      0.611019\n",
      "recall_0               0.588235\n",
      "precision_0            0.365854\n",
      "recall_1               0.633803\n",
      "precision_1            0.810811\n",
      "auc                    0.632836\n",
      "False_positive_rate    0.411765\n",
      "False_negative_rate    0.366197\n",
      "dtype: float64\n",
      "------------ Dimention 137\n",
      "---- Do parameter tuning\n",
      "Scoring parameter balanced_accuracy\n",
      "Fitting 5 folds for each of 25 candidates, totalling 125 fits\n"
     ]
    },
    {
     "name": "stderr",
     "output_type": "stream",
     "text": [
      "[Parallel(n_jobs=12)]: Using backend LokyBackend with 12 concurrent workers.\n",
      "[Parallel(n_jobs=12)]: Done   8 tasks      | elapsed:    1.6s\n",
      "[Parallel(n_jobs=12)]: Done 125 out of 125 | elapsed:   10.3s finished\n"
     ]
    },
    {
     "name": "stdout",
     "output_type": "stream",
     "text": [
      "\n",
      " Time taken: 0 hours 0 minutes and 11.56 seconds.\n",
      "Best Score: 69.509%\n",
      "{'n_estimators': 400, 'scale_pos_weight': 0.36, 'min_child_weight': 1, 'max_depth': 3, 'max_delta_step': 5, 'learning_rate': 0.01, 'gamma': 1.5, 'colsample_bytree': 0.6, 'subsample': 1.0}\n"
     ]
    },
    {
     "name": "stderr",
     "output_type": "stream",
     "text": [
      "[Parallel(n_jobs=-1)]: Using backend LokyBackend with 16 concurrent workers.\n",
      "[Parallel(n_jobs=-1)]: Done   5 out of   5 | elapsed:    1.1s finished\n"
     ]
    },
    {
     "name": "stdout",
     "output_type": "stream",
     "text": [
      "--- Validation score\n",
      "balanced_accuracy    0.695087\n",
      "recall_0             0.558333\n",
      "precision_0          0.555086\n",
      "recall_1             0.831841\n",
      "precision_1          0.836927\n",
      "auc                  0.752720\n",
      "dtype: float64\n",
      "tn: 31, fp:20, fn:52, tp:90\n",
      "[[31 20]\n",
      " [52 90]]\n",
      "--- Test score\n",
      "balanced_accuracy      0.620823\n",
      "recall_0               0.607843\n",
      "precision_0            0.373494\n",
      "recall_1               0.633803\n",
      "precision_1            0.818182\n",
      "auc                    0.637945\n",
      "False_positive_rate    0.392157\n",
      "False_negative_rate    0.366197\n",
      "dtype: float64\n",
      "------------ Dimention 138\n",
      "---- Do parameter tuning\n",
      "Scoring parameter balanced_accuracy\n",
      "Fitting 5 folds for each of 25 candidates, totalling 125 fits\n"
     ]
    },
    {
     "name": "stderr",
     "output_type": "stream",
     "text": [
      "[Parallel(n_jobs=12)]: Using backend LokyBackend with 12 concurrent workers.\n",
      "[Parallel(n_jobs=12)]: Done   8 tasks      | elapsed:    1.5s\n",
      "[Parallel(n_jobs=12)]: Done 125 out of 125 | elapsed:   10.5s finished\n"
     ]
    },
    {
     "name": "stdout",
     "output_type": "stream",
     "text": [
      "\n",
      " Time taken: 0 hours 0 minutes and 11.66 seconds.\n",
      "Best Score: 68.110%\n",
      "{'n_estimators': 400, 'scale_pos_weight': 0.36, 'min_child_weight': 1, 'max_depth': 3, 'max_delta_step': 5, 'learning_rate': 0.01, 'gamma': 1.5, 'colsample_bytree': 0.6, 'subsample': 1.0}\n"
     ]
    },
    {
     "name": "stderr",
     "output_type": "stream",
     "text": [
      "[Parallel(n_jobs=-1)]: Using backend LokyBackend with 16 concurrent workers.\n",
      "[Parallel(n_jobs=-1)]: Done   5 out of   5 | elapsed:    1.0s finished\n"
     ]
    },
    {
     "name": "stdout",
     "output_type": "stream",
     "text": [
      "--- Validation score\n",
      "balanced_accuracy    0.681096\n",
      "recall_0             0.533333\n",
      "precision_0          0.536090\n",
      "recall_1             0.828858\n",
      "precision_1          0.829365\n",
      "auc                  0.741018\n",
      "dtype: float64\n",
      "tn: 29, fp:22, fn:59, tp:83\n",
      "[[29 22]\n",
      " [59 83]]\n",
      "--- Test score\n",
      "balanced_accuracy      0.576567\n",
      "recall_0               0.568627\n",
      "precision_0            0.329545\n",
      "recall_1               0.584507\n",
      "precision_1            0.790476\n",
      "auc                    0.633112\n",
      "False_positive_rate    0.431373\n",
      "False_negative_rate    0.415493\n",
      "dtype: float64\n",
      "------------ Dimention 139\n",
      "---- Do parameter tuning\n",
      "Scoring parameter balanced_accuracy\n",
      "Fitting 5 folds for each of 25 candidates, totalling 125 fits\n"
     ]
    },
    {
     "name": "stderr",
     "output_type": "stream",
     "text": [
      "[Parallel(n_jobs=12)]: Using backend LokyBackend with 12 concurrent workers.\n",
      "[Parallel(n_jobs=12)]: Done   8 tasks      | elapsed:    1.6s\n",
      "[Parallel(n_jobs=12)]: Done 125 out of 125 | elapsed:   10.6s finished\n"
     ]
    },
    {
     "name": "stdout",
     "output_type": "stream",
     "text": [
      "\n",
      " Time taken: 0 hours 0 minutes and 12.1 seconds.\n",
      "Best Score: 68.889%\n",
      "{'n_estimators': 300, 'scale_pos_weight': 0.36, 'min_child_weight': 2, 'max_depth': 6, 'max_delta_step': 2, 'learning_rate': 0.02, 'gamma': 5, 'colsample_bytree': 0.8, 'subsample': 0.8}\n"
     ]
    },
    {
     "name": "stderr",
     "output_type": "stream",
     "text": [
      "[Parallel(n_jobs=-1)]: Using backend LokyBackend with 16 concurrent workers.\n",
      "[Parallel(n_jobs=-1)]: Done   5 out of   5 | elapsed:    1.2s finished\n"
     ]
    },
    {
     "name": "stdout",
     "output_type": "stream",
     "text": [
      "--- Validation score\n",
      "balanced_accuracy    0.688887\n",
      "recall_0             0.625000\n",
      "precision_0          0.487630\n",
      "recall_1             0.752774\n",
      "precision_1          0.845047\n",
      "auc                  0.751900\n",
      "dtype: float64\n",
      "tn: 35, fp:16, fn:62, tp:80\n",
      "[[35 16]\n",
      " [62 80]]\n",
      "--- Test score\n",
      "balanced_accuracy      0.624827\n",
      "recall_0               0.686275\n",
      "precision_0            0.360825\n",
      "recall_1               0.563380\n",
      "precision_1            0.833333\n",
      "auc                    0.639464\n",
      "False_positive_rate    0.313725\n",
      "False_negative_rate    0.436620\n",
      "dtype: float64\n",
      "------------ Dimention 140\n",
      "---- Do parameter tuning\n",
      "Scoring parameter balanced_accuracy\n",
      "Fitting 5 folds for each of 25 candidates, totalling 125 fits\n"
     ]
    },
    {
     "name": "stderr",
     "output_type": "stream",
     "text": [
      "[Parallel(n_jobs=12)]: Using backend LokyBackend with 12 concurrent workers.\n",
      "[Parallel(n_jobs=12)]: Done   8 tasks      | elapsed:    1.6s\n",
      "[Parallel(n_jobs=12)]: Done 125 out of 125 | elapsed:   10.5s finished\n"
     ]
    },
    {
     "name": "stdout",
     "output_type": "stream",
     "text": [
      "\n",
      " Time taken: 0 hours 0 minutes and 11.48 seconds.\n",
      "Best Score: 67.953%\n",
      "{'n_estimators': 400, 'scale_pos_weight': 0.36, 'min_child_weight': 1, 'max_depth': 3, 'max_delta_step': 5, 'learning_rate': 0.01, 'gamma': 1.5, 'colsample_bytree': 0.6, 'subsample': 1.0}\n"
     ]
    },
    {
     "name": "stderr",
     "output_type": "stream",
     "text": [
      "[Parallel(n_jobs=-1)]: Using backend LokyBackend with 16 concurrent workers.\n",
      "[Parallel(n_jobs=-1)]: Done   5 out of   5 | elapsed:    1.1s finished\n"
     ]
    },
    {
     "name": "stdout",
     "output_type": "stream",
     "text": [
      "--- Validation score\n",
      "balanced_accuracy    0.679534\n",
      "recall_0             0.533333\n",
      "precision_0          0.531753\n",
      "recall_1             0.825734\n",
      "precision_1          0.828727\n",
      "auc                  0.745829\n",
      "dtype: float64\n",
      "tn: 29, fp:22, fn:52, tp:90\n",
      "[[29 22]\n",
      " [52 90]]\n",
      "--- Test score\n",
      "balanced_accuracy      0.601215\n",
      "recall_0               0.568627\n",
      "precision_0            0.358025\n",
      "recall_1               0.633803\n",
      "precision_1            0.803571\n",
      "auc                    0.634493\n",
      "False_positive_rate    0.431373\n",
      "False_negative_rate    0.366197\n",
      "dtype: float64\n",
      "------------ Dimention 141\n",
      "---- Do parameter tuning\n",
      "Scoring parameter balanced_accuracy\n",
      "Fitting 5 folds for each of 25 candidates, totalling 125 fits\n"
     ]
    },
    {
     "name": "stderr",
     "output_type": "stream",
     "text": [
      "[Parallel(n_jobs=12)]: Using backend LokyBackend with 12 concurrent workers.\n",
      "[Parallel(n_jobs=12)]: Done   8 tasks      | elapsed:    1.5s\n",
      "[Parallel(n_jobs=12)]: Done 125 out of 125 | elapsed:   10.5s finished\n"
     ]
    },
    {
     "name": "stdout",
     "output_type": "stream",
     "text": [
      "\n",
      " Time taken: 0 hours 0 minutes and 12.04 seconds.\n",
      "Best Score: 68.825%\n",
      "{'n_estimators': 300, 'scale_pos_weight': 0.36, 'min_child_weight': 2, 'max_depth': 6, 'max_delta_step': 2, 'learning_rate': 0.02, 'gamma': 5, 'colsample_bytree': 0.8, 'subsample': 0.8}\n"
     ]
    },
    {
     "name": "stderr",
     "output_type": "stream",
     "text": [
      "[Parallel(n_jobs=-1)]: Using backend LokyBackend with 16 concurrent workers.\n",
      "[Parallel(n_jobs=-1)]: Done   5 out of   5 | elapsed:    1.3s finished\n"
     ]
    },
    {
     "name": "stdout",
     "output_type": "stream",
     "text": [
      "--- Validation score\n",
      "balanced_accuracy    0.688246\n",
      "recall_0             0.608333\n",
      "precision_0          0.486120\n",
      "recall_1             0.768159\n",
      "precision_1          0.844183\n",
      "auc                  0.755818\n",
      "dtype: float64\n",
      "tn: 36, fp:15, fn:62, tp:80\n",
      "[[36 15]\n",
      " [62 80]]\n",
      "--- Test score\n",
      "balanced_accuracy      0.634631\n",
      "recall_0               0.705882\n",
      "precision_0            0.367347\n",
      "recall_1               0.563380\n",
      "precision_1            0.842105\n",
      "auc                    0.650649\n",
      "False_positive_rate    0.294118\n",
      "False_negative_rate    0.436620\n",
      "dtype: float64\n",
      "------------ Dimention 142\n",
      "---- Do parameter tuning\n",
      "Scoring parameter balanced_accuracy\n",
      "Fitting 5 folds for each of 25 candidates, totalling 125 fits\n"
     ]
    },
    {
     "name": "stderr",
     "output_type": "stream",
     "text": [
      "[Parallel(n_jobs=12)]: Using backend LokyBackend with 12 concurrent workers.\n",
      "[Parallel(n_jobs=12)]: Done   8 tasks      | elapsed:    1.4s\n",
      "[Parallel(n_jobs=12)]: Done 125 out of 125 | elapsed:   10.8s finished\n"
     ]
    },
    {
     "name": "stdout",
     "output_type": "stream",
     "text": [
      "\n",
      " Time taken: 0 hours 0 minutes and 11.9 seconds.\n",
      "Best Score: 68.377%\n",
      "{'n_estimators': 400, 'scale_pos_weight': 0.36, 'min_child_weight': 1, 'max_depth': 3, 'max_delta_step': 5, 'learning_rate': 0.01, 'gamma': 1.5, 'colsample_bytree': 0.6, 'subsample': 1.0}\n"
     ]
    },
    {
     "name": "stderr",
     "output_type": "stream",
     "text": [
      "[Parallel(n_jobs=-1)]: Using backend LokyBackend with 16 concurrent workers.\n",
      "[Parallel(n_jobs=-1)]: Done   5 out of   5 | elapsed:    1.1s finished\n"
     ]
    },
    {
     "name": "stdout",
     "output_type": "stream",
     "text": [
      "--- Validation score\n",
      "balanced_accuracy    0.683770\n",
      "recall_0             0.541667\n",
      "precision_0          0.528619\n",
      "recall_1             0.825874\n",
      "precision_1          0.832017\n",
      "auc                  0.748928\n",
      "dtype: float64\n",
      "tn: 32, fp:19, fn:57, tp:85\n",
      "[[32 19]\n",
      " [57 85]]\n",
      "--- Test score\n",
      "balanced_accuracy      0.613021\n",
      "recall_0               0.627451\n",
      "precision_0            0.359551\n",
      "recall_1               0.598592\n",
      "precision_1            0.817308\n",
      "auc                    0.646506\n",
      "False_positive_rate    0.372549\n",
      "False_negative_rate    0.401408\n",
      "dtype: float64\n",
      "------------ Dimention 143\n",
      "---- Do parameter tuning\n",
      "Scoring parameter balanced_accuracy\n",
      "Fitting 5 folds for each of 25 candidates, totalling 125 fits\n"
     ]
    },
    {
     "name": "stderr",
     "output_type": "stream",
     "text": [
      "[Parallel(n_jobs=12)]: Using backend LokyBackend with 12 concurrent workers.\n",
      "[Parallel(n_jobs=12)]: Done   8 tasks      | elapsed:    1.5s\n",
      "[Parallel(n_jobs=12)]: Done 125 out of 125 | elapsed:   10.8s finished\n"
     ]
    },
    {
     "name": "stdout",
     "output_type": "stream",
     "text": [
      "\n",
      " Time taken: 0 hours 0 minutes and 11.94 seconds.\n",
      "Best Score: 67.390%\n",
      "{'n_estimators': 400, 'scale_pos_weight': 0.36, 'min_child_weight': 1, 'max_depth': 3, 'max_delta_step': 5, 'learning_rate': 0.01, 'gamma': 1.5, 'colsample_bytree': 0.6, 'subsample': 1.0}\n"
     ]
    },
    {
     "name": "stderr",
     "output_type": "stream",
     "text": [
      "[Parallel(n_jobs=-1)]: Using backend LokyBackend with 16 concurrent workers.\n",
      "[Parallel(n_jobs=-1)]: Done   5 out of   5 | elapsed:    1.0s finished\n"
     ]
    },
    {
     "name": "stdout",
     "output_type": "stream",
     "text": [
      "--- Validation score\n",
      "balanced_accuracy    0.673899\n",
      "recall_0             0.525000\n",
      "precision_0          0.522813\n",
      "recall_1             0.822797\n",
      "precision_1          0.825492\n",
      "auc                  0.744664\n",
      "dtype: float64\n",
      "tn: 30, fp:21, fn:57, tp:85\n",
      "[[30 21]\n",
      " [57 85]]\n",
      "--- Test score\n",
      "balanced_accuracy      0.593413\n",
      "recall_0               0.588235\n",
      "precision_0            0.344828\n",
      "recall_1               0.598592\n",
      "precision_1            0.801887\n",
      "auc                    0.637255\n",
      "False_positive_rate    0.411765\n",
      "False_negative_rate    0.401408\n",
      "dtype: float64\n",
      "------------ Dimention 144\n",
      "---- Do parameter tuning\n",
      "Scoring parameter balanced_accuracy\n",
      "Fitting 5 folds for each of 25 candidates, totalling 125 fits\n"
     ]
    },
    {
     "name": "stderr",
     "output_type": "stream",
     "text": [
      "[Parallel(n_jobs=12)]: Using backend LokyBackend with 12 concurrent workers.\n",
      "[Parallel(n_jobs=12)]: Done   8 tasks      | elapsed:    1.5s\n",
      "[Parallel(n_jobs=12)]: Done 125 out of 125 | elapsed:   10.8s finished\n"
     ]
    },
    {
     "name": "stdout",
     "output_type": "stream",
     "text": [
      "\n",
      " Time taken: 0 hours 0 minutes and 11.93 seconds.\n",
      "Best Score: 68.375%\n",
      "{'n_estimators': 400, 'scale_pos_weight': 0.36, 'min_child_weight': 1, 'max_depth': 3, 'max_delta_step': 5, 'learning_rate': 0.01, 'gamma': 1.5, 'colsample_bytree': 0.6, 'subsample': 1.0}\n"
     ]
    },
    {
     "name": "stderr",
     "output_type": "stream",
     "text": [
      "[Parallel(n_jobs=-1)]: Using backend LokyBackend with 16 concurrent workers.\n",
      "[Parallel(n_jobs=-1)]: Done   5 out of   5 | elapsed:    1.1s finished\n"
     ]
    },
    {
     "name": "stdout",
     "output_type": "stream",
     "text": [
      "--- Validation score\n",
      "balanced_accuracy    0.683747\n",
      "recall_0             0.541667\n",
      "precision_0          0.534009\n",
      "recall_1             0.825828\n",
      "precision_1          0.831044\n",
      "auc                  0.744942\n",
      "dtype: float64\n",
      "tn: 31, fp:20, fn:58, tp:84\n",
      "[[31 20]\n",
      " [58 84]]\n",
      "--- Test score\n",
      "balanced_accuracy      0.599696\n",
      "recall_0               0.607843\n",
      "precision_0            0.348315\n",
      "recall_1               0.591549\n",
      "precision_1            0.807692\n",
      "auc                    0.632974\n",
      "False_positive_rate    0.392157\n",
      "False_negative_rate    0.408451\n",
      "dtype: float64\n",
      "------------ Dimention 145\n",
      "---- Do parameter tuning\n",
      "Scoring parameter balanced_accuracy\n",
      "Fitting 5 folds for each of 25 candidates, totalling 125 fits\n"
     ]
    },
    {
     "name": "stderr",
     "output_type": "stream",
     "text": [
      "[Parallel(n_jobs=12)]: Using backend LokyBackend with 12 concurrent workers.\n",
      "[Parallel(n_jobs=12)]: Done   8 tasks      | elapsed:    1.6s\n",
      "[Parallel(n_jobs=12)]: Done 125 out of 125 | elapsed:   10.9s finished\n"
     ]
    },
    {
     "name": "stdout",
     "output_type": "stream",
     "text": [
      "\n",
      " Time taken: 0 hours 0 minutes and 12.15 seconds.\n",
      "Best Score: 68.526%\n",
      "{'n_estimators': 400, 'scale_pos_weight': 0.36, 'min_child_weight': 1, 'max_depth': 3, 'max_delta_step': 5, 'learning_rate': 0.01, 'gamma': 1.5, 'colsample_bytree': 0.6, 'subsample': 1.0}\n"
     ]
    },
    {
     "name": "stderr",
     "output_type": "stream",
     "text": [
      "[Parallel(n_jobs=-1)]: Using backend LokyBackend with 16 concurrent workers.\n",
      "[Parallel(n_jobs=-1)]: Done   5 out of   5 | elapsed:    0.7s finished\n"
     ]
    },
    {
     "name": "stdout",
     "output_type": "stream",
     "text": [
      "--- Validation score\n",
      "balanced_accuracy    0.685262\n",
      "recall_0             0.541667\n",
      "precision_0          0.541783\n",
      "recall_1             0.828858\n",
      "precision_1          0.831487\n",
      "auc                  0.745711\n",
      "dtype: float64\n",
      "tn: 30, fp:21, fn:55, tp:87\n",
      "[[30 21]\n",
      " [55 87]]\n",
      "--- Test score\n",
      "balanced_accuracy      0.600456\n",
      "recall_0               0.588235\n",
      "precision_0            0.352941\n",
      "recall_1               0.612676\n",
      "precision_1            0.805556\n",
      "auc                    0.648578\n",
      "False_positive_rate    0.411765\n",
      "False_negative_rate    0.387324\n",
      "dtype: float64\n",
      "------------ Dimention 146\n",
      "---- Do parameter tuning\n",
      "Scoring parameter balanced_accuracy\n",
      "Fitting 5 folds for each of 25 candidates, totalling 125 fits\n"
     ]
    },
    {
     "name": "stderr",
     "output_type": "stream",
     "text": [
      "[Parallel(n_jobs=12)]: Using backend LokyBackend with 12 concurrent workers.\n",
      "[Parallel(n_jobs=12)]: Done   8 tasks      | elapsed:    1.5s\n",
      "[Parallel(n_jobs=12)]: Done 125 out of 125 | elapsed:   10.9s finished\n"
     ]
    },
    {
     "name": "stdout",
     "output_type": "stream",
     "text": [
      "\n",
      " Time taken: 0 hours 0 minutes and 12.02 seconds.\n",
      "Best Score: 68.680%\n",
      "{'n_estimators': 400, 'scale_pos_weight': 0.36, 'min_child_weight': 1, 'max_depth': 3, 'max_delta_step': 5, 'learning_rate': 0.01, 'gamma': 1.5, 'colsample_bytree': 0.6, 'subsample': 1.0}\n"
     ]
    },
    {
     "name": "stderr",
     "output_type": "stream",
     "text": [
      "[Parallel(n_jobs=-1)]: Using backend LokyBackend with 16 concurrent workers.\n",
      "[Parallel(n_jobs=-1)]: Done   5 out of   5 | elapsed:    1.1s finished\n"
     ]
    },
    {
     "name": "stdout",
     "output_type": "stream",
     "text": [
      "--- Validation score\n",
      "balanced_accuracy    0.686801\n",
      "recall_0             0.541667\n",
      "precision_0          0.540256\n",
      "recall_1             0.831935\n",
      "precision_1          0.832509\n",
      "auc                  0.741521\n",
      "dtype: float64\n",
      "tn: 31, fp:20, fn:53, tp:89\n",
      "[[31 20]\n",
      " [53 89]]\n",
      "--- Test score\n",
      "balanced_accuracy      0.617302\n",
      "recall_0               0.607843\n",
      "precision_0            0.369048\n",
      "recall_1               0.626761\n",
      "precision_1            0.816514\n",
      "auc                    0.643607\n",
      "False_positive_rate    0.392157\n",
      "False_negative_rate    0.373239\n",
      "dtype: float64\n",
      "------------ Dimention 147\n",
      "---- Do parameter tuning\n",
      "Scoring parameter balanced_accuracy\n",
      "Fitting 5 folds for each of 25 candidates, totalling 125 fits\n"
     ]
    },
    {
     "name": "stderr",
     "output_type": "stream",
     "text": [
      "[Parallel(n_jobs=12)]: Using backend LokyBackend with 12 concurrent workers.\n",
      "[Parallel(n_jobs=12)]: Done   8 tasks      | elapsed:    1.5s\n",
      "[Parallel(n_jobs=12)]: Done 125 out of 125 | elapsed:   11.0s finished\n"
     ]
    },
    {
     "name": "stdout",
     "output_type": "stream",
     "text": [
      "\n",
      " Time taken: 0 hours 0 minutes and 12.18 seconds.\n",
      "Best Score: 67.882%\n",
      "{'n_estimators': 400, 'scale_pos_weight': 0.36, 'min_child_weight': 1, 'max_depth': 3, 'max_delta_step': 5, 'learning_rate': 0.01, 'gamma': 1.5, 'colsample_bytree': 0.6, 'subsample': 1.0}\n"
     ]
    },
    {
     "name": "stderr",
     "output_type": "stream",
     "text": [
      "[Parallel(n_jobs=-1)]: Using backend LokyBackend with 16 concurrent workers.\n",
      "[Parallel(n_jobs=-1)]: Done   5 out of   5 | elapsed:    1.1s finished\n"
     ]
    },
    {
     "name": "stdout",
     "output_type": "stream",
     "text": [
      "--- Validation score\n",
      "balanced_accuracy    0.678823\n",
      "recall_0             0.516667\n",
      "precision_0          0.547477\n",
      "recall_1             0.840979\n",
      "precision_1          0.826278\n",
      "auc                  0.753716\n",
      "dtype: float64\n",
      "tn: 29, fp:22, fn:54, tp:88\n",
      "[[29 22]\n",
      " [54 88]]\n",
      "--- Test score\n",
      "balanced_accuracy      0.594173\n",
      "recall_0               0.568627\n",
      "precision_0            0.349398\n",
      "recall_1               0.619718\n",
      "precision_1            0.800000\n",
      "auc                    0.639464\n",
      "False_positive_rate    0.431373\n",
      "False_negative_rate    0.380282\n",
      "dtype: float64\n",
      "------------ Dimention 148\n",
      "---- Do parameter tuning\n",
      "Scoring parameter balanced_accuracy\n",
      "Fitting 5 folds for each of 25 candidates, totalling 125 fits\n"
     ]
    },
    {
     "name": "stderr",
     "output_type": "stream",
     "text": [
      "[Parallel(n_jobs=12)]: Using backend LokyBackend with 12 concurrent workers.\n",
      "[Parallel(n_jobs=12)]: Done   8 tasks      | elapsed:    1.6s\n",
      "[Parallel(n_jobs=12)]: Done 125 out of 125 | elapsed:   11.0s finished\n"
     ]
    },
    {
     "name": "stdout",
     "output_type": "stream",
     "text": [
      "\n",
      " Time taken: 0 hours 0 minutes and 12.58 seconds.\n",
      "Best Score: 68.026%\n",
      "{'n_estimators': 700, 'scale_pos_weight': 0.2, 'min_child_weight': 4, 'max_depth': 6, 'max_delta_step': 5, 'learning_rate': 0.02, 'gamma': 5, 'colsample_bytree': 0.6, 'subsample': 0.8}\n"
     ]
    },
    {
     "name": "stderr",
     "output_type": "stream",
     "text": [
      "[Parallel(n_jobs=-1)]: Using backend LokyBackend with 16 concurrent workers.\n",
      "[Parallel(n_jobs=-1)]: Done   5 out of   5 | elapsed:    1.3s finished\n"
     ]
    },
    {
     "name": "stdout",
     "output_type": "stream",
     "text": [
      "--- Validation score\n",
      "balanced_accuracy    0.680256\n",
      "recall_0             0.866667\n",
      "precision_0          0.385181\n",
      "recall_1             0.493846\n",
      "precision_1          0.912289\n",
      "auc                  0.739606\n",
      "dtype: float64\n",
      "tn: 48, fp:3, fn:121, tp:21\n",
      "[[ 48   3]\n",
      " [121  21]]\n",
      "--- Test score\n",
      "balanced_accuracy      0.544532\n",
      "recall_0               0.941176\n",
      "precision_0            0.284024\n",
      "recall_1               0.147887\n",
      "precision_1            0.875000\n",
      "auc                    0.650028\n",
      "False_positive_rate    0.058824\n",
      "False_negative_rate    0.852113\n",
      "dtype: float64\n",
      "------------ Dimention 149\n",
      "---- Do parameter tuning\n",
      "Scoring parameter balanced_accuracy\n",
      "Fitting 5 folds for each of 25 candidates, totalling 125 fits\n"
     ]
    },
    {
     "name": "stderr",
     "output_type": "stream",
     "text": [
      "[Parallel(n_jobs=12)]: Using backend LokyBackend with 12 concurrent workers.\n",
      "[Parallel(n_jobs=12)]: Done   8 tasks      | elapsed:    1.4s\n",
      "[Parallel(n_jobs=12)]: Done 125 out of 125 | elapsed:   11.3s finished\n"
     ]
    },
    {
     "name": "stdout",
     "output_type": "stream",
     "text": [
      "\n",
      " Time taken: 0 hours 0 minutes and 12.98 seconds.\n",
      "Best Score: 68.515%\n",
      "{'n_estimators': 500, 'scale_pos_weight': 0.36, 'min_child_weight': 4, 'max_depth': 5, 'max_delta_step': 4, 'learning_rate': 0.02, 'gamma': 5, 'colsample_bytree': 1.0, 'subsample': 0.6}\n"
     ]
    },
    {
     "name": "stderr",
     "output_type": "stream",
     "text": [
      "[Parallel(n_jobs=-1)]: Using backend LokyBackend with 16 concurrent workers.\n",
      "[Parallel(n_jobs=-1)]: Done   5 out of   5 | elapsed:    1.5s finished\n"
     ]
    },
    {
     "name": "stdout",
     "output_type": "stream",
     "text": [
      "--- Validation score\n",
      "balanced_accuracy    0.685146\n",
      "recall_0             0.608333\n",
      "precision_0          0.486337\n",
      "recall_1             0.761958\n",
      "precision_1          0.841438\n",
      "auc                  0.744654\n",
      "dtype: float64\n",
      "tn: 36, fp:15, fn:69, tp:73\n",
      "[[36 15]\n",
      " [69 73]]\n",
      "--- Test score\n",
      "balanced_accuracy      0.609983\n",
      "recall_0               0.705882\n",
      "precision_0            0.342857\n",
      "recall_1               0.514085\n",
      "precision_1            0.829545\n",
      "auc                    0.642226\n",
      "False_positive_rate    0.294118\n",
      "False_negative_rate    0.485915\n",
      "dtype: float64\n",
      "Best auc= 0.7780866355866356, dimentions used= 45\n",
      "Best Balanced_accuracy= 0.7133391608391608, dimentions used= 45\n",
      "Lowest FPR = 0.058823529411764705, dimentions used= 115\n",
      "---- Do parameter tuning\n",
      "Scoring parameter balanced_accuracy\n",
      "Fitting 5 folds for each of 25 candidates, totalling 125 fits\n"
     ]
    },
    {
     "name": "stderr",
     "output_type": "stream",
     "text": [
      "[Parallel(n_jobs=12)]: Using backend LokyBackend with 12 concurrent workers.\n",
      "[Parallel(n_jobs=12)]: Done   8 tasks      | elapsed:    1.6s\n",
      "[Parallel(n_jobs=12)]: Done 125 out of 125 | elapsed:   11.3s finished\n"
     ]
    },
    {
     "name": "stdout",
     "output_type": "stream",
     "text": [
      "\n",
      " Time taken: 0 hours 0 minutes and 12.83 seconds.\n",
      "Best Score: 68.818%\n",
      "{'n_estimators': 300, 'scale_pos_weight': 0.36, 'min_child_weight': 2, 'max_depth': 6, 'max_delta_step': 2, 'learning_rate': 0.02, 'gamma': 5, 'colsample_bytree': 0.8, 'subsample': 0.8}\n"
     ]
    },
    {
     "name": "stderr",
     "output_type": "stream",
     "text": [
      "[Parallel(n_jobs=-1)]: Using backend LokyBackend with 16 concurrent workers.\n",
      "[Parallel(n_jobs=-1)]: Done   5 out of   5 | elapsed:    1.4s finished\n"
     ]
    },
    {
     "name": "stdout",
     "output_type": "stream",
     "text": [
      "--- Validation score\n",
      "balanced_accuracy    0.688176\n",
      "recall_0             0.608333\n",
      "precision_0          0.492992\n",
      "recall_1             0.768019\n",
      "precision_1          0.842560\n",
      "auc                  0.745540\n",
      "dtype: float64\n",
      "tn: 36, fp:15, fn:66, tp:76\n",
      "[[36 15]\n",
      " [66 76]]\n",
      "--- Test score\n",
      "balanced_accuracy      0.620547\n",
      "recall_0               0.705882\n",
      "precision_0            0.352941\n",
      "recall_1               0.535211\n",
      "precision_1            0.835165\n",
      "auc                    0.646092\n",
      "False_positive_rate    0.294118\n",
      "False_negative_rate    0.464789\n",
      "dtype: float64\n"
     ]
    }
   ],
   "source": [
    "result = find_best_dim(emb_all_ge_pln.set_index(\"patient_ID\").astype(\"float64\"),scoring=\"balanced_accuracy\", scale_pos_weight=True, train_set=train_set,test_set=test_set)"
   ]
  },
  {
   "cell_type": "code",
   "execution_count": 100,
   "id": "selected-setup",
   "metadata": {},
   "outputs": [],
   "source": [
    "val_res_ge_pln, test_res_ge_pln = {},{}\n",
    "for i in result.keys():\n",
    "    if result[i][\"test\"][\"balanced_accuracy\"].values[0] > 0.64:\n",
    "        val_res_ge_pln[i] = result[i][\"val\"]\n",
    "        test_res_ge_pln[i] = result[i][\"test\"]"
   ]
  },
  {
   "cell_type": "code",
   "execution_count": 101,
   "id": "pursuant-picnic",
   "metadata": {},
   "outputs": [
    {
     "data": {
      "text/html": [
       "<div>\n",
       "<style scoped>\n",
       "    .dataframe tbody tr th:only-of-type {\n",
       "        vertical-align: middle;\n",
       "    }\n",
       "\n",
       "    .dataframe tbody tr th {\n",
       "        vertical-align: top;\n",
       "    }\n",
       "\n",
       "    .dataframe thead th {\n",
       "        text-align: right;\n",
       "    }\n",
       "</style>\n",
       "<table border=\"1\" class=\"dataframe\">\n",
       "  <thead>\n",
       "    <tr style=\"text-align: right;\">\n",
       "      <th></th>\n",
       "      <th>dim 122</th>\n",
       "      <th>dim 91</th>\n",
       "      <th>dim 120</th>\n",
       "      <th>dim 79</th>\n",
       "    </tr>\n",
       "  </thead>\n",
       "  <tbody>\n",
       "    <tr>\n",
       "      <th>auc</th>\n",
       "      <td>0.755938</td>\n",
       "      <td>0.754382</td>\n",
       "      <td>0.76008</td>\n",
       "      <td>0.763765</td>\n",
       "    </tr>\n",
       "    <tr>\n",
       "      <th>balanced_accuracy</th>\n",
       "      <td>0.685169</td>\n",
       "      <td>0.685927</td>\n",
       "      <td>0.690472</td>\n",
       "      <td>0.689312</td>\n",
       "    </tr>\n",
       "    <tr>\n",
       "      <th>precision_0</th>\n",
       "      <td>0.482153</td>\n",
       "      <td>0.499956</td>\n",
       "      <td>0.482291</td>\n",
       "      <td>0.494522</td>\n",
       "    </tr>\n",
       "    <tr>\n",
       "      <th>precision_1</th>\n",
       "      <td>0.842359</td>\n",
       "      <td>0.838954</td>\n",
       "      <td>0.847089</td>\n",
       "      <td>0.843539</td>\n",
       "    </tr>\n",
       "    <tr>\n",
       "      <th>recall_0</th>\n",
       "      <td>0.608333</td>\n",
       "      <td>0.591667</td>\n",
       "      <td>0.625</td>\n",
       "      <td>0.616667</td>\n",
       "    </tr>\n",
       "    <tr>\n",
       "      <th>recall_1</th>\n",
       "      <td>0.762005</td>\n",
       "      <td>0.780186</td>\n",
       "      <td>0.755944</td>\n",
       "      <td>0.761958</td>\n",
       "    </tr>\n",
       "  </tbody>\n",
       "</table>\n",
       "</div>"
      ],
      "text/plain": [
       "                    dim 122    dim 91   dim 120    dim 79\n",
       "auc                0.755938  0.754382   0.76008  0.763765\n",
       "balanced_accuracy  0.685169  0.685927  0.690472  0.689312\n",
       "precision_0        0.482153  0.499956  0.482291  0.494522\n",
       "precision_1        0.842359  0.838954  0.847089  0.843539\n",
       "recall_0           0.608333  0.591667     0.625  0.616667\n",
       "recall_1           0.762005  0.780186  0.755944  0.761958"
      ]
     },
     "execution_count": 101,
     "metadata": {},
     "output_type": "execute_result"
    }
   ],
   "source": [
    "print_comparision(val_res_ge_pln)"
   ]
  },
  {
   "cell_type": "code",
   "execution_count": 102,
   "id": "diagnostic-cigarette",
   "metadata": {},
   "outputs": [
    {
     "data": {
      "text/html": [
       "<div>\n",
       "<style scoped>\n",
       "    .dataframe tbody tr th:only-of-type {\n",
       "        vertical-align: middle;\n",
       "    }\n",
       "\n",
       "    .dataframe tbody tr th {\n",
       "        vertical-align: top;\n",
       "    }\n",
       "\n",
       "    .dataframe thead th {\n",
       "        text-align: right;\n",
       "    }\n",
       "</style>\n",
       "<table border=\"1\" class=\"dataframe\">\n",
       "  <thead>\n",
       "    <tr style=\"text-align: right;\">\n",
       "      <th></th>\n",
       "      <th>dim 122</th>\n",
       "      <th>dim 91</th>\n",
       "      <th>dim 120</th>\n",
       "      <th>dim 79</th>\n",
       "    </tr>\n",
       "  </thead>\n",
       "  <tbody>\n",
       "    <tr>\n",
       "      <th>False_negative_rate</th>\n",
       "      <td>0.43662</td>\n",
       "      <td>0.429577</td>\n",
       "      <td>0.457746</td>\n",
       "      <td>0.450704</td>\n",
       "    </tr>\n",
       "    <tr>\n",
       "      <th>False_positive_rate</th>\n",
       "      <td>0.27451</td>\n",
       "      <td>0.254902</td>\n",
       "      <td>0.254902</td>\n",
       "      <td>0.235294</td>\n",
       "    </tr>\n",
       "    <tr>\n",
       "      <th>auc</th>\n",
       "      <td>0.623308</td>\n",
       "      <td>0.656172</td>\n",
       "      <td>0.641259</td>\n",
       "      <td>0.642088</td>\n",
       "    </tr>\n",
       "    <tr>\n",
       "      <th>balanced_accuracy</th>\n",
       "      <td>0.644435</td>\n",
       "      <td>0.65776</td>\n",
       "      <td>0.643676</td>\n",
       "      <td>0.657001</td>\n",
       "    </tr>\n",
       "    <tr>\n",
       "      <th>precision_0</th>\n",
       "      <td>0.373737</td>\n",
       "      <td>0.383838</td>\n",
       "      <td>0.368932</td>\n",
       "      <td>0.378641</td>\n",
       "    </tr>\n",
       "    <tr>\n",
       "      <th>precision_1</th>\n",
       "      <td>0.851064</td>\n",
       "      <td>0.861702</td>\n",
       "      <td>0.855556</td>\n",
       "      <td>0.866667</td>\n",
       "    </tr>\n",
       "    <tr>\n",
       "      <th>recall_0</th>\n",
       "      <td>0.72549</td>\n",
       "      <td>0.745098</td>\n",
       "      <td>0.745098</td>\n",
       "      <td>0.764706</td>\n",
       "    </tr>\n",
       "    <tr>\n",
       "      <th>recall_1</th>\n",
       "      <td>0.56338</td>\n",
       "      <td>0.570423</td>\n",
       "      <td>0.542254</td>\n",
       "      <td>0.549296</td>\n",
       "    </tr>\n",
       "  </tbody>\n",
       "</table>\n",
       "</div>"
      ],
      "text/plain": [
       "                      dim 122    dim 91   dim 120    dim 79\n",
       "False_negative_rate   0.43662  0.429577  0.457746  0.450704\n",
       "False_positive_rate   0.27451  0.254902  0.254902  0.235294\n",
       "auc                  0.623308  0.656172  0.641259  0.642088\n",
       "balanced_accuracy    0.644435   0.65776  0.643676  0.657001\n",
       "precision_0          0.373737  0.383838  0.368932  0.378641\n",
       "precision_1          0.851064  0.861702  0.855556  0.866667\n",
       "recall_0              0.72549  0.745098  0.745098  0.764706\n",
       "recall_1              0.56338  0.570423  0.542254  0.549296"
      ]
     },
     "execution_count": 102,
     "metadata": {},
     "output_type": "execute_result"
    }
   ],
   "source": [
    "print_comparision(test_res_ge_pln)"
   ]
  },
  {
   "cell_type": "code",
   "execution_count": null,
   "id": "featured-seating",
   "metadata": {},
   "outputs": [],
   "source": [
    "# plot balanced acc for val and test"
   ]
  },
  {
   "cell_type": "code",
   "execution_count": 117,
   "id": "insured-trial",
   "metadata": {},
   "outputs": [
    {
     "data": {
      "text/plain": [
       "[<matplotlib.lines.Line2D at 0x7f090e700080>]"
      ]
     },
     "execution_count": 117,
     "metadata": {},
     "output_type": "execute_result"
    },
    {
     "data": {
      "image/png": "[encoded data removed]",
      "text/plain": [
       "<Figure size 1440x432 with 1 Axes>"
      ]
     },
     "metadata": {
      "needs_background": "light"
     },
     "output_type": "display_data"
    }
   ],
   "source": [
    "val_acc = [result[i][\"val\"][\"balanced_accuracy\"].values[0] for i in result]\n",
    "test_acc = [result[i][\"test\"][\"balanced_accuracy\"].values[0] for i in result]\n",
    "plt.figure(figsize=(20, 6))\n",
    "plt.title('Validation balanced_accuracy')\n",
    "plt.plot(val_acc)"
   ]
  },
  {
   "cell_type": "code",
   "execution_count": 118,
   "id": "composite-redhead",
   "metadata": {},
   "outputs": [
    {
     "data": {
      "text/plain": [
       "[<matplotlib.lines.Line2D at 0x7f090ec80d30>]"
      ]
     },
     "execution_count": 118,
     "metadata": {},
     "output_type": "execute_result"
    },
    {
     "data": {
      "image/png": "[encoded data removed]",
      "text/plain": [
       "<Figure size 1440x432 with 1 Axes>"
      ]
     },
     "metadata": {
      "needs_background": "light"
     },
     "output_type": "display_data"
    }
   ],
   "source": [
    "plt.figure(figsize=(20, 6))\n",
    "plt.title('Test balanced_accuracy')\n",
    "plt.plot(test_acc)"
   ]
  },
  {
   "cell_type": "code",
   "execution_count": null,
   "id": "significant-tutorial",
   "metadata": {},
   "outputs": [],
   "source": []
  },
  {
   "cell_type": "markdown",
   "id": "appropriate-electron",
   "metadata": {},
   "source": [
    "## Comparision to the tanimoto kernel(Gene expression only embedding)  \n",
    "https://arxiv.org/pdf/2007.05943.pdf"
   ]
  },
  {
   "cell_type": "code",
   "execution_count": 55,
   "id": "martial-blast",
   "metadata": {},
   "outputs": [],
   "source": [
    "ge_emb_train = pd.read_csv(\"ten_genes/train/property_vector_beforekpca_p=1,T=2_notnormalized_2021-03-17.csv\", sep=\"\\t\")"
   ]
  },
  {
   "cell_type": "code",
   "execution_count": 56,
   "id": "successful-template",
   "metadata": {},
   "outputs": [],
   "source": [
    "ge_emb_test = pd.read_csv(\"ten_genes/test/property_vector_beforekpca_p=1,T=2_notnormalized_2021-03-17.csv\", sep=\"\\t\")"
   ]
  },
  {
   "cell_type": "code",
   "execution_count": 58,
   "id": "arctic-atlantic",
   "metadata": {},
   "outputs": [
    {
     "name": "stdout",
     "output_type": "stream",
     "text": [
      "--- Doing KPCA\n",
      "--- Doing KPCA\n",
      "Train data:(448, 11), Test data:(193, 11)\n",
      "--- Test data : (193, 448)\n"
     ]
    }
   ],
   "source": [
    "emb_train = do_kpca(ge_emb_train, tan_dist=True)\n",
    "emb_test = do_kpca(ge_emb_test, test_data=True, vector_space=ge_emb_train, tan_dist=True)"
   ]
  },
  {
   "cell_type": "code",
   "execution_count": 83,
   "id": "standard-contractor",
   "metadata": {},
   "outputs": [
    {
     "name": "stdout",
     "output_type": "stream",
     "text": [
      "--- Doing KPCA\n",
      "--- Doing KPCA\n",
      "Train data:(448, 11), Test data:(193, 11)\n",
      "--- Test data : (193, 448)\n"
     ]
    }
   ],
   "source": [
    "emb_train_tansim = do_kpca(ge_emb_train, n_components=150)\n",
    "emb_test_tansim = do_kpca(ge_emb_test, test_data=True, vector_space=ge_emb_train, n_components=150)"
   ]
  },
  {
   "cell_type": "code",
   "execution_count": 64,
   "id": "grand-amsterdam",
   "metadata": {},
   "outputs": [
    {
     "data": {
      "text/html": [
       "<div>\n",
       "<style scoped>\n",
       "    .dataframe tbody tr th:only-of-type {\n",
       "        vertical-align: middle;\n",
       "    }\n",
       "\n",
       "    .dataframe tbody tr th {\n",
       "        vertical-align: top;\n",
       "    }\n",
       "\n",
       "    .dataframe thead th {\n",
       "        text-align: right;\n",
       "    }\n",
       "</style>\n",
       "<table border=\"1\" class=\"dataframe\">\n",
       "  <thead>\n",
       "    <tr style=\"text-align: right;\">\n",
       "      <th></th>\n",
       "      <th>0</th>\n",
       "      <th>1</th>\n",
       "      <th>2</th>\n",
       "      <th>3</th>\n",
       "      <th>4</th>\n",
       "      <th>5</th>\n",
       "      <th>6</th>\n",
       "      <th>7</th>\n",
       "      <th>8</th>\n",
       "      <th>9</th>\n",
       "      <th>...</th>\n",
       "      <th>438</th>\n",
       "      <th>439</th>\n",
       "      <th>440</th>\n",
       "      <th>441</th>\n",
       "      <th>442</th>\n",
       "      <th>443</th>\n",
       "      <th>444</th>\n",
       "      <th>445</th>\n",
       "      <th>446</th>\n",
       "      <th>patient_ID</th>\n",
       "    </tr>\n",
       "  </thead>\n",
       "  <tbody>\n",
       "    <tr>\n",
       "      <th>0</th>\n",
       "      <td>0.524359</td>\n",
       "      <td>0.003303</td>\n",
       "      <td>0.166000</td>\n",
       "      <td>-0.166588</td>\n",
       "      <td>-0.153685</td>\n",
       "      <td>-0.251203</td>\n",
       "      <td>-0.113209</td>\n",
       "      <td>-0.160941</td>\n",
       "      <td>-0.163054</td>\n",
       "      <td>0.053065</td>\n",
       "      <td>...</td>\n",
       "      <td>-0.004027</td>\n",
       "      <td>-0.001811</td>\n",
       "      <td>-0.002429</td>\n",
       "      <td>-0.000390</td>\n",
       "      <td>0.000175</td>\n",
       "      <td>0.000029</td>\n",
       "      <td>0.000317</td>\n",
       "      <td>0.000017</td>\n",
       "      <td>1.256823e-08</td>\n",
       "      <td>305152</td>\n",
       "    </tr>\n",
       "    <tr>\n",
       "      <th>1</th>\n",
       "      <td>0.537904</td>\n",
       "      <td>-0.034996</td>\n",
       "      <td>0.311957</td>\n",
       "      <td>-0.010739</td>\n",
       "      <td>-0.147940</td>\n",
       "      <td>-0.262129</td>\n",
       "      <td>-0.068241</td>\n",
       "      <td>-0.094073</td>\n",
       "      <td>-0.011138</td>\n",
       "      <td>0.031075</td>\n",
       "      <td>...</td>\n",
       "      <td>-0.006321</td>\n",
       "      <td>0.005974</td>\n",
       "      <td>0.086551</td>\n",
       "      <td>-0.004610</td>\n",
       "      <td>-0.002503</td>\n",
       "      <td>-0.000325</td>\n",
       "      <td>-0.000208</td>\n",
       "      <td>-0.000089</td>\n",
       "      <td>2.275520e-05</td>\n",
       "      <td>305155</td>\n",
       "    </tr>\n",
       "    <tr>\n",
       "      <th>2</th>\n",
       "      <td>0.473984</td>\n",
       "      <td>-0.100300</td>\n",
       "      <td>0.123702</td>\n",
       "      <td>-0.205205</td>\n",
       "      <td>-0.107172</td>\n",
       "      <td>-0.227117</td>\n",
       "      <td>0.115733</td>\n",
       "      <td>0.148148</td>\n",
       "      <td>-0.018437</td>\n",
       "      <td>-0.005260</td>\n",
       "      <td>...</td>\n",
       "      <td>-0.004412</td>\n",
       "      <td>0.002853</td>\n",
       "      <td>-0.007010</td>\n",
       "      <td>0.001094</td>\n",
       "      <td>0.000236</td>\n",
       "      <td>-0.000043</td>\n",
       "      <td>0.000153</td>\n",
       "      <td>-0.000028</td>\n",
       "      <td>-8.814918e-06</td>\n",
       "      <td>305156</td>\n",
       "    </tr>\n",
       "    <tr>\n",
       "      <th>3</th>\n",
       "      <td>0.565211</td>\n",
       "      <td>0.041716</td>\n",
       "      <td>0.125334</td>\n",
       "      <td>0.098134</td>\n",
       "      <td>-0.080413</td>\n",
       "      <td>0.195153</td>\n",
       "      <td>-0.301598</td>\n",
       "      <td>0.078389</td>\n",
       "      <td>-0.065486</td>\n",
       "      <td>0.023819</td>\n",
       "      <td>...</td>\n",
       "      <td>-0.005037</td>\n",
       "      <td>0.024053</td>\n",
       "      <td>0.001199</td>\n",
       "      <td>-0.001905</td>\n",
       "      <td>0.000044</td>\n",
       "      <td>-0.000018</td>\n",
       "      <td>0.000156</td>\n",
       "      <td>0.000076</td>\n",
       "      <td>-1.595097e-04</td>\n",
       "      <td>305158</td>\n",
       "    </tr>\n",
       "    <tr>\n",
       "      <th>4</th>\n",
       "      <td>0.436199</td>\n",
       "      <td>-0.050551</td>\n",
       "      <td>-0.117170</td>\n",
       "      <td>-0.183122</td>\n",
       "      <td>0.232148</td>\n",
       "      <td>0.215847</td>\n",
       "      <td>-0.052430</td>\n",
       "      <td>0.193334</td>\n",
       "      <td>-0.120220</td>\n",
       "      <td>-0.026586</td>\n",
       "      <td>...</td>\n",
       "      <td>-0.004037</td>\n",
       "      <td>0.005362</td>\n",
       "      <td>0.000309</td>\n",
       "      <td>0.000623</td>\n",
       "      <td>-0.000334</td>\n",
       "      <td>-0.000036</td>\n",
       "      <td>0.000751</td>\n",
       "      <td>-0.000016</td>\n",
       "      <td>-3.830675e-06</td>\n",
       "      <td>305167</td>\n",
       "    </tr>\n",
       "  </tbody>\n",
       "</table>\n",
       "<p>5 rows × 448 columns</p>\n",
       "</div>"
      ],
      "text/plain": [
       "          0         1         2         3         4         5         6  \\\n",
       "0  0.524359  0.003303  0.166000 -0.166588 -0.153685 -0.251203 -0.113209   \n",
       "1  0.537904 -0.034996  0.311957 -0.010739 -0.147940 -0.262129 -0.068241   \n",
       "2  0.473984 -0.100300  0.123702 -0.205205 -0.107172 -0.227117  0.115733   \n",
       "3  0.565211  0.041716  0.125334  0.098134 -0.080413  0.195153 -0.301598   \n",
       "4  0.436199 -0.050551 -0.117170 -0.183122  0.232148  0.215847 -0.052430   \n",
       "\n",
       "          7         8         9  ...       438       439       440       441  \\\n",
       "0 -0.160941 -0.163054  0.053065  ... -0.004027 -0.001811 -0.002429 -0.000390   \n",
       "1 -0.094073 -0.011138  0.031075  ... -0.006321  0.005974  0.086551 -0.004610   \n",
       "2  0.148148 -0.018437 -0.005260  ... -0.004412  0.002853 -0.007010  0.001094   \n",
       "3  0.078389 -0.065486  0.023819  ... -0.005037  0.024053  0.001199 -0.001905   \n",
       "4  0.193334 -0.120220 -0.026586  ... -0.004037  0.005362  0.000309  0.000623   \n",
       "\n",
       "        442       443       444       445           446  patient_ID  \n",
       "0  0.000175  0.000029  0.000317  0.000017  1.256823e-08      305152  \n",
       "1 -0.002503 -0.000325 -0.000208 -0.000089  2.275520e-05      305155  \n",
       "2  0.000236 -0.000043  0.000153 -0.000028 -8.814918e-06      305156  \n",
       "3  0.000044 -0.000018  0.000156  0.000076 -1.595097e-04      305158  \n",
       "4 -0.000334 -0.000036  0.000751 -0.000016 -3.830675e-06      305167  \n",
       "\n",
       "[5 rows x 448 columns]"
      ]
     },
     "execution_count": 64,
     "metadata": {},
     "output_type": "execute_result"
    }
   ],
   "source": [
    "emb_train.head()"
   ]
  },
  {
   "cell_type": "code",
   "execution_count": 61,
   "id": "adapted-stock",
   "metadata": {},
   "outputs": [
    {
     "data": {
      "text/plain": [
       "(193, 448)"
      ]
     },
     "execution_count": 61,
     "metadata": {},
     "output_type": "execute_result"
    }
   ],
   "source": [
    "emb_test.shape"
   ]
  },
  {
   "cell_type": "code",
   "execution_count": 127,
   "id": "relevant-phone",
   "metadata": {},
   "outputs": [
    {
     "data": {
      "text/plain": [
       "Text(0.5, 1.0, 'Test embedding using training data as vector space (tanimoto kernel)')"
      ]
     },
     "execution_count": 127,
     "metadata": {},
     "output_type": "execute_result"
    },
    {
     "data": {
      "image/png": "[encoded data removed]",
      "text/plain": [
       "<Figure size 1296x720 with 2 Axes>"
      ]
     },
     "metadata": {
      "needs_background": "light"
     },
     "output_type": "display_data"
    }
   ],
   "source": [
    "train_emb_plot = pd.merge(emb_train, outcome[outcome[\"patient_ID\"].isin(emb_train[\"patient_ID\"])], on=\"patient_ID\")\n",
    "test_emb_plot = pd.merge(emb_test, outcome[outcome[\"patient_ID\"].isin(emb_test[\"patient_ID\"])], on=\"patient_ID\")\n",
    "\n",
    "fig, axs = plt.subplots(1, 2, figsize=(18,10), sharex='all', sharey='all')\n",
    "ax1, ax2 = axs[0], axs[1]\n",
    "\n",
    "ax1.scatter(train_emb_plot[0], train_emb_plot[1], c = train_emb_plot[\"posOutcome\"])\n",
    "ax2.scatter(test_emb_plot[0], test_emb_plot[1],c = test_emb_plot[\"posOutcome\"])\n",
    "ax1.set_title('Train embedding (tanimoto kernel)')\n",
    "ax2.set_title('Test embedding using training data as vector space (tanimoto kernel)')"
   ]
  },
  {
   "cell_type": "code",
   "execution_count": 128,
   "id": "instructional-nepal",
   "metadata": {},
   "outputs": [
    {
     "data": {
      "text/plain": [
       "Text(0.5, 1.0, 'Test embedding using training data as vector space (tanimoto similarity)')"
      ]
     },
     "execution_count": 128,
     "metadata": {},
     "output_type": "execute_result"
    },
    {
     "data": {
      "image/png": "[encoded data removed]",
      "text/plain": [
       "<Figure size 1296x720 with 2 Axes>"
      ]
     },
     "metadata": {
      "needs_background": "light"
     },
     "output_type": "display_data"
    }
   ],
   "source": [
    "train_emb_plot = pd.merge(emb_train_tansim, outcome[outcome[\"patient_ID\"].isin(emb_train_tansim[\"patient_ID\"])], on=\"patient_ID\")\n",
    "test_emb_plot = pd.merge(emb_test_tansim, outcome[outcome[\"patient_ID\"].isin(emb_test_tansim[\"patient_ID\"])], on=\"patient_ID\")\n",
    "\n",
    "fig, axs = plt.subplots(1, 2, figsize=(18,10), sharex='all', sharey='all')\n",
    "ax1, ax2 = axs[0], axs[1]\n",
    "\n",
    "ax1.scatter(train_emb_plot[0], train_emb_plot[1], c = train_emb_plot[\"posOutcome\"])\n",
    "ax2.scatter(test_emb_plot[0], test_emb_plot[1],c = test_emb_plot[\"posOutcome\"])\n",
    "ax1.set_title('Train embedding (tanimoto similarity)')\n",
    "ax2.set_title('Test embedding using training data as vector space (tanimoto similarity)')"
   ]
  },
  {
   "cell_type": "code",
   "execution_count": 65,
   "id": "super-public",
   "metadata": {},
   "outputs": [],
   "source": [
    "emb_all = pd.merge(emb_train.append(emb_test), outcome, on=\"patient_ID\")\n",
    "emb_all = emb_all.dropna()"
   ]
  },
  {
   "cell_type": "code",
   "execution_count": 66,
   "id": "burning-production",
   "metadata": {},
   "outputs": [
    {
     "name": "stdout",
     "output_type": "stream",
     "text": [
      "---- Do parameter tuning\n",
      "Scoring parameter balanced_accuracy\n",
      "Fitting 5 folds for each of 25 candidates, totalling 125 fits\n"
     ]
    },
    {
     "name": "stderr",
     "output_type": "stream",
     "text": [
      "[Parallel(n_jobs=12)]: Using backend LokyBackend with 12 concurrent workers.\n",
      "[Parallel(n_jobs=12)]: Done   8 tasks      | elapsed:    4.3s\n",
      "[Parallel(n_jobs=12)]: Done 125 out of 125 | elapsed:   32.3s finished\n"
     ]
    },
    {
     "name": "stdout",
     "output_type": "stream",
     "text": [
      "\n",
      " Time taken: 0 hours 0 minutes and 35.72 seconds.\n",
      "Best Score: 68.427%\n",
      "{'n_estimators': 300, 'scale_pos_weight': 0.36, 'min_child_weight': 2, 'max_depth': 6, 'max_delta_step': 2, 'learning_rate': 0.02, 'gamma': 5, 'colsample_bytree': 0.8, 'subsample': 0.8}\n"
     ]
    },
    {
     "name": "stderr",
     "output_type": "stream",
     "text": [
      "[Parallel(n_jobs=-1)]: Using backend LokyBackend with 16 concurrent workers.\n",
      "[Parallel(n_jobs=-1)]: Done   5 out of   5 | elapsed:    3.0s finished\n"
     ]
    },
    {
     "name": "stdout",
     "output_type": "stream",
     "text": [
      "--- Validation score\n",
      "balanced_accuracy    0.684266\n",
      "recall_0             0.566667\n",
      "precision_0          0.508884\n",
      "recall_1             0.801865\n",
      "precision_1          0.835971\n",
      "auc                  0.753219\n",
      "dtype: float64\n",
      "tn: 22, fp:29, fn:44, tp:98\n",
      "[[22 29]\n",
      " [44 98]]\n",
      "--- Test score\n",
      "balanced_accuracy      0.560757\n",
      "recall_0               0.431373\n",
      "precision_0            0.333333\n",
      "recall_1               0.690141\n",
      "precision_1            0.771654\n",
      "auc                    0.565590\n",
      "False_positive_rate    0.568627\n",
      "False_negative_rate    0.309859\n",
      "dtype: float64\n"
     ]
    }
   ],
   "source": [
    "val_res, test_res = do_train_val_test(emb_all.set_index(\"patient_ID\").astype(\"float64\"),scoring=\"balanced_accuracy\", scale_pos_weight=True, train=train_set,test=test_set)"
   ]
  },
  {
   "cell_type": "code",
   "execution_count": 67,
   "id": "radio-salmon",
   "metadata": {},
   "outputs": [
    {
     "name": "stdout",
     "output_type": "stream",
     "text": [
      "---- Do parameter tuning\n",
      "Scoring parameter balanced_accuracy\n",
      "Fitting 5 folds for each of 25 candidates, totalling 125 fits\n"
     ]
    },
    {
     "name": "stderr",
     "output_type": "stream",
     "text": [
      "[Parallel(n_jobs=12)]: Using backend LokyBackend with 12 concurrent workers.\n",
      "[Parallel(n_jobs=12)]: Done   8 tasks      | elapsed:    0.5s\n",
      "[Parallel(n_jobs=12)]: Done 125 out of 125 | elapsed:    3.3s finished\n"
     ]
    },
    {
     "name": "stdout",
     "output_type": "stream",
     "text": [
      "\n",
      " Time taken: 0 hours 0 minutes and 3.92 seconds.\n",
      "Best Score: 72.103%\n",
      "{'n_estimators': 400, 'scale_pos_weight': 0.36, 'min_child_weight': 3, 'max_depth': 6, 'max_delta_step': 5, 'learning_rate': 0.01, 'gamma': 1.5, 'colsample_bytree': 1.0, 'subsample': 0.6}\n"
     ]
    },
    {
     "name": "stderr",
     "output_type": "stream",
     "text": [
      "[Parallel(n_jobs=-1)]: Using backend LokyBackend with 16 concurrent workers.\n",
      "[Parallel(n_jobs=-1)]: Done   5 out of   5 | elapsed:    0.8s finished\n"
     ]
    },
    {
     "name": "stdout",
     "output_type": "stream",
     "text": [
      "--- Validation score\n",
      "balanced_accuracy    0.721031\n",
      "recall_0             0.625000\n",
      "precision_0          0.547929\n",
      "recall_1             0.817063\n",
      "precision_1          0.858630\n",
      "auc                  0.766841\n",
      "dtype: float64\n",
      "tn: 22, fp:29, fn:59, tp:83\n",
      "[[22 29]\n",
      " [59 83]]\n",
      "--- Test score\n",
      "balanced_accuracy      0.507940\n",
      "recall_0               0.431373\n",
      "precision_0            0.271605\n",
      "recall_1               0.584507\n",
      "precision_1            0.741071\n",
      "auc                    0.545153\n",
      "False_positive_rate    0.568627\n",
      "False_negative_rate    0.415493\n",
      "dtype: float64\n"
     ]
    }
   ],
   "source": [
    "val_res33, test_res33 = do_train_val_test(emb_all.set_index(\"patient_ID\").astype(\"float64\"),scoring=\"balanced_accuracy\", dim=33, scale_pos_weight=True, train=train_set,test=test_set)"
   ]
  },
  {
   "cell_type": "code",
   "execution_count": 86,
   "id": "collectible-miracle",
   "metadata": {},
   "outputs": [
    {
     "name": "stdout",
     "output_type": "stream",
     "text": [
      "---- Do parameter tuning\n",
      "Scoring parameter balanced_accuracy\n",
      "Fitting 5 folds for each of 25 candidates, totalling 125 fits\n"
     ]
    },
    {
     "name": "stderr",
     "output_type": "stream",
     "text": [
      "[Parallel(n_jobs=12)]: Using backend LokyBackend with 12 concurrent workers.\n",
      "[Parallel(n_jobs=12)]: Done   8 tasks      | elapsed:    0.6s\n",
      "[Parallel(n_jobs=12)]: Done 125 out of 125 | elapsed:    3.3s finished\n"
     ]
    },
    {
     "name": "stdout",
     "output_type": "stream",
     "text": [
      "\n",
      " Time taken: 0 hours 0 minutes and 3.96 seconds.\n",
      "Best Score: 70.948%\n",
      "{'n_estimators': 700, 'scale_pos_weight': 0.36, 'min_child_weight': 4, 'max_depth': 4, 'max_delta_step': 5, 'learning_rate': 0.02, 'gamma': 1, 'colsample_bytree': 0.8, 'subsample': 0.8}\n"
     ]
    },
    {
     "name": "stderr",
     "output_type": "stream",
     "text": [
      "[Parallel(n_jobs=-1)]: Using backend LokyBackend with 16 concurrent workers.\n",
      "[Parallel(n_jobs=-1)]: Done   5 out of   5 | elapsed:    0.8s finished\n"
     ]
    },
    {
     "name": "stdout",
     "output_type": "stream",
     "text": [
      "--- Validation score\n",
      "balanced_accuracy    0.709481\n",
      "recall_0             0.608333\n",
      "precision_0          0.540441\n",
      "recall_1             0.810629\n",
      "precision_1          0.850314\n",
      "auc                  0.752756\n",
      "dtype: float64\n",
      "tn: 22, fp:29, fn:33, tp:109\n",
      "[[ 22  29]\n",
      " [ 33 109]]\n",
      "--- Test score\n",
      "balanced_accuracy      0.599489\n",
      "recall_0               0.431373\n",
      "precision_0            0.400000\n",
      "recall_1               0.767606\n",
      "precision_1            0.789855\n",
      "auc                    0.547915\n",
      "False_positive_rate    0.568627\n",
      "False_negative_rate    0.232394\n",
      "dtype: float64\n"
     ]
    }
   ],
   "source": [
    "emb_all_tansim = pd.merge(emb_train_tansim.append(emb_test_tansim), outcome, on=\"patient_ID\")\n",
    "emb_all_tansim = emb_all_tansim.dropna()\n",
    "val_res_tansim33, test_res_tansim33 = do_train_val_test(emb_all_tansim.set_index(\"patient_ID\").astype(\"float64\"),dim=33,scoring=\"balanced_accuracy\", scale_pos_weight=True, train=train_set,test=test_set)"
   ]
  },
  {
   "cell_type": "code",
   "execution_count": 124,
   "id": "suburban-techno",
   "metadata": {},
   "outputs": [
    {
     "data": {
      "text/html": [
       "<div>\n",
       "<style scoped>\n",
       "    .dataframe tbody tr th:only-of-type {\n",
       "        vertical-align: middle;\n",
       "    }\n",
       "\n",
       "    .dataframe tbody tr th {\n",
       "        vertical-align: top;\n",
       "    }\n",
       "\n",
       "    .dataframe thead th {\n",
       "        text-align: right;\n",
       "    }\n",
       "</style>\n",
       "<table border=\"1\" class=\"dataframe\">\n",
       "  <thead>\n",
       "    <tr style=\"text-align: right;\">\n",
       "      <th></th>\n",
       "      <th>all_dim_tanKernel</th>\n",
       "      <th>dim33_tanKernel</th>\n",
       "      <th>dim33_tansim</th>\n",
       "    </tr>\n",
       "  </thead>\n",
       "  <tbody>\n",
       "    <tr>\n",
       "      <th>auc</th>\n",
       "      <td>0.753219</td>\n",
       "      <td>0.766841</td>\n",
       "      <td>0.752756</td>\n",
       "    </tr>\n",
       "    <tr>\n",
       "      <th>balanced_accuracy</th>\n",
       "      <td>0.684266</td>\n",
       "      <td>0.721031</td>\n",
       "      <td>0.709481</td>\n",
       "    </tr>\n",
       "    <tr>\n",
       "      <th>precision_0</th>\n",
       "      <td>0.508884</td>\n",
       "      <td>0.547929</td>\n",
       "      <td>0.540441</td>\n",
       "    </tr>\n",
       "    <tr>\n",
       "      <th>precision_1</th>\n",
       "      <td>0.835971</td>\n",
       "      <td>0.85863</td>\n",
       "      <td>0.850314</td>\n",
       "    </tr>\n",
       "    <tr>\n",
       "      <th>recall_0</th>\n",
       "      <td>0.566667</td>\n",
       "      <td>0.625</td>\n",
       "      <td>0.608333</td>\n",
       "    </tr>\n",
       "    <tr>\n",
       "      <th>recall_1</th>\n",
       "      <td>0.801865</td>\n",
       "      <td>0.817063</td>\n",
       "      <td>0.810629</td>\n",
       "    </tr>\n",
       "  </tbody>\n",
       "</table>\n",
       "</div>"
      ],
      "text/plain": [
       "                  all_dim_tanKernel dim33_tanKernel dim33_tansim\n",
       "auc                        0.753219        0.766841     0.752756\n",
       "balanced_accuracy          0.684266        0.721031     0.709481\n",
       "precision_0                0.508884        0.547929     0.540441\n",
       "precision_1                0.835971         0.85863     0.850314\n",
       "recall_0                   0.566667           0.625     0.608333\n",
       "recall_1                   0.801865        0.817063     0.810629"
      ]
     },
     "execution_count": 124,
     "metadata": {},
     "output_type": "execute_result"
    }
   ],
   "source": [
    "print_comparision({\"all_dim_tanKernel\":val_res, \"dim33_tanKernel\":val_res33,\"dim33_tansim\":val_res_tansim33 })"
   ]
  },
  {
   "cell_type": "code",
   "execution_count": 125,
   "id": "noble-arbor",
   "metadata": {},
   "outputs": [
    {
     "data": {
      "text/html": [
       "<div>\n",
       "<style scoped>\n",
       "    .dataframe tbody tr th:only-of-type {\n",
       "        vertical-align: middle;\n",
       "    }\n",
       "\n",
       "    .dataframe tbody tr th {\n",
       "        vertical-align: top;\n",
       "    }\n",
       "\n",
       "    .dataframe thead th {\n",
       "        text-align: right;\n",
       "    }\n",
       "</style>\n",
       "<table border=\"1\" class=\"dataframe\">\n",
       "  <thead>\n",
       "    <tr style=\"text-align: right;\">\n",
       "      <th></th>\n",
       "      <th>all_dim_tanKernel</th>\n",
       "      <th>dim33_tanKernel</th>\n",
       "      <th>dim33 tansim</th>\n",
       "    </tr>\n",
       "  </thead>\n",
       "  <tbody>\n",
       "    <tr>\n",
       "      <th>False_negative_rate</th>\n",
       "      <td>0.309859</td>\n",
       "      <td>0.415493</td>\n",
       "      <td>0.232394</td>\n",
       "    </tr>\n",
       "    <tr>\n",
       "      <th>False_positive_rate</th>\n",
       "      <td>0.568627</td>\n",
       "      <td>0.568627</td>\n",
       "      <td>0.568627</td>\n",
       "    </tr>\n",
       "    <tr>\n",
       "      <th>auc</th>\n",
       "      <td>0.56559</td>\n",
       "      <td>0.545153</td>\n",
       "      <td>0.547915</td>\n",
       "    </tr>\n",
       "    <tr>\n",
       "      <th>balanced_accuracy</th>\n",
       "      <td>0.560757</td>\n",
       "      <td>0.50794</td>\n",
       "      <td>0.599489</td>\n",
       "    </tr>\n",
       "    <tr>\n",
       "      <th>precision_0</th>\n",
       "      <td>0.333333</td>\n",
       "      <td>0.271605</td>\n",
       "      <td>0.4</td>\n",
       "    </tr>\n",
       "    <tr>\n",
       "      <th>precision_1</th>\n",
       "      <td>0.771654</td>\n",
       "      <td>0.741071</td>\n",
       "      <td>0.789855</td>\n",
       "    </tr>\n",
       "    <tr>\n",
       "      <th>recall_0</th>\n",
       "      <td>0.431373</td>\n",
       "      <td>0.431373</td>\n",
       "      <td>0.431373</td>\n",
       "    </tr>\n",
       "    <tr>\n",
       "      <th>recall_1</th>\n",
       "      <td>0.690141</td>\n",
       "      <td>0.584507</td>\n",
       "      <td>0.767606</td>\n",
       "    </tr>\n",
       "  </tbody>\n",
       "</table>\n",
       "</div>"
      ],
      "text/plain": [
       "                    all_dim_tanKernel dim33_tanKernel dim33 tansim\n",
       "False_negative_rate          0.309859        0.415493     0.232394\n",
       "False_positive_rate          0.568627        0.568627     0.568627\n",
       "auc                           0.56559        0.545153     0.547915\n",
       "balanced_accuracy            0.560757         0.50794     0.599489\n",
       "precision_0                  0.333333        0.271605          0.4\n",
       "precision_1                  0.771654        0.741071     0.789855\n",
       "recall_0                     0.431373        0.431373     0.431373\n",
       "recall_1                     0.690141        0.584507     0.767606"
      ]
     },
     "execution_count": 125,
     "metadata": {},
     "output_type": "execute_result"
    }
   ],
   "source": [
    "print_comparision({\"all_dim_tanKernel\":test_res, \"dim33_tanKernel\":test_res33, \"dim33 tansim\":test_res_tansim33})"
   ]
  },
  {
   "cell_type": "code",
   "execution_count": null,
   "id": "disturbed-syria",
   "metadata": {},
   "outputs": [],
   "source": []
  }
 ],
 "metadata": {
  "kernelspec": {
   "display_name": "Python 3",
   "language": "python",
   "name": "python3"
  },
  "language_info": {
   "codemirror_mode": {
    "name": "ipython",
    "version": 3
   },
   "file_extension": ".py",
   "mimetype": "text/x-python",
   "name": "python",
   "nbconvert_exporter": "python",
   "pygments_lexer": "ipython3",
   "version": "3.5.2"
  }
 },
 "nbformat": 4,
 "nbformat_minor": 5
}
